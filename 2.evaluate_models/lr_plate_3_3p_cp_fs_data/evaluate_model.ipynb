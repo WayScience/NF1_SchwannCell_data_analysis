{
  "cells": [
    {
      "cell_type": "markdown",
      "metadata": {
        "jukit_cell_id": "AAuDgo76ka"
      },
      "source": [
        "# Determine the best features using a Logistic Regression Model"
      ]
    },
    {
      "cell_type": "markdown",
      "metadata": {
        "jukit_cell_id": "SyZ3qa8iz3"
      },
      "source": [
        "## Imports"
      ]
    },
    {
      "cell_type": "code",
      "metadata": {
        "jukit_cell_id": "FKd1dIo45E"
      },
      "source": [
        "import sys\n",
        "import pandas as pd\n",
        "import numpy as np\n",
        "from pathlib import Path\n",
        "from sklearn.preprocessing import LabelEncoder\n",
        "\n",
        "from sklearn.metrics import (\n",
        "    confusion_matrix,\n",
        "    ConfusionMatrixDisplay,\n",
        "    precision_score,\n",
        "    accuracy_score,\n",
        "    recall_score,\n",
        "    f1_score,\n",
        ")\n",
        "from sklearn.model_selection import train_test_split\n",
        "\n",
        "import matplotlib.pyplot as plt\n",
        "import seaborn as sns\n",
        "\n",
        "from joblib import dump, load"
      ],
      "outputs": [],
      "execution_count": null
    },
    {
      "cell_type": "markdown",
      "metadata": {
        "jukit_cell_id": "G0ChVNq6Y7"
      },
      "source": [
        "## Find the git root Directory"
      ]
    },
    {
      "cell_type": "code",
      "metadata": {
        "jukit_cell_id": "Xa65DpKBxU"
      },
      "source": [
        "# Get the current working directory\n",
        "cwd = Path.cwd()\n",
        "\n",
        "if (cwd / \".git\").is_dir():\n",
        "    root_dir = cwd\n",
        "\n",
        "else:\n",
        "    root_dir = None\n",
        "    for parent in cwd.parents:\n",
        "        if (parent / \".git\").is_dir():\n",
        "            root_dir = parent\n",
        "            break\n",
        "\n",
        "# Check if a Git root directory was found\n",
        "if root_dir is None:\n",
        "    raise FileNotFoundError(\"No Git root directory found.\")"
      ],
      "outputs": [],
      "execution_count": null
    },
    {
      "cell_type": "markdown",
      "metadata": {
        "jukit_cell_id": "UCo88y03Lg"
      },
      "source": [
        "## Import Utilities"
      ]
    },
    {
      "cell_type": "code",
      "metadata": {
        "jukit_cell_id": "s9XvFznJG1"
      },
      "source": [
        "sys.path.append(f\"{root_dir}/utils\")\n",
        "import preprocess_utils as ppu"
      ],
      "outputs": [],
      "execution_count": null
    },
    {
      "cell_type": "markdown",
      "metadata": {
        "jukit_cell_id": "OQe1PK1lIs"
      },
      "source": [
        "# Seed and Generator for Reproducibility"
      ]
    },
    {
      "cell_type": "code",
      "metadata": {
        "jukit_cell_id": "EBc3nCzByb"
      },
      "source": [
        "rnd_val = 0  # Random value for all seeds\n",
        "rng = np.random.default_rng(seed=rnd_val)  # random number generator\n",
        "# plt.switch_backend(\"Agg\") # Switch to non-interactive backend"
      ],
      "outputs": [],
      "execution_count": null
    },
    {
      "cell_type": "markdown",
      "metadata": {
        "jukit_cell_id": "SyoVLQmji2"
      },
      "source": [
        "## Create the directory path if non-existent"
      ]
    },
    {
      "cell_type": "code",
      "metadata": {
        "jukit_cell_id": "SrlRn60Pna"
      },
      "source": [
        "fig_out_path = Path(\"model_performance_figures\")\n",
        "\n",
        "if not fig_out_path.exists():\n",
        "    fig_out_path.mkdir()"
      ],
      "outputs": [],
      "execution_count": null
    },
    {
      "cell_type": "markdown",
      "metadata": {
        "jukit_cell_id": "9fnwy4E8u7"
      },
      "source": [
        "## Load Model"
      ]
    },
    {
      "cell_type": "code",
      "metadata": {
        "jukit_cell_id": "xGf9mf7lUA"
      },
      "source": [
        "models_path = Path(f\"{root_dir}/1.train_models/lr_plate3_cp_fs_data/data\")\n",
        "\n",
        "lr = load(models_path / \"lr_model.joblib\")"
      ],
      "outputs": [],
      "execution_count": null
    },
    {
      "cell_type": "markdown",
      "metadata": {
        "jukit_cell_id": "zrPcdDGOjB"
      },
      "source": [
        "## Load Data"
      ]
    },
    {
      "cell_type": "code",
      "metadata": {
        "jukit_cell_id": "sgPsexjO8l"
      },
      "source": [
        "testdf = load(models_path / \"testdf.joblib\")\n",
        "le = load(models_path / \"label_encoder.joblib\")"
      ],
      "outputs": [],
      "execution_count": null
    },
    {
      "cell_type": "markdown",
      "metadata": {
        "jukit_cell_id": "gxO1psLeuX"
      },
      "source": [
        "## Make Predictions"
      ]
    },
    {
      "cell_type": "code",
      "metadata": {
        "jukit_cell_id": "mtfVT1Oybk"
      },
      "source": [
        "testdf[\"preds\"] = lr.predict(testdf.drop(\"label\", axis=\"columns\"))"
      ],
      "outputs": [],
      "execution_count": null
    },
    {
      "cell_type": "code",
      "metadata": {
        "jukit_cell_id": "BP5Np3dOUT"
      },
      "source": [
        "print(f\"Accuracy = {accuracy_score(testdf['label'], testdf['preds'])}\")"
      ],
      "outputs": [],
      "execution_count": null
    },
    {
      "cell_type": "markdown",
      "metadata": {
        "jukit_cell_id": "exCwdVFweU"
      },
      "source": [
        "## Resave the testdf with Predictions"
      ]
    },
    {
      "cell_type": "code",
      "metadata": {
        "jukit_cell_id": "5mJKNwXgWE"
      },
      "source": [
        "dump(testdf, models_path / \"testdf.joblib\")"
      ],
      "outputs": [],
      "execution_count": null
    },
    {
      "cell_type": "markdown",
      "metadata": {
        "jukit_cell_id": "28pF0enKeV"
      },
      "source": [
        "## Create Dataframe with coefficients for each Genotype"
      ]
    },
    {
      "cell_type": "code",
      "metadata": {
        "jukit_cell_id": "y1Yv8pXD6x"
      },
      "source": [
        "featdf = testdf.drop(testdf.index)\n",
        "featdf.drop([\"label\", \"preds\"], inplace=True, axis=1)\n",
        "featdf = featdf.T\n",
        "featdf = featdf.reset_index()\n",
        "featdf = featdf.rename(columns={\"index\": \"features\"})"
      ],
      "outputs": [],
      "execution_count": null
    },
    {
      "cell_type": "code",
      "metadata": {
        "jukit_cell_id": "n87AJgze1X"
      },
      "source": [
        "featdf = pd.concat(\n",
        "    [pd.DataFrame(lr.coef_.T, columns=le.classes_.tolist()), featdf], axis=\"columns\"\n",
        ")"
      ],
      "outputs": [],
      "execution_count": null
    },
    {
      "cell_type": "markdown",
      "metadata": {
        "jukit_cell_id": "U8TpYM6R3U"
      },
      "source": [
        "## Find Confusion Matrix"
      ]
    },
    {
      "cell_type": "code",
      "metadata": {
        "jukit_cell_id": "JYWmIWvfZH"
      },
      "source": [
        "cm3 = pd.crosstab(\n",
        "    testdf[\"label\"], testdf[\"preds\"], rownames=[\"True\"], colnames=[\"Predicted\"]\n",
        ")\n",
        "ax = sns.heatmap(\n",
        "    cm3,\n",
        "    annot=True,\n",
        "    cmap=\"Blues\",\n",
        "    xticklabels=le.classes_.tolist(),\n",
        "    yticklabels=le.classes_.tolist(),\n",
        ")\n",
        "cbar = ax.collections[0].colorbar\n",
        "cbar.set_label(\"Number of Single Cells\")\n",
        "plt.title(\"Performance predicting Genotype\")\n",
        "plt.savefig(f\"{fig_out_path}/lr_conf_mat.png\")  # Save the Confusion Matrix"
      ],
      "outputs": [],
      "execution_count": null
    },
    {
      "cell_type": "code",
      "metadata": {
        "jukit_cell_id": "wq7WWZIn4L"
      },
      "source": [
        "print(\n",
        "    f\"The number of incorrectly classified cells is {(cm3.sum() - np.diag(cm3)).sort_values(ascending=False)}\"\n",
        ")"
      ],
      "outputs": [],
      "execution_count": null
    },
    {
      "cell_type": "markdown",
      "metadata": {
        "jukit_cell_id": "JYAy6qWpLb"
      },
      "source": [
        "## Calculate the metrics for each Genotype"
      ]
    },
    {
      "cell_type": "code",
      "metadata": {
        "jukit_cell_id": "fsj5ZFlKTq"
      },
      "source": [
        "precision = precision_score(testdf[\"label\"], testdf[\"preds\"], average=None)\n",
        "recall = recall_score(testdf[\"label\"], testdf[\"preds\"], average=None)\n",
        "f1 = f1_score(testdf[\"label\"], testdf[\"preds\"], average=None)\n",
        "\n",
        "df = pd.DataFrame({\"recall\": recall, \"precision\": precision, \"f1_score\": f1})\n",
        "\n",
        "\n",
        "# Makes the columns individual values in the 'Group' column and\n",
        "df = df.melt(var_name=\"Group\", value_name=\"Value\")\n",
        "\n",
        "# Assigns the genotype to each row:\n",
        "pos_genes = le.classes_.tolist()\n",
        "df[\"genotype\"] = pos_genes * (len(df) // len(pos_genes))"
      ],
      "outputs": [],
      "execution_count": null
    },
    {
      "cell_type": "markdown",
      "metadata": {
        "jukit_cell_id": "qh1W0Pd5uu"
      },
      "source": [
        "## Plot the performance of the Logistic Regression"
      ]
    },
    {
      "cell_type": "code",
      "metadata": {
        "jukit_cell_id": "EwR4ysDger"
      },
      "source": [
        "plt.figure(figsize=(12, 12))\n",
        "sns.set(font_scale=2)\n",
        "sns.barplot(x=\"Group\", y=\"Value\", hue=\"genotype\", data=df)\n",
        "\n",
        "plt.xlabel(\"Metric\")\n",
        "plt.ylabel(\"Value\")\n",
        "plt.title(\"Logistic Regression Model Performance\")\n",
        "plt.legend(loc=\"upper right\", bbox_to_anchor=(1, 1.01), frameon=False)\n",
        "plt.tight_layout()\n",
        "plt.savefig(fig_out_path / \"lr_performance_per_genotype_bar_plot.png\")"
      ],
      "outputs": [],
      "execution_count": null
    }
  ],
  "metadata": {
    "anaconda-cloud": {},
    "kernelspec": {
      "display_name": "python",
      "language": "python",
      "name": "python3"
    }
  },
  "nbformat": 4,
  "nbformat_minor": 4
}