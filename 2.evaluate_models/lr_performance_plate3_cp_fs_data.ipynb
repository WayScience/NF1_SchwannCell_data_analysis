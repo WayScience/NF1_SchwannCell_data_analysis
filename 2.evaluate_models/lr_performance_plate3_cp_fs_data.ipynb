{
 "cells": [
  {
   "cell_type": "markdown",
   "metadata": {
    "jukit_cell_id": "AAuDgo76ka"
   },
   "source": [
    "# Determine the best features using a Logistic Regression Model"
   ]
  },
  {
   "cell_type": "markdown",
   "metadata": {
    "jukit_cell_id": "SyZ3qa8iz3"
   },
   "source": [
    "## Imports"
   ]
  },
  {
   "cell_type": "code",
   "metadata": {
    "jukit_cell_id": "FKd1dIo45E"
   },
   "source": [
    "import os\n",
    "import sys\n",
    "import pandas as pd\n",
    "import numpy as np\n",
    "from pathlib import Path\n",
    "from sklearn.preprocessing import LabelEncoder\n",
    "from sklearn.linear_model import LogisticRegression\n",
    "\n",
    "from sklearn.metrics import (\n",
    "    confusion_matrix,\n",
    "    ConfusionMatrixDisplay,\n",
    "    precision_score,\n",
    "    accuracy_score,\n",
    ")\n",
    "from sklearn.model_selection import train_test_split\n",
    "from collections import Counter\n",
    "\n",
    "import matplotlib.pyplot as plt\n",
    "import seaborn as sns\n",
    "import itertools\n",
    "\n",
    "from joblib import dump, load"
   ],
   "outputs": [],
   "execution_count": null
  },
  {
   "cell_type": "markdown",
   "metadata": {
    "jukit_cell_id": "G0ChVNq6Y7"
   },
   "source": [
    "## Find the git root Directory"
   ]
  },
  {
   "cell_type": "code",
   "metadata": {
    "jukit_cell_id": "Xa65DpKBxU"
   },
   "source": [
    "# Get the current working directory\n",
    "cwd = Path.cwd()\n",
    "\n",
    "if (cwd / \".git\").is_dir():\n",
    "    root_dir = cwd\n",
    "\n",
    "else:\n",
    "    root_dir = None\n",
    "    for parent in cwd.parents:\n",
    "        if (parent / \".git\").is_dir():\n",
    "            root_dir = parent\n",
    "            break\n",
    "\n",
    "# Check if a Git root directory was found\n",
    "if root_dir is None:\n",
    "    raise FileNotFoundError(\"No Git root directory found.\")"
   ],
   "outputs": [],
   "execution_count": null
  },
  {
   "cell_type": "markdown",
   "metadata": {
    "jukit_cell_id": "UCo88y03Lg"
   },
   "source": [
    "## Import Utilities"
   ]
  },
  {
   "cell_type": "code",
   "metadata": {
    "jukit_cell_id": "s9XvFznJG1"
   },
   "source": [
    "sys.path.append(f\"{root_dir}/utils\")\n",
    "import analysis_utils as au\n",
    "import preprocess_utils as ppu\n",
    "import eval_utils as eu\n",
    "import train_utils as tu"
   ],
   "outputs": [],
   "execution_count": null
  },
  {
   "cell_type": "markdown",
   "metadata": {
    "jukit_cell_id": "OQe1PK1lIs"
   },
   "source": [
    "# Seed and Generator for Reproducibility"
   ]
  },
  {
   "cell_type": "code",
   "metadata": {
    "jukit_cell_id": "EBc3nCzByb"
   },
   "source": [
    "rnd_val = 0  # Random value for all seeds\n",
    "rng = np.random.default_rng(seed=rnd_val)  # random number generator\n",
    "plt.switch_backend(\"Agg\")  # Switch to non-interactive backend"
   ],
   "outputs": [],
   "execution_count": null
  },
  {
   "cell_type": "markdown",
   "metadata": {
    "jukit_cell_id": "SyoVLQmji2"
   },
   "source": [
    "## Create the directory path if non-existent"
   ]
  },
  {
   "cell_type": "code",
   "metadata": {
    "jukit_cell_id": "SrlRn60Pna"
   },
   "source": [
    "fig_out_path = Path(f\"{root_dir}/2.evaluate_models/model_performance_figures\")\n",
    "\n",
    "if not fig_out_path.exists():\n",
    "    fig_out_path.mkdir()"
   ],
   "outputs": [],
   "execution_count": null
  },
  {
   "cell_type": "markdown",
   "metadata": {
    "jukit_cell_id": "9fnwy4E8u7"
   },
   "source": [
    "## Load Model"
   ]
  },
  {
   "cell_type": "code",
   "metadata": {
    "jukit_cell_id": "xGf9mf7lUA"
   },
   "source": [
    "models_path = Path(f\"{root_dir}/2.evaluate_models/model_data/lr_plate3_cp_fs_data\")\n",
    "\n",
    "lr = load(models_path / \"lr_model.joblib\")"
   ],
   "outputs": [],
   "execution_count": null
  },
  {
   "cell_type": "markdown",
   "metadata": {
    "jukit_cell_id": "zrPcdDGOjB"
   },
   "source": [
    "## Load Data"
   ]
  },
  {
   "cell_type": "code",
   "metadata": {
    "jukit_cell_id": "sgPsexjO8l"
   },
   "source": [
    "testdf = load(models_path / \"testdf.joblib\")\n",
    "le = load(models_path / \"label_encoder.joblib\")"
   ],
   "outputs": [],
   "execution_count": null
  },
  {
   "cell_type": "markdown",
   "metadata": {
    "jukit_cell_id": "gxO1psLeuX"
   },
   "source": [
    "## Make Predictions"
   ]
  },
  {
   "cell_type": "code",
   "metadata": {
    "jukit_cell_id": "mtfVT1Oybk"
   },
   "source": [
    "testdf[\"preds\"] = lr.predict(testdf.drop(\"label\", axis=\"columns\"))"
   ],
   "outputs": [
    {
     "output_type": "stream",
     "name": "stdout",
     "text": "\u001b[0;31m---------------------------------------------------------------------\u001b[0m\n\u001b[0;31mValueError\u001b[0m                          Traceback (most recent call last)\nCell \u001b[0;32mIn[16], line 1\u001b[0m\n\u001b[0;32m----> 1\u001b[0m testdf[\u001b[38;5;124m\"\u001b[39m\u001b[38;5;124mpreds\u001b[39m\u001b[38;5;124m\"\u001b[39m] \u001b[38;5;241m=\u001b[39m \u001b[43mlr\u001b[49m\u001b[38;5;241;43m.\u001b[39;49m\u001b[43mpredict\u001b[49m\u001b[43m(\u001b[49m\u001b[43mtestdf\u001b[49m\u001b[38;5;241;43m.\u001b[39;49m\u001b[43mdrop\u001b[49m\u001b[43m(\u001b[49m\u001b[38;5;124;43m\"\u001b[39;49m\u001b[38;5;124;43mlabel\u001b[39;49m\u001b[38;5;124;43m\"\u001b[39;49m\u001b[43m,\u001b[49m\u001b[43m \u001b[49m\u001b[43maxis\u001b[49m\u001b[38;5;241;43m=\u001b[39;49m\u001b[38;5;124;43m\"\u001b[39;49m\u001b[38;5;124;43mcolumns\u001b[39;49m\u001b[38;5;124;43m\"\u001b[39;49m\u001b[43m)\u001b[49m\u001b[43m)\u001b[49m\n\nFile \u001b[0;32m~/anaconda3/envs/nf1_analysis/lib/python3.9/site-packages/sklearn/linear_model/_base.py:309\u001b[0m, in \u001b[0;36mLinearClassifierMixin.predict\u001b[0;34m(self, X)\u001b[0m\n\u001b[1;32m    295\u001b[0m \u001b[38;5;28;01mdef\u001b[39;00m \u001b[38;5;21mpredict\u001b[39m(\u001b[38;5;28mself\u001b[39m, X):\n\u001b[1;32m    296\u001b[0m \u001b[38;5;250m    \u001b[39m\u001b[38;5;124;03m\"\"\"\u001b[39;00m\n\u001b[1;32m    297\u001b[0m \u001b[38;5;124;03m    Predict class labels for samples in X.\u001b[39;00m\n\u001b[1;32m    298\u001b[0m \n\u001b[0;32m   (...)\u001b[0m\n\u001b[1;32m    307\u001b[0m \u001b[38;5;124;03m        Predicted class label per sample.\u001b[39;00m\n\u001b[1;32m    308\u001b[0m \u001b[38;5;124;03m    \"\"\"\u001b[39;00m\n\u001b[0;32m--> 309\u001b[0m     scores \u001b[38;5;241m=\u001b[39m \u001b[38;5;28;43mself\u001b[39;49m\u001b[38;5;241;43m.\u001b[39;49m\u001b[43mdecision_function\u001b[49m\u001b[43m(\u001b[49m\u001b[43mX\u001b[49m\u001b[43m)\u001b[49m\n\u001b[1;32m    310\u001b[0m     \u001b[38;5;28;01mif\u001b[39;00m \u001b[38;5;28mlen\u001b[39m(scores\u001b[38;5;241m.\u001b[39mshape) \u001b[38;5;241m==\u001b[39m \u001b[38;5;241m1\u001b[39m:\n\u001b[1;32m    311\u001b[0m         indices \u001b[38;5;241m=\u001b[39m (scores \u001b[38;5;241m>\u001b[39m \u001b[38;5;241m0\u001b[39m)\u001b[38;5;241m.\u001b[39mastype(\u001b[38;5;28mint\u001b[39m)\n\nFile \u001b[0;32m~/anaconda3/envs/nf1_analysis/lib/python3.9/site-packages/sklearn/linear_model/_base.py:288\u001b[0m, in \u001b[0;36mLinearClassifierMixin.decision_function\u001b[0;34m(self, X)\u001b[0m\n\u001b[1;32m    286\u001b[0m n_features \u001b[38;5;241m=\u001b[39m \u001b[38;5;28mself\u001b[39m\u001b[38;5;241m.\u001b[39mcoef_\u001b[38;5;241m.\u001b[39mshape[\u001b[38;5;241m1\u001b[39m]\n\u001b[1;32m    287\u001b[0m \u001b[38;5;28;01mif\u001b[39;00m X\u001b[38;5;241m.\u001b[39mshape[\u001b[38;5;241m1\u001b[39m] \u001b[38;5;241m!=\u001b[39m n_features:\n\u001b[0;32m--> 288\u001b[0m     \u001b[38;5;28;01mraise\u001b[39;00m \u001b[38;5;167;01mValueError\u001b[39;00m(\u001b[38;5;124m\"\u001b[39m\u001b[38;5;124mX has \u001b[39m\u001b[38;5;132;01m%d\u001b[39;00m\u001b[38;5;124m features per sample; expecting \u001b[39m\u001b[38;5;132;01m%d\u001b[39;00m\u001b[38;5;124m\"\u001b[39m\n\u001b[1;32m    289\u001b[0m                      \u001b[38;5;241m%\u001b[39m (X\u001b[38;5;241m.\u001b[39mshape[\u001b[38;5;241m1\u001b[39m], n_features))\n\u001b[1;32m    291\u001b[0m scores \u001b[38;5;241m=\u001b[39m safe_sparse_dot(X, \u001b[38;5;28mself\u001b[39m\u001b[38;5;241m.\u001b[39mcoef_\u001b[38;5;241m.\u001b[39mT,\n\u001b[1;32m    292\u001b[0m                          dense_output\u001b[38;5;241m=\u001b[39m\u001b[38;5;28;01mTrue\u001b[39;00m) \u001b[38;5;241m+\u001b[39m \u001b[38;5;28mself\u001b[39m\u001b[38;5;241m.\u001b[39mintercept_\n\u001b[1;32m    293\u001b[0m \u001b[38;5;28;01mreturn\u001b[39;00m scores\u001b[38;5;241m.\u001b[39mravel() \u001b[38;5;28;01mif\u001b[39;00m scores\u001b[38;5;241m.\u001b[39mshape[\u001b[38;5;241m1\u001b[39m] \u001b[38;5;241m==\u001b[39m \u001b[38;5;241m1\u001b[39m \u001b[38;5;28;01melse\u001b[39;00m scores\n\n\u001b[0;31mValueError\u001b[0m: X has 493 features per sample; expecting 492\n"
    }
   ],
   "execution_count": 1
  },
  {
   "cell_type": "code",
   "metadata": {
    "jukit_cell_id": "BP5Np3dOUT"
   },
   "source": [
    "print(f\"Accuracy = {accuracy_score(testdf['label'], testdf['preds'])}\")"
   ],
   "outputs": [
    {
     "output_type": "stream",
     "name": "stdout",
     "text": "Accuracy = 0.8920377867746289\n"
    }
   ],
   "execution_count": 2
  },
  {
   "cell_type": "markdown",
   "metadata": {
    "jukit_cell_id": "exCwdVFweU"
   },
   "source": [
    "## Resave the testdf with Predictions"
   ]
  },
  {
   "cell_type": "code",
   "metadata": {
    "jukit_cell_id": "5mJKNwXgWE"
   },
   "source": [
    "dump(testdf, models_path / \"testdf.joblib\")"
   ],
   "outputs": [
    {
     "output_type": "stream",
     "name": "stdout",
     "text": "\n"
    },
    {
     "output_type": "execute_result",
     "execution_count": 3,
     "data": {
      "text/plain": "['/home/camo/projects/NF1_SchwannCell_data_analysis/2.evaluate_models/model_data/lr_plate3_cp_fs_data/testdf.joblib']"
     },
     "metadata": {}
    }
   ],
   "execution_count": 3
  },
  {
   "cell_type": "markdown",
   "metadata": {
    "jukit_cell_id": "28pF0enKeV"
   },
   "source": [
    "## Create Dataframe with coefficients for each Genotype"
   ]
  },
  {
   "cell_type": "code",
   "metadata": {
    "jukit_cell_id": "y1Yv8pXD6x"
   },
   "source": [
    "featdf = testdf.drop(testdf.index)\n",
    "featdf.drop([\"label\", \"preds\"], inplace=True, axis=1)\n",
    "featdf = featdf.T\n",
    "featdf = featdf.reset_index()\n",
    "featdf = featdf.rename(columns={\"index\": \"features\"})"
   ],
   "outputs": [],
   "execution_count": null
  },
  {
   "cell_type": "code",
   "metadata": {
    "jukit_cell_id": "n87AJgze1X"
   },
   "source": [
    "featdf = pd.concat(\n",
    "    [pd.DataFrame(lr.coef_.T, columns=le.classes_.tolist()), featdf], axis=\"columns\"\n",
    ")\n",
    "featdf[\"abs_HET\"] = featdf[\"HET\"].abs()"
   ],
   "outputs": [],
   "execution_count": null
  },
  {
   "cell_type": "markdown",
   "metadata": {
    "jukit_cell_id": "U8TpYM6R3U"
   },
   "source": [
    "## Find Confusion Matrix"
   ]
  },
  {
   "cell_type": "code",
   "metadata": {
    "jukit_cell_id": "JYWmIWvfZH"
   },
   "source": [
    "cm3 = pd.crosstab(\n",
    "    testdf[\"label\"], testdf[\"preds\"], rownames=[\"True\"], colnames=[\"Predicted\"]\n",
    ")\n",
    "ax = sns.heatmap(\n",
    "    cm3,\n",
    "    annot=True,\n",
    "    cmap=\"Blues\",\n",
    "    xticklabels=le.classes_.tolist(),\n",
    "    yticklabels=le.classes_.tolist(),\n",
    ")\n",
    "cbar = ax.collections[0].colorbar\n",
    "cbar.set_label(\"Number of Single Cells\")\n",
    "plt.title(\"Performance predicting Genotype\")\n",
    "plt.savefig(f\"{fig_out_path}/lr_conf_mat.png\")  # Save the Confusion Matrix"
   ],
   "outputs": [],
   "execution_count": null
  },
  {
   "cell_type": "code",
   "metadata": {
    "jukit_cell_id": "wq7WWZIn4L"
   },
   "source": [
    "print(\n",
    "    f\"The number of incorrectly classified cells is {(cm3.sum() - np.diag(cm3)).sort_values(ascending=False)}\"\n",
    ")"
   ],
   "outputs": [
    {
     "output_type": "stream",
     "name": "stdout",
     "text": "The number of incorrectly classified cells is Predicted\n1    219\n2    213\n0     48\ndtype: int64\n"
    }
   ],
   "execution_count": 4
  }
 ],
 "metadata": {
  "anaconda-cloud": {},
  "kernelspec": {
   "display_name": "python",
   "language": "python",
   "name": "python3"
  }
 },
 "nbformat": 4,
 "nbformat_minor": 4
}