{
 "cells": [
  {
   "cell_type": "markdown",
   "metadata": {
    "jukit_cell_id": "quD0wavRs0"
   },
   "source": [
    "# Evaluate model performance siRNA-treated single cells\n",
    "Genotype probabilies of siRNA-treated single cell data are computed to evaluate model perormance.\n",
    "This is performed on plate 4."
   ]
  },
  {
   "cell_type": "code",
   "execution_count": 1,
   "metadata": {
    "execution": {
     "iopub.execute_input": "2024-05-28T17:17:03.783174Z",
     "iopub.status.busy": "2024-05-28T17:17:03.783074Z",
     "iopub.status.idle": "2024-05-28T17:17:04.001053Z",
     "shell.execute_reply": "2024-05-28T17:17:04.000697Z"
    },
    "jukit_cell_id": "RcnXoNLyM2"
   },
   "outputs": [],
   "source": [
    "import pathlib\n",
    "\n",
    "import pandas as pd\n",
    "from joblib import load"
   ]
  },
  {
   "cell_type": "markdown",
   "metadata": {
    "jukit_cell_id": "tdSJIClZGb"
   },
   "source": [
    "## Find the root of the git repo on the host system"
   ]
  },
  {
   "cell_type": "code",
   "execution_count": 2,
   "metadata": {
    "execution": {
     "iopub.execute_input": "2024-05-28T17:17:04.003252Z",
     "iopub.status.busy": "2024-05-28T17:17:04.002894Z",
     "iopub.status.idle": "2024-05-28T17:17:04.005723Z",
     "shell.execute_reply": "2024-05-28T17:17:04.005446Z"
    },
    "jukit_cell_id": "QmTyYX7yVG"
   },
   "outputs": [],
   "source": [
    "# Get the current working directory\n",
    "cwd = pathlib.Path.cwd()\n",
    "\n",
    "if (cwd / \".git\").is_dir():\n",
    "    root_dir = cwd\n",
    "\n",
    "else:\n",
    "    root_dir = None\n",
    "    for parent in cwd.parents:\n",
    "        if (parent / \".git\").is_dir():\n",
    "            root_dir = parent\n",
    "            break\n",
    "\n",
    "# Check if a Git root directory was found\n",
    "if root_dir is None:\n",
    "    raise FileNotFoundError(\"No Git root directory found.\")"
   ]
  },
  {
   "cell_type": "markdown",
   "metadata": {
    "jukit_cell_id": "eSQXraMRCI"
   },
   "source": [
    "## Define paths"
   ]
  },
  {
   "cell_type": "markdown",
   "metadata": {
    "jukit_cell_id": "cZx8xNCyZq"
   },
   "source": [
    "### Input"
   ]
  },
  {
   "cell_type": "code",
   "execution_count": 3,
   "metadata": {
    "execution": {
     "iopub.execute_input": "2024-05-28T17:17:04.007367Z",
     "iopub.status.busy": "2024-05-28T17:17:04.007261Z",
     "iopub.status.idle": "2024-05-28T17:17:04.370585Z",
     "shell.execute_reply": "2024-05-28T17:17:04.370141Z"
    },
    "jukit_cell_id": "xdgUvt0md2"
   },
   "outputs": [],
   "source": [
    "plate4df_path = pathlib.Path(root_dir / \"nf1_painting_repo/3.processing_features/data/single_cell_profiles/Plate_4_sc_feature_selected.parquet\").resolve(strict=True)\n",
    "plate4df = pd.read_parquet(plate4df_path)\n",
    "\n",
    "data_path = pathlib.Path(root_dir / \"1.train_models/classify_genotypes/data\").resolve(strict=True)\n",
    "le = load(f\"{data_path}/trained_nf1_model_label_encoder.joblib\")\n",
    "model = load(f\"{data_path}/trained_nf1_model.joblib\")"
   ]
  },
  {
   "cell_type": "markdown",
   "metadata": {
    "jukit_cell_id": "G0IEMyaFva"
   },
   "source": [
    "### Outputs"
   ]
  },
  {
   "cell_type": "code",
   "execution_count": 4,
   "metadata": {
    "execution": {
     "iopub.execute_input": "2024-05-28T17:17:04.372571Z",
     "iopub.status.busy": "2024-05-28T17:17:04.372405Z",
     "iopub.status.idle": "2024-05-28T17:17:04.374718Z",
     "shell.execute_reply": "2024-05-28T17:17:04.374439Z"
    },
    "jukit_cell_id": "byqT0qeQSc"
   },
   "outputs": [],
   "source": [
    "probability_path = pathlib.Path(\"genotype_probabilities\")\n",
    "probability_path.mkdir(parents=True, exist_ok=True)"
   ]
  },
  {
   "cell_type": "markdown",
   "metadata": {
    "jukit_cell_id": "R7X8nR4SsB"
   },
   "source": [
    "## Process plate 4"
   ]
  },
  {
   "cell_type": "code",
   "execution_count": 5,
   "metadata": {
    "execution": {
     "iopub.execute_input": "2024-05-28T17:17:04.376413Z",
     "iopub.status.busy": "2024-05-28T17:17:04.376307Z",
     "iopub.status.idle": "2024-05-28T17:17:04.409734Z",
     "shell.execute_reply": "2024-05-28T17:17:04.409363Z"
    },
    "jukit_cell_id": "qrteU1j4F9"
   },
   "outputs": [],
   "source": [
    "# Removed siRNA-treated cells to retain only Null and WT cells\n",
    "plate4df[\"Metadata_siRNA\"].fillna(\"No Construct\", inplace=True)\n",
    "plate4df.dropna(inplace=True)\n",
    "plate4df = plate4df.loc[plate4df[\"Metadata_siRNA\"] != \"No Construct\"]\n",
    "\n",
    "meta_cols = [col for col in plate4df.columns if \"Metadata\" in col]"
   ]
  },
  {
   "cell_type": "markdown",
   "metadata": {
    "jukit_cell_id": "Qi9XDusCR3"
   },
   "source": [
    "## Save siRNA genotype probabilities"
   ]
  },
  {
   "cell_type": "code",
   "execution_count": 6,
   "metadata": {
    "execution": {
     "iopub.execute_input": "2024-05-28T17:17:04.411597Z",
     "iopub.status.busy": "2024-05-28T17:17:04.411485Z",
     "iopub.status.idle": "2024-05-28T17:17:04.441641Z",
     "shell.execute_reply": "2024-05-28T17:17:04.441222Z"
    },
    "jukit_cell_id": "FVQBNEvRSs"
   },
   "outputs": [],
   "source": [
    "probabilitydf = pd.DataFrame(\n",
    "    {\n",
    "        f\"probability {le.inverse_transform([1])[0]}\":\n",
    "        model.predict_proba(plate4df[model.feature_names_in_])[:, 1]\n",
    "    }\n",
    ")\n",
    "\n",
    "pd.concat([probabilitydf, plate4df[meta_cols].reset_index(drop=True)], axis=1).to_parquet(\n",
    "    f\"{probability_path}/plate_4_sirna_single_cell_probabilities.parquet\"\n",
    ")"
   ]
  }
 ],
 "metadata": {
  "anaconda-cloud": {},
  "kernelspec": {
   "display_name": "python",
   "language": "python",
   "name": "python3"
  },
  "language_info": {
   "codemirror_mode": {
    "name": "ipython",
    "version": 3
   },
   "file_extension": ".py",
   "mimetype": "text/x-python",
   "name": "python",
   "nbconvert_exporter": "python",
   "pygments_lexer": "ipython3",
   "version": "3.9.19"
  }
 },
 "nbformat": 4,
 "nbformat_minor": 4
}
