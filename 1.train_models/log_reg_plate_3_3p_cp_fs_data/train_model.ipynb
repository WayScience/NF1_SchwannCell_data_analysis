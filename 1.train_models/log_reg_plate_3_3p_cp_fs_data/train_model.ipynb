{
 "cells": [
  {
   "cell_type": "markdown",
   "metadata": {
    "jukit_cell_id": "ejlw4X3ZaR"
   },
   "source": [
    "# Training a Logistic Regression Model"
   ]
  },
  {
   "cell_type": "markdown",
   "metadata": {
    "jukit_cell_id": "GOPeJtwlep"
   },
   "source": [
    "## Imports"
   ]
  },
  {
   "cell_type": "code",
   "execution_count": 1,
   "metadata": {
    "execution": {
     "iopub.execute_input": "2023-06-27T22:12:29.239686Z",
     "iopub.status.busy": "2023-06-27T22:12:29.239589Z",
     "iopub.status.idle": "2023-06-27T22:12:29.814093Z",
     "shell.execute_reply": "2023-06-27T22:12:29.813640Z"
    },
    "jukit_cell_id": "FKd1dIo45E"
   },
   "outputs": [],
   "source": [
    "import sys\n",
    "import pandas as pd\n",
    "import numpy as np\n",
    "from pathlib import Path\n",
    "from sklearn.preprocessing import LabelEncoder, OneHotEncoder\n",
    "from sklearn.linear_model import LogisticRegression\n",
    "\n",
    "from sklearn.metrics import (\n",
    "    confusion_matrix,\n",
    "    ConfusionMatrixDisplay,\n",
    "    precision_score,\n",
    "    accuracy_score,\n",
    ")\n",
    "from sklearn.model_selection import train_test_split\n",
    "from collections import Counter\n",
    "\n",
    "import matplotlib.pyplot as plt\n",
    "import seaborn as sns\n",
    "\n",
    "from joblib import dump, load"
   ]
  },
  {
   "cell_type": "markdown",
   "metadata": {
    "jukit_cell_id": "F4T2C3cxtm"
   },
   "source": [
    "## Find the git root Directory"
   ]
  },
  {
   "cell_type": "code",
   "execution_count": 2,
   "metadata": {
    "execution": {
     "iopub.execute_input": "2023-06-27T22:12:29.815930Z",
     "iopub.status.busy": "2023-06-27T22:12:29.815763Z",
     "iopub.status.idle": "2023-06-27T22:12:29.818509Z",
     "shell.execute_reply": "2023-06-27T22:12:29.818150Z"
    },
    "jukit_cell_id": "Iz4nqgONsd"
   },
   "outputs": [],
   "source": [
    "# Get the current working directory\n",
    "cwd = Path.cwd()\n",
    "\n",
    "if (cwd / \".git\").is_dir():\n",
    "    root_dir = cwd\n",
    "\n",
    "else:\n",
    "    root_dir = None\n",
    "    for parent in cwd.parents:\n",
    "        if (parent / \".git\").is_dir():\n",
    "            root_dir = parent\n",
    "            break\n",
    "\n",
    "# Check if a Git root directory was found\n",
    "if root_dir is None:\n",
    "    raise FileNotFoundError(\"No Git root directory found.\")"
   ]
  },
  {
   "cell_type": "markdown",
   "metadata": {
    "jukit_cell_id": "OQe1PK1lIs"
   },
   "source": [
    "# Seed and Generator for Reproducibility"
   ]
  },
  {
   "cell_type": "code",
   "execution_count": 3,
   "metadata": {
    "execution": {
     "iopub.execute_input": "2023-06-27T22:12:29.820337Z",
     "iopub.status.busy": "2023-06-27T22:12:29.820058Z",
     "iopub.status.idle": "2023-06-27T22:12:29.822324Z",
     "shell.execute_reply": "2023-06-27T22:12:29.822017Z"
    },
    "jukit_cell_id": "EBc3nCzByb"
   },
   "outputs": [],
   "source": [
    "rnd_val = 0  # Random value for all seeds\n",
    "rng = np.random.default_rng(seed=rnd_val)  # random number generator"
   ]
  },
  {
   "cell_type": "markdown",
   "metadata": {
    "jukit_cell_id": "Dcr36XRfzf"
   },
   "source": [
    "# Converting csv to pandas dataframe"
   ]
  },
  {
   "cell_type": "code",
   "execution_count": 4,
   "metadata": {
    "execution": {
     "iopub.execute_input": "2023-06-27T22:12:29.823648Z",
     "iopub.status.busy": "2023-06-27T22:12:29.823435Z",
     "iopub.status.idle": "2023-06-27T22:12:29.825710Z",
     "shell.execute_reply": "2023-06-27T22:12:29.825414Z"
    },
    "jukit_cell_id": "EYGHUOxuTt"
   },
   "outputs": [],
   "source": [
    "filename3 = \"Plate_3_sc_norm_fs.parquet\"\n",
    "filename3p = \"Plate_3_prime_sc_norm_fs.parquet\"\n",
    "plate_path = Path(\n",
    "    f\"{root_dir}/nf1_painting_repo/3.processing_features/data/feature_selected_data\"\n",
    ")\n",
    "\n",
    "data_path = Path(\"data\")\n",
    "\n",
    "data_path.mkdir(\n",
    "    parents=True, exist_ok=True\n",
    ")  # Create the parent directories if they don't exist\n",
    "\n",
    "path3 = plate_path / filename3\n",
    "\n",
    "path3p = plate_path / filename3p"
   ]
  },
  {
   "cell_type": "markdown",
   "metadata": {
    "jukit_cell_id": "2FRr4nFP4J"
   },
   "source": [
    "## Generate plate dataframes"
   ]
  },
  {
   "cell_type": "code",
   "execution_count": 5,
   "metadata": {
    "execution": {
     "iopub.execute_input": "2023-06-27T22:12:29.827114Z",
     "iopub.status.busy": "2023-06-27T22:12:29.826910Z",
     "iopub.status.idle": "2023-06-27T22:12:30.279811Z",
     "shell.execute_reply": "2023-06-27T22:12:30.279211Z"
    },
    "jukit_cell_id": "N0H3V1RbTX"
   },
   "outputs": [],
   "source": [
    "# Returns the dataframe returned by the plate 3 parquet file\n",
    "plate3df = pd.read_parquet(path3)\n",
    "\n",
    "# Returns the dataframe returned by the plate 3 prime parquet file\n",
    "plate3pdf = pd.read_parquet(path3p)"
   ]
  },
  {
   "cell_type": "markdown",
   "metadata": {
    "jukit_cell_id": "6lb4kpNpXs"
   },
   "source": [
    "# Preprocess Data"
   ]
  },
  {
   "cell_type": "markdown",
   "metadata": {
    "jukit_cell_id": "CssJ87R6PQ"
   },
   "source": [
    "## Use only common columns"
   ]
  },
  {
   "cell_type": "code",
   "execution_count": 6,
   "metadata": {
    "execution": {
     "iopub.execute_input": "2023-06-27T22:12:30.282156Z",
     "iopub.status.busy": "2023-06-27T22:12:30.281829Z",
     "iopub.status.idle": "2023-06-27T22:12:30.327216Z",
     "shell.execute_reply": "2023-06-27T22:12:30.326848Z"
    },
    "jukit_cell_id": "bCflTponOs"
   },
   "outputs": [],
   "source": [
    "# Set plate column:\n",
    "plate3df[\"Metadata_plate\"] = \"3\"\n",
    "plate3pdf[\"Metadata_plate\"] = \"3p\"\n",
    "\n",
    "common_columns = list(plate3df.columns.intersection(plate3pdf.columns))\n",
    "plate3df = plate3df.loc[:, common_columns]\n",
    "plate3pdf = plate3pdf.loc[:, common_columns]\n",
    "\n",
    "# Combine the plate dataframes:\n",
    "platedf = pd.concat([plate3df, plate3pdf], axis=\"rows\")"
   ]
  },
  {
   "cell_type": "markdown",
   "metadata": {
    "jukit_cell_id": "0iWlDGQ4Qh"
   },
   "source": [
    "## Create Classes"
   ]
  },
  {
   "cell_type": "code",
   "execution_count": 7,
   "metadata": {
    "execution": {
     "iopub.execute_input": "2023-06-27T22:12:30.328895Z",
     "iopub.status.busy": "2023-06-27T22:12:30.328757Z",
     "iopub.status.idle": "2023-06-27T22:12:30.330717Z",
     "shell.execute_reply": "2023-06-27T22:12:30.330462Z"
    },
    "jukit_cell_id": "jH432rS91v"
   },
   "outputs": [],
   "source": [
    "target_column = \"Metadata_genotype\"\n",
    "stratify_column = \"Metadata_Well\"\n",
    "\n",
    "# These represent the fractions of the entire dataset\n",
    "train_val_frac = 0.85\n",
    "test_frac = 1 - train_val_frac\n",
    "val_frac = 0.15"
   ]
  },
  {
   "cell_type": "markdown",
   "metadata": {
    "jukit_cell_id": "wo4oj6xAxg"
   },
   "source": [
    "## Down-sample and stratify by well"
   ]
  },
  {
   "cell_type": "code",
   "execution_count": 8,
   "metadata": {
    "execution": {
     "iopub.execute_input": "2023-06-27T22:12:30.331910Z",
     "iopub.status.busy": "2023-06-27T22:12:30.331754Z",
     "iopub.status.idle": "2023-06-27T22:12:30.490843Z",
     "shell.execute_reply": "2023-06-27T22:12:30.490421Z"
    },
    "jukit_cell_id": "6wLIrXfTzh"
   },
   "outputs": [],
   "source": [
    "smallest_gene = platedf[target_column].value_counts().min()\n",
    "platedata = pd.DataFrame()\n",
    "\n",
    "for gene in platedf[target_column].unique():\n",
    "    df = platedf.loc[platedf[\"Metadata_genotype\"] == gene]\n",
    "    df_frac = smallest_gene / len(df)\n",
    "    stratwell = df.groupby(stratify_column, group_keys=False).apply(\n",
    "        lambda x: x.sample(frac=df_frac, random_state=rnd_val)\n",
    "    )\n",
    "    platedata = pd.concat([platedata, stratwell], axis=\"rows\")"
   ]
  },
  {
   "cell_type": "markdown",
   "metadata": {
    "jukit_cell_id": "DlNzPGZ5H0"
   },
   "source": [
    "## Stratified Train-test split"
   ]
  },
  {
   "cell_type": "code",
   "execution_count": 9,
   "metadata": {
    "execution": {
     "iopub.execute_input": "2023-06-27T22:12:30.493110Z",
     "iopub.status.busy": "2023-06-27T22:12:30.492952Z",
     "iopub.status.idle": "2023-06-27T22:12:30.598545Z",
     "shell.execute_reply": "2023-06-27T22:12:30.598126Z"
    },
    "jukit_cell_id": "VNkswJFWjR"
   },
   "outputs": [],
   "source": [
    "traindf, testdf = train_test_split(\n",
    "    platedata,\n",
    "    train_size=train_val_frac,\n",
    "    stratify=platedata[[target_column, stratify_column]],\n",
    "    shuffle=True,\n",
    "    random_state=rnd_val,\n",
    ")"
   ]
  },
  {
   "cell_type": "markdown",
   "metadata": {
    "jukit_cell_id": "J3dEPROtx7"
   },
   "source": [
    "## Encode Labels"
   ]
  },
  {
   "cell_type": "code",
   "execution_count": 10,
   "metadata": {
    "execution": {
     "iopub.execute_input": "2023-06-27T22:12:30.600606Z",
     "iopub.status.busy": "2023-06-27T22:12:30.600434Z",
     "iopub.status.idle": "2023-06-27T22:12:30.606051Z",
     "shell.execute_reply": "2023-06-27T22:12:30.605759Z"
    },
    "jukit_cell_id": "wqT9BUqx7w"
   },
   "outputs": [
    {
     "name": "stderr",
     "output_type": "stream",
     "text": [
      "/tmp/ipykernel_46461/4215398058.py:2: SettingWithCopyWarning: \n",
      "A value is trying to be set on a copy of a slice from a DataFrame.\n",
      "Try using .loc[row_indexer,col_indexer] = value instead\n",
      "\n",
      "See the caveats in the documentation: https://pandas.pydata.org/pandas-docs/stable/user_guide/indexing.html#returning-a-view-versus-a-copy\n",
      "  testdf[\"label\"] = le.fit_transform(testdf[target_column].values)\n",
      "/tmp/ipykernel_46461/4215398058.py:3: SettingWithCopyWarning: \n",
      "A value is trying to be set on a copy of a slice from a DataFrame.\n",
      "Try using .loc[row_indexer,col_indexer] = value instead\n",
      "\n",
      "See the caveats in the documentation: https://pandas.pydata.org/pandas-docs/stable/user_guide/indexing.html#returning-a-view-versus-a-copy\n",
      "  traindf[\"label\"] = le.transform(traindf[target_column].values)\n"
     ]
    }
   ],
   "source": [
    "le = LabelEncoder()\n",
    "testdf[\"label\"] = le.fit_transform(testdf[target_column].values)\n",
    "traindf[\"label\"] = le.transform(traindf[target_column].values)"
   ]
  },
  {
   "cell_type": "markdown",
   "metadata": {
    "jukit_cell_id": "sRlEwWwsSj"
   },
   "source": [
    "## Remove unecessary columns"
   ]
  },
  {
   "cell_type": "code",
   "execution_count": 11,
   "metadata": {
    "execution": {
     "iopub.execute_input": "2023-06-27T22:12:30.626089Z",
     "iopub.status.busy": "2023-06-27T22:12:30.625928Z",
     "iopub.status.idle": "2023-06-27T22:12:30.642788Z",
     "shell.execute_reply": "2023-06-27T22:12:30.642443Z"
    },
    "jukit_cell_id": "UFK0jsur96"
   },
   "outputs": [],
   "source": [
    "# Remove Metadata\n",
    "feat_col = [col for col in platedata.columns if \"Metadata\" not in col]\n",
    "\n",
    "# Keep the label column\n",
    "feat_col.append(\"label\")\n",
    "\n",
    "traindf = traindf[feat_col]\n",
    "testdf = testdf[feat_col]"
   ]
  },
  {
   "cell_type": "markdown",
   "metadata": {
    "jukit_cell_id": "BKgaV6JeDZ"
   },
   "source": [
    "# Model Training"
   ]
  },
  {
   "cell_type": "code",
   "execution_count": 12,
   "metadata": {
    "execution": {
     "iopub.execute_input": "2023-06-27T22:12:30.644122Z",
     "iopub.status.busy": "2023-06-27T22:12:30.644012Z",
     "iopub.status.idle": "2023-06-27T22:13:36.090597Z",
     "shell.execute_reply": "2023-06-27T22:13:36.090186Z"
    },
    "jukit_cell_id": "4WFLztISAE"
   },
   "outputs": [
    {
     "name": "stderr",
     "output_type": "stream",
     "text": [
      "/home/camo/anaconda3/envs/nf1_analysis/lib/python3.9/site-packages/sklearn/linear_model/_sag.py:328: ConvergenceWarning: The max_iter was reached which means the coef_ did not converge\n",
      "  warnings.warn(\"The max_iter was reached which means \"\n"
     ]
    },
    {
     "data": {
      "text/plain": [
       "LogisticRegression(max_iter=1000, multi_class='ovr', n_jobs=-1, random_state=0,\n",
       "                   solver='sag')"
      ]
     },
     "execution_count": 12,
     "metadata": {},
     "output_type": "execute_result"
    }
   ],
   "source": [
    "lr = LogisticRegression(\n",
    "    max_iter=1000, solver=\"sag\", multi_class=\"ovr\", random_state=rnd_val, n_jobs=-1\n",
    ")\n",
    "lr.fit(X=traindf.drop(\"label\", axis=\"columns\"), y=traindf[\"label\"])"
   ]
  },
  {
   "cell_type": "markdown",
   "metadata": {
    "jukit_cell_id": "zrPcdDGOjB"
   },
   "source": [
    "## Save Data"
   ]
  },
  {
   "cell_type": "code",
   "execution_count": 13,
   "metadata": {
    "execution": {
     "iopub.execute_input": "2023-06-27T22:13:36.092427Z",
     "iopub.status.busy": "2023-06-27T22:13:36.092223Z",
     "iopub.status.idle": "2023-06-27T22:13:36.142904Z",
     "shell.execute_reply": "2023-06-27T22:13:36.142430Z"
    },
    "jukit_cell_id": "IGfHc3jp2H"
   },
   "outputs": [
    {
     "data": {
      "text/plain": [
       "['data/label_encoder.joblib']"
      ]
     },
     "execution_count": 13,
     "metadata": {},
     "output_type": "execute_result"
    }
   ],
   "source": [
    "dump(lr, data_path / \"lr_model.joblib\")\n",
    "dump(testdf, data_path / \"testdf.joblib\")\n",
    "dump(le, data_path / \"label_encoder.joblib\")"
   ]
  }
 ],
 "metadata": {
  "anaconda-cloud": {},
  "kernelspec": {
   "display_name": "python",
   "language": "python",
   "name": "python3"
  },
  "language_info": {
   "codemirror_mode": {
    "name": "ipython",
    "version": 3
   },
   "file_extension": ".py",
   "mimetype": "text/x-python",
   "name": "python",
   "nbconvert_exporter": "python",
   "pygments_lexer": "ipython3",
   "version": "3.9.16"
  }
 },
 "nbformat": 4,
 "nbformat_minor": 4
}
