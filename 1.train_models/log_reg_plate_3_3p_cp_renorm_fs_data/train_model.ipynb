{
 "cells": [
  {
   "cell_type": "markdown",
   "metadata": {
    "jukit_cell_id": "ejlw4X3ZaR"
   },
   "source": [
    "# Training a Logistic Regression Model"
   ]
  },
  {
   "cell_type": "markdown",
   "metadata": {
    "jukit_cell_id": "GOPeJtwlep"
   },
   "source": [
    "## Imports"
   ]
  },
  {
   "cell_type": "code",
   "execution_count": 1,
   "metadata": {
    "execution": {
     "iopub.execute_input": "2023-06-15T20:52:33.851088Z",
     "iopub.status.busy": "2023-06-15T20:52:33.850967Z",
     "iopub.status.idle": "2023-06-15T20:52:34.428967Z",
     "shell.execute_reply": "2023-06-15T20:52:34.428454Z"
    },
    "jukit_cell_id": "FKd1dIo45E"
   },
   "outputs": [],
   "source": [
    "import sys\n",
    "import pandas as pd\n",
    "import numpy as np\n",
    "from pathlib import Path\n",
    "from sklearn.preprocessing import LabelEncoder, OneHotEncoder, MinMaxScaler\n",
    "from sklearn.linear_model import LogisticRegression\n",
    "\n",
    "from sklearn.metrics import (\n",
    "    confusion_matrix,\n",
    "    ConfusionMatrixDisplay,\n",
    "    precision_score,\n",
    "    accuracy_score,\n",
    ")\n",
    "from sklearn.model_selection import train_test_split\n",
    "from collections import Counter\n",
    "\n",
    "import matplotlib.pyplot as plt\n",
    "import seaborn as sns\n",
    "\n",
    "from joblib import dump, load"
   ]
  },
  {
   "cell_type": "markdown",
   "metadata": {
    "jukit_cell_id": "F4T2C3cxtm"
   },
   "source": [
    "## Find the git root Directory"
   ]
  },
  {
   "cell_type": "code",
   "execution_count": 2,
   "metadata": {
    "execution": {
     "iopub.execute_input": "2023-06-15T20:52:34.431241Z",
     "iopub.status.busy": "2023-06-15T20:52:34.431038Z",
     "iopub.status.idle": "2023-06-15T20:52:34.433929Z",
     "shell.execute_reply": "2023-06-15T20:52:34.433616Z"
    },
    "jukit_cell_id": "Iz4nqgONsd"
   },
   "outputs": [],
   "source": [
    "# Get the current working directory\n",
    "cwd = Path.cwd()\n",
    "\n",
    "if (cwd / \".git\").is_dir():\n",
    "    root_dir = cwd\n",
    "\n",
    "else:\n",
    "    root_dir = None\n",
    "    for parent in cwd.parents:\n",
    "        if (parent / \".git\").is_dir():\n",
    "            root_dir = parent\n",
    "            break\n",
    "\n",
    "# Check if a Git root directory was found\n",
    "if root_dir is None:\n",
    "    raise FileNotFoundError(\"No Git root directory found.\")"
   ]
  },
  {
   "cell_type": "markdown",
   "metadata": {
    "jukit_cell_id": "04o5SnczWZ"
   },
   "source": [
    "## Import Utils"
   ]
  },
  {
   "cell_type": "code",
   "execution_count": 3,
   "metadata": {
    "execution": {
     "iopub.execute_input": "2023-06-15T20:52:34.435513Z",
     "iopub.status.busy": "2023-06-15T20:52:34.435298Z",
     "iopub.status.idle": "2023-06-15T20:52:34.437549Z",
     "shell.execute_reply": "2023-06-15T20:52:34.437205Z"
    },
    "jukit_cell_id": "l1Pgm6LLAj"
   },
   "outputs": [],
   "source": [
    "sys.path.append(f\"{root_dir}/utils\")\n",
    "import preprocess_utils as ppu"
   ]
  },
  {
   "cell_type": "markdown",
   "metadata": {
    "jukit_cell_id": "OQe1PK1lIs"
   },
   "source": [
    "# Seed and Generator for Reproducibility"
   ]
  },
  {
   "cell_type": "code",
   "execution_count": 4,
   "metadata": {
    "execution": {
     "iopub.execute_input": "2023-06-15T20:52:34.439043Z",
     "iopub.status.busy": "2023-06-15T20:52:34.438780Z",
     "iopub.status.idle": "2023-06-15T20:52:34.440786Z",
     "shell.execute_reply": "2023-06-15T20:52:34.440446Z"
    },
    "jukit_cell_id": "EBc3nCzByb"
   },
   "outputs": [],
   "source": [
    "rnd_val = 0  # Random value for all seeds\n",
    "rng = np.random.default_rng(seed=rnd_val)  # random number generator"
   ]
  },
  {
   "cell_type": "markdown",
   "metadata": {
    "jukit_cell_id": "Dcr36XRfzf"
   },
   "source": [
    "# Converting parquet to pandas dataframe"
   ]
  },
  {
   "cell_type": "markdown",
   "metadata": {
    "jukit_cell_id": "FfzbDg67qj"
   },
   "source": [
    "## Feature selected plate data"
   ]
  },
  {
   "cell_type": "code",
   "execution_count": 5,
   "metadata": {
    "execution": {
     "iopub.execute_input": "2023-06-15T20:52:34.442385Z",
     "iopub.status.busy": "2023-06-15T20:52:34.442129Z",
     "iopub.status.idle": "2023-06-15T20:52:34.616847Z",
     "shell.execute_reply": "2023-06-15T20:52:34.616374Z"
    },
    "jukit_cell_id": "EYGHUOxuTt"
   },
   "outputs": [],
   "source": [
    "filename3 = \"Plate_3_sc_norm_fs.parquet\"\n",
    "filename3p = \"Plate_3_prime_sc_norm_fs.parquet\"\n",
    "plate_path = Path(\n",
    "    f\"{root_dir}/nf1_painting_repo/3.processing_features/data/feature_selected_data\"\n",
    ")\n",
    "\n",
    "path3 = plate_path / filename3\n",
    "\n",
    "path3p = plate_path / filename3p\n",
    "\n",
    "# Creates an object for accessing the plate 3 normalized data using the path of the data\n",
    "po3 = ppu.Preprocess_data(path=path3)\n",
    "\n",
    "# Creates an object for accessing the plate 3 prime normalized data using the path of the data\n",
    "po3p = ppu.Preprocess_data(path=path3p)\n",
    "\n",
    "plate3df = po3.df  # Returns the dataframe generated by the csv\n",
    "plate3pdf = po3p.df  # Returns the dataframe generated by the csv\n",
    "\n",
    "common_columns = list(plate3df.columns.intersection(plate3pdf.columns))"
   ]
  },
  {
   "cell_type": "markdown",
   "metadata": {
    "jukit_cell_id": "yCc71nN10Z"
   },
   "source": [
    "## Annotated plate data"
   ]
  },
  {
   "cell_type": "code",
   "execution_count": 6,
   "metadata": {
    "execution": {
     "iopub.execute_input": "2023-06-15T20:52:34.618772Z",
     "iopub.status.busy": "2023-06-15T20:52:34.618563Z",
     "iopub.status.idle": "2023-06-15T20:52:35.003719Z",
     "shell.execute_reply": "2023-06-15T20:52:35.003329Z"
    },
    "jukit_cell_id": "V0yTf41uiR"
   },
   "outputs": [],
   "source": [
    "filename3 = \"Plate_3_sc.parquet\"\n",
    "filename3p = \"Plate_3_prime_sc.parquet\"\n",
    "plate_path = Path(\n",
    "    f\"{root_dir}/nf1_painting_repo/3.processing_features/data/annotated_data\"\n",
    ")\n",
    "\n",
    "path3 = plate_path / filename3\n",
    "\n",
    "path3p = plate_path / filename3p\n",
    "\n",
    "# Creates an object for accessing the plate 3 normalized data using the path of the data\n",
    "po3 = ppu.Preprocess_data(path=path3)\n",
    "\n",
    "# Creates an object for accessing the plate 3 prime normalized data using the path of the data\n",
    "po3p = ppu.Preprocess_data(path=path3p)\n",
    "\n",
    "plate3df = po3.df  # Returns the dataframe generated by the csv\n",
    "plate3pdf = po3p.df  # Returns the dataframe generated by the csv"
   ]
  },
  {
   "cell_type": "markdown",
   "metadata": {
    "jukit_cell_id": "6lb4kpNpXs"
   },
   "source": [
    "# Preprocess Data"
   ]
  },
  {
   "cell_type": "markdown",
   "metadata": {
    "jukit_cell_id": "CssJ87R6PQ"
   },
   "source": [
    "## Use only common columns"
   ]
  },
  {
   "cell_type": "code",
   "execution_count": 7,
   "metadata": {
    "execution": {
     "iopub.execute_input": "2023-06-15T20:52:35.005846Z",
     "iopub.status.busy": "2023-06-15T20:52:35.005684Z",
     "iopub.status.idle": "2023-06-15T20:52:35.045485Z",
     "shell.execute_reply": "2023-06-15T20:52:35.045103Z"
    },
    "jukit_cell_id": "bCflTponOs"
   },
   "outputs": [],
   "source": [
    "# Set plate column:\n",
    "plate3df[\"Metadata_plate\"] = \"3\"\n",
    "plate3pdf[\"Metadata_plate\"] = \"3p\"\n",
    "\n",
    "plate3df = plate3df.loc[:, common_columns]\n",
    "plate3pdf = plate3pdf.loc[:, common_columns]\n",
    "\n",
    "# Combine the plate dataframes:\n",
    "platedf = pd.concat([plate3df, plate3pdf], axis=\"rows\")"
   ]
  },
  {
   "cell_type": "markdown",
   "metadata": {
    "jukit_cell_id": "D5VBOS65ge"
   },
   "source": [
    "## Normalize Data"
   ]
  },
  {
   "cell_type": "code",
   "execution_count": 8,
   "metadata": {
    "execution": {
     "iopub.execute_input": "2023-06-15T20:52:35.046880Z",
     "iopub.status.busy": "2023-06-15T20:52:35.046721Z",
     "iopub.status.idle": "2023-06-15T20:52:35.362207Z",
     "shell.execute_reply": "2023-06-15T20:52:35.361793Z"
    },
    "jukit_cell_id": "6tv8VxofP6"
   },
   "outputs": [],
   "source": [
    "# Get all columns that aren't metadata\n",
    "columns_to_normalize = [col for col in platedf.columns if \"Metadata\" not in col]\n",
    "\n",
    "# Normalize the columns\n",
    "mms = MinMaxScaler()\n",
    "normdf = pd.DataFrame(\n",
    "    mms.fit_transform(platedf[columns_to_normalize]), columns=columns_to_normalize\n",
    ")\n",
    "\n",
    "# Apply the transformation to the dataframe\n",
    "platedf[columns_to_normalize] = normdf"
   ]
  },
  {
   "cell_type": "markdown",
   "metadata": {
    "jukit_cell_id": "0iWlDGQ4Qh"
   },
   "source": [
    "## Create Classes"
   ]
  },
  {
   "cell_type": "code",
   "execution_count": 9,
   "metadata": {
    "execution": {
     "iopub.execute_input": "2023-06-15T20:52:35.364123Z",
     "iopub.status.busy": "2023-06-15T20:52:35.364012Z",
     "iopub.status.idle": "2023-06-15T20:52:35.366012Z",
     "shell.execute_reply": "2023-06-15T20:52:35.365752Z"
    },
    "jukit_cell_id": "jH432rS91v"
   },
   "outputs": [],
   "source": [
    "target_column = \"Metadata_genotype\"\n",
    "stratify_column = \"Metadata_Well\"\n",
    "\n",
    "# These represent the fractions of the entire dataset\n",
    "train_val_frac = 0.85\n",
    "test_frac = 1 - train_val_frac\n",
    "val_frac = 0.15"
   ]
  },
  {
   "cell_type": "markdown",
   "metadata": {
    "jukit_cell_id": "wo4oj6xAxg"
   },
   "source": [
    "## Down-sample and stratify by well"
   ]
  },
  {
   "cell_type": "code",
   "execution_count": 10,
   "metadata": {
    "execution": {
     "iopub.execute_input": "2023-06-15T20:52:35.368032Z",
     "iopub.status.busy": "2023-06-15T20:52:35.367874Z",
     "iopub.status.idle": "2023-06-15T20:52:36.355133Z",
     "shell.execute_reply": "2023-06-15T20:52:36.354713Z"
    },
    "jukit_cell_id": "6wLIrXfTzh"
   },
   "outputs": [],
   "source": [
    "smallest_gene = platedf[target_column].value_counts().min()\n",
    "platedata = pd.DataFrame()\n",
    "\n",
    "for gene in platedf[target_column].unique():\n",
    "    df = platedf.loc[platedf[\"Metadata_genotype\"] == gene]\n",
    "    df_frac = smallest_gene / len(df)\n",
    "    stratwell = df.groupby(stratify_column, group_keys=False).apply(\n",
    "        lambda x: x.sample(frac=df_frac, random_state=rnd_val)\n",
    "    )\n",
    "    platedata = pd.concat([platedata, stratwell], axis=\"rows\")"
   ]
  },
  {
   "cell_type": "markdown",
   "metadata": {
    "jukit_cell_id": "DlNzPGZ5H0"
   },
   "source": [
    "## Stratified Train-test split"
   ]
  },
  {
   "cell_type": "code",
   "execution_count": 11,
   "metadata": {
    "execution": {
     "iopub.execute_input": "2023-06-15T20:52:36.357264Z",
     "iopub.status.busy": "2023-06-15T20:52:36.357064Z",
     "iopub.status.idle": "2023-06-15T20:52:36.511742Z",
     "shell.execute_reply": "2023-06-15T20:52:36.511324Z"
    },
    "jukit_cell_id": "VNkswJFWjR"
   },
   "outputs": [],
   "source": [
    "traindf, testdf = train_test_split(\n",
    "    platedata,\n",
    "    train_size=train_val_frac,\n",
    "    stratify=platedata[[target_column, stratify_column]],\n",
    "    shuffle=True,\n",
    "    random_state=rnd_val,\n",
    ")"
   ]
  },
  {
   "cell_type": "markdown",
   "metadata": {
    "jukit_cell_id": "J3dEPROtx7"
   },
   "source": [
    "## Encode Labels"
   ]
  },
  {
   "cell_type": "code",
   "execution_count": 12,
   "metadata": {
    "execution": {
     "iopub.execute_input": "2023-06-15T20:52:36.513377Z",
     "iopub.status.busy": "2023-06-15T20:52:36.513245Z",
     "iopub.status.idle": "2023-06-15T20:52:36.518796Z",
     "shell.execute_reply": "2023-06-15T20:52:36.518499Z"
    },
    "jukit_cell_id": "wqT9BUqx7w"
   },
   "outputs": [
    {
     "name": "stderr",
     "output_type": "stream",
     "text": [
      "/tmp/ipykernel_94859/4215398058.py:2: PerformanceWarning: DataFrame is highly fragmented.  This is usually the result of calling `frame.insert` many times, which has poor performance.  Consider joining all columns at once using pd.concat(axis=1) instead. To get a de-fragmented frame, use `newframe = frame.copy()`\n",
      "  testdf[\"label\"] = le.fit_transform(testdf[target_column].values)\n",
      "/tmp/ipykernel_94859/4215398058.py:2: SettingWithCopyWarning: \n",
      "A value is trying to be set on a copy of a slice from a DataFrame.\n",
      "Try using .loc[row_indexer,col_indexer] = value instead\n",
      "\n",
      "See the caveats in the documentation: https://pandas.pydata.org/pandas-docs/stable/user_guide/indexing.html#returning-a-view-versus-a-copy\n",
      "  testdf[\"label\"] = le.fit_transform(testdf[target_column].values)\n",
      "/tmp/ipykernel_94859/4215398058.py:3: PerformanceWarning: DataFrame is highly fragmented.  This is usually the result of calling `frame.insert` many times, which has poor performance.  Consider joining all columns at once using pd.concat(axis=1) instead. To get a de-fragmented frame, use `newframe = frame.copy()`\n",
      "  traindf[\"label\"] = le.transform(traindf[target_column].values)\n",
      "/tmp/ipykernel_94859/4215398058.py:3: SettingWithCopyWarning: \n",
      "A value is trying to be set on a copy of a slice from a DataFrame.\n",
      "Try using .loc[row_indexer,col_indexer] = value instead\n",
      "\n",
      "See the caveats in the documentation: https://pandas.pydata.org/pandas-docs/stable/user_guide/indexing.html#returning-a-view-versus-a-copy\n",
      "  traindf[\"label\"] = le.transform(traindf[target_column].values)\n"
     ]
    }
   ],
   "source": [
    "le = LabelEncoder()\n",
    "testdf[\"label\"] = le.fit_transform(testdf[target_column].values)\n",
    "traindf[\"label\"] = le.transform(traindf[target_column].values)"
   ]
  },
  {
   "cell_type": "markdown",
   "metadata": {
    "jukit_cell_id": "sRlEwWwsSj"
   },
   "source": [
    "## Remove unecessary columns"
   ]
  },
  {
   "cell_type": "code",
   "execution_count": 13,
   "metadata": {
    "execution": {
     "iopub.execute_input": "2023-06-15T20:52:36.542072Z",
     "iopub.status.busy": "2023-06-15T20:52:36.541931Z",
     "iopub.status.idle": "2023-06-15T20:52:36.636527Z",
     "shell.execute_reply": "2023-06-15T20:52:36.636097Z"
    },
    "jukit_cell_id": "UFK0jsur96"
   },
   "outputs": [],
   "source": [
    "traindf = po3.remove_meta(df=traindf)\n",
    "testdf = po3.remove_meta(df=testdf)"
   ]
  },
  {
   "cell_type": "markdown",
   "metadata": {
    "jukit_cell_id": "BKgaV6JeDZ"
   },
   "source": [
    "# Model Training"
   ]
  },
  {
   "cell_type": "code",
   "execution_count": 14,
   "metadata": {
    "execution": {
     "iopub.execute_input": "2023-06-15T20:52:36.638548Z",
     "iopub.status.busy": "2023-06-15T20:52:36.638435Z",
     "iopub.status.idle": "2023-06-15T20:53:06.913296Z",
     "shell.execute_reply": "2023-06-15T20:53:06.912875Z"
    },
    "jukit_cell_id": "4WFLztISAE"
   },
   "outputs": [
    {
     "data": {
      "text/plain": [
       "LogisticRegression(max_iter=1000, multi_class='ovr', n_jobs=-1, random_state=0,\n",
       "                   solver='sag')"
      ]
     },
     "execution_count": 14,
     "metadata": {},
     "output_type": "execute_result"
    }
   ],
   "source": [
    "lr = LogisticRegression(\n",
    "    max_iter=1000, solver=\"sag\", multi_class=\"ovr\", random_state=rnd_val, n_jobs=-1\n",
    ")\n",
    "lr.fit(X=traindf.drop(\"label\", axis=\"columns\"), y=traindf[\"label\"])"
   ]
  },
  {
   "cell_type": "markdown",
   "metadata": {
    "jukit_cell_id": "9fnwy4E8u7"
   },
   "source": [
    "## Save Model"
   ]
  },
  {
   "cell_type": "code",
   "execution_count": 15,
   "metadata": {
    "execution": {
     "iopub.execute_input": "2023-06-15T20:53:06.914829Z",
     "iopub.status.busy": "2023-06-15T20:53:06.914664Z",
     "iopub.status.idle": "2023-06-15T20:53:06.918986Z",
     "shell.execute_reply": "2023-06-15T20:53:06.918638Z"
    },
    "jukit_cell_id": "xGf9mf7lUA"
   },
   "outputs": [
    {
     "data": {
      "text/plain": [
       "['data/lr_model.joblib']"
      ]
     },
     "execution_count": 15,
     "metadata": {},
     "output_type": "execute_result"
    }
   ],
   "source": [
    "data_path = Path(\"data\")\n",
    "\n",
    "data_path.mkdir(\n",
    "    parents=True, exist_ok=True\n",
    ")  # Create the parent directories if they don't exist\n",
    "\n",
    "dump(lr, data_path / \"lr_model.joblib\")"
   ]
  },
  {
   "cell_type": "markdown",
   "metadata": {
    "jukit_cell_id": "zrPcdDGOjB"
   },
   "source": [
    "## Save Data"
   ]
  },
  {
   "cell_type": "code",
   "execution_count": 16,
   "metadata": {
    "execution": {
     "iopub.execute_input": "2023-06-15T20:53:06.920576Z",
     "iopub.status.busy": "2023-06-15T20:53:06.920384Z",
     "iopub.status.idle": "2023-06-15T20:53:06.998415Z",
     "shell.execute_reply": "2023-06-15T20:53:06.998167Z"
    },
    "jukit_cell_id": "sgPsexjO8l"
   },
   "outputs": [
    {
     "data": {
      "text/plain": [
       "['data/label_encoder.joblib']"
      ]
     },
     "execution_count": 16,
     "metadata": {},
     "output_type": "execute_result"
    }
   ],
   "source": [
    "dump(testdf, data_path / \"testdf.joblib\")\n",
    "dump(le, data_path / \"label_encoder.joblib\")"
   ]
  }
 ],
 "metadata": {
  "anaconda-cloud": {},
  "kernelspec": {
   "display_name": "python",
   "language": "python",
   "name": "python3"
  },
  "language_info": {
   "codemirror_mode": {
    "name": "ipython",
    "version": 3
   },
   "file_extension": ".py",
   "mimetype": "text/x-python",
   "name": "python",
   "nbconvert_exporter": "python",
   "pygments_lexer": "ipython3",
   "version": "3.9.16"
  }
 },
 "nbformat": 4,
 "nbformat_minor": 4
}
