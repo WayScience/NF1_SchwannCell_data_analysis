{
 "cells": [
  {
   "cell_type": "markdown",
   "metadata": {
    "jukit_cell_id": "ejlw4X3ZaR"
   },
   "source": [
    "# Training a Logistic Regression Model"
   ]
  },
  {
   "cell_type": "markdown",
   "metadata": {
    "jukit_cell_id": "GOPeJtwlep"
   },
   "source": [
    "## Imports"
   ]
  },
  {
   "cell_type": "code",
   "execution_count": 1,
   "metadata": {
    "execution": {
     "iopub.execute_input": "2023-06-16T21:08:03.895382Z",
     "iopub.status.busy": "2023-06-16T21:08:03.895281Z",
     "iopub.status.idle": "2023-06-16T21:08:04.268376Z",
     "shell.execute_reply": "2023-06-16T21:08:04.267982Z"
    },
    "jukit_cell_id": "FKd1dIo45E"
   },
   "outputs": [],
   "source": [
    "import sys\n",
    "import pandas as pd\n",
    "import numpy as np\n",
    "from pathlib import Path\n",
    "from sklearn.preprocessing import LabelEncoder, MinMaxScaler\n",
    "from sklearn.linear_model import LogisticRegression\n",
    "from sklearn.model_selection import train_test_split\n",
    "from joblib import dump"
   ]
  },
  {
   "cell_type": "markdown",
   "metadata": {
    "jukit_cell_id": "F4T2C3cxtm"
   },
   "source": [
    "## Find the git root Directory"
   ]
  },
  {
   "cell_type": "code",
   "execution_count": 2,
   "metadata": {
    "execution": {
     "iopub.execute_input": "2023-06-16T21:08:04.270100Z",
     "iopub.status.busy": "2023-06-16T21:08:04.269817Z",
     "iopub.status.idle": "2023-06-16T21:08:04.272697Z",
     "shell.execute_reply": "2023-06-16T21:08:04.272317Z"
    },
    "jukit_cell_id": "Iz4nqgONsd"
   },
   "outputs": [],
   "source": [
    "# Get the current working directory\n",
    "cwd = Path.cwd()\n",
    "\n",
    "if (cwd / \".git\").is_dir():\n",
    "    root_dir = cwd\n",
    "\n",
    "else:\n",
    "    root_dir = None\n",
    "    for parent in cwd.parents:\n",
    "        if (parent / \".git\").is_dir():\n",
    "            root_dir = parent\n",
    "            break\n",
    "\n",
    "# Check if a Git root directory was found\n",
    "if root_dir is None:\n",
    "    raise FileNotFoundError(\"No Git root directory found.\")"
   ]
  },
  {
   "cell_type": "markdown",
   "metadata": {
    "jukit_cell_id": "04o5SnczWZ"
   },
   "source": [
    "## Import Utils"
   ]
  },
  {
   "cell_type": "code",
   "execution_count": 3,
   "metadata": {
    "execution": {
     "iopub.execute_input": "2023-06-16T21:08:04.274338Z",
     "iopub.status.busy": "2023-06-16T21:08:04.274136Z",
     "iopub.status.idle": "2023-06-16T21:08:04.276617Z",
     "shell.execute_reply": "2023-06-16T21:08:04.276251Z"
    },
    "jukit_cell_id": "l1Pgm6LLAj"
   },
   "outputs": [],
   "source": [
    "sys.path.append(f\"{root_dir}/utils\")\n",
    "import preprocess_utils as ppu"
   ]
  },
  {
   "cell_type": "markdown",
   "metadata": {
    "jukit_cell_id": "OQe1PK1lIs"
   },
   "source": [
    "# Seed and Generator for Reproducibility"
   ]
  },
  {
   "cell_type": "code",
   "execution_count": 4,
   "metadata": {
    "execution": {
     "iopub.execute_input": "2023-06-16T21:08:04.278118Z",
     "iopub.status.busy": "2023-06-16T21:08:04.277916Z",
     "iopub.status.idle": "2023-06-16T21:08:04.280117Z",
     "shell.execute_reply": "2023-06-16T21:08:04.279743Z"
    },
    "jukit_cell_id": "EBc3nCzByb"
   },
   "outputs": [],
   "source": [
    "rnd_val = 0  # Random value for all seeds\n",
    "rng = np.random.default_rng(seed=rnd_val)  # random number generator"
   ]
  },
  {
   "cell_type": "markdown",
   "metadata": {
    "jukit_cell_id": "Dcr36XRfzf"
   },
   "source": [
    "# Converting parquet to pandas dataframe"
   ]
  },
  {
   "cell_type": "markdown",
   "metadata": {
    "jukit_cell_id": "bs2tOva1oc"
   },
   "source": [
    "## Define paths"
   ]
  },
  {
   "cell_type": "code",
   "execution_count": 5,
   "metadata": {
    "execution": {
     "iopub.execute_input": "2023-06-16T21:08:04.281646Z",
     "iopub.status.busy": "2023-06-16T21:08:04.281447Z",
     "iopub.status.idle": "2023-06-16T21:08:04.284199Z",
     "shell.execute_reply": "2023-06-16T21:08:04.283819Z"
    },
    "jukit_cell_id": "nWznXQ9jDn"
   },
   "outputs": [],
   "source": [
    "data_path = Path(\"data\")\n",
    "\n",
    "data_path.mkdir(\n",
    "    parents=True, exist_ok=True\n",
    ")  # Create the parent directories if they don't exist\n",
    "\n",
    "filename3 = \"Plate_3_sc_norm_fs.parquet\"\n",
    "filename3p = \"Plate_3_prime_sc_norm_fs.parquet\"\n",
    "plate_path = Path(\n",
    "    f\"{root_dir}/nf1_painting_repo/3.processing_features/data/feature_selected_data\"\n",
    ")\n",
    "\n",
    "lr_output_path = data_path / \"lr_model.joblib\"\n",
    "\n",
    "le_output_path = data_path / \"label_encoder.joblib\"\n",
    "\n",
    "testdf_output_path = data_path / \"testdf.joblib\"\n",
    "\n",
    "path3 = plate_path / filename3\n",
    "\n",
    "path3p = plate_path / filename3p"
   ]
  },
  {
   "cell_type": "markdown",
   "metadata": {
    "jukit_cell_id": "FfzbDg67qj"
   },
   "source": [
    "## Feature selected plate data"
   ]
  },
  {
   "cell_type": "code",
   "execution_count": 6,
   "metadata": {
    "execution": {
     "iopub.execute_input": "2023-06-16T21:08:04.285808Z",
     "iopub.status.busy": "2023-06-16T21:08:04.285590Z",
     "iopub.status.idle": "2023-06-16T21:08:04.464615Z",
     "shell.execute_reply": "2023-06-16T21:08:04.464092Z"
    },
    "jukit_cell_id": "EYGHUOxuTt"
   },
   "outputs": [],
   "source": [
    "# Creates an object for accessing the plate 3 normalized data using the path of the data\n",
    "po3 = ppu.Preprocess_data(path=path3)\n",
    "\n",
    "# Creates an object for accessing the plate 3 prime normalized data using the path of the data\n",
    "po3p = ppu.Preprocess_data(path=path3p)\n",
    "\n",
    "plate3df = po3.df  # Returns the dataframe generated by the csv\n",
    "plate3pdf = po3p.df  # Returns the dataframe generated by the csv\n",
    "\n",
    "common_columns = list(plate3df.columns.intersection(plate3pdf.columns))"
   ]
  },
  {
   "cell_type": "markdown",
   "metadata": {
    "jukit_cell_id": "yCc71nN10Z"
   },
   "source": [
    "## Annotated plate data"
   ]
  },
  {
   "cell_type": "code",
   "execution_count": 7,
   "metadata": {
    "execution": {
     "iopub.execute_input": "2023-06-16T21:08:04.467217Z",
     "iopub.status.busy": "2023-06-16T21:08:04.467009Z",
     "iopub.status.idle": "2023-06-16T21:08:04.853948Z",
     "shell.execute_reply": "2023-06-16T21:08:04.853569Z"
    },
    "jukit_cell_id": "V0yTf41uiR"
   },
   "outputs": [],
   "source": [
    "filename3 = \"Plate_3_sc.parquet\"\n",
    "filename3p = \"Plate_3_prime_sc.parquet\"\n",
    "plate_path = Path(\n",
    "    f\"{root_dir}/nf1_painting_repo/3.processing_features/data/annotated_data\"\n",
    ")\n",
    "\n",
    "path3 = plate_path / filename3\n",
    "\n",
    "path3p = plate_path / filename3p\n",
    "\n",
    "# Creates an object for accessing the plate 3 normalized data using the path of the data\n",
    "po3 = ppu.Preprocess_data(path=path3)\n",
    "\n",
    "# Creates an object for accessing the plate 3 prime normalized data using the path of the data\n",
    "po3p = ppu.Preprocess_data(path=path3p)\n",
    "\n",
    "# Returns the dataframe generated by the csv\n",
    "plate3df = po3.df\n",
    "\n",
    "# Returns the dataframe generated by the csv\n",
    "plate3pdf = po3p.df"
   ]
  },
  {
   "cell_type": "markdown",
   "metadata": {
    "jukit_cell_id": "6lb4kpNpXs"
   },
   "source": [
    "# Preprocess Data"
   ]
  },
  {
   "cell_type": "markdown",
   "metadata": {
    "jukit_cell_id": "CssJ87R6PQ"
   },
   "source": [
    "## Use only common columns"
   ]
  },
  {
   "cell_type": "code",
   "execution_count": 8,
   "metadata": {
    "execution": {
     "iopub.execute_input": "2023-06-16T21:08:04.855752Z",
     "iopub.status.busy": "2023-06-16T21:08:04.855610Z",
     "iopub.status.idle": "2023-06-16T21:08:04.905974Z",
     "shell.execute_reply": "2023-06-16T21:08:04.905608Z"
    },
    "jukit_cell_id": "bCflTponOs"
   },
   "outputs": [],
   "source": [
    "# Set plate column:\n",
    "plate3df[\"Metadata_plate\"] = \"3\"\n",
    "plate3pdf[\"Metadata_plate\"] = \"3p\"\n",
    "\n",
    "plate3df = plate3df.loc[:, common_columns]\n",
    "plate3pdf = plate3pdf.loc[:, common_columns]\n",
    "\n",
    "# Combine the plate dataframes:\n",
    "platedf = pd.concat([plate3df, plate3pdf], axis=\"rows\")"
   ]
  },
  {
   "cell_type": "markdown",
   "metadata": {
    "jukit_cell_id": "D5VBOS65ge"
   },
   "source": [
    "## Normalize Data"
   ]
  },
  {
   "cell_type": "code",
   "execution_count": 9,
   "metadata": {
    "execution": {
     "iopub.execute_input": "2023-06-16T21:08:04.907558Z",
     "iopub.status.busy": "2023-06-16T21:08:04.907422Z",
     "iopub.status.idle": "2023-06-16T21:08:05.210497Z",
     "shell.execute_reply": "2023-06-16T21:08:05.210082Z"
    },
    "jukit_cell_id": "6tv8VxofP6"
   },
   "outputs": [],
   "source": [
    "# Get all columns that aren't metadata\n",
    "columns_to_normalize = [col for col in platedf.columns if \"Metadata\" not in col]\n",
    "\n",
    "# Normalize the columns\n",
    "mms = MinMaxScaler()\n",
    "normdf = pd.DataFrame(\n",
    "    mms.fit_transform(platedf[columns_to_normalize]), columns=columns_to_normalize\n",
    ")\n",
    "\n",
    "# Apply the transformation to the dataframe\n",
    "platedf[columns_to_normalize] = normdf"
   ]
  },
  {
   "cell_type": "markdown",
   "metadata": {
    "jukit_cell_id": "0iWlDGQ4Qh"
   },
   "source": [
    "## Create Classes"
   ]
  },
  {
   "cell_type": "code",
   "execution_count": 10,
   "metadata": {
    "execution": {
     "iopub.execute_input": "2023-06-16T21:08:05.212381Z",
     "iopub.status.busy": "2023-06-16T21:08:05.212245Z",
     "iopub.status.idle": "2023-06-16T21:08:05.214369Z",
     "shell.execute_reply": "2023-06-16T21:08:05.214099Z"
    },
    "jukit_cell_id": "jH432rS91v"
   },
   "outputs": [],
   "source": [
    "target_column = \"Metadata_genotype\"\n",
    "stratify_column = \"Metadata_Well\"\n",
    "\n",
    "# These represent the fractions of the entire dataset\n",
    "train_val_frac = 0.85\n",
    "test_frac = 1 - train_val_frac\n",
    "val_frac = 0.15"
   ]
  },
  {
   "cell_type": "markdown",
   "metadata": {
    "jukit_cell_id": "wo4oj6xAxg"
   },
   "source": [
    "## Down-sample and stratify by well"
   ]
  },
  {
   "cell_type": "code",
   "execution_count": 11,
   "metadata": {
    "execution": {
     "iopub.execute_input": "2023-06-16T21:08:05.215787Z",
     "iopub.status.busy": "2023-06-16T21:08:05.215595Z",
     "iopub.status.idle": "2023-06-16T21:08:06.185173Z",
     "shell.execute_reply": "2023-06-16T21:08:06.184743Z"
    },
    "jukit_cell_id": "6wLIrXfTzh"
   },
   "outputs": [],
   "source": [
    "# Find the cardinality of the smallest class\n",
    "smallest_gene = platedf[target_column].value_counts().min()\n",
    "platedata = pd.DataFrame()\n",
    "\n",
    "for gene in platedf[target_column].unique():\n",
    "    # Determine what fraction of each gene's dataset would be needed for to have the same number of samples per geneotype\n",
    "    df = platedf.loc[platedf[\"Metadata_genotype\"] == gene]\n",
    "    df_frac = smallest_gene / len(df)\n",
    "\n",
    "    # Use the fraction above to stratify sample by well\n",
    "    stratwell = df.groupby(stratify_column, group_keys=False).apply(\n",
    "        lambda x: x.sample(frac=df_frac, random_state=rnd_val)\n",
    "    )\n",
    "\n",
    "    # Store these stratified samples in a dataframe\n",
    "    platedata = pd.concat([platedata, stratwell], axis=\"rows\")"
   ]
  },
  {
   "cell_type": "markdown",
   "metadata": {
    "jukit_cell_id": "DlNzPGZ5H0"
   },
   "source": [
    "## Stratified Train-test split"
   ]
  },
  {
   "cell_type": "code",
   "execution_count": 12,
   "metadata": {
    "execution": {
     "iopub.execute_input": "2023-06-16T21:08:06.187102Z",
     "iopub.status.busy": "2023-06-16T21:08:06.186939Z",
     "iopub.status.idle": "2023-06-16T21:08:06.338014Z",
     "shell.execute_reply": "2023-06-16T21:08:06.337588Z"
    },
    "jukit_cell_id": "VNkswJFWjR"
   },
   "outputs": [],
   "source": [
    "traindf, testdf = train_test_split(\n",
    "    platedata,\n",
    "    train_size=train_val_frac,\n",
    "    stratify=platedata[[target_column, stratify_column]],\n",
    "    shuffle=True,\n",
    "    random_state=rnd_val,\n",
    ")"
   ]
  },
  {
   "cell_type": "markdown",
   "metadata": {
    "jukit_cell_id": "J3dEPROtx7"
   },
   "source": [
    "## Encode Labels"
   ]
  },
  {
   "cell_type": "code",
   "execution_count": 13,
   "metadata": {
    "execution": {
     "iopub.execute_input": "2023-06-16T21:08:06.339917Z",
     "iopub.status.busy": "2023-06-16T21:08:06.339751Z",
     "iopub.status.idle": "2023-06-16T21:08:06.345597Z",
     "shell.execute_reply": "2023-06-16T21:08:06.345300Z"
    },
    "jukit_cell_id": "wqT9BUqx7w"
   },
   "outputs": [
    {
     "name": "stderr",
     "output_type": "stream",
     "text": [
      "/tmp/ipykernel_26868/4215398058.py:2: PerformanceWarning: DataFrame is highly fragmented.  This is usually the result of calling `frame.insert` many times, which has poor performance.  Consider joining all columns at once using pd.concat(axis=1) instead. To get a de-fragmented frame, use `newframe = frame.copy()`\n",
      "  testdf[\"label\"] = le.fit_transform(testdf[target_column].values)\n",
      "/tmp/ipykernel_26868/4215398058.py:2: SettingWithCopyWarning: \n",
      "A value is trying to be set on a copy of a slice from a DataFrame.\n",
      "Try using .loc[row_indexer,col_indexer] = value instead\n",
      "\n",
      "See the caveats in the documentation: https://pandas.pydata.org/pandas-docs/stable/user_guide/indexing.html#returning-a-view-versus-a-copy\n",
      "  testdf[\"label\"] = le.fit_transform(testdf[target_column].values)\n",
      "/tmp/ipykernel_26868/4215398058.py:3: PerformanceWarning: DataFrame is highly fragmented.  This is usually the result of calling `frame.insert` many times, which has poor performance.  Consider joining all columns at once using pd.concat(axis=1) instead. To get a de-fragmented frame, use `newframe = frame.copy()`\n",
      "  traindf[\"label\"] = le.transform(traindf[target_column].values)\n",
      "/tmp/ipykernel_26868/4215398058.py:3: SettingWithCopyWarning: \n",
      "A value is trying to be set on a copy of a slice from a DataFrame.\n",
      "Try using .loc[row_indexer,col_indexer] = value instead\n",
      "\n",
      "See the caveats in the documentation: https://pandas.pydata.org/pandas-docs/stable/user_guide/indexing.html#returning-a-view-versus-a-copy\n",
      "  traindf[\"label\"] = le.transform(traindf[target_column].values)\n"
     ]
    }
   ],
   "source": [
    "le = LabelEncoder()\n",
    "testdf[\"label\"] = le.fit_transform(testdf[target_column].values)\n",
    "traindf[\"label\"] = le.transform(traindf[target_column].values)"
   ]
  },
  {
   "cell_type": "markdown",
   "metadata": {
    "jukit_cell_id": "sRlEwWwsSj"
   },
   "source": [
    "## Remove unecessary columns"
   ]
  },
  {
   "cell_type": "code",
   "execution_count": 14,
   "metadata": {
    "execution": {
     "iopub.execute_input": "2023-06-16T21:08:06.373322Z",
     "iopub.status.busy": "2023-06-16T21:08:06.373176Z",
     "iopub.status.idle": "2023-06-16T21:08:06.421570Z",
     "shell.execute_reply": "2023-06-16T21:08:06.421217Z"
    },
    "jukit_cell_id": "UFK0jsur96"
   },
   "outputs": [],
   "source": [
    "traindf = po3.remove_meta(df=traindf)\n",
    "testdf = po3.remove_meta(df=testdf)"
   ]
  },
  {
   "cell_type": "markdown",
   "metadata": {
    "jukit_cell_id": "BKgaV6JeDZ"
   },
   "source": [
    "# Model Training"
   ]
  },
  {
   "cell_type": "code",
   "execution_count": 15,
   "metadata": {
    "execution": {
     "iopub.execute_input": "2023-06-16T21:08:06.423389Z",
     "iopub.status.busy": "2023-06-16T21:08:06.423276Z",
     "iopub.status.idle": "2023-06-16T21:08:37.160279Z",
     "shell.execute_reply": "2023-06-16T21:08:37.159807Z"
    },
    "jukit_cell_id": "4WFLztISAE"
   },
   "outputs": [
    {
     "data": {
      "text/plain": [
       "LogisticRegression(max_iter=1000, multi_class='ovr', n_jobs=-1, random_state=0,\n",
       "                   solver='sag')"
      ]
     },
     "execution_count": 15,
     "metadata": {},
     "output_type": "execute_result"
    }
   ],
   "source": [
    "lr = LogisticRegression(\n",
    "    max_iter=1000, solver=\"sag\", multi_class=\"ovr\", random_state=rnd_val, n_jobs=-1\n",
    ")\n",
    "lr.fit(X=traindf.drop(\"label\", axis=\"columns\"), y=traindf[\"label\"])"
   ]
  },
  {
   "cell_type": "markdown",
   "metadata": {
    "jukit_cell_id": "9fnwy4E8u7"
   },
   "source": [
    "## Save Model"
   ]
  },
  {
   "cell_type": "code",
   "execution_count": 16,
   "metadata": {
    "execution": {
     "iopub.execute_input": "2023-06-16T21:08:37.162185Z",
     "iopub.status.busy": "2023-06-16T21:08:37.162021Z",
     "iopub.status.idle": "2023-06-16T21:08:37.165989Z",
     "shell.execute_reply": "2023-06-16T21:08:37.165591Z"
    },
    "jukit_cell_id": "xGf9mf7lUA"
   },
   "outputs": [
    {
     "data": {
      "text/plain": [
       "['data/lr_model.joblib']"
      ]
     },
     "execution_count": 16,
     "metadata": {},
     "output_type": "execute_result"
    }
   ],
   "source": [
    "dump(lr, lr_output_path)"
   ]
  },
  {
   "cell_type": "markdown",
   "metadata": {
    "jukit_cell_id": "zrPcdDGOjB"
   },
   "source": [
    "## Save Data"
   ]
  },
  {
   "cell_type": "code",
   "execution_count": 17,
   "metadata": {
    "execution": {
     "iopub.execute_input": "2023-06-16T21:08:37.168152Z",
     "iopub.status.busy": "2023-06-16T21:08:37.167807Z",
     "iopub.status.idle": "2023-06-16T21:08:37.255871Z",
     "shell.execute_reply": "2023-06-16T21:08:37.255334Z"
    },
    "jukit_cell_id": "sgPsexjO8l"
   },
   "outputs": [
    {
     "data": {
      "text/plain": [
       "['data/label_encoder.joblib']"
      ]
     },
     "execution_count": 17,
     "metadata": {},
     "output_type": "execute_result"
    }
   ],
   "source": [
    "dump(testdf, testdf_output_path)\n",
    "dump(le, le_output_path)"
   ]
  }
 ],
 "metadata": {
  "anaconda-cloud": {},
  "kernelspec": {
   "display_name": "python",
   "language": "python",
   "name": "python3"
  },
  "language_info": {
   "codemirror_mode": {
    "name": "ipython",
    "version": 3
   },
   "file_extension": ".py",
   "mimetype": "text/x-python",
   "name": "python",
   "nbconvert_exporter": "python",
   "pygments_lexer": "ipython3",
   "version": "3.9.16"
  }
 },
 "nbformat": 4,
 "nbformat_minor": 4
}
