{
 "cells": [
  {
   "cell_type": "markdown",
   "metadata": {
    "jukit_cell_id": "quD0wavRs0"
   },
   "source": [
    "# Classify WT and Null Genotypes Logistic Regression\n",
    "Plates 3, 3p, 4, and 5 are used in all splits to classify genotypes either (WT or Null)\n",
    "The feature selected data is used in all data splits.\n",
    "Pre-evaluation metrics are stored from all splits and these plates."
   ]
  },
  {
   "cell_type": "code",
   "execution_count": 1,
   "metadata": {
    "execution": {
     "iopub.execute_input": "2024-05-21T18:21:02.848659Z",
     "iopub.status.busy": "2024-05-21T18:21:02.848557Z",
     "iopub.status.idle": "2024-05-21T18:21:03.302140Z",
     "shell.execute_reply": "2024-05-21T18:21:03.301543Z"
    },
    "jukit_cell_id": "RcnXoNLyM2"
   },
   "outputs": [],
   "source": [
    "import pathlib\n",
    "import random\n",
    "import warnings\n",
    "from collections import defaultdict\n",
    "\n",
    "import numpy as np\n",
    "import pandas as pd\n",
    "from joblib import dump\n",
    "from sklearn.exceptions import ConvergenceWarning\n",
    "from sklearn.linear_model import LogisticRegression\n",
    "from sklearn.metrics import accuracy_score\n",
    "from sklearn.model_selection import StratifiedKFold\n",
    "from sklearn.preprocessing import LabelEncoder\n",
    "from sklearn.utils import parallel_backend"
   ]
  },
  {
   "cell_type": "markdown",
   "metadata": {
    "jukit_cell_id": "tdSJIClZGb"
   },
   "source": [
    "## Find the root of the git repo on the host system"
   ]
  },
  {
   "cell_type": "code",
   "execution_count": 2,
   "metadata": {
    "execution": {
     "iopub.execute_input": "2024-05-21T18:21:03.304538Z",
     "iopub.status.busy": "2024-05-21T18:21:03.304307Z",
     "iopub.status.idle": "2024-05-21T18:21:03.307498Z",
     "shell.execute_reply": "2024-05-21T18:21:03.307115Z"
    },
    "jukit_cell_id": "QmTyYX7yVG"
   },
   "outputs": [],
   "source": [
    "# Get the current working directory\n",
    "cwd = pathlib.Path.cwd()\n",
    "\n",
    "if (cwd / \".git\").is_dir():\n",
    "    root_dir = cwd\n",
    "\n",
    "else:\n",
    "    root_dir = None\n",
    "    for parent in cwd.parents:\n",
    "        if (parent / \".git\").is_dir():\n",
    "            root_dir = parent\n",
    "            break\n",
    "\n",
    "# Check if a Git root directory was found\n",
    "if root_dir is None:\n",
    "    raise FileNotFoundError(\"No Git root directory found.\")"
   ]
  },
  {
   "cell_type": "markdown",
   "metadata": {
    "jukit_cell_id": "eSQXraMRCI"
   },
   "source": [
    "## Define paths"
   ]
  },
  {
   "cell_type": "markdown",
   "metadata": {
    "jukit_cell_id": "cZx8xNCyZq"
   },
   "source": [
    "### Input"
   ]
  },
  {
   "cell_type": "code",
   "execution_count": 3,
   "metadata": {
    "execution": {
     "iopub.execute_input": "2024-05-21T18:21:03.309272Z",
     "iopub.status.busy": "2024-05-21T18:21:03.309019Z",
     "iopub.status.idle": "2024-05-21T18:21:03.688616Z",
     "shell.execute_reply": "2024-05-21T18:21:03.688268Z"
    },
    "jukit_cell_id": "xdgUvt0md2"
   },
   "outputs": [],
   "source": [
    "plate5df_path = pathlib.Path(root_dir / \"nf1_painting_repo/3.processing_features/data/single_cell_profiles/Plate_5_sc_feature_selected.parquet\").resolve(strict=True)\n",
    "plate3df_path = pathlib.Path(root_dir / \"nf1_painting_repo/3.processing_features/data/single_cell_profiles/Plate_3_sc_feature_selected.parquet\").resolve(strict=True)\n",
    "plate3pdf_path = pathlib.Path(root_dir / \"nf1_painting_repo/3.processing_features/data/single_cell_profiles/Plate_3_prime_sc_feature_selected.parquet\").resolve(strict=True)\n",
    "plate4df_path = pathlib.Path(root_dir / \"nf1_painting_repo/3.processing_features/data/single_cell_profiles/Plate_4_sc_feature_selected.parquet\").resolve(strict=True)\n",
    "\n",
    "plate5df = pd.read_parquet(plate5df_path)\n",
    "plate4df = pd.read_parquet(plate4df_path)\n",
    "plate3df = pd.read_parquet(plate3df_path)\n",
    "plate3pdf = pd.read_parquet(plate3pdf_path)\n",
    "\n",
    "# Set the seed\n",
    "rng = np.random.default_rng(0)"
   ]
  },
  {
   "cell_type": "markdown",
   "metadata": {
    "jukit_cell_id": "G0IEMyaFva"
   },
   "source": [
    "### Outputs"
   ]
  },
  {
   "cell_type": "code",
   "execution_count": 4,
   "metadata": {
    "execution": {
     "iopub.execute_input": "2024-05-21T18:21:03.690996Z",
     "iopub.status.busy": "2024-05-21T18:21:03.690619Z",
     "iopub.status.idle": "2024-05-21T18:21:03.692854Z",
     "shell.execute_reply": "2024-05-21T18:21:03.692603Z"
    },
    "jukit_cell_id": "byqT0qeQSc"
   },
   "outputs": [],
   "source": [
    "data_path = pathlib.Path(\"data\")\n",
    "data_path.mkdir(parents=True, exist_ok=True)"
   ]
  },
  {
   "cell_type": "markdown",
   "metadata": {
    "jukit_cell_id": "YtBIYKchGc"
   },
   "source": [
    "## Splitting and Processing\n",
    "Functions to split and process data"
   ]
  },
  {
   "cell_type": "code",
   "execution_count": 5,
   "metadata": {
    "execution": {
     "iopub.execute_input": "2024-05-21T18:21:03.694219Z",
     "iopub.status.busy": "2024-05-21T18:21:03.693975Z",
     "iopub.status.idle": "2024-05-21T18:21:03.698213Z",
     "shell.execute_reply": "2024-05-21T18:21:03.697960Z"
    },
    "jukit_cell_id": "qP1KgMqkE7"
   },
   "outputs": [],
   "source": [
    "gene_column = \"Metadata_genotype\"\n",
    "\n",
    "def down_sample_by_genotype(_df):\n",
    "    \"\"\"\n",
    "    Return an equal number of cells from each genotype.\n",
    "    The number of cells in a genotype is the minimum number of cells from all genotypes.\n",
    "\n",
    "    Parameters\n",
    "    ----------\n",
    "    _df: Pandas Dataframe\n",
    "        The data to be downsampled by the gene_column column.\n",
    "\n",
    "    Returns\n",
    "    -------\n",
    "    The dataframe down-sampled by genotype.\n",
    "    \"\"\"\n",
    "\n",
    "    min_gene = _df[gene_column].value_counts().min()\n",
    "    return (_df.groupby(gene_column, group_keys=False)\n",
    "            .apply(lambda x: x.sample(n=min_gene, random_state=0))\n",
    "            )\n",
    "\n",
    "def process_plates(_df):\n",
    "    \"\"\"\n",
    "    Drop rows with nans from the single cell data and remove HET cells.\n",
    "\n",
    "    Parameters\n",
    "    ----------\n",
    "    _df: Pandas Dataframe\n",
    "        Uncleaned plate data with nans and HET cells to be removed. Contains the column \"Metadata_genotype\".\n",
    "\n",
    "    Returns\n",
    "    -------\n",
    "    _df: Pandas Dataframe\n",
    "        Cleaned single cell data by removing nans and HET cells.\n",
    "    \"\"\"\n",
    "\n",
    "    _df.dropna(inplace=True)\n",
    "    _df = _df.loc[_df[gene_column] != \"HET\"]\n",
    "    return _df\n",
    "\n",
    "def shuffle_data(_X):\n",
    "    \"\"\"\n",
    "    Shuffle the columns of the input dataframe independently.\n",
    "\n",
    "    Parameters\n",
    "    ----------\n",
    "    _X: Pandas Dataframe\n",
    "        Input feature data for shuffling the columns.\n",
    "    \"\"\"\n",
    "\n",
    "    for column in _X.columns:\n",
    "        _X[column] = rng.permutation(_X[column])\n",
    "\n",
    "def store_pre_evaluation_data(_X, _y, _metadata, _datasplit):\n",
    "    \"\"\"\n",
    "    Store model data to evaluate performance.\n",
    "\n",
    "    Parameters\n",
    "    ----------\n",
    "    _X: Pandas Dataframe\n",
    "        Feature dataframe from a given plate and data split.\n",
    "\n",
    "    _y: Numpy Array\n",
    "        A numerically-encoded label vector ordered according to _X.\n",
    "\n",
    "    _metadata: Pandas Dataframe\n",
    "        Plate name.\n",
    "\n",
    "    _datasplit: String\n",
    "        Data split name.\n",
    "    \"\"\"\n",
    "\n",
    "    eval_data[f\"probability_{probability_class}\"].extend(logreg.predict_proba(_X)[:, 1].tolist())\n",
    "    eval_data[\"datasplit\"].extend([_datasplit] * _X.shape[0])\n",
    "    eval_data[\"predicted_genotype\"].extend(logreg.predict(_X).tolist())\n",
    "    eval_data[\"true_genotype\"].extend(_y.tolist())\n",
    "    for meta_col in _metadata.columns:\n",
    "        eval_data[meta_col].extend(_metadata[meta_col].tolist())"
   ]
  },
  {
   "cell_type": "markdown",
   "metadata": {
    "jukit_cell_id": "R7X8nR4SsB"
   },
   "source": [
    "## Split and process plates"
   ]
  },
  {
   "cell_type": "code",
   "execution_count": 6,
   "metadata": {
    "execution": {
     "iopub.execute_input": "2024-05-21T18:21:03.699358Z",
     "iopub.status.busy": "2024-05-21T18:21:03.699251Z",
     "iopub.status.idle": "2024-05-21T18:21:03.701304Z",
     "shell.execute_reply": "2024-05-21T18:21:03.701054Z"
    },
    "jukit_cell_id": "z9zzUXpQ67"
   },
   "outputs": [],
   "source": [
    "def create_splits(_wells, _plate):\n",
    "    \"\"\"\n",
    "    Create data splits for model training. The splits are rest (train and validation) and test.\n",
    "\n",
    "    Parameters\n",
    "    ----------\n",
    "    _wells: List(String)\n",
    "        The well names from which single cells will be used in the test set.\n",
    "\n",
    "    _plate: Pandas Dataframe\n",
    "        Single cell data from one of the plate's containing a \"Metadata_Well\" column.\n",
    "\n",
    "    Returns\n",
    "    -------\n",
    "    Dataframes of the split single cell data.\n",
    "    \"\"\"\n",
    "\n",
    "    return _plate[~_plate[\"Metadata_Well\"].isin(_wells)], _plate[_plate[\"Metadata_Well\"].isin(_wells)]"
   ]
  },
  {
   "cell_type": "code",
   "execution_count": 7,
   "metadata": {
    "execution": {
     "iopub.execute_input": "2024-05-21T18:21:03.702389Z",
     "iopub.status.busy": "2024-05-21T18:21:03.702283Z",
     "iopub.status.idle": "2024-05-21T18:21:04.036787Z",
     "shell.execute_reply": "2024-05-21T18:21:04.036371Z"
    },
    "jukit_cell_id": "qrteU1j4F9"
   },
   "outputs": [],
   "source": [
    "plate5df = process_plates(plate5df)\n",
    "p5_wells = [\"C9\", \"E11\", \"E3\", \"G3\"]\n",
    "rest5df, test5df = create_splits(p5_wells, plate5df)\n",
    "rest5df, test5df = down_sample_by_genotype(rest5df), down_sample_by_genotype(test5df)\n",
    "\n",
    "plate3df = process_plates(plate3df)\n",
    "p3_wells = [\"C11\", \"E11\", \"C3\", \"F3\"]\n",
    "rest3df, test3df = create_splits(p3_wells, plate3df)\n",
    "rest3df, test3df = down_sample_by_genotype(rest3df), down_sample_by_genotype(test3df)\n",
    "\n",
    "plate3pdf = process_plates(plate3pdf)\n",
    "p3p_wells = [\"F11\", \"G11\", \"C3\", \"F3\"]\n",
    "rest3pdf, test3pdf = create_splits(p3p_wells, plate3pdf)\n",
    "rest3pdf, test3pdf = down_sample_by_genotype(rest3pdf), down_sample_by_genotype(test3pdf)\n",
    "\n",
    "# Removed siRNA-treated cells to retain only Null and WT cells\n",
    "plate4df[\"Metadata_siRNA\"].fillna(\"No Construct\", inplace=True)\n",
    "plate4df.dropna(inplace=True)\n",
    "plate4df = plate4df.loc[plate4df[\"Metadata_siRNA\"] == \"No Construct\"]\n",
    "\n",
    "plate4df = process_plates(plate4df)\n",
    "p4_wells = [\"D5\", \"C11\"]\n",
    "rest4df, test4df = create_splits(p4_wells, plate4df)\n",
    "rest4df, test4df = down_sample_by_genotype(rest4df), down_sample_by_genotype(test4df)"
   ]
  },
  {
   "cell_type": "markdown",
   "metadata": {
    "jukit_cell_id": "pnZI3c8SRh"
   },
   "source": [
    "## Combine plate columns across each data split"
   ]
  },
  {
   "cell_type": "code",
   "execution_count": 8,
   "metadata": {
    "execution": {
     "iopub.execute_input": "2024-05-21T18:21:04.039138Z",
     "iopub.status.busy": "2024-05-21T18:21:04.038990Z",
     "iopub.status.idle": "2024-05-21T18:21:04.221845Z",
     "shell.execute_reply": "2024-05-21T18:21:04.221424Z"
    },
    "jukit_cell_id": "JPOu8mYg6w"
   },
   "outputs": [],
   "source": [
    "# Columns common to all plates\n",
    "plate_cols = list(set(plate5df.columns) & set(plate3df.columns) & set(plate3pdf.columns) & set(plate4df.columns))\n",
    "\n",
    "restdf = pd.concat([rest5df[plate_cols], rest3df[plate_cols], rest3pdf[plate_cols], rest4df[plate_cols]], ignore_index=True).reset_index(drop=True)\n",
    "\n",
    "testdf = pd.concat([test5df[plate_cols], test3df[plate_cols], test3pdf[plate_cols], test4df[plate_cols]], ignore_index=True).reset_index(drop=True)"
   ]
  },
  {
   "cell_type": "markdown",
   "metadata": {
    "jukit_cell_id": "7ckV1bxaO2"
   },
   "source": [
    "## Encode genotypes and extract feature data"
   ]
  },
  {
   "cell_type": "code",
   "execution_count": 9,
   "metadata": {
    "execution": {
     "iopub.execute_input": "2024-05-21T18:21:04.224115Z",
     "iopub.status.busy": "2024-05-21T18:21:04.223968Z",
     "iopub.status.idle": "2024-05-21T18:21:04.227948Z",
     "shell.execute_reply": "2024-05-21T18:21:04.227664Z"
    },
    "jukit_cell_id": "NTCaf4xXY1"
   },
   "outputs": [],
   "source": [
    "meta_cols = testdf.filter(like=\"Metadata\").columns\n",
    "feat_cols = testdf.drop(columns=meta_cols).columns"
   ]
  },
  {
   "cell_type": "code",
   "execution_count": 10,
   "metadata": {
    "execution": {
     "iopub.execute_input": "2024-05-21T18:21:04.229639Z",
     "iopub.status.busy": "2024-05-21T18:21:04.229535Z",
     "iopub.status.idle": "2024-05-21T18:21:04.251304Z",
     "shell.execute_reply": "2024-05-21T18:21:04.250939Z"
    },
    "jukit_cell_id": "m7apYZPkME"
   },
   "outputs": [],
   "source": [
    "le = LabelEncoder()\n",
    "\n",
    "y = le.fit_transform(restdf[\"Metadata_genotype\"])\n",
    "X = restdf.drop(columns=meta_cols)\n",
    "\n",
    "y_test = le.fit_transform(testdf[\"Metadata_genotype\"])\n",
    "X_test = testdf.drop(columns=meta_cols)\n",
    "\n",
    "# Class for saving probabilities\n",
    "probability_class = le.inverse_transform([1])[0]"
   ]
  },
  {
   "cell_type": "markdown",
   "metadata": {
    "jukit_cell_id": "RN1oKgi6ph"
   },
   "source": [
    "# Train Models"
   ]
  },
  {
   "cell_type": "markdown",
   "metadata": {
    "jukit_cell_id": "U6eyLl0ZPH"
   },
   "source": [
    "## Specify parameters for training"
   ]
  },
  {
   "cell_type": "code",
   "execution_count": 11,
   "metadata": {
    "execution": {
     "iopub.execute_input": "2024-05-21T18:21:04.253436Z",
     "iopub.status.busy": "2024-05-21T18:21:04.253087Z",
     "iopub.status.idle": "2024-05-21T18:21:04.256215Z",
     "shell.execute_reply": "2024-05-21T18:21:04.255955Z"
    },
    "jukit_cell_id": "sZFW0vn0zv"
   },
   "outputs": [],
   "source": [
    "logreg_params = {\n",
    "    \"max_iter\": 250,\n",
    "    \"random_state\": 0,\n",
    "    \"n_jobs\": -1,\n",
    "    \"penalty\": \"l2\",\n",
    "}\n",
    "\n",
    "# Random sampling range of hyperparameter\n",
    "param_ranges = {\n",
    "    \"C\": (0, 200)\n",
    "}\n",
    "\n",
    "# Number of iteration to optimize hyperparameters\n",
    "rand_iter = 500\n",
    "\n",
    "# Best accuracy\n",
    "best_acc = 0\n",
    "\n",
    "# Initial accuracy\n",
    "acc = 0\n",
    "\n",
    "# Number of folds\n",
    "n_splits = 8\n",
    "\n",
    "# Generate hyperparameter samples\n",
    "random_params = {\n",
    "    i:\n",
    "    {key: random.uniform(*param_ranges[key]) for key in param_ranges}\n",
    "    for i in range(rand_iter)\n",
    "}"
   ]
  },
  {
   "cell_type": "markdown",
   "metadata": {
    "jukit_cell_id": "uBQzEOgaBh"
   },
   "source": [
    "## Hyperparameter search"
   ]
  },
  {
   "cell_type": "code",
   "execution_count": 12,
   "metadata": {
    "execution": {
     "iopub.execute_input": "2024-05-21T18:21:04.257880Z",
     "iopub.status.busy": "2024-05-21T18:21:04.257775Z",
     "iopub.status.idle": "2024-05-22T00:42:42.695942Z",
     "shell.execute_reply": "2024-05-22T00:42:42.695491Z"
    },
    "jukit_cell_id": "rHYvmbnZNf"
   },
   "outputs": [
    {
     "name": "stdout",
     "output_type": "stream",
     "text": [
      "Best average validation accuracy = 0.9040083496041922\n"
     ]
    }
   ],
   "source": [
    "# Store model results for evaluation\n",
    "eval_data = defaultdict(list)\n",
    "\n",
    "# Iterate through hyperparameters\n",
    "for idx, rparams in random_params.items():\n",
    "\n",
    "    skf = StratifiedKFold(n_splits=n_splits, shuffle=True, random_state=0)\n",
    "\n",
    "    # Combine parameters in current search with logistic regression parameters\n",
    "    comb_params = logreg_params | rparams\n",
    "\n",
    "    # Loop through the folds\n",
    "    for fold, (train_index, val_index) in enumerate(skf.split(X, y)):\n",
    "\n",
    "        X_train, X_val = X.iloc[train_index], X.iloc[val_index]\n",
    "        y_train, y_val = y[train_index], y[val_index]\n",
    "\n",
    "        X_val_shuf = X_val.copy()\n",
    "        shuffle_data(X_val_shuf)\n",
    "\n",
    "        # Prevent the convergence warning in sklearn\n",
    "        with parallel_backend(\"multiprocessing\"):\n",
    "            with warnings.catch_warnings():\n",
    "                warnings.filterwarnings(\n",
    "                    \"ignore\", category=ConvergenceWarning, module=\"sklearn\"\n",
    "                )\n",
    "                logreg = LogisticRegression(**comb_params)\n",
    "                logreg.fit(X_train, y_train)\n",
    "\n",
    "        # Cumulative accuracy for all folds\n",
    "        preds = logreg.predict(X_val)\n",
    "        preds_shuf = logreg.predict(X_val_shuf)\n",
    "        acc += accuracy_score(y_val, preds)\n",
    "\n",
    "        store_pre_evaluation_data(X_val, y_val, restdf.iloc[val_index][meta_cols], \"val\")\n",
    "        store_pre_evaluation_data(X_val_shuf, y_val, restdf.iloc[val_index][meta_cols], \"shuffled_val\")\n",
    "\n",
    "    # Average accuracy for the folds\n",
    "    acc = acc / n_splits\n",
    "\n",
    "    # Store the data with the best performance\n",
    "    if acc > best_acc:\n",
    "        best_hparam = eval_data.copy()\n",
    "        best_acc = acc\n",
    "        best_hp = rparams\n",
    "\n",
    "print(f\"Best average validation accuracy = {best_acc}\")"
   ]
  },
  {
   "cell_type": "markdown",
   "metadata": {
    "jukit_cell_id": "4D42C7hQua"
   },
   "source": [
    "## Retrain model"
   ]
  },
  {
   "cell_type": "code",
   "execution_count": 13,
   "metadata": {
    "execution": {
     "iopub.execute_input": "2024-05-22T00:42:42.723227Z",
     "iopub.status.busy": "2024-05-22T00:42:42.723042Z",
     "iopub.status.idle": "2024-05-22T00:42:50.302142Z",
     "shell.execute_reply": "2024-05-22T00:42:50.301365Z"
    },
    "jukit_cell_id": "FNeiZcYJzz"
   },
   "outputs": [
    {
     "data": {
      "text/html": [
       "<style>#sk-container-id-1 {\n",
       "  /* Definition of color scheme common for light and dark mode */\n",
       "  --sklearn-color-text: black;\n",
       "  --sklearn-color-line: gray;\n",
       "  /* Definition of color scheme for unfitted estimators */\n",
       "  --sklearn-color-unfitted-level-0: #fff5e6;\n",
       "  --sklearn-color-unfitted-level-1: #f6e4d2;\n",
       "  --sklearn-color-unfitted-level-2: #ffe0b3;\n",
       "  --sklearn-color-unfitted-level-3: chocolate;\n",
       "  /* Definition of color scheme for fitted estimators */\n",
       "  --sklearn-color-fitted-level-0: #f0f8ff;\n",
       "  --sklearn-color-fitted-level-1: #d4ebff;\n",
       "  --sklearn-color-fitted-level-2: #b3dbfd;\n",
       "  --sklearn-color-fitted-level-3: cornflowerblue;\n",
       "\n",
       "  /* Specific color for light theme */\n",
       "  --sklearn-color-text-on-default-background: var(--sg-text-color, var(--theme-code-foreground, var(--jp-content-font-color1, black)));\n",
       "  --sklearn-color-background: var(--sg-background-color, var(--theme-background, var(--jp-layout-color0, white)));\n",
       "  --sklearn-color-border-box: var(--sg-text-color, var(--theme-code-foreground, var(--jp-content-font-color1, black)));\n",
       "  --sklearn-color-icon: #696969;\n",
       "\n",
       "  @media (prefers-color-scheme: dark) {\n",
       "    /* Redefinition of color scheme for dark theme */\n",
       "    --sklearn-color-text-on-default-background: var(--sg-text-color, var(--theme-code-foreground, var(--jp-content-font-color1, white)));\n",
       "    --sklearn-color-background: var(--sg-background-color, var(--theme-background, var(--jp-layout-color0, #111)));\n",
       "    --sklearn-color-border-box: var(--sg-text-color, var(--theme-code-foreground, var(--jp-content-font-color1, white)));\n",
       "    --sklearn-color-icon: #878787;\n",
       "  }\n",
       "}\n",
       "\n",
       "#sk-container-id-1 {\n",
       "  color: var(--sklearn-color-text);\n",
       "}\n",
       "\n",
       "#sk-container-id-1 pre {\n",
       "  padding: 0;\n",
       "}\n",
       "\n",
       "#sk-container-id-1 input.sk-hidden--visually {\n",
       "  border: 0;\n",
       "  clip: rect(1px 1px 1px 1px);\n",
       "  clip: rect(1px, 1px, 1px, 1px);\n",
       "  height: 1px;\n",
       "  margin: -1px;\n",
       "  overflow: hidden;\n",
       "  padding: 0;\n",
       "  position: absolute;\n",
       "  width: 1px;\n",
       "}\n",
       "\n",
       "#sk-container-id-1 div.sk-dashed-wrapped {\n",
       "  border: 1px dashed var(--sklearn-color-line);\n",
       "  margin: 0 0.4em 0.5em 0.4em;\n",
       "  box-sizing: border-box;\n",
       "  padding-bottom: 0.4em;\n",
       "  background-color: var(--sklearn-color-background);\n",
       "}\n",
       "\n",
       "#sk-container-id-1 div.sk-container {\n",
       "  /* jupyter's `normalize.less` sets `[hidden] { display: none; }`\n",
       "     but bootstrap.min.css set `[hidden] { display: none !important; }`\n",
       "     so we also need the `!important` here to be able to override the\n",
       "     default hidden behavior on the sphinx rendered scikit-learn.org.\n",
       "     See: https://github.com/scikit-learn/scikit-learn/issues/21755 */\n",
       "  display: inline-block !important;\n",
       "  position: relative;\n",
       "}\n",
       "\n",
       "#sk-container-id-1 div.sk-text-repr-fallback {\n",
       "  display: none;\n",
       "}\n",
       "\n",
       "div.sk-parallel-item,\n",
       "div.sk-serial,\n",
       "div.sk-item {\n",
       "  /* draw centered vertical line to link estimators */\n",
       "  background-image: linear-gradient(var(--sklearn-color-text-on-default-background), var(--sklearn-color-text-on-default-background));\n",
       "  background-size: 2px 100%;\n",
       "  background-repeat: no-repeat;\n",
       "  background-position: center center;\n",
       "}\n",
       "\n",
       "/* Parallel-specific style estimator block */\n",
       "\n",
       "#sk-container-id-1 div.sk-parallel-item::after {\n",
       "  content: \"\";\n",
       "  width: 100%;\n",
       "  border-bottom: 2px solid var(--sklearn-color-text-on-default-background);\n",
       "  flex-grow: 1;\n",
       "}\n",
       "\n",
       "#sk-container-id-1 div.sk-parallel {\n",
       "  display: flex;\n",
       "  align-items: stretch;\n",
       "  justify-content: center;\n",
       "  background-color: var(--sklearn-color-background);\n",
       "  position: relative;\n",
       "}\n",
       "\n",
       "#sk-container-id-1 div.sk-parallel-item {\n",
       "  display: flex;\n",
       "  flex-direction: column;\n",
       "}\n",
       "\n",
       "#sk-container-id-1 div.sk-parallel-item:first-child::after {\n",
       "  align-self: flex-end;\n",
       "  width: 50%;\n",
       "}\n",
       "\n",
       "#sk-container-id-1 div.sk-parallel-item:last-child::after {\n",
       "  align-self: flex-start;\n",
       "  width: 50%;\n",
       "}\n",
       "\n",
       "#sk-container-id-1 div.sk-parallel-item:only-child::after {\n",
       "  width: 0;\n",
       "}\n",
       "\n",
       "/* Serial-specific style estimator block */\n",
       "\n",
       "#sk-container-id-1 div.sk-serial {\n",
       "  display: flex;\n",
       "  flex-direction: column;\n",
       "  align-items: center;\n",
       "  background-color: var(--sklearn-color-background);\n",
       "  padding-right: 1em;\n",
       "  padding-left: 1em;\n",
       "}\n",
       "\n",
       "\n",
       "/* Toggleable style: style used for estimator/Pipeline/ColumnTransformer box that is\n",
       "clickable and can be expanded/collapsed.\n",
       "- Pipeline and ColumnTransformer use this feature and define the default style\n",
       "- Estimators will overwrite some part of the style using the `sk-estimator` class\n",
       "*/\n",
       "\n",
       "/* Pipeline and ColumnTransformer style (default) */\n",
       "\n",
       "#sk-container-id-1 div.sk-toggleable {\n",
       "  /* Default theme specific background. It is overwritten whether we have a\n",
       "  specific estimator or a Pipeline/ColumnTransformer */\n",
       "  background-color: var(--sklearn-color-background);\n",
       "}\n",
       "\n",
       "/* Toggleable label */\n",
       "#sk-container-id-1 label.sk-toggleable__label {\n",
       "  cursor: pointer;\n",
       "  display: block;\n",
       "  width: 100%;\n",
       "  margin-bottom: 0;\n",
       "  padding: 0.5em;\n",
       "  box-sizing: border-box;\n",
       "  text-align: center;\n",
       "}\n",
       "\n",
       "#sk-container-id-1 label.sk-toggleable__label-arrow:before {\n",
       "  /* Arrow on the left of the label */\n",
       "  content: \"▸\";\n",
       "  float: left;\n",
       "  margin-right: 0.25em;\n",
       "  color: var(--sklearn-color-icon);\n",
       "}\n",
       "\n",
       "#sk-container-id-1 label.sk-toggleable__label-arrow:hover:before {\n",
       "  color: var(--sklearn-color-text);\n",
       "}\n",
       "\n",
       "/* Toggleable content - dropdown */\n",
       "\n",
       "#sk-container-id-1 div.sk-toggleable__content {\n",
       "  max-height: 0;\n",
       "  max-width: 0;\n",
       "  overflow: hidden;\n",
       "  text-align: left;\n",
       "  /* unfitted */\n",
       "  background-color: var(--sklearn-color-unfitted-level-0);\n",
       "}\n",
       "\n",
       "#sk-container-id-1 div.sk-toggleable__content.fitted {\n",
       "  /* fitted */\n",
       "  background-color: var(--sklearn-color-fitted-level-0);\n",
       "}\n",
       "\n",
       "#sk-container-id-1 div.sk-toggleable__content pre {\n",
       "  margin: 0.2em;\n",
       "  border-radius: 0.25em;\n",
       "  color: var(--sklearn-color-text);\n",
       "  /* unfitted */\n",
       "  background-color: var(--sklearn-color-unfitted-level-0);\n",
       "}\n",
       "\n",
       "#sk-container-id-1 div.sk-toggleable__content.fitted pre {\n",
       "  /* unfitted */\n",
       "  background-color: var(--sklearn-color-fitted-level-0);\n",
       "}\n",
       "\n",
       "#sk-container-id-1 input.sk-toggleable__control:checked~div.sk-toggleable__content {\n",
       "  /* Expand drop-down */\n",
       "  max-height: 200px;\n",
       "  max-width: 100%;\n",
       "  overflow: auto;\n",
       "}\n",
       "\n",
       "#sk-container-id-1 input.sk-toggleable__control:checked~label.sk-toggleable__label-arrow:before {\n",
       "  content: \"▾\";\n",
       "}\n",
       "\n",
       "/* Pipeline/ColumnTransformer-specific style */\n",
       "\n",
       "#sk-container-id-1 div.sk-label input.sk-toggleable__control:checked~label.sk-toggleable__label {\n",
       "  color: var(--sklearn-color-text);\n",
       "  background-color: var(--sklearn-color-unfitted-level-2);\n",
       "}\n",
       "\n",
       "#sk-container-id-1 div.sk-label.fitted input.sk-toggleable__control:checked~label.sk-toggleable__label {\n",
       "  background-color: var(--sklearn-color-fitted-level-2);\n",
       "}\n",
       "\n",
       "/* Estimator-specific style */\n",
       "\n",
       "/* Colorize estimator box */\n",
       "#sk-container-id-1 div.sk-estimator input.sk-toggleable__control:checked~label.sk-toggleable__label {\n",
       "  /* unfitted */\n",
       "  background-color: var(--sklearn-color-unfitted-level-2);\n",
       "}\n",
       "\n",
       "#sk-container-id-1 div.sk-estimator.fitted input.sk-toggleable__control:checked~label.sk-toggleable__label {\n",
       "  /* fitted */\n",
       "  background-color: var(--sklearn-color-fitted-level-2);\n",
       "}\n",
       "\n",
       "#sk-container-id-1 div.sk-label label.sk-toggleable__label,\n",
       "#sk-container-id-1 div.sk-label label {\n",
       "  /* The background is the default theme color */\n",
       "  color: var(--sklearn-color-text-on-default-background);\n",
       "}\n",
       "\n",
       "/* On hover, darken the color of the background */\n",
       "#sk-container-id-1 div.sk-label:hover label.sk-toggleable__label {\n",
       "  color: var(--sklearn-color-text);\n",
       "  background-color: var(--sklearn-color-unfitted-level-2);\n",
       "}\n",
       "\n",
       "/* Label box, darken color on hover, fitted */\n",
       "#sk-container-id-1 div.sk-label.fitted:hover label.sk-toggleable__label.fitted {\n",
       "  color: var(--sklearn-color-text);\n",
       "  background-color: var(--sklearn-color-fitted-level-2);\n",
       "}\n",
       "\n",
       "/* Estimator label */\n",
       "\n",
       "#sk-container-id-1 div.sk-label label {\n",
       "  font-family: monospace;\n",
       "  font-weight: bold;\n",
       "  display: inline-block;\n",
       "  line-height: 1.2em;\n",
       "}\n",
       "\n",
       "#sk-container-id-1 div.sk-label-container {\n",
       "  text-align: center;\n",
       "}\n",
       "\n",
       "/* Estimator-specific */\n",
       "#sk-container-id-1 div.sk-estimator {\n",
       "  font-family: monospace;\n",
       "  border: 1px dotted var(--sklearn-color-border-box);\n",
       "  border-radius: 0.25em;\n",
       "  box-sizing: border-box;\n",
       "  margin-bottom: 0.5em;\n",
       "  /* unfitted */\n",
       "  background-color: var(--sklearn-color-unfitted-level-0);\n",
       "}\n",
       "\n",
       "#sk-container-id-1 div.sk-estimator.fitted {\n",
       "  /* fitted */\n",
       "  background-color: var(--sklearn-color-fitted-level-0);\n",
       "}\n",
       "\n",
       "/* on hover */\n",
       "#sk-container-id-1 div.sk-estimator:hover {\n",
       "  /* unfitted */\n",
       "  background-color: var(--sklearn-color-unfitted-level-2);\n",
       "}\n",
       "\n",
       "#sk-container-id-1 div.sk-estimator.fitted:hover {\n",
       "  /* fitted */\n",
       "  background-color: var(--sklearn-color-fitted-level-2);\n",
       "}\n",
       "\n",
       "/* Specification for estimator info (e.g. \"i\" and \"?\") */\n",
       "\n",
       "/* Common style for \"i\" and \"?\" */\n",
       "\n",
       ".sk-estimator-doc-link,\n",
       "a:link.sk-estimator-doc-link,\n",
       "a:visited.sk-estimator-doc-link {\n",
       "  float: right;\n",
       "  font-size: smaller;\n",
       "  line-height: 1em;\n",
       "  font-family: monospace;\n",
       "  background-color: var(--sklearn-color-background);\n",
       "  border-radius: 1em;\n",
       "  height: 1em;\n",
       "  width: 1em;\n",
       "  text-decoration: none !important;\n",
       "  margin-left: 1ex;\n",
       "  /* unfitted */\n",
       "  border: var(--sklearn-color-unfitted-level-1) 1pt solid;\n",
       "  color: var(--sklearn-color-unfitted-level-1);\n",
       "}\n",
       "\n",
       ".sk-estimator-doc-link.fitted,\n",
       "a:link.sk-estimator-doc-link.fitted,\n",
       "a:visited.sk-estimator-doc-link.fitted {\n",
       "  /* fitted */\n",
       "  border: var(--sklearn-color-fitted-level-1) 1pt solid;\n",
       "  color: var(--sklearn-color-fitted-level-1);\n",
       "}\n",
       "\n",
       "/* On hover */\n",
       "div.sk-estimator:hover .sk-estimator-doc-link:hover,\n",
       ".sk-estimator-doc-link:hover,\n",
       "div.sk-label-container:hover .sk-estimator-doc-link:hover,\n",
       ".sk-estimator-doc-link:hover {\n",
       "  /* unfitted */\n",
       "  background-color: var(--sklearn-color-unfitted-level-3);\n",
       "  color: var(--sklearn-color-background);\n",
       "  text-decoration: none;\n",
       "}\n",
       "\n",
       "div.sk-estimator.fitted:hover .sk-estimator-doc-link.fitted:hover,\n",
       ".sk-estimator-doc-link.fitted:hover,\n",
       "div.sk-label-container:hover .sk-estimator-doc-link.fitted:hover,\n",
       ".sk-estimator-doc-link.fitted:hover {\n",
       "  /* fitted */\n",
       "  background-color: var(--sklearn-color-fitted-level-3);\n",
       "  color: var(--sklearn-color-background);\n",
       "  text-decoration: none;\n",
       "}\n",
       "\n",
       "/* Span, style for the box shown on hovering the info icon */\n",
       ".sk-estimator-doc-link span {\n",
       "  display: none;\n",
       "  z-index: 9999;\n",
       "  position: relative;\n",
       "  font-weight: normal;\n",
       "  right: .2ex;\n",
       "  padding: .5ex;\n",
       "  margin: .5ex;\n",
       "  width: min-content;\n",
       "  min-width: 20ex;\n",
       "  max-width: 50ex;\n",
       "  color: var(--sklearn-color-text);\n",
       "  box-shadow: 2pt 2pt 4pt #999;\n",
       "  /* unfitted */\n",
       "  background: var(--sklearn-color-unfitted-level-0);\n",
       "  border: .5pt solid var(--sklearn-color-unfitted-level-3);\n",
       "}\n",
       "\n",
       ".sk-estimator-doc-link.fitted span {\n",
       "  /* fitted */\n",
       "  background: var(--sklearn-color-fitted-level-0);\n",
       "  border: var(--sklearn-color-fitted-level-3);\n",
       "}\n",
       "\n",
       ".sk-estimator-doc-link:hover span {\n",
       "  display: block;\n",
       "}\n",
       "\n",
       "/* \"?\"-specific style due to the `<a>` HTML tag */\n",
       "\n",
       "#sk-container-id-1 a.estimator_doc_link {\n",
       "  float: right;\n",
       "  font-size: 1rem;\n",
       "  line-height: 1em;\n",
       "  font-family: monospace;\n",
       "  background-color: var(--sklearn-color-background);\n",
       "  border-radius: 1rem;\n",
       "  height: 1rem;\n",
       "  width: 1rem;\n",
       "  text-decoration: none;\n",
       "  /* unfitted */\n",
       "  color: var(--sklearn-color-unfitted-level-1);\n",
       "  border: var(--sklearn-color-unfitted-level-1) 1pt solid;\n",
       "}\n",
       "\n",
       "#sk-container-id-1 a.estimator_doc_link.fitted {\n",
       "  /* fitted */\n",
       "  border: var(--sklearn-color-fitted-level-1) 1pt solid;\n",
       "  color: var(--sklearn-color-fitted-level-1);\n",
       "}\n",
       "\n",
       "/* On hover */\n",
       "#sk-container-id-1 a.estimator_doc_link:hover {\n",
       "  /* unfitted */\n",
       "  background-color: var(--sklearn-color-unfitted-level-3);\n",
       "  color: var(--sklearn-color-background);\n",
       "  text-decoration: none;\n",
       "}\n",
       "\n",
       "#sk-container-id-1 a.estimator_doc_link.fitted:hover {\n",
       "  /* fitted */\n",
       "  background-color: var(--sklearn-color-fitted-level-3);\n",
       "}\n",
       "</style><div id=\"sk-container-id-1\" class=\"sk-top-container\"><div class=\"sk-text-repr-fallback\"><pre>LogisticRegression(C=100.75954293416305, max_iter=3000, n_jobs=-1,\n",
       "                   random_state=0)</pre><b>In a Jupyter environment, please rerun this cell to show the HTML representation or trust the notebook. <br />On GitHub, the HTML representation is unable to render, please try loading this page with nbviewer.org.</b></div><div class=\"sk-container\" hidden><div class=\"sk-item\"><div class=\"sk-estimator fitted sk-toggleable\"><input class=\"sk-toggleable__control sk-hidden--visually\" id=\"sk-estimator-id-1\" type=\"checkbox\" checked><label for=\"sk-estimator-id-1\" class=\"sk-toggleable__label fitted sk-toggleable__label-arrow fitted\">&nbsp;&nbsp;LogisticRegression<a class=\"sk-estimator-doc-link fitted\" rel=\"noreferrer\" target=\"_blank\" href=\"https://scikit-learn.org/1.4/modules/generated/sklearn.linear_model.LogisticRegression.html\">?<span>Documentation for LogisticRegression</span></a><span class=\"sk-estimator-doc-link fitted\">i<span>Fitted</span></span></label><div class=\"sk-toggleable__content fitted\"><pre>LogisticRegression(C=100.75954293416305, max_iter=3000, n_jobs=-1,\n",
       "                   random_state=0)</pre></div> </div></div></div></div>"
      ],
      "text/plain": [
       "LogisticRegression(C=100.75954293416305, max_iter=3000, n_jobs=-1,\n",
       "                   random_state=0)"
      ]
     },
     "execution_count": 13,
     "metadata": {},
     "output_type": "execute_result"
    }
   ],
   "source": [
    "logreg_params = {\n",
    "    \"max_iter\": 3000,\n",
    "    \"random_state\": 0,\n",
    "    \"n_jobs\": -1,\n",
    "    \"penalty\": \"l2\",\n",
    "}\n",
    "\n",
    "comb_params = logreg_params | best_hp\n",
    "\n",
    "logreg = LogisticRegression(**comb_params)\n",
    "logreg.fit(X, y)"
   ]
  },
  {
   "cell_type": "markdown",
   "metadata": {
    "jukit_cell_id": "RjJUksr4Hk"
   },
   "source": [
    "## Shuffle train and validation data"
   ]
  },
  {
   "cell_type": "code",
   "execution_count": 14,
   "metadata": {
    "execution": {
     "iopub.execute_input": "2024-05-22T00:42:50.305016Z",
     "iopub.status.busy": "2024-05-22T00:42:50.304779Z",
     "iopub.status.idle": "2024-05-22T00:43:02.818586Z",
     "shell.execute_reply": "2024-05-22T00:43:02.818167Z"
    },
    "jukit_cell_id": "Hwc1Sal9AZ"
   },
   "outputs": [],
   "source": [
    "X_shuf = X.copy()\n",
    "shuffle_data(X_shuf)\n",
    "\n",
    "X_test_shuf = X_test.copy()\n",
    "shuffle_data(X_test_shuf)"
   ]
  },
  {
   "cell_type": "markdown",
   "metadata": {
    "jukit_cell_id": "bhXkY9LWcL"
   },
   "source": [
    "# Save models and model data"
   ]
  },
  {
   "cell_type": "markdown",
   "metadata": {
    "jukit_cell_id": "IKb986kQIQ"
   },
   "source": [
    "## Store pre-evaluation split data"
   ]
  },
  {
   "cell_type": "code",
   "execution_count": 15,
   "metadata": {
    "execution": {
     "iopub.execute_input": "2024-05-22T00:43:02.820572Z",
     "iopub.status.busy": "2024-05-22T00:43:02.820422Z",
     "iopub.status.idle": "2024-05-22T00:43:02.969411Z",
     "shell.execute_reply": "2024-05-22T00:43:02.968984Z"
    },
    "jukit_cell_id": "4uw0FlkRQV"
   },
   "outputs": [],
   "source": [
    "store_pre_evaluation_data(X, y, restdf[meta_cols], \"train\")\n",
    "store_pre_evaluation_data(X_shuf, y, restdf[meta_cols], \"shuffled_train\")\n",
    "\n",
    "store_pre_evaluation_data(X_test, y_test, testdf[meta_cols], \"test\")\n",
    "store_pre_evaluation_data(X_test_shuf, y_test, testdf[meta_cols], \"shuffled_test\")"
   ]
  },
  {
   "cell_type": "code",
   "execution_count": 16,
   "metadata": {
    "execution": {
     "iopub.execute_input": "2024-05-22T00:43:02.971899Z",
     "iopub.status.busy": "2024-05-22T00:43:02.971744Z",
     "iopub.status.idle": "2024-05-22T00:43:36.758999Z",
     "shell.execute_reply": "2024-05-22T00:43:36.758554Z"
    },
    "jukit_cell_id": "ONBKrPrWx0"
   },
   "outputs": [],
   "source": [
    "dump(logreg, f\"{data_path}/trained_nf1_model.joblib\")\n",
    "dump(le, f\"{data_path}/trained_nf1_model_label_encoder.joblib\")\n",
    "pd.DataFrame(eval_data).to_parquet(f\"{data_path}/nf1_model_pre_evaluation_results.parquet\")"
   ]
  }
 ],
 "metadata": {
  "anaconda-cloud": {},
  "kernelspec": {
   "display_name": "python",
   "language": "python",
   "name": "python3"
  },
  "language_info": {
   "codemirror_mode": {
    "name": "ipython",
    "version": 3
   },
   "file_extension": ".py",
   "mimetype": "text/x-python",
   "name": "python",
   "nbconvert_exporter": "python",
   "pygments_lexer": "ipython3",
   "version": "3.9.19"
  }
 },
 "nbformat": 4,
 "nbformat_minor": 4
}
