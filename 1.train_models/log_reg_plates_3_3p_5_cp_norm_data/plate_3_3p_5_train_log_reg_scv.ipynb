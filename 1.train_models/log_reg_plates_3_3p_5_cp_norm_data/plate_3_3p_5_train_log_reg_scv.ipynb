{
 "cells": [
  {
   "cell_type": "markdown",
   "metadata": {
    "jukit_cell_id": "quD0wavRs0"
   },
   "source": [
    "# Random Search with logistic regression (Genotype Classification)\n",
    "We perform a random search using logistic regression to improve the classification performance on plates 3, 3 prime, and 5."
   ]
  },
  {
   "cell_type": "code",
   "execution_count": 1,
   "metadata": {
    "execution": {
     "iopub.execute_input": "2024-03-22T05:48:38.388862Z",
     "iopub.status.busy": "2024-03-22T05:48:38.388757Z",
     "iopub.status.idle": "2024-03-22T05:48:38.800550Z",
     "shell.execute_reply": "2024-03-22T05:48:38.800144Z"
    },
    "jukit_cell_id": "RcnXoNLyM2"
   },
   "outputs": [],
   "source": [
    "import pathlib\n",
    "import random\n",
    "import sys\n",
    "import warnings\n",
    "from collections import defaultdict\n",
    "\n",
    "import pandas as pd\n",
    "from joblib import dump\n",
    "from sklearn.exceptions import ConvergenceWarning\n",
    "from sklearn.linear_model import LogisticRegression\n",
    "from sklearn.metrics import accuracy_score\n",
    "from sklearn.model_selection import StratifiedKFold\n",
    "from sklearn.preprocessing import LabelEncoder\n",
    "from sklearn.utils import parallel_backend"
   ]
  },
  {
   "cell_type": "markdown",
   "metadata": {
    "jukit_cell_id": "tdSJIClZGb"
   },
   "source": [
    "## Find the root of the git repo on the host system"
   ]
  },
  {
   "cell_type": "code",
   "execution_count": 2,
   "metadata": {
    "execution": {
     "iopub.execute_input": "2024-03-22T05:48:38.802935Z",
     "iopub.status.busy": "2024-03-22T05:48:38.802721Z",
     "iopub.status.idle": "2024-03-22T05:48:38.805774Z",
     "shell.execute_reply": "2024-03-22T05:48:38.805450Z"
    },
    "jukit_cell_id": "QmTyYX7yVG"
   },
   "outputs": [],
   "source": [
    "# Get the current working directory\n",
    "cwd = pathlib.Path.cwd()\n",
    "\n",
    "if (cwd / \".git\").is_dir():\n",
    "    root_dir = cwd\n",
    "\n",
    "else:\n",
    "    root_dir = None\n",
    "    for parent in cwd.parents:\n",
    "        if (parent / \".git\").is_dir():\n",
    "            root_dir = parent\n",
    "            break\n",
    "\n",
    "# Check if a Git root directory was found\n",
    "if root_dir is None:\n",
    "    raise FileNotFoundError(\"No Git root directory found.\")"
   ]
  },
  {
   "cell_type": "markdown",
   "metadata": {
    "jukit_cell_id": "eSQXraMRCI"
   },
   "source": [
    "## Define paths"
   ]
  },
  {
   "cell_type": "markdown",
   "metadata": {
    "jukit_cell_id": "cZx8xNCyZq"
   },
   "source": [
    "### Input"
   ]
  },
  {
   "cell_type": "code",
   "execution_count": 3,
   "metadata": {
    "execution": {
     "iopub.execute_input": "2024-03-22T05:48:38.807575Z",
     "iopub.status.busy": "2024-03-22T05:48:38.807470Z",
     "iopub.status.idle": "2024-03-22T05:48:39.492819Z",
     "shell.execute_reply": "2024-03-22T05:48:39.492436Z"
    },
    "jukit_cell_id": "xdgUvt0md2"
   },
   "outputs": [],
   "source": [
    "plate5df_path = pathlib.Path(root_dir / \"nf1_painting_repo/3.processing_features/data/single_cell_profiles/Plate_5_sc_normalized.parquet\").resolve(strict=True)\n",
    "plate3df_path = pathlib.Path(root_dir / \"nf1_painting_repo/3.processing_features/data/single_cell_profiles/Plate_3_sc_normalized.parquet\").resolve(strict=True)\n",
    "plate3pdf_path = pathlib.Path(root_dir / \"nf1_painting_repo/3.processing_features/data/single_cell_profiles/Plate_3_prime_sc_normalized.parquet\").resolve(strict=True)\n",
    "\n",
    "plate5df = pd.read_parquet(plate5df_path)\n",
    "plate3df = pd.read_parquet(plate3df_path)\n",
    "plate3pdf = pd.read_parquet(plate3pdf_path)\n",
    "\n",
    "sys.path.append(f\"{root_dir}/1.train_models/utils\")\n",
    "from WellSubsetSum import WellSubsetSum"
   ]
  },
  {
   "cell_type": "markdown",
   "metadata": {
    "jukit_cell_id": "G0IEMyaFva"
   },
   "source": [
    "### Outputs"
   ]
  },
  {
   "cell_type": "code",
   "execution_count": 4,
   "metadata": {
    "execution": {
     "iopub.execute_input": "2024-03-22T05:48:39.494720Z",
     "iopub.status.busy": "2024-03-22T05:48:39.494597Z",
     "iopub.status.idle": "2024-03-22T05:48:39.497015Z",
     "shell.execute_reply": "2024-03-22T05:48:39.496727Z"
    },
    "jukit_cell_id": "byqT0qeQSc"
   },
   "outputs": [],
   "source": [
    "models_path = pathlib.Path(\"models\")\n",
    "models_path.mkdir(parents=True, exist_ok=True)\n",
    "\n",
    "data_path = pathlib.Path(\"data\")\n",
    "data_path.mkdir(parents=True, exist_ok=True)"
   ]
  },
  {
   "cell_type": "markdown",
   "metadata": {
    "jukit_cell_id": "YtBIYKchGc"
   },
   "source": [
    "## Splitting and Processing\n",
    "Functions to split and process data"
   ]
  },
  {
   "cell_type": "code",
   "execution_count": 5,
   "metadata": {
    "execution": {
     "iopub.execute_input": "2024-03-22T05:48:39.498264Z",
     "iopub.status.busy": "2024-03-22T05:48:39.498157Z",
     "iopub.status.idle": "2024-03-22T05:48:39.503506Z",
     "shell.execute_reply": "2024-03-22T05:48:39.503220Z"
    },
    "jukit_cell_id": "SjsYz6I9wY"
   },
   "outputs": [],
   "source": [
    "gene_column = \"Metadata_genotype\"\n",
    "meta_cols = plate5df.filter(like=\"Metadata\").columns\n",
    "\n",
    "def down_sample_by_genotype(_df):\n",
    "    \"\"\"\n",
    "    Parameters\n",
    "    ----------\n",
    "    _df: Pandas Dataframe\n",
    "        The data to be downsampled by the gene_column column.\n",
    "\n",
    "    Returns\n",
    "    -------\n",
    "        The data down-sampled by genotype.\n",
    "    \"\"\"\n",
    "\n",
    "    min_gene = _df[gene_column].value_counts().min()\n",
    "    return (_df.groupby(gene_column, group_keys=False)\n",
    "            .apply(lambda x: x.sample(n=min_gene, random_state=0))\n",
    "            )\n",
    "\n",
    "def split_plates(_df, _num_test_wells):\n",
    "    \"\"\"\n",
    "    Parameters\n",
    "    ----------\n",
    "    _df: Pandas Dataframe\n",
    "       Cleaned single-cell plate data after removing nans and other data not included in the data splits.\n",
    "\n",
    "    _num_test_wells: Integer\n",
    "        The number of test wells to be used by the class determined to be the minority class according to the train and validation datasets.\n",
    "\n",
    "    Returns\n",
    "    -------\n",
    "    _restdf: Pandas Dataframe\n",
    "        The train and validation datasets.\n",
    "\n",
    "    _testdf: Pandas Dataframe\n",
    "        The test dataset which contains cells from different wells other than cells in _restdf.\n",
    "    \"\"\"\n",
    "\n",
    "    _welldf = (\n",
    "        _df.groupby([\"Metadata_genotype\", \"Metadata_Well\"])\n",
    "        .size().reset_index(name=\"Metadata_cell_count\")\n",
    "    )\n",
    "\n",
    "    _pkwargs = {\n",
    "        \"_welldf\": _welldf,\n",
    "        \"_category_col\": \"Metadata_genotype\",\n",
    "        \"_well_col\": \"Metadata_Well\",\n",
    "        \"_cell_count_col\": \"Metadata_cell_count\",\n",
    "        \"_test_well_count\": _num_test_wells\n",
    "    }\n",
    "\n",
    "    _gss = WellSubsetSum()\n",
    "    _wells = _gss.update_test_wells(**_pkwargs)\n",
    "\n",
    "    _restdf = _df.loc[~_df[\"Metadata_Well\"].isin(_wells)]\n",
    "    _testdf = _df.loc[_df[\"Metadata_Well\"].isin(_wells)]\n",
    "\n",
    "    return _restdf, _testdf\n",
    "\n",
    "def process_plates(_df):\n",
    "    \"\"\"\n",
    "    Parameters\n",
    "    ----------\n",
    "    _df: Pandas Dataframe\n",
    "        Uncleaned plate data with nans and HET cells to be removed.\n",
    "\n",
    "    Returns\n",
    "    -------\n",
    "    _df: Pandas Dataframe\n",
    "        Cleaned plated data with nans and HET cells removed.\n",
    "    \"\"\"\n",
    "\n",
    "    _df.dropna(inplace=True)\n",
    "    _df = _df.loc[_df[gene_column] != \"HET\"]\n",
    "    return _df"
   ]
  },
  {
   "cell_type": "markdown",
   "metadata": {
    "jukit_cell_id": "R7X8nR4SsB"
   },
   "source": [
    "## Split and process plates\n",
    "We aim to maximize the the number of cells in the train-validation set per plate.\n",
    "We achieve this by selecting specific holdout wells that maximize the minority class in the train-validation set.\n",
    "In other words, we choose the combination of wells for train-validation that, together, include the highest number of cells in the genotype category which has the fewest number of cells.\n",
    "By side-effect, this process also minimizes the number of cells dropped from training in our downsampling procedure to balance datasets for class size prior to model training."
   ]
  },
  {
   "cell_type": "code",
   "execution_count": 6,
   "metadata": {
    "execution": {
     "iopub.execute_input": "2024-03-22T05:48:39.504847Z",
     "iopub.status.busy": "2024-03-22T05:48:39.504623Z",
     "iopub.status.idle": "2024-03-22T05:48:40.427995Z",
     "shell.execute_reply": "2024-03-22T05:48:40.427591Z"
    },
    "jukit_cell_id": "qrteU1j4F9"
   },
   "outputs": [
    {
     "name": "stdout",
     "output_type": "stream",
     "text": [
      "10 wells of 24 wells are test wells for group Null\n",
      "4 wells of 24 wells are test wells for reference group WT\n",
      "Fraction of test cells plate 5 = 0.1301528485409912\n",
      "\n"
     ]
    },
    {
     "name": "stdout",
     "output_type": "stream",
     "text": [
      "15 wells of 24 wells are test wells for group Null\n",
      "7 wells of 24 wells are test wells for reference group WT\n",
      "Fraction of test cells plate 3 = 0.11602497398543184\n",
      "\n",
      "5 wells of 24 wells are test wells for reference group Null\n"
     ]
    },
    {
     "name": "stdout",
     "output_type": "stream",
     "text": [
      "20 wells of 24 wells are test wells for group WT\n",
      "Fraction of test cells plate 3 prime = 0.10559495665878645\n",
      "\n"
     ]
    }
   ],
   "source": [
    "plate5df = process_plates(plate5df)\n",
    "rest5df, test5df = split_plates(plate5df, 4)\n",
    "rest5df, test5df = down_sample_by_genotype(rest5df), down_sample_by_genotype(test5df)\n",
    "num_test = test5df.shape[0]\n",
    "print(f\"Fraction of test cells plate 5 = {num_test / (num_test + rest5df.shape[0])}\\n\")\n",
    "\n",
    "plate3df = process_plates(plate3df)\n",
    "rest3df, test3df = split_plates(plate3df, 7)\n",
    "rest3df, test3df = down_sample_by_genotype(rest3df), down_sample_by_genotype(test3df)\n",
    "num_test = test3df.shape[0]\n",
    "print(f\"Fraction of test cells plate 3 = {num_test / (num_test + rest3df.shape[0])}\\n\")\n",
    "\n",
    "plate3pdf[\"Metadata_Plate\"] = \"Plate_3p\"\n",
    "plate3pdf = process_plates(plate3pdf)\n",
    "rest3pdf, test3pdf = split_plates(plate3pdf, 5)\n",
    "rest3pdf, test3pdf = down_sample_by_genotype(rest3pdf), down_sample_by_genotype(test3pdf)\n",
    "num_test = test3pdf.shape[0]\n",
    "print(f\"Fraction of test cells plate 3 prime = {num_test / (num_test + rest3pdf.shape[0])}\\n\")"
   ]
  },
  {
   "cell_type": "markdown",
   "metadata": {
    "jukit_cell_id": "pnZI3c8SRh"
   },
   "source": [
    "## Harmonize data across plates to each data split"
   ]
  },
  {
   "cell_type": "code",
   "execution_count": 7,
   "metadata": {
    "execution": {
     "iopub.execute_input": "2024-03-22T05:48:40.429546Z",
     "iopub.status.busy": "2024-03-22T05:48:40.429431Z",
     "iopub.status.idle": "2024-03-22T05:48:40.574767Z",
     "shell.execute_reply": "2024-03-22T05:48:40.574333Z"
    },
    "jukit_cell_id": "JPOu8mYg6w"
   },
   "outputs": [],
   "source": [
    "# Columns common to all plates\n",
    "plate_cols = list(set(plate5df.columns) & set(plate3df.columns) & set(plate3pdf.columns))\n",
    "\n",
    "restdf = pd.concat([rest5df[plate_cols], rest3df[plate_cols], rest3pdf[plate_cols]], ignore_index=True)\n",
    "\n",
    "testdf = pd.concat([test5df[plate_cols], test3df[plate_cols], test3pdf[plate_cols]], ignore_index=True)"
   ]
  },
  {
   "cell_type": "markdown",
   "metadata": {
    "jukit_cell_id": "7ckV1bxaO2"
   },
   "source": [
    "## Encode genotypes and extract feature data"
   ]
  },
  {
   "cell_type": "code",
   "execution_count": 8,
   "metadata": {
    "execution": {
     "iopub.execute_input": "2024-03-22T05:48:40.576996Z",
     "iopub.status.busy": "2024-03-22T05:48:40.576855Z",
     "iopub.status.idle": "2024-03-22T05:48:40.605577Z",
     "shell.execute_reply": "2024-03-22T05:48:40.605200Z"
    },
    "jukit_cell_id": "m7apYZPkME"
   },
   "outputs": [],
   "source": [
    "le = LabelEncoder()\n",
    "\n",
    "y = le.fit_transform(restdf[\"Metadata_genotype\"])\n",
    "X = restdf.drop(columns=meta_cols)"
   ]
  },
  {
   "cell_type": "markdown",
   "metadata": {
    "jukit_cell_id": "kPw9YcKK2H"
   },
   "source": [
    "# Train Models"
   ]
  },
  {
   "cell_type": "markdown",
   "metadata": {
    "jukit_cell_id": "U6eyLl0ZPH"
   },
   "source": [
    "## Specify parameters for training"
   ]
  },
  {
   "cell_type": "code",
   "execution_count": 9,
   "metadata": {
    "execution": {
     "iopub.execute_input": "2024-03-22T05:48:40.607184Z",
     "iopub.status.busy": "2024-03-22T05:48:40.607071Z",
     "iopub.status.idle": "2024-03-22T05:48:40.610160Z",
     "shell.execute_reply": "2024-03-22T05:48:40.609880Z"
    },
    "jukit_cell_id": "sZFW0vn0zv"
   },
   "outputs": [],
   "source": [
    "logreg_params = {\n",
    "    \"max_iter\": 250,\n",
    "    \"random_state\": 0,\n",
    "    \"n_jobs\": -1,\n",
    "    \"penalty\": \"l2\",\n",
    "}\n",
    "\n",
    "# Random sampling range of hyperparameter\n",
    "param_ranges = {\n",
    "    \"C\": (0, 200)\n",
    "}\n",
    "\n",
    "# Number of iteration to optimize hyperparameters\n",
    "rand_iter = 500\n",
    "\n",
    "# Best accuracy\n",
    "best_acc = 0\n",
    "\n",
    "# Initial accuracy\n",
    "acc = 0\n",
    "\n",
    "# Number of folds\n",
    "n_splits = 8\n",
    "\n",
    "\n",
    "# Generate hyperparameter samples\n",
    "random_params = {\n",
    "    i:\n",
    "    {key: random.uniform(*param_ranges[key]) for key in param_ranges}\n",
    "    for i in range(rand_iter)\n",
    "}"
   ]
  },
  {
   "cell_type": "markdown",
   "metadata": {
    "jukit_cell_id": "uBQzEOgaBh"
   },
   "source": [
    "## Hyperparameter search"
   ]
  },
  {
   "cell_type": "code",
   "execution_count": 10,
   "metadata": {
    "execution": {
     "iopub.execute_input": "2024-03-22T05:48:40.611518Z",
     "iopub.status.busy": "2024-03-22T05:48:40.611411Z",
     "iopub.status.idle": "2024-03-22T09:05:26.699465Z",
     "shell.execute_reply": "2024-03-22T09:05:26.698949Z"
    },
    "jukit_cell_id": "rHYvmbnZNf"
   },
   "outputs": [
    {
     "name": "stdout",
     "output_type": "stream",
     "text": [
      "Best average validation accuracy = 0.9449844979542816\n"
     ]
    }
   ],
   "source": [
    "# Store model results for evaluation\n",
    "eval_data = defaultdict(list)\n",
    "\n",
    "# Iterate through hyperparameters\n",
    "for idx, rparams in random_params.items():\n",
    "\n",
    "    skf = StratifiedKFold(n_splits=n_splits, shuffle=True, random_state=0)\n",
    "\n",
    "    # Combine parameters in current search with logistic regression parameters\n",
    "    comb_params = logreg_params | rparams\n",
    "\n",
    "    # Loop through the folds\n",
    "    for fold, (train_index, val_index) in enumerate(skf.split(X, y)):\n",
    "\n",
    "\n",
    "        X_train, X_val = X.iloc[train_index], X.iloc[val_index]\n",
    "        y_train, y_val = y[train_index], y[val_index]\n",
    "\n",
    "        # Prevent the convergence warning in sklearn\n",
    "        with parallel_backend(\"multiprocessing\"):\n",
    "            with warnings.catch_warnings():\n",
    "                warnings.filterwarnings(\n",
    "                    \"ignore\", category=ConvergenceWarning, module=\"sklearn\"\n",
    "                )\n",
    "                logreg = LogisticRegression(**comb_params)\n",
    "                logreg.fit(X_train, y_train)\n",
    "\n",
    "        # Cumulative accuracy for all folds\n",
    "        preds = logreg.predict(X_val)\n",
    "        acc += accuracy_score(y_val, preds)\n",
    "\n",
    "        # Store model data for folds\n",
    "        eval_data[\"plate\"].extend(restdf.iloc[val_index][\"Metadata_Plate\"].tolist())\n",
    "        eval_data[\"datasplit\"].extend([\"val\"] * val_index.shape[0])\n",
    "        eval_data[\"predicted_genotype\"].extend(preds.tolist())\n",
    "        eval_data[\"true_genotype\"].extend(y_val.tolist())\n",
    "\n",
    "    # Average accuracy for the folds\n",
    "    acc = acc / n_splits\n",
    "\n",
    "    # Store the data with the best performance\n",
    "    if acc > best_acc:\n",
    "        best_hparam = eval_data.copy()\n",
    "        best_acc = acc\n",
    "        best_hp = rparams\n",
    "\n",
    "print(f\"Best average validation accuracy = {best_acc}\")"
   ]
  },
  {
   "cell_type": "markdown",
   "metadata": {
    "jukit_cell_id": "4D42C7hQua"
   },
   "source": [
    "## Retrain model"
   ]
  },
  {
   "cell_type": "code",
   "execution_count": 11,
   "metadata": {
    "execution": {
     "iopub.execute_input": "2024-03-22T09:05:26.702075Z",
     "iopub.status.busy": "2024-03-22T09:05:26.701901Z",
     "iopub.status.idle": "2024-03-22T09:05:42.196711Z",
     "shell.execute_reply": "2024-03-22T09:05:42.196138Z"
    },
    "jukit_cell_id": "FNeiZcYJzz"
   },
   "outputs": [
    {
     "data": {
      "text/html": [
       "<style>#sk-container-id-1 {color: black;}#sk-container-id-1 pre{padding: 0;}#sk-container-id-1 div.sk-toggleable {background-color: white;}#sk-container-id-1 label.sk-toggleable__label {cursor: pointer;display: block;width: 100%;margin-bottom: 0;padding: 0.3em;box-sizing: border-box;text-align: center;}#sk-container-id-1 label.sk-toggleable__label-arrow:before {content: \"▸\";float: left;margin-right: 0.25em;color: #696969;}#sk-container-id-1 label.sk-toggleable__label-arrow:hover:before {color: black;}#sk-container-id-1 div.sk-estimator:hover label.sk-toggleable__label-arrow:before {color: black;}#sk-container-id-1 div.sk-toggleable__content {max-height: 0;max-width: 0;overflow: hidden;text-align: left;background-color: #f0f8ff;}#sk-container-id-1 div.sk-toggleable__content pre {margin: 0.2em;color: black;border-radius: 0.25em;background-color: #f0f8ff;}#sk-container-id-1 input.sk-toggleable__control:checked~div.sk-toggleable__content {max-height: 200px;max-width: 100%;overflow: auto;}#sk-container-id-1 input.sk-toggleable__control:checked~label.sk-toggleable__label-arrow:before {content: \"▾\";}#sk-container-id-1 div.sk-estimator input.sk-toggleable__control:checked~label.sk-toggleable__label {background-color: #d4ebff;}#sk-container-id-1 div.sk-label input.sk-toggleable__control:checked~label.sk-toggleable__label {background-color: #d4ebff;}#sk-container-id-1 input.sk-hidden--visually {border: 0;clip: rect(1px 1px 1px 1px);clip: rect(1px, 1px, 1px, 1px);height: 1px;margin: -1px;overflow: hidden;padding: 0;position: absolute;width: 1px;}#sk-container-id-1 div.sk-estimator {font-family: monospace;background-color: #f0f8ff;border: 1px dotted black;border-radius: 0.25em;box-sizing: border-box;margin-bottom: 0.5em;}#sk-container-id-1 div.sk-estimator:hover {background-color: #d4ebff;}#sk-container-id-1 div.sk-parallel-item::after {content: \"\";width: 100%;border-bottom: 1px solid gray;flex-grow: 1;}#sk-container-id-1 div.sk-label:hover label.sk-toggleable__label {background-color: #d4ebff;}#sk-container-id-1 div.sk-serial::before {content: \"\";position: absolute;border-left: 1px solid gray;box-sizing: border-box;top: 0;bottom: 0;left: 50%;z-index: 0;}#sk-container-id-1 div.sk-serial {display: flex;flex-direction: column;align-items: center;background-color: white;padding-right: 0.2em;padding-left: 0.2em;position: relative;}#sk-container-id-1 div.sk-item {position: relative;z-index: 1;}#sk-container-id-1 div.sk-parallel {display: flex;align-items: stretch;justify-content: center;background-color: white;position: relative;}#sk-container-id-1 div.sk-item::before, #sk-container-id-1 div.sk-parallel-item::before {content: \"\";position: absolute;border-left: 1px solid gray;box-sizing: border-box;top: 0;bottom: 0;left: 50%;z-index: -1;}#sk-container-id-1 div.sk-parallel-item {display: flex;flex-direction: column;z-index: 1;position: relative;background-color: white;}#sk-container-id-1 div.sk-parallel-item:first-child::after {align-self: flex-end;width: 50%;}#sk-container-id-1 div.sk-parallel-item:last-child::after {align-self: flex-start;width: 50%;}#sk-container-id-1 div.sk-parallel-item:only-child::after {width: 0;}#sk-container-id-1 div.sk-dashed-wrapped {border: 1px dashed gray;margin: 0 0.4em 0.5em 0.4em;box-sizing: border-box;padding-bottom: 0.4em;background-color: white;}#sk-container-id-1 div.sk-label label {font-family: monospace;font-weight: bold;display: inline-block;line-height: 1.2em;}#sk-container-id-1 div.sk-label-container {text-align: center;}#sk-container-id-1 div.sk-container {/* jupyter's `normalize.less` sets `[hidden] { display: none; }` but bootstrap.min.css set `[hidden] { display: none !important; }` so we also need the `!important` here to be able to override the default hidden behavior on the sphinx rendered scikit-learn.org. See: https://github.com/scikit-learn/scikit-learn/issues/21755 */display: inline-block !important;position: relative;}#sk-container-id-1 div.sk-text-repr-fallback {display: none;}</style><div id=\"sk-container-id-1\" class=\"sk-top-container\"><div class=\"sk-text-repr-fallback\"><pre>LogisticRegression(C=1.4335983272394826, max_iter=3000, n_jobs=-1,\n",
       "                   random_state=0)</pre><b>In a Jupyter environment, please rerun this cell to show the HTML representation or trust the notebook. <br />On GitHub, the HTML representation is unable to render, please try loading this page with nbviewer.org.</b></div><div class=\"sk-container\" hidden><div class=\"sk-item\"><div class=\"sk-estimator sk-toggleable\"><input class=\"sk-toggleable__control sk-hidden--visually\" id=\"sk-estimator-id-1\" type=\"checkbox\" checked><label for=\"sk-estimator-id-1\" class=\"sk-toggleable__label sk-toggleable__label-arrow\">LogisticRegression</label><div class=\"sk-toggleable__content\"><pre>LogisticRegression(C=1.4335983272394826, max_iter=3000, n_jobs=-1,\n",
       "                   random_state=0)</pre></div></div></div></div></div>"
      ],
      "text/plain": [
       "LogisticRegression(C=1.4335983272394826, max_iter=3000, n_jobs=-1,\n",
       "                   random_state=0)"
      ]
     },
     "execution_count": 11,
     "metadata": {},
     "output_type": "execute_result"
    }
   ],
   "source": [
    "logreg_params = {\n",
    "    \"max_iter\": 3000,\n",
    "    \"random_state\": 0,\n",
    "    \"n_jobs\": -1,\n",
    "    \"penalty\": \"l2\",\n",
    "}\n",
    "\n",
    "comb_params = logreg_params | best_hp\n",
    "\n",
    "logreg = LogisticRegression(**comb_params)\n",
    "logreg.fit(X, y)"
   ]
  },
  {
   "cell_type": "markdown",
   "metadata": {
    "jukit_cell_id": "IKb986kQIQ"
   },
   "source": [
    "## Store training data"
   ]
  },
  {
   "cell_type": "code",
   "execution_count": 12,
   "metadata": {
    "execution": {
     "iopub.execute_input": "2024-03-22T09:05:42.198466Z",
     "iopub.status.busy": "2024-03-22T09:05:42.198241Z",
     "iopub.status.idle": "2024-03-22T09:05:42.225257Z",
     "shell.execute_reply": "2024-03-22T09:05:42.224788Z"
    },
    "jukit_cell_id": "mQVlNZDz4b"
   },
   "outputs": [],
   "source": [
    "eval_data[\"plate\"].extend(restdf[\"Metadata_Plate\"].tolist())\n",
    "eval_data[\"datasplit\"].extend([\"train\"] * X.shape[0])\n",
    "eval_data[\"predicted_genotype\"].extend(logreg.predict(X).tolist())\n",
    "eval_data[\"true_genotype\"].extend(y.tolist())"
   ]
  },
  {
   "cell_type": "markdown",
   "metadata": {
    "jukit_cell_id": "bhXkY9LWcL"
   },
   "source": [
    "# Save models and model data"
   ]
  },
  {
   "cell_type": "markdown",
   "metadata": {
    "jukit_cell_id": "monyfyuVf2"
   },
   "source": [
    "## Save model"
   ]
  },
  {
   "cell_type": "code",
   "execution_count": 13,
   "metadata": {
    "execution": {
     "iopub.execute_input": "2024-03-22T09:05:42.227963Z",
     "iopub.status.busy": "2024-03-22T09:05:42.227783Z",
     "iopub.status.idle": "2024-03-22T09:05:42.235072Z",
     "shell.execute_reply": "2024-03-22T09:05:42.234687Z"
    },
    "jukit_cell_id": "Fv2iDCL3j6"
   },
   "outputs": [
    {
     "data": {
      "text/plain": [
       "['data/label_encoder_log_reg_cp_fs_data_plate_5.joblib']"
      ]
     },
     "execution_count": 13,
     "metadata": {},
     "output_type": "execute_result"
    }
   ],
   "source": [
    "data_suf = \"log_reg_cp_fs_data_plate_5\"\n",
    "\n",
    "# Save the models\n",
    "dump(logreg, f\"{models_path}/{data_suf}.joblib\")\n",
    "\n",
    "# Save label encoder\n",
    "dump(le, f\"{data_path}/label_encoder_{data_suf}.joblib\")"
   ]
  },
  {
   "cell_type": "markdown",
   "metadata": {
    "jukit_cell_id": "VFwF5oW8nq"
   },
   "source": [
    "## Save data folds"
   ]
  },
  {
   "cell_type": "code",
   "execution_count": 14,
   "metadata": {
    "execution": {
     "iopub.execute_input": "2024-03-22T09:05:42.237864Z",
     "iopub.status.busy": "2024-03-22T09:05:42.237139Z",
     "iopub.status.idle": "2024-03-22T09:05:44.004160Z",
     "shell.execute_reply": "2024-03-22T09:05:44.003728Z"
    },
    "jukit_cell_id": "kZEVmnYsfD"
   },
   "outputs": [],
   "source": [
    "pd.DataFrame(eval_data).to_parquet(f\"{data_path}/model_data_{data_suf}.parquet\")"
   ]
  }
 ],
 "metadata": {
  "anaconda-cloud": {},
  "kernelspec": {
   "display_name": "python",
   "language": "python",
   "name": "python3"
  },
  "language_info": {
   "codemirror_mode": {
    "name": "ipython",
    "version": 3
   },
   "file_extension": ".py",
   "mimetype": "text/x-python",
   "name": "python",
   "nbconvert_exporter": "python",
   "pygments_lexer": "ipython3",
   "version": "3.9.18"
  }
 },
 "nbformat": 4,
 "nbformat_minor": 4
}
