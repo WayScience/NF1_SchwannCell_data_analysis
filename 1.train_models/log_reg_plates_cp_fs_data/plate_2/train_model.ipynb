{
 "cells": [
  {
   "cell_type": "markdown",
   "metadata": {
    "jukit_cell_id": "9kOKvRXq4e"
   },
   "source": [
    "# Training a Logistic Regression Model"
   ]
  },
  {
   "cell_type": "markdown",
   "metadata": {
    "jukit_cell_id": "GOPeJtwlep"
   },
   "source": [
    "## Imports"
   ]
  },
  {
   "cell_type": "code",
   "execution_count": 1,
   "metadata": {
    "execution": {
     "iopub.execute_input": "2023-07-06T15:45:08.782287Z",
     "iopub.status.busy": "2023-07-06T15:45:08.782122Z",
     "iopub.status.idle": "2023-07-06T15:45:09.169004Z",
     "shell.execute_reply": "2023-07-06T15:45:09.168541Z"
    },
    "jukit_cell_id": "XnaEnnB6b0"
   },
   "outputs": [],
   "source": [
    "import pandas as pd\n",
    "import sys\n",
    "from pathlib import Path\n",
    "from joblib import dump\n",
    "from sklearn.linear_model import LogisticRegression"
   ]
  },
  {
   "cell_type": "markdown",
   "metadata": {
    "jukit_cell_id": "nz0bLO8j8I"
   },
   "source": [
    "## Find the git root Directory"
   ]
  },
  {
   "cell_type": "code",
   "execution_count": 2,
   "metadata": {
    "execution": {
     "iopub.execute_input": "2023-07-06T15:45:09.170745Z",
     "iopub.status.busy": "2023-07-06T15:45:09.170432Z",
     "iopub.status.idle": "2023-07-06T15:45:09.173240Z",
     "shell.execute_reply": "2023-07-06T15:45:09.172881Z"
    },
    "jukit_cell_id": "FKd1dIo45E"
   },
   "outputs": [],
   "source": [
    "# Get the current working directory\n",
    "cwd = Path.cwd()\n",
    "\n",
    "if (cwd / \".git\").is_dir():\n",
    "    root_dir = cwd\n",
    "\n",
    "else:\n",
    "    root_dir = None\n",
    "    for parent in cwd.parents:\n",
    "        if (parent / \".git\").is_dir():\n",
    "            root_dir = parent\n",
    "            break\n",
    "\n",
    "# Check if a Git root directory was found\n",
    "if root_dir is None:\n",
    "    raise FileNotFoundError(\"No Git root directory found.\")"
   ]
  },
  {
   "cell_type": "markdown",
   "metadata": {
    "jukit_cell_id": "mG64sxNen5"
   },
   "source": [
    "## Import Utils"
   ]
  },
  {
   "cell_type": "code",
   "execution_count": 3,
   "metadata": {
    "execution": {
     "iopub.execute_input": "2023-07-06T15:45:09.174823Z",
     "iopub.status.busy": "2023-07-06T15:45:09.174665Z",
     "iopub.status.idle": "2023-07-06T15:45:09.176944Z",
     "shell.execute_reply": "2023-07-06T15:45:09.176593Z"
    },
    "jukit_cell_id": "wRZI5OrJHU"
   },
   "outputs": [],
   "source": [
    "sys.path.append(f\"{root_dir}/1.train_models/log_reg_plates_cp_fs_data/utils\")\n",
    "import log_reg_plates_cp_fs_data_train_util as au"
   ]
  },
  {
   "cell_type": "code",
   "execution_count": 4,
   "metadata": {
    "execution": {
     "iopub.execute_input": "2023-07-06T15:45:09.178422Z",
     "iopub.status.busy": "2023-07-06T15:45:09.178141Z",
     "iopub.status.idle": "2023-07-06T15:45:09.180125Z",
     "shell.execute_reply": "2023-07-06T15:45:09.179829Z"
    },
    "jukit_cell_id": "W0r3iUcGVA"
   },
   "outputs": [],
   "source": [
    "# Random integer as a seed\n",
    "rnd_val = 0"
   ]
  },
  {
   "cell_type": "markdown",
   "metadata": {
    "jukit_cell_id": "Dcr36XRfzf"
   },
   "source": [
    "## Create paths"
   ]
  },
  {
   "cell_type": "code",
   "execution_count": 5,
   "metadata": {
    "execution": {
     "iopub.execute_input": "2023-07-06T15:45:09.181449Z",
     "iopub.status.busy": "2023-07-06T15:45:09.181210Z",
     "iopub.status.idle": "2023-07-06T15:45:09.183518Z",
     "shell.execute_reply": "2023-07-06T15:45:09.183220Z"
    },
    "jukit_cell_id": "EYGHUOxuTt"
   },
   "outputs": [],
   "source": [
    "filename = \"Plate_2_sc_norm_fs.parquet\"\n",
    "plate_path = Path(\n",
    "    f\"{root_dir}/nf1_painting_repo/3.processing_features/data/feature_selected_data\"\n",
    ")\n",
    "\n",
    "path = plate_path / filename\n",
    "\n",
    "\n",
    "data_path = Path(\"data\")\n",
    "output_prefix = \"plate_2_cp_fs_data\"\n",
    "# Create the parent directories if they don't exist\n",
    "data_path.mkdir(parents=True, exist_ok=True)"
   ]
  },
  {
   "cell_type": "markdown",
   "metadata": {
    "jukit_cell_id": "Rl2D0bgEX6"
   },
   "source": [
    "## Generate plate dataframe"
   ]
  },
  {
   "cell_type": "code",
   "execution_count": 6,
   "metadata": {
    "execution": {
     "iopub.execute_input": "2023-07-06T15:45:09.184855Z",
     "iopub.status.busy": "2023-07-06T15:45:09.184584Z",
     "iopub.status.idle": "2023-07-06T15:45:09.217679Z",
     "shell.execute_reply": "2023-07-06T15:45:09.217293Z"
    },
    "jukit_cell_id": "A8cPG2OifP"
   },
   "outputs": [],
   "source": [
    "platedf = pd.read_parquet(path)"
   ]
  },
  {
   "cell_type": "markdown",
   "metadata": {
    "jukit_cell_id": "iUa93hXkFi"
   },
   "source": [
    "## Get the best model, the test set, and the label encode"
   ]
  },
  {
   "cell_type": "code",
   "execution_count": 7,
   "metadata": {
    "execution": {
     "iopub.execute_input": "2023-07-06T15:45:09.219492Z",
     "iopub.status.busy": "2023-07-06T15:45:09.219241Z",
     "iopub.status.idle": "2023-07-06T15:45:11.930608Z",
     "shell.execute_reply": "2023-07-06T15:45:11.930194Z"
    },
    "jukit_cell_id": "L4K1PaebDE"
   },
   "outputs": [
    {
     "name": "stderr",
     "output_type": "stream",
     "text": [
      "/home/camo/projects/NF1_SchwannCell_data_analysis/1.train_models/log_reg_plates_cp_fs_data/utils/log_reg_plates_cp_fs_data_train_util.py:158: SettingWithCopyWarning: \n",
      "A value is trying to be set on a copy of a slice from a DataFrame.\n",
      "Try using .loc[row_indexer,col_indexer] = value instead\n",
      "\n",
      "See the caveats in the documentation: https://pandas.pydata.org/pandas-docs/stable/user_guide/indexing.html#returning-a-view-versus-a-copy\n",
      "  testdf[\"label\"] = le.fit_transform(testdf[target_column].values)\n",
      "/home/camo/projects/NF1_SchwannCell_data_analysis/1.train_models/log_reg_plates_cp_fs_data/utils/log_reg_plates_cp_fs_data_train_util.py:159: SettingWithCopyWarning: \n",
      "A value is trying to be set on a copy of a slice from a DataFrame.\n",
      "Try using .loc[row_indexer,col_indexer] = value instead\n",
      "\n",
      "See the caveats in the documentation: https://pandas.pydata.org/pandas-docs/stable/user_guide/indexing.html#returning-a-view-versus-a-copy\n",
      "  traindf[\"label\"] = le.transform(traindf[target_column].values)\n"
     ]
    }
   ],
   "source": [
    "lr = LogisticRegression(max_iter=1000, solver=\"sag\", random_state=rnd_val, n_jobs=-1)\n",
    "\n",
    "lr, testdf, le = au.get_model_data(platedf, lr, will_cross_validate=True)"
   ]
  },
  {
   "cell_type": "markdown",
   "metadata": {
    "jukit_cell_id": "zrPcdDGOjB"
   },
   "source": [
    "## Save Data"
   ]
  },
  {
   "cell_type": "code",
   "execution_count": 8,
   "metadata": {
    "execution": {
     "iopub.execute_input": "2023-07-06T15:45:11.932641Z",
     "iopub.status.busy": "2023-07-06T15:45:11.932462Z",
     "iopub.status.idle": "2023-07-06T15:45:12.007277Z",
     "shell.execute_reply": "2023-07-06T15:45:12.007006Z"
    },
    "jukit_cell_id": "inswCM144a"
   },
   "outputs": [
    {
     "data": {
      "text/plain": [
       "['data/plate_2_cp_fs_data_label_encoder.joblib']"
      ]
     },
     "execution_count": 8,
     "metadata": {},
     "output_type": "execute_result"
    }
   ],
   "source": [
    "dump(lr, data_path / f\"{output_prefix}_lr_model.joblib\")\n",
    "testdf.to_csv(f\"{data_path}/{output_prefix}_testdf.tsv\", sep=\"\\t\", index=False)\n",
    "dump(le, data_path / f\"{output_prefix}_label_encoder.joblib\")"
   ]
  }
 ],
 "metadata": {
  "anaconda-cloud": {},
  "kernelspec": {
   "display_name": "python",
   "language": "python",
   "name": "python3"
  },
  "language_info": {
   "codemirror_mode": {
    "name": "ipython",
    "version": 3
   },
   "file_extension": ".py",
   "mimetype": "text/x-python",
   "name": "python",
   "nbconvert_exporter": "python",
   "pygments_lexer": "ipython3",
   "version": "3.9.16"
  }
 },
 "nbformat": 4,
 "nbformat_minor": 4
}
