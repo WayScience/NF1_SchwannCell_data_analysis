{
 "cells": [
  {
   "cell_type": "markdown",
   "metadata": {
    "jukit_cell_id": "IW1wyrmrZ3"
   },
   "source": [
    "# Training a Logistic Regression Model"
   ]
  },
  {
   "cell_type": "markdown",
   "metadata": {
    "jukit_cell_id": "LmLGUNGDUc"
   },
   "source": [
    "## Imports"
   ]
  },
  {
   "cell_type": "code",
   "execution_count": 1,
   "metadata": {
    "execution": {
     "iopub.execute_input": "2023-07-01T01:23:22.578564Z",
     "iopub.status.busy": "2023-07-01T01:23:22.578219Z",
     "iopub.status.idle": "2023-07-01T01:23:22.950215Z",
     "shell.execute_reply": "2023-07-01T01:23:22.949884Z"
    },
    "jukit_cell_id": "Hh2oHsBslU"
   },
   "outputs": [],
   "source": [
    "import pandas as pd\n",
    "import sys\n",
    "from pathlib import Path\n",
    "from joblib import dump\n",
    "from sklearn.linear_model import LogisticRegression"
   ]
  },
  {
   "cell_type": "markdown",
   "metadata": {
    "jukit_cell_id": "guK4Fbs9IU"
   },
   "source": [
    "## Find the git root Directory"
   ]
  },
  {
   "cell_type": "code",
   "execution_count": 2,
   "metadata": {
    "execution": {
     "iopub.execute_input": "2023-07-01T01:23:22.951911Z",
     "iopub.status.busy": "2023-07-01T01:23:22.951699Z",
     "iopub.status.idle": "2023-07-01T01:23:22.954230Z",
     "shell.execute_reply": "2023-07-01T01:23:22.953979Z"
    },
    "jukit_cell_id": "efxmwjuUJq"
   },
   "outputs": [],
   "source": [
    "# Get the current working directory\n",
    "cwd = Path.cwd()\n",
    "\n",
    "if (cwd / \".git\").is_dir():\n",
    "    root_dir = cwd\n",
    "\n",
    "else:\n",
    "    root_dir = None\n",
    "    for parent in cwd.parents:\n",
    "        if (parent / \".git\").is_dir():\n",
    "            root_dir = parent\n",
    "            break\n",
    "\n",
    "# Check if a Git root directory was found\n",
    "if root_dir is None:\n",
    "    raise FileNotFoundError(\"No Git root directory found.\")"
   ]
  },
  {
   "cell_type": "markdown",
   "metadata": {
    "jukit_cell_id": "BAt0N5EBUX"
   },
   "source": [
    "## Import Utils"
   ]
  },
  {
   "cell_type": "code",
   "execution_count": 3,
   "metadata": {
    "execution": {
     "iopub.execute_input": "2023-07-01T01:23:22.955450Z",
     "iopub.status.busy": "2023-07-01T01:23:22.955188Z",
     "iopub.status.idle": "2023-07-01T01:23:22.957100Z",
     "shell.execute_reply": "2023-07-01T01:23:22.956860Z"
    },
    "jukit_cell_id": "SjYZOzNmg7"
   },
   "outputs": [],
   "source": [
    "sys.path.append(f\"{root_dir}/1.train_models/log_reg_plates_cp_fs_data/utils\")\n",
    "import log_reg_plates_cp_fs_data_train_util as au"
   ]
  },
  {
   "cell_type": "code",
   "execution_count": 4,
   "metadata": {
    "execution": {
     "iopub.execute_input": "2023-07-01T01:23:22.958091Z",
     "iopub.status.busy": "2023-07-01T01:23:22.957901Z",
     "iopub.status.idle": "2023-07-01T01:23:22.959477Z",
     "shell.execute_reply": "2023-07-01T01:23:22.959238Z"
    },
    "jukit_cell_id": "EBc3nCzByb"
   },
   "outputs": [],
   "source": [
    "# Random value for all seeds\n",
    "rnd_val = 0"
   ]
  },
  {
   "cell_type": "markdown",
   "metadata": {
    "jukit_cell_id": "8h7gL7A7gZ"
   },
   "source": [
    "# Converting csv to pandas dataframe"
   ]
  },
  {
   "cell_type": "code",
   "execution_count": 5,
   "metadata": {
    "execution": {
     "iopub.execute_input": "2023-07-01T01:23:22.960623Z",
     "iopub.status.busy": "2023-07-01T01:23:22.960382Z",
     "iopub.status.idle": "2023-07-01T01:23:22.962530Z",
     "shell.execute_reply": "2023-07-01T01:23:22.962287Z"
    },
    "jukit_cell_id": "35gBV3H5Jo"
   },
   "outputs": [],
   "source": [
    "filename3 = \"Plate_3_sc_norm_fs.parquet\"\n",
    "filename3p = \"Plate_3_prime_sc_norm_fs.parquet\"\n",
    "plate_path = Path(\n",
    "    f\"{root_dir}/nf1_painting_repo/3.processing_features/data/feature_selected_data\"\n",
    ")\n",
    "\n",
    "data_path = Path(\"data\")\n",
    "\n",
    "data_path.mkdir(\n",
    "    parents=True, exist_ok=True\n",
    ")  # Create the parent directories if they don't exist\n",
    "\n",
    "output_prefix = \"plates_3_3p_cp_fs_data\"\n",
    "\n",
    "path3 = plate_path / filename3\n",
    "\n",
    "path3p = plate_path / filename3p"
   ]
  },
  {
   "cell_type": "markdown",
   "metadata": {
    "jukit_cell_id": "2FRr4nFP4J"
   },
   "source": [
    "## Generate plate dataframes"
   ]
  },
  {
   "cell_type": "code",
   "execution_count": 6,
   "metadata": {
    "execution": {
     "iopub.execute_input": "2023-07-01T01:23:22.963651Z",
     "iopub.status.busy": "2023-07-01T01:23:22.963408Z",
     "iopub.status.idle": "2023-07-01T01:23:23.119057Z",
     "shell.execute_reply": "2023-07-01T01:23:23.118685Z"
    },
    "jukit_cell_id": "N0H3V1RbTX"
   },
   "outputs": [],
   "source": [
    "# Returns the dataframe returned by the plate 3 parquet file\n",
    "plate3df = pd.read_parquet(path3)\n",
    "\n",
    "# Returns the dataframe returned by the plate 3 prime parquet file\n",
    "plate3pdf = pd.read_parquet(path3p)"
   ]
  },
  {
   "cell_type": "markdown",
   "metadata": {
    "jukit_cell_id": "6lb4kpNpXs"
   },
   "source": [
    "# Preprocess Data"
   ]
  },
  {
   "cell_type": "markdown",
   "metadata": {
    "jukit_cell_id": "CssJ87R6PQ"
   },
   "source": [
    "## Use only common columns"
   ]
  },
  {
   "cell_type": "code",
   "execution_count": 7,
   "metadata": {
    "execution": {
     "iopub.execute_input": "2023-07-01T01:23:23.120878Z",
     "iopub.status.busy": "2023-07-01T01:23:23.120647Z",
     "iopub.status.idle": "2023-07-01T01:23:23.162420Z",
     "shell.execute_reply": "2023-07-01T01:23:23.162058Z"
    },
    "jukit_cell_id": "bCflTponOs"
   },
   "outputs": [],
   "source": [
    "# Set plate column:\n",
    "plate3df[\"Metadata_plate\"] = \"3\"\n",
    "plate3pdf[\"Metadata_plate\"] = \"3p\"\n",
    "\n",
    "common_columns = list(plate3df.columns.intersection(plate3pdf.columns))\n",
    "plate3df = plate3df.loc[:, common_columns]\n",
    "plate3pdf = plate3pdf.loc[:, common_columns]\n",
    "\n",
    "# Combine the plate dataframes:\n",
    "platedf = pd.concat([plate3df, plate3pdf], axis=\"rows\")"
   ]
  },
  {
   "cell_type": "markdown",
   "metadata": {
    "jukit_cell_id": "ahKu0uCfc9"
   },
   "source": [
    "## Get the best model, the test set, and the label encode"
   ]
  },
  {
   "cell_type": "code",
   "execution_count": 8,
   "metadata": {
    "execution": {
     "iopub.execute_input": "2023-07-01T01:23:23.164116Z",
     "iopub.status.busy": "2023-07-01T01:23:23.163991Z",
     "iopub.status.idle": "2023-07-01T01:24:25.960971Z",
     "shell.execute_reply": "2023-07-01T01:24:25.960469Z"
    },
    "jukit_cell_id": "5pCzBRbVfF"
   },
   "outputs": [
    {
     "name": "stderr",
     "output_type": "stream",
     "text": [
      "/home/camo/projects/NF1_SchwannCell_data_analysis/1.train_models/log_reg_plates_cp_fs_data/utils/log_reg_plates_cp_fs_data_train_util.py:158: SettingWithCopyWarning: \n",
      "A value is trying to be set on a copy of a slice from a DataFrame.\n",
      "Try using .loc[row_indexer,col_indexer] = value instead\n",
      "\n",
      "See the caveats in the documentation: https://pandas.pydata.org/pandas-docs/stable/user_guide/indexing.html#returning-a-view-versus-a-copy\n",
      "  testdf[\"label\"] = le.fit_transform(testdf[target_column].values)\n",
      "/home/camo/projects/NF1_SchwannCell_data_analysis/1.train_models/log_reg_plates_cp_fs_data/utils/log_reg_plates_cp_fs_data_train_util.py:159: SettingWithCopyWarning: \n",
      "A value is trying to be set on a copy of a slice from a DataFrame.\n",
      "Try using .loc[row_indexer,col_indexer] = value instead\n",
      "\n",
      "See the caveats in the documentation: https://pandas.pydata.org/pandas-docs/stable/user_guide/indexing.html#returning-a-view-versus-a-copy\n",
      "  traindf[\"label\"] = le.transform(traindf[target_column].values)\n",
      "/home/camo/anaconda3/envs/nf1_analysis/lib/python3.9/site-packages/sklearn/linear_model/_sag.py:328: ConvergenceWarning: The max_iter was reached which means the coef_ did not converge\n",
      "  warnings.warn(\"The max_iter was reached which means \"\n"
     ]
    }
   ],
   "source": [
    "lr = LogisticRegression(\n",
    "    max_iter=1000, solver=\"sag\", multi_class=\"ovr\", random_state=rnd_val, n_jobs=-1\n",
    ")\n",
    "lr, testdf, le = au.get_model_data(platedf, lr, will_cross_validate=False)"
   ]
  },
  {
   "cell_type": "markdown",
   "metadata": {
    "jukit_cell_id": "zrPcdDGOjB"
   },
   "source": [
    "## Save Data"
   ]
  },
  {
   "cell_type": "code",
   "execution_count": 9,
   "metadata": {
    "execution": {
     "iopub.execute_input": "2023-07-01T01:24:25.962839Z",
     "iopub.status.busy": "2023-07-01T01:24:25.962642Z",
     "iopub.status.idle": "2023-07-01T01:24:27.349281Z",
     "shell.execute_reply": "2023-07-01T01:24:27.348904Z"
    },
    "jukit_cell_id": "inswCM144a"
   },
   "outputs": [
    {
     "data": {
      "text/plain": [
       "['data/plates_3_3p_cp_fs_data_label_encoder.joblib']"
      ]
     },
     "execution_count": 9,
     "metadata": {},
     "output_type": "execute_result"
    }
   ],
   "source": [
    "dump(lr, data_path / f\"{output_prefix}_lr_model.joblib\")\n",
    "testdf.to_csv(f\"{data_path}/{output_prefix}_testdf.tsv\", sep=\"\\t\", index=False)\n",
    "dump(le, data_path / f\"{output_prefix}_label_encoder.joblib\")"
   ]
  }
 ],
 "metadata": {
  "anaconda-cloud": {},
  "kernelspec": {
   "display_name": "python",
   "language": "python",
   "name": "python3"
  },
  "language_info": {
   "codemirror_mode": {
    "name": "ipython",
    "version": 3
   },
   "file_extension": ".py",
   "mimetype": "text/x-python",
   "name": "python",
   "nbconvert_exporter": "python",
   "pygments_lexer": "ipython3",
   "version": "3.9.16"
  }
 },
 "nbformat": 4,
 "nbformat_minor": 4
}
