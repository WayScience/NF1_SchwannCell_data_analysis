{
    "cells": [
        {
            "cell_type": "markdown",
            "metadata": {
                "jukit_cell_id": "IW1wyrmrZ3"
            },
            "source": [
                "# Train logistic regressions to classify genotypes for plates 3 and 3 prime"
            ]
        },
        {
            "cell_type": "markdown",
            "metadata": {
                "jukit_cell_id": "LmLGUNGDUc"
            },
            "source": [
                "## Imports"
            ]
        },
        {
            "cell_type": "code",
            "execution_count": 1,
            "metadata": {
                "execution": {
                    "iopub.execute_input": "2023-09-11T23:42:21.487418Z",
                    "iopub.status.busy": "2023-09-11T23:42:21.487152Z",
                    "iopub.status.idle": "2023-09-11T23:42:22.560810Z",
                    "shell.execute_reply": "2023-09-11T23:42:22.560420Z"
                },
                "jukit_cell_id": "Hh2oHsBslU"
            },
            "outputs": [],
            "source": [
                "import sys\n",
                "import warnings\n",
                "from pathlib import Path\n",
                "\n",
                "import pandas as pd\n",
                "from joblib import dump\n",
                "from scipy.stats import uniform\n",
                "from sklearn.exceptions import ConvergenceWarning\n",
                "from sklearn.linear_model import LogisticRegression\n",
                "from sklearn.model_selection import RandomizedSearchCV\n",
                "from sklearn.utils import parallel_backend\n",
                "import sklearn"
            ]
        },
        {
            "cell_type": "markdown",
            "metadata": {
                "jukit_cell_id": "guK4Fbs9IU"
            },
            "source": [
                "## Find the git root Directory"
            ]
        },
        {
            "cell_type": "code",
            "execution_count": 2,
            "metadata": {
                "execution": {
                    "iopub.execute_input": "2023-09-11T23:42:22.563293Z",
                    "iopub.status.busy": "2023-09-11T23:42:22.563079Z",
                    "iopub.status.idle": "2023-09-11T23:42:22.565934Z",
                    "shell.execute_reply": "2023-09-11T23:42:22.565618Z"
                },
                "jukit_cell_id": "efxmwjuUJq"
            },
            "outputs": [],
            "source": [
                "# Get the current working directory\n",
                "cwd = Path.cwd()\n",
                "\n",
                "if (cwd / \".git\").is_dir():\n",
                "    root_dir = cwd\n",
                "\n",
                "else:\n",
                "    root_dir = None\n",
                "    for parent in cwd.parents:\n",
                "        if (parent / \".git\").is_dir():\n",
                "            root_dir = parent\n",
                "            break\n",
                "\n",
                "# Check if a Git root directory was found\n",
                "if root_dir is None:\n",
                "    raise FileNotFoundError(\"No Git root directory found.\")"
            ]
        },
        {
            "cell_type": "markdown",
            "metadata": {
                "jukit_cell_id": "mrTA2RdN9o"
            },
            "source": [
                "## Import processing utils"
            ]
        },
        {
            "cell_type": "code",
            "execution_count": 3,
            "metadata": {
                "execution": {
                    "iopub.execute_input": "2023-09-11T23:42:22.567839Z",
                    "iopub.status.busy": "2023-09-11T23:42:22.567588Z",
                    "iopub.status.idle": "2023-09-11T23:42:22.570263Z",
                    "shell.execute_reply": "2023-09-11T23:42:22.569965Z"
                },
                "jukit_cell_id": "PiUBmViMHJ"
            },
            "outputs": [],
            "source": [
                "sys.path.append(f\"{root_dir}/1.train_models/log_reg_plates_cp_fs_data/utils\")\n",
                "import log_reg_plates_cp_fs_data_process_split_util as process_split"
            ]
        },
        {
            "cell_type": "markdown",
            "metadata": {
                "jukit_cell_id": "8h7gL7A7gZ"
            },
            "source": [
                "## Define and create paths"
            ]
        },
        {
            "cell_type": "code",
            "execution_count": 4,
            "metadata": {
                "execution": {
                    "iopub.execute_input": "2023-09-11T23:42:22.572127Z",
                    "iopub.status.busy": "2023-09-11T23:42:22.571868Z",
                    "iopub.status.idle": "2023-09-11T23:42:22.574457Z",
                    "shell.execute_reply": "2023-09-11T23:42:22.574159Z"
                },
                "jukit_cell_id": "35gBV3H5Jo"
            },
            "outputs": [],
            "source": [
                "# Input paths\n",
                "filename3 = \"Plate_3_sc_norm_fs.parquet\"\n",
                "filename3p = \"Plate_3_prime_sc_norm_fs.parquet\"\n",
                "plate_path = Path(\n",
                "    f\"{root_dir}/nf1_painting_repo/3.processing_features/data/feature_selected_data\"\n",
                ")\n",
                "\n",
                "path3 = plate_path / filename3\n",
                "path3p = plate_path / filename3p\n",
                "\n",
                "# Output paths\n",
                "models_path = Path(\"trained_models\")\n",
                "data_path = Path(\"model_data\")\n",
                "\n",
                "# Create output paths if nonexistent\n",
                "models_path.mkdir(parents=True, exist_ok=True)\n",
                "data_path.mkdir(parents=True, exist_ok=True)"
            ]
        },
        {
            "cell_type": "markdown",
            "metadata": {
                "jukit_cell_id": "2FRr4nFP4J"
            },
            "source": [
                "## Generate plate dataframes"
            ]
        },
        {
            "cell_type": "code",
            "execution_count": 5,
            "metadata": {
                "execution": {
                    "iopub.execute_input": "2023-09-11T23:42:22.576209Z",
                    "iopub.status.busy": "2023-09-11T23:42:22.576066Z",
                    "iopub.status.idle": "2023-09-11T23:42:23.542844Z",
                    "shell.execute_reply": "2023-09-11T23:42:23.542442Z"
                },
                "jukit_cell_id": "N0H3V1RbTX"
            },
            "outputs": [],
            "source": [
                "# Returns the dataframe returned by the plate 3 parquet file\n",
                "plate3df = pd.read_parquet(path3)\n",
                "\n",
                "# Returns the dataframe returned by the plate 3 prime parquet file\n",
                "plate3pdf = pd.read_parquet(path3p)"
            ]
        },
        {
            "cell_type": "markdown",
            "metadata": {
                "jukit_cell_id": "Pz4BlRyQFk"
            },
            "source": [
                "## Define column names"
            ]
        },
        {
            "cell_type": "code",
            "execution_count": 6,
            "metadata": {
                "execution": {
                    "iopub.execute_input": "2023-09-11T23:42:23.545270Z",
                    "iopub.status.busy": "2023-09-11T23:42:23.544929Z",
                    "iopub.status.idle": "2023-09-11T23:42:23.547096Z",
                    "shell.execute_reply": "2023-09-11T23:42:23.546806Z"
                },
                "jukit_cell_id": "KvBqG6FQwJ"
            },
            "outputs": [],
            "source": [
                "well_column = \"Metadata_Well\"\n",
                "gene_column = \"Metadata_genotype\""
            ]
        },
        {
            "cell_type": "markdown",
            "metadata": {
                "jukit_cell_id": "6lb4kpNpXs"
            },
            "source": [
                "# Preprocess Data"
            ]
        },
        {
            "cell_type": "markdown",
            "metadata": {
                "jukit_cell_id": "CssJ87R6PQ"
            },
            "source": [
                "## Use only common columns"
            ]
        },
        {
            "cell_type": "code",
            "execution_count": 7,
            "metadata": {
                "execution": {
                    "iopub.execute_input": "2023-09-11T23:42:23.548918Z",
                    "iopub.status.busy": "2023-09-11T23:42:23.548664Z",
                    "iopub.status.idle": "2023-09-11T23:42:23.626309Z",
                    "shell.execute_reply": "2023-09-11T23:42:23.625934Z"
                },
                "jukit_cell_id": "bCflTponOs"
            },
            "outputs": [],
            "source": [
                "# Set plate column:\n",
                "plate3df[\"Metadata_plate\"] = \"3\"\n",
                "plate3pdf[\"Metadata_plate\"] = \"3p\"\n",
                "\n",
                "common_columns = plate3df.columns.intersection(plate3pdf.columns).to_list()\n",
                "plate3df = plate3df.loc[:, common_columns]\n",
                "plate3pdf = plate3pdf.loc[:, common_columns]\n",
                "\n",
                "# Combine the plate dataframes:\n",
                "platedf = pd.concat([plate3df, plate3pdf], axis=\"rows\")"
            ]
        },
        {
            "cell_type": "markdown",
            "metadata": {
                "jukit_cell_id": "wgULt453GT"
            },
            "source": [
                "# Process data"
            ]
        },
        {
            "cell_type": "code",
            "execution_count": 8,
            "metadata": {
                "execution": {
                    "iopub.execute_input": "2023-09-11T23:42:23.628010Z",
                    "iopub.status.busy": "2023-09-11T23:42:23.627903Z",
                    "iopub.status.idle": "2023-09-11T23:42:31.233227Z",
                    "shell.execute_reply": "2023-09-11T23:42:31.232809Z"
                },
                "jukit_cell_id": "3zSY77VsBB"
            },
            "outputs": [],
            "source": [
                "# Use only WT and Null Genotypes\n",
                "platedf = platedf.loc[platedf[gene_column] != \"HET\"]\n",
                "\n",
                "# Create splits and the label encoder\n",
                "X_train, X_test, y_train, y_test, X_train_shuf, le = process_split.process_splits(platedf, _test_frac=0.2, _well_column=well_column, _gene_column=gene_column)"
            ]
        },
        {
            "cell_type": "markdown",
            "metadata": {
                "jukit_cell_id": "kPw9YcKK2H"
            },
            "source": [
                "# Train Models"
            ]
        },
        {
            "cell_type": "markdown",
            "metadata": {
                "jukit_cell_id": "U6eyLl0ZPH"
            },
            "source": [
                "## Define model variables"
            ]
        },
        {
            "cell_type": "code",
            "execution_count": 9,
            "metadata": {
                "execution": {
                    "iopub.execute_input": "2023-09-11T23:42:31.235326Z",
                    "iopub.status.busy": "2023-09-11T23:42:31.235217Z",
                    "iopub.status.idle": "2023-09-11T23:42:31.238694Z",
                    "shell.execute_reply": "2023-09-11T23:42:31.238428Z"
                },
                "jukit_cell_id": "4E094VqTVl"
            },
            "outputs": [],
            "source": [
                "# Define the hyperparameter search space\n",
                "param_dist = {\n",
                "    'C': uniform(loc=0.5, scale=1.5),\n",
                "    \"l1_ratio\": uniform(loc=0, scale=1),\n",
                "}\n",
                "\n",
                "# Create a Logistic Regression model\n",
                "logreg_params = {\n",
                "    \"max_iter\": 1000,\n",
                "    \"multi_class\": \"ovr\",\n",
                "    \"penalty\": 'elasticnet',\n",
                "    \"solver\": 'saga',\n",
                "    \"n_jobs\": -1,\n",
                "    \"random_state\": 0,\n",
                "    \"l1_ratio\": 0.5\n",
                "}\n",
                "\n",
                "# Initialize the RandomizedSearchCV\n",
                "random_search_params = {\n",
                "    \"param_distributions\": param_dist,\n",
                "    \"scoring\": \"precision\",\n",
                "    \"n_iter\": 100,\n",
                "    \"cv\": 10,\n",
                "    \"random_state\": 0,\n",
                "    \"n_jobs\": -1,\n",
                "}"
            ]
        },
        {
            "cell_type": "markdown",
            "metadata": {
                "jukit_cell_id": "mDLhwaTQV8"
            },
            "source": [
                "## Train the unshuffled model"
            ]
        },
        {
            "cell_type": "code",
            "execution_count": 10,
            "metadata": {
                "execution": {
                    "iopub.execute_input": "2023-09-11T23:42:31.240104Z",
                    "iopub.status.busy": "2023-09-11T23:42:31.240005Z",
                    "iopub.status.idle": "2023-09-12T02:16:00.838102Z",
                    "shell.execute_reply": "2023-09-12T02:16:00.837443Z"
                },
                "jukit_cell_id": "YY8qaxm1l1"
            },
            "outputs": [],
            "source": [
                "logreg = LogisticRegression(**logreg_params)\n",
                "\n",
                "# Initialize the RandomizedSearchCV\n",
                "random_search = RandomizedSearchCV(logreg, **random_search_params)\n",
                "\n",
                "# Prevent the convergence warning in sklearn\n",
                "with parallel_backend(\"multiprocessing\"):\n",
                "    with warnings.catch_warnings():\n",
                "        warnings.filterwarnings(\n",
                "            \"ignore\", category=ConvergenceWarning, module=\"sklearn\"\n",
                "        )\n",
                "        # Perform the random hyperparameter search\n",
                "        random_search.fit(X_train, y_train)"
            ]
        },
        {
            "cell_type": "markdown",
            "metadata": {
                "jukit_cell_id": "Olcix57UR4"
            },
            "source": [
                "## Train the shuffled model"
            ]
        },
        {
            "cell_type": "code",
            "execution_count": 11,
            "metadata": {
                "execution": {
                    "iopub.execute_input": "2023-09-12T02:16:00.840821Z",
                    "iopub.status.busy": "2023-09-12T02:16:00.840646Z",
                    "iopub.status.idle": "2023-09-12T02:21:12.341519Z",
                    "shell.execute_reply": "2023-09-12T02:21:12.341029Z"
                },
                "jukit_cell_id": "HoOPZ90KFZ"
            },
            "outputs": [],
            "source": [
                "# Create a Logistic Regression model for shuffled data\n",
                "shuf_logreg = LogisticRegression(**logreg_params)\n",
                "\n",
                "# Initialize the RandomizedSearchCV for shuffled data\n",
                "shuf_random_search = RandomizedSearchCV(shuf_logreg, **random_search_params)\n",
                "\n",
                "# Prevent the convergence warning in sklearn\n",
                "with parallel_backend(\"multiprocessing\"):\n",
                "    with warnings.catch_warnings():\n",
                "        warnings.filterwarnings(\n",
                "            \"ignore\", category=ConvergenceWarning, module=\"sklearn\"\n",
                "        )\n",
                "        # Perform the random hyperparameter search\n",
                "        shuf_random_search.fit(X_train_shuf, y_train)"
            ]
        },
        {
            "cell_type": "markdown",
            "metadata": {
                "jukit_cell_id": "oCendLQHaN"
            },
            "source": [
                "# Save models and model data"
            ]
        },
        {
            "cell_type": "code",
            "execution_count": 12,
            "metadata": {
                "execution": {
                    "iopub.execute_input": "2023-09-12T02:21:12.343726Z",
                    "iopub.status.busy": "2023-09-12T02:21:12.343556Z",
                    "iopub.status.idle": "2023-09-12T02:21:24.617227Z",
                    "shell.execute_reply": "2023-09-12T02:21:24.616807Z"
                },
                "jukit_cell_id": "XmQTfarxJe"
            },
            "outputs": [],
            "source": [
                "data_suffix = \"log_reg_cp_fs_data_plate_3_3p\"\n",
                "\n",
                "# Save the models\n",
                "dump(logreg, f\"{models_path}/{data_suffix}.joblib\")\n",
                "dump(shuf_logreg, f\"{models_path}/log_reg_shuf_cp_fs_data_plate_3_3P.joblib\")\n",
                "\n",
                "# Save label encoder\n",
                "dump(le, f\"{data_path}/label_encoder_{data_suffix}.joblib\")"
            ]
        },
        {
            "cell_type": "markdown",
            "metadata": {
                "jukit_cell_id": "XKO1PYhtSW"
            },
            "source": [
                "## Save data indices"
            ]
        },
        {
            "cell_type": "code",
            "execution_count": 13,
            "metadata": {
                "execution": {
                    "iopub.execute_input": "2023-09-12T02:21:24.619243Z",
                    "iopub.status.busy": "2023-09-12T02:21:24.619120Z",
                    "iopub.status.idle": "2023-09-12T02:21:24.658289Z",
                    "shell.execute_reply": "2023-09-12T02:21:24.657952Z"
                },
                "jukit_cell_id": "KRaXZbEIzO"
            },
            "outputs": [],
            "source": [
                "# Assign indices and name each of the splits\n",
                "X_train_shuf_idxdf = pd.DataFrame({\"Metadata_split_name\": \"X_train_shuf\"}, index=X_train_shuf.index)\n",
                "X_train_idxdf = pd.DataFrame({\"Metadata_split_name\": \"X_train\"}, index=X_train.index)\n",
                "y_train_idxdf = pd.DataFrame({\"Metadata_split_name\": \"y_train\"}, index=y_train.index)\n",
                "y_test_idxdf = pd.DataFrame({\"Metadata_split_name\": \"y_test\"}, index=y_test.index)\n",
                "X_test_idxdf = pd.DataFrame({\"Metadata_split_name\": \"X_test\"}, index=X_test.index)\n",
                "\n",
                "# Concatenate the splits\n",
                "data_split_indices = pd.concat([X_train_shuf_idxdf, X_train_idxdf, y_train_idxdf, y_test_idxdf, X_test_idxdf])\n",
                "\n",
                "# Save the splits to a tsv file\n",
                "data_split_indices.to_csv(f\"{data_path}/data_split_indices_{data_suffix}.tsv\", sep=\"\\t\")"
            ]
        }
    ],
    "metadata": {
        "anaconda-cloud": {},
        "kernelspec": {
            "display_name": "Python 3 (ipykernel)",
            "language": "python",
            "name": "python3"
        },
        "language_info": {
            "codemirror_mode": {
                "name": "ipython",
                "version": 3
            },
            "file_extension": ".py",
            "mimetype": "text/x-python",
            "name": "python",
            "nbconvert_exporter": "python",
            "pygments_lexer": "ipython3",
            "version": "3.9.17"
        }
    },
    "nbformat": 4,
    "nbformat_minor": 4
}
