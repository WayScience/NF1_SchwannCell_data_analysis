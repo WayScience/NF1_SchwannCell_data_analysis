{
    "cells": [
        {
            "cell_type": "markdown",
            "metadata": {
                "jukit_cell_id": "RUaS7hws7w"
            },
            "source": [
                "# Train a logistic regression to classify genotypes for plate 4"
            ]
        },
        {
            "cell_type": "code",
            "execution_count": 1,
            "metadata": {
                "execution": {
                    "iopub.execute_input": "2023-08-17T16:46:33.640054Z",
                    "iopub.status.busy": "2023-08-17T16:46:33.639955Z",
                    "iopub.status.idle": "2023-08-17T16:46:34.017899Z",
                    "shell.execute_reply": "2023-08-17T16:46:34.017500Z"
                },
                "jukit_cell_id": "Uldv3YbqHx"
            },
            "outputs": [],
            "source": [
                "import pathlib\n",
                "import warnings\n",
                "\n",
                "import numpy as np\n",
                "import pandas as pd\n",
                "from joblib import dump\n",
                "from scipy.stats import uniform\n",
                "from sklearn.exceptions import ConvergenceWarning\n",
                "from sklearn.linear_model import LogisticRegression\n",
                "from sklearn.model_selection import (\n",
                "    RandomizedSearchCV,\n",
                "    StratifiedKFold,\n",
                "    train_test_split,\n",
                ")\n",
                "from sklearn.preprocessing import LabelEncoder\n",
                "from sklearn.utils import parallel_backend"
            ]
        },
        {
            "cell_type": "markdown",
            "metadata": {
                "jukit_cell_id": "pPalNPcUrw"
            },
            "source": [
                "## Find the root of the git repo on the host system"
            ]
        },
        {
            "cell_type": "code",
            "execution_count": 2,
            "metadata": {
                "execution": {
                    "iopub.execute_input": "2023-08-17T16:46:34.019971Z",
                    "iopub.status.busy": "2023-08-17T16:46:34.019815Z",
                    "iopub.status.idle": "2023-08-17T16:46:34.022807Z",
                    "shell.execute_reply": "2023-08-17T16:46:34.022530Z"
                },
                "jukit_cell_id": "6bmUxXR0eb"
            },
            "outputs": [],
            "source": [
                "# Get the current working directory\n",
                "cwd = pathlib.Path.cwd()\n",
                "\n",
                "if (cwd / \".git\").is_dir():\n",
                "    root_dir = cwd\n",
                "\n",
                "else:\n",
                "    root_dir = None\n",
                "    for parent in cwd.parents:\n",
                "        if (parent / \".git\").is_dir():\n",
                "            root_dir = parent\n",
                "            break\n",
                "\n",
                "# Check if a Git root directory was found\n",
                "if root_dir is None:\n",
                "    raise FileNotFoundError(\"No Git root directory found.\")"
            ]
        },
        {
            "cell_type": "markdown",
            "metadata": {
                "jukit_cell_id": "JBaRt3jExj"
            },
            "source": [
                "## Define and create paths"
            ]
        },
        {
            "cell_type": "code",
            "execution_count": 3,
            "metadata": {
                "execution": {
                    "iopub.execute_input": "2023-08-17T16:46:34.024421Z",
                    "iopub.status.busy": "2023-08-17T16:46:34.024164Z",
                    "iopub.status.idle": "2023-08-17T16:46:34.026483Z",
                    "shell.execute_reply": "2023-08-17T16:46:34.026219Z"
                },
                "jukit_cell_id": "NVeszTxjt5"
            },
            "outputs": [],
            "source": [
                "# Input paths\n",
                "plate_path = \"Plate_4_sc_norm_fs.parquet\"\n",
                "plate_path = pathlib.Path(f\"{root_dir}/nf1_painting_repo/3.processing_features/data/feature_selected_data/{plate_path}\")\n",
                "\n",
                "# Output paths\n",
                "models_path = pathlib.Path(\"trained_models\")\n",
                "data_path = pathlib.Path(\"model_data\")\n",
                "\n",
                "# Create output paths if nonexistent\n",
                "models_path.mkdir(parents=True, exist_ok=True)\n",
                "data_path.mkdir(parents=True, exist_ok=True)"
            ]
        },
        {
            "cell_type": "markdown",
            "metadata": {
                "jukit_cell_id": "HDCCDvAbvX"
            },
            "source": [
                "## Load the dataframe"
            ]
        },
        {
            "cell_type": "code",
            "execution_count": 4,
            "metadata": {
                "execution": {
                    "iopub.execute_input": "2023-08-17T16:46:34.028051Z",
                    "iopub.status.busy": "2023-08-17T16:46:34.027799Z",
                    "iopub.status.idle": "2023-08-17T16:46:34.155147Z",
                    "shell.execute_reply": "2023-08-17T16:46:34.154776Z"
                },
                "jukit_cell_id": "q2xQ1rmSbQ"
            },
            "outputs": [],
            "source": [
                "platedf = pd.read_parquet(plate_path)"
            ]
        },
        {
            "cell_type": "markdown",
            "metadata": {
                "jukit_cell_id": "XfgLhC8kvj"
            },
            "source": [
                "## Define column names"
            ]
        },
        {
            "cell_type": "code",
            "execution_count": 5,
            "metadata": {
                "execution": {
                    "iopub.execute_input": "2023-08-17T16:46:34.157148Z",
                    "iopub.status.busy": "2023-08-17T16:46:34.156899Z",
                    "iopub.status.idle": "2023-08-17T16:46:34.159366Z",
                    "shell.execute_reply": "2023-08-17T16:46:34.159035Z"
                },
                "jukit_cell_id": "pwIe7C4Ax4"
            },
            "outputs": [],
            "source": [
                "well_column = \"Metadata_Well\"\n",
                "gene_column = \"Metadata_genotype\"\n",
                "concentration_column = \"Metadata_Concentration\""
            ]
        },
        {
            "cell_type": "markdown",
            "metadata": {
                "jukit_cell_id": "wgULt453GT"
            },
            "source": [
                "# Process data"
            ]
        },
        {
            "cell_type": "markdown",
            "metadata": {
                "jukit_cell_id": "oktgCP29ar"
            },
            "source": [
                "## Down-sample by genotype"
            ]
        },
        {
            "cell_type": "code",
            "execution_count": 6,
            "metadata": {
                "execution": {
                    "iopub.execute_input": "2023-08-17T16:46:34.160788Z",
                    "iopub.status.busy": "2023-08-17T16:46:34.160526Z",
                    "iopub.status.idle": "2023-08-17T16:46:34.180111Z",
                    "shell.execute_reply": "2023-08-17T16:46:34.179662Z"
                },
                "jukit_cell_id": "sGkl0bhWnv"
            },
            "outputs": [],
            "source": [
                "# Filter data where the siRNA construct concentration is zero\n",
                "platedf = platedf[platedf[concentration_column] == 0]\n",
                "\n",
                "min_gene = platedf[gene_column].value_counts().min()\n",
                "platedf = platedf.groupby(gene_column, group_keys=False).apply(lambda x: x.sample(n=min_gene, random_state=0))"
            ]
        },
        {
            "cell_type": "markdown",
            "metadata": {
                "jukit_cell_id": "W1pE36XauH"
            },
            "source": [
                "## Encode genotypes"
            ]
        },
        {
            "cell_type": "code",
            "execution_count": 7,
            "metadata": {
                "execution": {
                    "iopub.execute_input": "2023-08-17T16:46:34.181968Z",
                    "iopub.status.busy": "2023-08-17T16:46:34.181718Z",
                    "iopub.status.idle": "2023-08-17T16:46:34.187517Z",
                    "shell.execute_reply": "2023-08-17T16:46:34.187199Z"
                },
                "jukit_cell_id": "qcMAUWzcSj"
            },
            "outputs": [],
            "source": [
                "# Encode classes\n",
                "le = LabelEncoder()\n",
                "featdf = platedf.copy()\n",
                "featdf[gene_column] = le.fit_transform(featdf[gene_column])"
            ]
        },
        {
            "cell_type": "markdown",
            "metadata": {
                "jukit_cell_id": "nbEILT7wXY"
            },
            "source": [
                "## Remove Metadata and encode labels"
            ]
        },
        {
            "cell_type": "code",
            "execution_count": 8,
            "metadata": {
                "execution": {
                    "iopub.execute_input": "2023-08-17T16:46:34.189001Z",
                    "iopub.status.busy": "2023-08-17T16:46:34.188784Z",
                    "iopub.status.idle": "2023-08-17T16:46:34.193131Z",
                    "shell.execute_reply": "2023-08-17T16:46:34.192708Z"
                },
                "jukit_cell_id": "kbCV2fS53j"
            },
            "outputs": [],
            "source": [
                "# Create dataframe without Metadata\n",
                "feat_columns = [col for col in platedf.columns if \"Metadata\" not in col]\n",
                "featdf = platedf[feat_columns]\n",
                "\n",
                "# Encode labels\n",
                "platedf[gene_column] = le.transform(platedf[gene_column])"
            ]
        },
        {
            "cell_type": "markdown",
            "metadata": {
                "jukit_cell_id": "MfXHjGvcSp"
            },
            "source": [
                "## Split the Data"
            ]
        },
        {
            "cell_type": "code",
            "execution_count": 9,
            "metadata": {
                "execution": {
                    "iopub.execute_input": "2023-08-17T16:46:34.194450Z",
                    "iopub.status.busy": "2023-08-17T16:46:34.194241Z",
                    "iopub.status.idle": "2023-08-17T16:46:34.199940Z",
                    "shell.execute_reply": "2023-08-17T16:46:34.199576Z"
                },
                "jukit_cell_id": "MHDxE0uhWH"
            },
            "outputs": [],
            "source": [
                "test_frac = 0.2\n",
                "val_frac = 0.15\n",
                "\n",
                "X_train, X_test, y_train, y_test = train_test_split(featdf, platedf[gene_column], test_size = test_frac, random_state=0, shuffle=True)"
            ]
        },
        {
            "cell_type": "markdown",
            "metadata": {
                "jukit_cell_id": "3pqmtkoWvR"
            },
            "source": [
                "## Shuffle the training data for the shuffled model"
            ]
        },
        {
            "cell_type": "code",
            "execution_count": 10,
            "metadata": {
                "execution": {
                    "iopub.execute_input": "2023-08-17T16:46:34.201234Z",
                    "iopub.status.busy": "2023-08-17T16:46:34.200985Z",
                    "iopub.status.idle": "2023-08-17T16:46:34.315457Z",
                    "shell.execute_reply": "2023-08-17T16:46:34.314938Z"
                },
                "jukit_cell_id": "EoWGvinowW"
            },
            "outputs": [],
            "source": [
                "X_train_shuf = X_train.copy()\n",
                "\n",
                "rng = np.random.default_rng(0)\n",
                "\n",
                "for column in X_train_shuf.columns:\n",
                "    X_train_shuf[column] = rng.permutation(X_train_shuf[column])"
            ]
        },
        {
            "cell_type": "markdown",
            "metadata": {
                "jukit_cell_id": "kPw9YcKK2H"
            },
            "source": [
                "# Train Models"
            ]
        },
        {
            "cell_type": "markdown",
            "metadata": {
                "jukit_cell_id": "U6eyLl0ZPH"
            },
            "source": [
                "## Define model variables"
            ]
        },
        {
            "cell_type": "code",
            "execution_count": 11,
            "metadata": {
                "execution": {
                    "iopub.execute_input": "2023-08-17T16:46:34.317478Z",
                    "iopub.status.busy": "2023-08-17T16:46:34.317339Z",
                    "iopub.status.idle": "2023-08-17T16:46:34.321051Z",
                    "shell.execute_reply": "2023-08-17T16:46:34.320680Z"
                },
                "jukit_cell_id": "4E094VqTVl"
            },
            "outputs": [],
            "source": [
                "# Define the hyperparameter search space\n",
                "param_dist = {\n",
                "    'C': uniform(loc=0.5, scale=1.5),\n",
                "    \"l1_ratio\": uniform(loc=0, scale=1),\n",
                "}\n",
                "\n",
                "# Define stratification method\n",
                "strat_obj = StratifiedKFold(n_splits=5, shuffle=True, random_state=0)\n",
                "\n",
                "# Create a Logistic Regression model\n",
                "logreg_params = {\n",
                "    \"max_iter\": 1000,\n",
                "    \"multi_class\": \"ovr\",\n",
                "    \"penalty\": 'elasticnet',\n",
                "    \"solver\": 'saga'\n",
                "}\n",
                "\n",
                "# Initialize the RandomizedSearchCV\n",
                "random_search_params = {\n",
                "    \"param_distributions\": param_dist,\n",
                "    \"scoring\": \"precision\",\n",
                "    \"n_iter\": 100,\n",
                "    \"cv\": strat_obj,\n",
                "    \"random_state\": 0,\n",
                "    \"n_jobs\": -1,\n",
                "}"
            ]
        },
        {
            "cell_type": "markdown",
            "metadata": {
                "jukit_cell_id": "mDLhwaTQV8"
            },
            "source": [
                "## Train the unshuffled model"
            ]
        },
        {
            "cell_type": "code",
            "execution_count": 12,
            "metadata": {
                "execution": {
                    "iopub.execute_input": "2023-08-17T16:46:34.322867Z",
                    "iopub.status.busy": "2023-08-17T16:46:34.322625Z",
                    "iopub.status.idle": "2023-08-17T16:53:19.476298Z",
                    "shell.execute_reply": "2023-08-17T16:53:19.475891Z"
                },
                "jukit_cell_id": "YY8qaxm1l1"
            },
            "outputs": [],
            "source": [
                "logreg = LogisticRegression(**logreg_params)\n",
                "\n",
                "# Initialize the RandomizedSearchCV\n",
                "random_search = RandomizedSearchCV(logreg, **random_search_params)\n",
                "\n",
                "# Prevent the convergence warning in sklearn\n",
                "with parallel_backend(\"multiprocessing\"):\n",
                "    with warnings.catch_warnings():\n",
                "        warnings.filterwarnings(\n",
                "            \"ignore\", category=ConvergenceWarning, module=\"sklearn\"\n",
                "        )\n",
                "        # Perform the random hyperparameter search\n",
                "        random_search.fit(X_train, y_train)"
            ]
        },
        {
            "cell_type": "markdown",
            "metadata": {
                "jukit_cell_id": "Olcix57UR4"
            },
            "source": [
                "## Train the shuffled model"
            ]
        },
        {
            "cell_type": "code",
            "execution_count": 13,
            "metadata": {
                "execution": {
                    "iopub.execute_input": "2023-08-17T16:53:19.478510Z",
                    "iopub.status.busy": "2023-08-17T16:53:19.478352Z",
                    "iopub.status.idle": "2023-08-17T16:59:48.318350Z",
                    "shell.execute_reply": "2023-08-17T16:59:48.317710Z"
                },
                "jukit_cell_id": "HoOPZ90KFZ"
            },
            "outputs": [],
            "source": [
                "# Create a Logistic Regression model for shuffled data\n",
                "shuf_logreg = LogisticRegression(**logreg_params)\n",
                "\n",
                "# Initialize the RandomizedSearchCV for shuffled data\n",
                "shuf_random_search = RandomizedSearchCV(shuf_logreg, **random_search_params)\n",
                "\n",
                "# Prevent the convergence warning in sklearn\n",
                "with parallel_backend(\"multiprocessing\"):\n",
                "    with warnings.catch_warnings():\n",
                "        warnings.filterwarnings(\n",
                "            \"ignore\", category=ConvergenceWarning, module=\"sklearn\"\n",
                "        )\n",
                "        # Perform the random hyperparameter search\n",
                "        shuf_random_search.fit(X_train_shuf, y_train)"
            ]
        },
        {
            "cell_type": "markdown",
            "metadata": {
                "jukit_cell_id": "oCendLQHaN"
            },
            "source": [
                "# Save models and model data"
            ]
        },
        {
            "cell_type": "code",
            "execution_count": 14,
            "metadata": {
                "execution": {
                    "iopub.execute_input": "2023-08-17T16:59:48.321003Z",
                    "iopub.status.busy": "2023-08-17T16:59:48.320788Z",
                    "iopub.status.idle": "2023-08-17T16:59:48.328672Z",
                    "shell.execute_reply": "2023-08-17T16:59:48.328422Z"
                },
                "jukit_cell_id": "XmQTfarxJe"
            },
            "outputs": [
                {
                    "data": {
                        "text/plain": [
                            "['model_data/label_encoder_log_reg_cp_fs_data_plate_4.joblib']"
                        ]
                    },
                    "execution_count": 14,
                    "metadata": {},
                    "output_type": "execute_result"
                }
            ],
            "source": [
                "data_suf = \"log_reg_cp_fs_data_plate_4\"\n",
                "\n",
                "# Save the models\n",
                "dump(random_search.best_estimator_, f\"{models_path}/{data_suf}.joblib\")\n",
                "dump(shuf_random_search.best_estimator_, f\"{models_path}/log_reg_shuf_cp_fs_data_plate_4.joblib\")\n",
                "\n",
                "# Save label encoder\n",
                "dump(le, f\"{data_path}/label_encoder_{data_suf}.joblib\")"
            ]
        },
        {
            "cell_type": "markdown",
            "metadata": {
                "jukit_cell_id": "XKO1PYhtSW"
            },
            "source": [
                "## Save data indices"
            ]
        },
        {
            "cell_type": "code",
            "execution_count": 15,
            "metadata": {
                "execution": {
                    "iopub.execute_input": "2023-08-17T16:59:48.358203Z",
                    "iopub.status.busy": "2023-08-17T16:59:48.358037Z",
                    "iopub.status.idle": "2023-08-17T16:59:48.368806Z",
                    "shell.execute_reply": "2023-08-17T16:59:48.368428Z"
                },
                "jukit_cell_id": "KRaXZbEIzO"
            },
            "outputs": [],
            "source": [
                "# Assign indices and name each of the splits\n",
                "X_train_shuf_idxdf = pd.DataFrame({\"Metadata_split_name\": \"X_train_shuf\"}, index=X_train_shuf.index)\n",
                "X_train_idxdf = pd.DataFrame({\"Metadata_split_name\": \"X_train\"}, index=X_train.index)\n",
                "y_train_idxdf = pd.DataFrame({\"Metadata_split_name\": \"y_train\"}, index=y_train.index)\n",
                "y_test_idxdf = pd.DataFrame({\"Metadata_split_name\": \"y_test\"}, index=y_test.index)\n",
                "X_test_idxdf = pd.DataFrame({\"Metadata_split_name\": \"X_test\"}, index=X_test.index)\n",
                "\n",
                "# Concatenate the splits\n",
                "data_split_indices = pd.concat([X_train_shuf_idxdf, X_train_idxdf, y_train_idxdf, y_test_idxdf, X_test_idxdf])\n",
                "\n",
                "# Save the splits to a tsv file\n",
                "data_split_indices.to_csv(f\"{data_path}/data_split_indices_{data_suf}.tsv\", sep=\"\\t\")"
            ]
        }
    ],
    "metadata": {
        "anaconda-cloud": {},
        "kernelspec": {
            "display_name": "Python 3 (ipykernel)",
            "language": "python",
            "name": "python3"
        },
        "language_info": {
            "codemirror_mode": {
                "name": "ipython",
                "version": 3
            },
            "file_extension": ".py",
            "mimetype": "text/x-python",
            "name": "python",
            "nbconvert_exporter": "python",
            "pygments_lexer": "ipython3",
            "version": "3.9.17"
        }
    },
    "nbformat": 4,
    "nbformat_minor": 4
}
