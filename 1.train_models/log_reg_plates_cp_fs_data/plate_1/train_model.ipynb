{
 "cells": [
  {
   "cell_type": "markdown",
   "metadata": {
    "jukit_cell_id": "9kOKvRXq4e"
   },
   "source": [
    "# Training a Logistic Regression Model"
   ]
  },
  {
   "cell_type": "markdown",
   "metadata": {
    "jukit_cell_id": "GOPeJtwlep"
   },
   "source": [
    "## Imports"
   ]
  },
  {
   "cell_type": "code",
   "execution_count": 1,
   "metadata": {
    "execution": {
     "iopub.execute_input": "2023-07-01T00:51:03.871670Z",
     "iopub.status.busy": "2023-07-01T00:51:03.871573Z",
     "iopub.status.idle": "2023-07-01T00:51:04.255486Z",
     "shell.execute_reply": "2023-07-01T00:51:04.255166Z"
    },
    "jukit_cell_id": "XnaEnnB6b0"
   },
   "outputs": [],
   "source": [
    "import pandas as pd\n",
    "import sys\n",
    "from pathlib import Path\n",
    "from joblib import dump\n",
    "from sklearn.linear_model import LogisticRegression"
   ]
  },
  {
   "cell_type": "markdown",
   "metadata": {
    "jukit_cell_id": "nz0bLO8j8I"
   },
   "source": [
    "## Find the git root Directory"
   ]
  },
  {
   "cell_type": "code",
   "execution_count": 2,
   "metadata": {
    "execution": {
     "iopub.execute_input": "2023-07-01T00:51:04.257419Z",
     "iopub.status.busy": "2023-07-01T00:51:04.257051Z",
     "iopub.status.idle": "2023-07-01T00:51:04.259674Z",
     "shell.execute_reply": "2023-07-01T00:51:04.259413Z"
    },
    "jukit_cell_id": "FKd1dIo45E"
   },
   "outputs": [],
   "source": [
    "# Get the current working directory\n",
    "cwd = Path.cwd()\n",
    "\n",
    "if (cwd / \".git\").is_dir():\n",
    "    root_dir = cwd\n",
    "\n",
    "else:\n",
    "    root_dir = None\n",
    "    for parent in cwd.parents:\n",
    "        if (parent / \".git\").is_dir():\n",
    "            root_dir = parent\n",
    "            break\n",
    "\n",
    "# Check if a Git root directory was found\n",
    "if root_dir is None:\n",
    "    raise FileNotFoundError(\"No Git root directory found.\")"
   ]
  },
  {
   "cell_type": "markdown",
   "metadata": {
    "jukit_cell_id": "mG64sxNen5"
   },
   "source": [
    "## Import Utils"
   ]
  },
  {
   "cell_type": "code",
   "execution_count": 3,
   "metadata": {
    "execution": {
     "iopub.execute_input": "2023-07-01T00:51:04.261025Z",
     "iopub.status.busy": "2023-07-01T00:51:04.260745Z",
     "iopub.status.idle": "2023-07-01T00:51:04.262734Z",
     "shell.execute_reply": "2023-07-01T00:51:04.262481Z"
    },
    "jukit_cell_id": "wRZI5OrJHU"
   },
   "outputs": [],
   "source": [
    "sys.path.append(f\"{root_dir}/1.train_models/log_reg_plates_cp_fs_data/utils\")\n",
    "import log_reg_plates_cp_fs_data_train_util as au"
   ]
  },
  {
   "cell_type": "code",
   "execution_count": 4,
   "metadata": {
    "execution": {
     "iopub.execute_input": "2023-07-01T00:51:04.263971Z",
     "iopub.status.busy": "2023-07-01T00:51:04.263675Z",
     "iopub.status.idle": "2023-07-01T00:51:04.265293Z",
     "shell.execute_reply": "2023-07-01T00:51:04.265066Z"
    },
    "jukit_cell_id": "W0r3iUcGVA"
   },
   "outputs": [],
   "source": [
    "# Random integer as a seed\n",
    "rnd_val = 0"
   ]
  },
  {
   "cell_type": "markdown",
   "metadata": {
    "jukit_cell_id": "Dcr36XRfzf"
   },
   "source": [
    "## Create paths"
   ]
  },
  {
   "cell_type": "code",
   "execution_count": 5,
   "metadata": {
    "execution": {
     "iopub.execute_input": "2023-07-01T00:51:04.266518Z",
     "iopub.status.busy": "2023-07-01T00:51:04.266263Z",
     "iopub.status.idle": "2023-07-01T00:51:04.268364Z",
     "shell.execute_reply": "2023-07-01T00:51:04.268114Z"
    },
    "jukit_cell_id": "EYGHUOxuTt"
   },
   "outputs": [],
   "source": [
    "filename = \"Plate_1_sc_norm_fs.parquet\"\n",
    "plate_path = Path(\n",
    "    f\"{root_dir}/nf1_painting_repo/3.processing_features/data/feature_selected_data\"\n",
    ")\n",
    "\n",
    "path = plate_path / filename\n",
    "\n",
    "\n",
    "data_path = Path(\"data\")\n",
    "output_prefix = \"plate_1_cp_fs_data\"\n",
    "# Create the parent directories if they don't exist\n",
    "data_path.mkdir(parents=True, exist_ok=True)"
   ]
  },
  {
   "cell_type": "markdown",
   "metadata": {
    "jukit_cell_id": "Rl2D0bgEX6"
   },
   "source": [
    "## Generate plate dataframe"
   ]
  },
  {
   "cell_type": "code",
   "execution_count": 6,
   "metadata": {
    "execution": {
     "iopub.execute_input": "2023-07-01T00:51:04.269626Z",
     "iopub.status.busy": "2023-07-01T00:51:04.269367Z",
     "iopub.status.idle": "2023-07-01T00:51:04.295690Z",
     "shell.execute_reply": "2023-07-01T00:51:04.295417Z"
    },
    "jukit_cell_id": "A8cPG2OifP"
   },
   "outputs": [],
   "source": [
    "platedf = pd.read_parquet(path)"
   ]
  },
  {
   "cell_type": "markdown",
   "metadata": {
    "jukit_cell_id": "iUa93hXkFi"
   },
   "source": [
    "## Get the best model, the test set, and the label encode"
   ]
  },
  {
   "cell_type": "code",
   "execution_count": 7,
   "metadata": {
    "execution": {
     "iopub.execute_input": "2023-07-01T00:51:04.297080Z",
     "iopub.status.busy": "2023-07-01T00:51:04.296922Z",
     "iopub.status.idle": "2023-07-01T00:51:05.196216Z",
     "shell.execute_reply": "2023-07-01T00:51:05.195816Z"
    },
    "jukit_cell_id": "L4K1PaebDE"
   },
   "outputs": [
    {
     "name": "stderr",
     "output_type": "stream",
     "text": [
      "/home/camo/projects/NF1_SchwannCell_data_analysis/1.train_models/log_reg_plates_cp_fs_data/utils/log_reg_plates_cp_fs_data_train_util.py:156: SettingWithCopyWarning: \n",
      "A value is trying to be set on a copy of a slice from a DataFrame.\n",
      "Try using .loc[row_indexer,col_indexer] = value instead\n",
      "\n",
      "See the caveats in the documentation: https://pandas.pydata.org/pandas-docs/stable/user_guide/indexing.html#returning-a-view-versus-a-copy\n",
      "  testdf[\"label\"] = le.fit_transform(testdf[target_column].values)\n",
      "/home/camo/projects/NF1_SchwannCell_data_analysis/1.train_models/log_reg_plates_cp_fs_data/utils/log_reg_plates_cp_fs_data_train_util.py:157: SettingWithCopyWarning: \n",
      "A value is trying to be set on a copy of a slice from a DataFrame.\n",
      "Try using .loc[row_indexer,col_indexer] = value instead\n",
      "\n",
      "See the caveats in the documentation: https://pandas.pydata.org/pandas-docs/stable/user_guide/indexing.html#returning-a-view-versus-a-copy\n",
      "  traindf[\"label\"] = le.transform(traindf[target_column].values)\n"
     ]
    }
   ],
   "source": [
    "lr = LogisticRegression(max_iter=1000, solver=\"sag\", random_state=rnd_val, n_jobs=-1)\n",
    "\n",
    "lr, testdf, le = au.get_model_data(platedf, lr)"
   ]
  },
  {
   "cell_type": "markdown",
   "metadata": {
    "jukit_cell_id": "zrPcdDGOjB"
   },
   "source": [
    "## Save Data"
   ]
  },
  {
   "cell_type": "code",
   "execution_count": 8,
   "metadata": {
    "execution": {
     "iopub.execute_input": "2023-07-01T00:51:05.198289Z",
     "iopub.status.busy": "2023-07-01T00:51:05.198055Z",
     "iopub.status.idle": "2023-07-01T00:51:05.215953Z",
     "shell.execute_reply": "2023-07-01T00:51:05.215667Z"
    },
    "jukit_cell_id": "inswCM144a"
   },
   "outputs": [
    {
     "data": {
      "text/plain": [
       "['data/plate_1_cp_fs_data_label_encoder.joblib']"
      ]
     },
     "execution_count": 8,
     "metadata": {},
     "output_type": "execute_result"
    }
   ],
   "source": [
    "dump(lr, data_path / f\"{output_prefix}_lr_model.joblib\")\n",
    "testdf.to_csv(f\"{data_path}/{output_prefix}_testdf.tsv\", sep=\"\\t\", index=False)\n",
    "dump(le, data_path / f\"{output_prefix}_label_encoder.joblib\")"
   ]
  }
 ],
 "metadata": {
  "anaconda-cloud": {},
  "kernelspec": {
   "display_name": "python",
   "language": "python",
   "name": "python3"
  },
  "language_info": {
   "codemirror_mode": {
    "name": "ipython",
    "version": 3
   },
   "file_extension": ".py",
   "mimetype": "text/x-python",
   "name": "python",
   "nbconvert_exporter": "python",
   "pygments_lexer": "ipython3",
   "version": "3.9.16"
  }
 },
 "nbformat": 4,
 "nbformat_minor": 4
}
