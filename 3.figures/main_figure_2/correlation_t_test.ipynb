{
 "cells": [
  {
   "cell_type": "markdown",
   "metadata": {},
   "source": [
    "# Perform a t-test between well correlations of the same or different genotypes"
   ]
  },
  {
   "cell_type": "markdown",
   "metadata": {},
   "source": [
    "## Import libraries"
   ]
  },
  {
   "cell_type": "code",
   "execution_count": 1,
   "metadata": {},
   "outputs": [],
   "source": [
    "from scipy.stats import ttest_ind\n",
    "import pathlib\n",
    "import pandas as pd"
   ]
  },
  {
   "cell_type": "markdown",
   "metadata": {},
   "source": [
    "## Load in correlation data"
   ]
  },
  {
   "cell_type": "code",
   "execution_count": 2,
   "metadata": {},
   "outputs": [
    {
     "name": "stdout",
     "output_type": "stream",
     "text": [
      "(10296, 7)\n"
     ]
    },
    {
     "data": {
      "text/html": [
       "<div>\n",
       "<style scoped>\n",
       "    .dataframe tbody tr th:only-of-type {\n",
       "        vertical-align: middle;\n",
       "    }\n",
       "\n",
       "    .dataframe tbody tr th {\n",
       "        vertical-align: top;\n",
       "    }\n",
       "\n",
       "    .dataframe thead th {\n",
       "        text-align: right;\n",
       "    }\n",
       "</style>\n",
       "<table border=\"1\" class=\"dataframe\">\n",
       "  <thead>\n",
       "    <tr style=\"text-align: right;\">\n",
       "      <th></th>\n",
       "      <th>correlation</th>\n",
       "      <th>Metadata_Plate__group0</th>\n",
       "      <th>Metadata_Plate__group1</th>\n",
       "      <th>Metadata_genotype__group0</th>\n",
       "      <th>Metadata_genotype__group1</th>\n",
       "      <th>same_genotype</th>\n",
       "      <th>same_plate</th>\n",
       "    </tr>\n",
       "  </thead>\n",
       "  <tbody>\n",
       "    <tr>\n",
       "      <th>0</th>\n",
       "      <td>0.041393</td>\n",
       "      <td>Plate_3</td>\n",
       "      <td>Plate_3_prime</td>\n",
       "      <td>WT</td>\n",
       "      <td>WT</td>\n",
       "      <td>True</td>\n",
       "      <td>False</td>\n",
       "    </tr>\n",
       "    <tr>\n",
       "      <th>1</th>\n",
       "      <td>0.161703</td>\n",
       "      <td>Plate_3</td>\n",
       "      <td>Plate_3_prime</td>\n",
       "      <td>WT</td>\n",
       "      <td>WT</td>\n",
       "      <td>True</td>\n",
       "      <td>False</td>\n",
       "    </tr>\n",
       "    <tr>\n",
       "      <th>2</th>\n",
       "      <td>0.305890</td>\n",
       "      <td>Plate_3</td>\n",
       "      <td>Plate_3_prime</td>\n",
       "      <td>WT</td>\n",
       "      <td>WT</td>\n",
       "      <td>True</td>\n",
       "      <td>False</td>\n",
       "    </tr>\n",
       "    <tr>\n",
       "      <th>3</th>\n",
       "      <td>-0.204942</td>\n",
       "      <td>Plate_3</td>\n",
       "      <td>Plate_3_prime</td>\n",
       "      <td>WT</td>\n",
       "      <td>WT</td>\n",
       "      <td>True</td>\n",
       "      <td>False</td>\n",
       "    </tr>\n",
       "    <tr>\n",
       "      <th>4</th>\n",
       "      <td>0.307921</td>\n",
       "      <td>Plate_3</td>\n",
       "      <td>Plate_3_prime</td>\n",
       "      <td>WT</td>\n",
       "      <td>WT</td>\n",
       "      <td>True</td>\n",
       "      <td>False</td>\n",
       "    </tr>\n",
       "  </tbody>\n",
       "</table>\n",
       "</div>"
      ],
      "text/plain": [
       "   correlation Metadata_Plate__group0 Metadata_Plate__group1  \\\n",
       "0     0.041393                Plate_3          Plate_3_prime   \n",
       "1     0.161703                Plate_3          Plate_3_prime   \n",
       "2     0.305890                Plate_3          Plate_3_prime   \n",
       "3    -0.204942                Plate_3          Plate_3_prime   \n",
       "4     0.307921                Plate_3          Plate_3_prime   \n",
       "\n",
       "  Metadata_genotype__group0 Metadata_genotype__group1  same_genotype  \\\n",
       "0                        WT                        WT           True   \n",
       "1                        WT                        WT           True   \n",
       "2                        WT                        WT           True   \n",
       "3                        WT                        WT           True   \n",
       "4                        WT                        WT           True   \n",
       "\n",
       "   same_plate  \n",
       "0       False  \n",
       "1       False  \n",
       "2       False  \n",
       "3       False  \n",
       "4       False  "
      ]
     },
     "execution_count": 2,
     "metadata": {},
     "output_type": "execute_result"
    }
   ],
   "source": [
    "# Path to correlation per plate results\n",
    "corr_results_dir = pathlib.Path(\"../../0.data_analysis/plate_correlation_analyses/construct_correlation_data\")\n",
    "\n",
    "# Load data\n",
    "corr_results_file = corr_results_dir / \"well_agg_plate_genotype_correlations.parquet\"\n",
    "corr_results_df = pd.read_parquet(corr_results_file)\n",
    "\n",
    "# Add a new column `same_genotype` to check if the correlation row is comparing between the same genotype\n",
    "corr_results_df['same_genotype'] = corr_results_df['Metadata_genotype__group0'] == corr_results_df['Metadata_genotype__group1']\n",
    "\n",
    "# Add a new column `same_plate` to check if the correlation row is comparing between the same plate\n",
    "corr_results_df['same_plate'] = corr_results_df['Metadata_Plate__group0'] == corr_results_df['Metadata_Plate__group1']\n",
    "\n",
    "# Display dimensions and first few rows of the DataFrame\n",
    "print(corr_results_df.shape)\n",
    "corr_results_df.head()\n"
   ]
  },
  {
   "cell_type": "markdown",
   "metadata": {},
   "source": [
    "## Perform two sample t-test"
   ]
  },
  {
   "cell_type": "code",
   "execution_count": 3,
   "metadata": {},
   "outputs": [
    {
     "name": "stdout",
     "output_type": "stream",
     "text": [
      "T-statistic: 14.127139465381415\n",
      "P-value: 6.780397765300712e-45\n"
     ]
    }
   ],
   "source": [
    "# Split the DataFrame based on the `same_genotype` column\n",
    "same_genotype_df = corr_results_df[corr_results_df['same_genotype'] == True]\n",
    "different_genotype_df = corr_results_df[corr_results_df['same_genotype'] == False]\n",
    "\n",
    "# Perform a t-test between the two groups\n",
    "# Replace 'your_column_of_interest' with the column you want to test\n",
    "t_stat, p_value = ttest_ind(same_genotype_df['correlation'], \n",
    "                            different_genotype_df['correlation'])\n",
    "\n",
    "print(f\"T-statistic: {t_stat}\")\n",
    "print(f\"P-value: {p_value}\")"
   ]
  },
  {
   "cell_type": "markdown",
   "metadata": {},
   "source": [
    "A large t-statistic and very low p-value indicates we can reject the null hypothesis and conclude that overall single-cell populations at the well level that are from the same genotype have a significantly different mean than the wells with different genotypes."
   ]
  },
  {
   "cell_type": "markdown",
   "metadata": {},
   "source": [
    "## Show the means of the different distributions"
   ]
  },
  {
   "cell_type": "code",
   "execution_count": 4,
   "metadata": {},
   "outputs": [
    {
     "name": "stdout",
     "output_type": "stream",
     "text": [
      "Mean (same_genotype): 0.2352622084592727\n",
      "Mean (different_genotype): 0.15985902728796325\n"
     ]
    }
   ],
   "source": [
    "same_genotype_mean = same_genotype_df['correlation'].mean()\n",
    "different_genotype_mean = different_genotype_df['correlation'].mean()\n",
    "\n",
    "print(f\"Mean (same_genotype): {same_genotype_mean}\")\n",
    "print(f\"Mean (different_genotype): {different_genotype_mean}\")\n"
   ]
  }
 ],
 "metadata": {
  "kernelspec": {
   "display_name": "nf1_analysis",
   "language": "python",
   "name": "python3"
  },
  "language_info": {
   "codemirror_mode": {
    "name": "ipython",
    "version": 3
   },
   "file_extension": ".py",
   "mimetype": "text/x-python",
   "name": "python",
   "nbconvert_exporter": "python",
   "pygments_lexer": "ipython3",
   "version": "3.9.18"
  }
 },
 "nbformat": 4,
 "nbformat_minor": 2
}
