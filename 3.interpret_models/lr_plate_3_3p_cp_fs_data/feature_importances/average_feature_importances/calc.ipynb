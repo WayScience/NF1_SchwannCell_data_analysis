{
 "cells": [
  {
   "cell_type": "markdown",
   "metadata": {
    "jukit_cell_id": "AAuDgo76ka"
   },
   "source": [
    "# Determine the best features using a Logistic Regression Model"
   ]
  },
  {
   "cell_type": "markdown",
   "metadata": {
    "jukit_cell_id": "SyZ3qa8iz3"
   },
   "source": [
    "## Imports"
   ]
  },
  {
   "cell_type": "code",
   "metadata": {
    "jukit_cell_id": "FKd1dIo45E"
   },
   "source": [
    "import sys\n",
    "import pandas as pd\n",
    "import numpy as np\n",
    "from pathlib import Path\n",
    "from sklearn.preprocessing import LabelEncoder\n",
    "from sklearn.linear_model import LogisticRegression\n",
    "\n",
    "from sklearn.metrics import (\n",
    "    confusion_matrix,\n",
    "    ConfusionMatrixDisplay,\n",
    "    precision_score,\n",
    "    accuracy_score,\n",
    ")\n",
    "from sklearn.model_selection import train_test_split\n",
    "from collections import Counter\n",
    "\n",
    "import matplotlib.pyplot as plt\n",
    "import seaborn as sns\n",
    "import itertools\n",
    "\n",
    "from joblib import dump, load"
   ],
   "outputs": [],
   "execution_count": null
  },
  {
   "cell_type": "markdown",
   "metadata": {
    "jukit_cell_id": "ItCxTfECNg"
   },
   "source": [
    "## Find the git root Directory"
   ]
  },
  {
   "cell_type": "code",
   "metadata": {
    "jukit_cell_id": "zjh0SKYFgl"
   },
   "source": [
    "# Get the current working directory\n",
    "cwd = Path.cwd()\n",
    "\n",
    "if (cwd / \".git\").is_dir():\n",
    "    root_dir = cwd\n",
    "\n",
    "else:\n",
    "    root_dir = None\n",
    "    for parent in cwd.parents:\n",
    "        if (parent / \".git\").is_dir():\n",
    "            root_dir = parent\n",
    "            break\n",
    "\n",
    "# Check if a Git root directory was found\n",
    "if root_dir is None:\n",
    "    raise FileNotFoundError(\"No Git root directory found.\")"
   ],
   "outputs": [],
   "execution_count": null
  },
  {
   "cell_type": "markdown",
   "metadata": {
    "jukit_cell_id": "3eCCDTvwiA"
   },
   "source": [
    "## Import Utilities"
   ]
  },
  {
   "cell_type": "code",
   "metadata": {
    "jukit_cell_id": "iw6Y70wdPs"
   },
   "source": [
    "sys.path.append(f\"{root_dir}/utils\")\n",
    "import analysis_utils as au\n",
    "import preprocess_utils as ppu\n",
    "import eval_utils as eu\n",
    "import train_utils as tu"
   ],
   "outputs": [],
   "execution_count": null
  },
  {
   "cell_type": "markdown",
   "metadata": {
    "jukit_cell_id": "OQe1PK1lIs"
   },
   "source": [
    "# Seed and Generator for Reproducibility"
   ]
  },
  {
   "cell_type": "code",
   "metadata": {
    "jukit_cell_id": "EBc3nCzByb"
   },
   "source": [
    "rnd_val = 0  # Random value for all seeds\n",
    "rng = np.random.default_rng(seed=rnd_val)  # random number generator"
   ],
   "outputs": [],
   "execution_count": null
  },
  {
   "cell_type": "code",
   "metadata": {
    "jukit_cell_id": "SrlRn60Pna"
   },
   "source": [
    "fig_out_path = Path(\"feature_importance_figures\")\n",
    "data_path = Path(\"data\")\n",
    "\n",
    "if not fig_out_path.exists():\n",
    "    fig_out_path.mkdir()\n",
    "\n",
    "if not data_path.exists():\n",
    "    data_path.mkdir()"
   ],
   "outputs": [],
   "execution_count": null
  },
  {
   "cell_type": "markdown",
   "metadata": {
    "jukit_cell_id": "9fnwy4E8u7"
   },
   "source": [
    "## Load Model"
   ]
  },
  {
   "cell_type": "code",
   "metadata": {
    "jukit_cell_id": "xGf9mf7lUA"
   },
   "source": [
    "models_path = Path(f\"{root_dir}/1.train_models/lr_plate3_cp_fs_data/data\")\n",
    "lr = load(models_path / \"lr_model.joblib\")"
   ],
   "outputs": [],
   "execution_count": null
  },
  {
   "cell_type": "markdown",
   "metadata": {
    "jukit_cell_id": "zrPcdDGOjB"
   },
   "source": [
    "## Save Data"
   ]
  },
  {
   "cell_type": "code",
   "metadata": {
    "jukit_cell_id": "sgPsexjO8l"
   },
   "source": [
    "testdf = load(models_path / \"testdf.joblib\")\n",
    "le = load(models_path / \"label_encoder.joblib\")"
   ],
   "outputs": [],
   "execution_count": null
  },
  {
   "cell_type": "markdown",
   "metadata": {
    "jukit_cell_id": "28pF0enKeV"
   },
   "source": [
    "## Create Dataframe with coefficients for each Genotype"
   ]
  },
  {
   "cell_type": "code",
   "metadata": {
    "jukit_cell_id": "y1Yv8pXD6x"
   },
   "source": [
    "featdf = testdf.reset_index(drop=True)\n",
    "featdf.drop([\"label\", \"preds\"], inplace=True, axis=1)\n",
    "featdf = featdf.T\n",
    "featdf = featdf.reset_index()\n",
    "featdf = featdf.rename(columns={\"index\": \"features\"})\n",
    "featdf = pd.concat(\n",
    "    [pd.DataFrame(lr.coef_.T, columns=le.classes_.tolist()), featdf], axis=\"columns\"\n",
    ")"
   ],
   "outputs": [],
   "execution_count": null
  },
  {
   "cell_type": "markdown",
   "metadata": {
    "jukit_cell_id": "nU7A8q3Est"
   },
   "source": [
    "## Get the most important features for HET from the entire Test Set"
   ]
  },
  {
   "cell_type": "code",
   "metadata": {
    "jukit_cell_id": "n87AJgze1X"
   },
   "source": [
    "featdf[\"abs_HET\"] = featdf[\"HET\"].abs()"
   ],
   "outputs": [],
   "execution_count": null
  },
  {
   "cell_type": "markdown",
   "metadata": {
    "jukit_cell_id": "bs0ixcY9UF"
   },
   "source": [
    "## Create dictionaries that map labels"
   ]
  },
  {
   "cell_type": "code",
   "metadata": {
    "jukit_cell_id": "vskVJyxqCx"
   },
   "source": [
    "pos_genes = [\"HET\", \"Null\", \"WT\"]\n",
    "label2gene = dict(zip(le.transform(pos_genes), pos_genes))\n",
    "gene2label = {gene: label for label, gene in label2gene.items()}"
   ],
   "outputs": [],
   "execution_count": null
  },
  {
   "cell_type": "markdown",
   "metadata": {
    "jukit_cell_id": "mb5raHy7Gy"
   },
   "source": [
    "## Create a DataFrame with all correctly predicted data"
   ]
  },
  {
   "cell_type": "code",
   "metadata": {
    "jukit_cell_id": "HRqU8QAy9z"
   },
   "source": [
    "correct_filt = (\n",
    "    ((testdf[\"preds\"] == 0) & (testdf[\"label\"] == 0))\n",
    "    | ((testdf[\"preds\"] == 1) & (testdf[\"label\"] == 1))\n",
    "    | ((testdf[\"preds\"] == 2) & (testdf[\"label\"] == 2))\n",
    ")\n",
    "correctdf = testdf.loc[correct_filt]\n",
    "correctdf = correctdf.reset_index(drop=True)"
   ],
   "outputs": [],
   "execution_count": null
  },
  {
   "cell_type": "markdown",
   "metadata": {
    "jukit_cell_id": "iEKgqotq3w"
   },
   "source": [
    "## Find the most important features by average"
   ]
  },
  {
   "cell_type": "code",
   "metadata": {
    "jukit_cell_id": "2cJeWIano6"
   },
   "source": [
    "featimp = {}\n",
    "\n",
    "# Columns to be used as features\n",
    "kept_cols = correctdf.drop([\"label\", \"preds\"], axis=\"columns\").columns\n",
    "\n",
    "for genotype in featdf[pos_genes]:\n",
    "    featimp[genotype] = {}  # Create a DataFrame for each genotype\n",
    "    label = gene2label[genotype]  # Get the label for the genotype\n",
    "    gene_filt = correctdf[\"label\"] == label  # Filter to get the data for a genotype\n",
    "\n",
    "    # Product of model weights by the feature values\n",
    "    mat_imp = (\n",
    "        featdf[genotype].values\n",
    "        * correctdf.loc[gene_filt].drop([\"label\", \"preds\"], axis=\"columns\").values\n",
    "    )\n",
    "\n",
    "    # Create the dataframe of product of model weights by the feature values\n",
    "    featimp[genotype][\"featdf\"] = pd.DataFrame(mat_imp, columns=kept_cols.to_list())\n",
    "\n",
    "    # Calculate quartiles and IQR:\n",
    "    q1 = featimp[genotype][\"featdf\"].quantile(0.25)\n",
    "    q3 = featimp[genotype][\"featdf\"].quantile(0.75)\n",
    "    iqr = q3 - q1\n",
    "\n",
    "    # Calculate bounds:\n",
    "    lower_bound = q1 - 1.5 * iqr\n",
    "    upper_bound = q3 + 1.5 * iqr\n",
    "\n",
    "    # Identify outliers from bounds:\n",
    "    featimp[genotype][\"featdf\"] = featimp[genotype][\"featdf\"][\n",
    "        (featimp[genotype][\"featdf\"] >= lower_bound)\n",
    "        & (featimp[genotype][\"featdf\"] <= upper_bound)\n",
    "    ]\n",
    "\n",
    "    # Select inliers\n",
    "    featimp[genotype][\"featdf\"] = featimp[genotype][\"featdf\"][\n",
    "        featimp[genotype][\"featdf\"] > 0\n",
    "    ]\n",
    "\n",
    "    # Calculate the mean for each (cell feature value / feature coefficient) product\n",
    "    featimp[genotype][\"featnorm_avg\"] = featimp[genotype][\"featdf\"].mean()\n",
    "\n",
    "    # Drop the means that are not a number\n",
    "    featimp[genotype][\"featnorm_avg\"].dropna(inplace=True)\n",
    "\n",
    "    # Total sum normalize w.r.t. all feature means\n",
    "    featimp[genotype][\"featnorm_avg_norm\"] = (\n",
    "        featimp[genotype][\"featnorm_avg\"] / featimp[genotype][\"featnorm_avg\"].sum()\n",
    "    )\n",
    "\n",
    "    # Sort the normalized averaged features\n",
    "    featimp[genotype][\"featnorm_avg_norm\"] = featimp[genotype][\n",
    "        \"featnorm_avg_norm\"\n",
    "    ].sort_values(ascending=False)\n",
    "\n",
    "    # Sort the averaged features\n",
    "    featimp[genotype][\"featnorm_avg\"] = featimp[genotype][\"featnorm_avg\"].sort_values(\n",
    "        ascending=False\n",
    "    )"
   ],
   "outputs": [],
   "execution_count": null
  },
  {
   "cell_type": "markdown",
   "metadata": {
    "jukit_cell_id": "lmb3oA4H0r"
   },
   "source": [
    "## Create a dataframe of averaged importantces across Genotype"
   ]
  },
  {
   "cell_type": "code",
   "metadata": {
    "jukit_cell_id": "nyg0aKXYl7"
   },
   "source": [
    "totfeatimp = {}\n",
    "\n",
    "# Extract the common columns\n",
    "common_indices = (\n",
    "    featimp[\"HET\"][\"featnorm_avg_norm\"]\n",
    "    .index.intersection(featimp[\"Null\"][\"featnorm_avg_norm\"].index)\n",
    "    .intersection(featimp[\"WT\"][\"featnorm_avg_norm\"].index)\n",
    ")\n",
    "\n",
    "# Create a dataframe from the common columns accross genotype\n",
    "avgfeatimpdf = pd.DataFrame(common_indices.tolist(), columns=[\"Features\"])\n",
    "\n",
    "featimpdf = pd.DataFrame([])\n",
    "\n",
    "for genotype in pos_genes:\n",
    "    # Create a dataframe for each genotype's feature importances\n",
    "    avgfeatimpdf = pd.merge(\n",
    "        avgfeatimpdf,\n",
    "        pd.DataFrame(\n",
    "            list(featimp[genotype][\"featnorm_avg_norm\"].items()),\n",
    "            columns=[\"Features\", genotype],\n",
    "        ),\n",
    "        on=\"Features\",\n",
    "        how=\"inner\",\n",
    "    )\n",
    "\n",
    "    # Ensure we can distinguish between genotype\n",
    "    featimp[genotype][\"featdf\"][\"genotype\"] = [genotype] * len(\n",
    "        featimp[genotype][\"featdf\"]\n",
    "    )\n",
    "\n",
    "    # Combine all genotype dataframes\n",
    "    featimpdf = pd.concat([featimpdf, featimp[genotype][\"featdf\"]], axis=0)\n",
    "\n",
    "# Calculate the Overal feature importance by averaging each feature's importance across genotypes\n",
    "avgfeatimpdf[\"Overall\"] = (\n",
    "    avgfeatimpdf[pos_genes[0]] + avgfeatimpdf[pos_genes[1]] + avgfeatimpdf[pos_genes[2]]\n",
    ")\n",
    "avgfeatimpdf[\"Overall\"] = avgfeatimpdf[\"Overall\"] / 3"
   ],
   "outputs": [],
   "execution_count": null
  },
  {
   "cell_type": "markdown",
   "metadata": {
    "jukit_cell_id": "CJw2APkkt8"
   },
   "source": [
    "## Convert Overall Importances to sorted normalized series"
   ]
  },
  {
   "cell_type": "code",
   "metadata": {
    "jukit_cell_id": "5qAGiBS91j"
   },
   "source": [
    "totfeatimp = pd.Series(avgfeatimpdf[\"Overall\"].values, index=avgfeatimpdf[\"Features\"])\n",
    "\n",
    "min_val = totfeatimp.min()\n",
    "max_val = totfeatimp.max()\n",
    "totfeatimp = totfeatimp / totfeatimp.sum()\n",
    "\n",
    "totfeatimp = totfeatimp.sort_values(ascending=False)"
   ],
   "outputs": [],
   "execution_count": null
  },
  {
   "cell_type": "markdown",
   "metadata": {
    "jukit_cell_id": "8vipA4gg2h"
   },
   "source": [
    "## Save the most important feature values"
   ]
  },
  {
   "cell_type": "code",
   "metadata": {
    "jukit_cell_id": "uZwaKMwkvC"
   },
   "source": [
    "totfeatimp.to_csv(\n",
    "    data_path / \"overall_feature_importances.tsv\",\n",
    "    sep=\"\\t\",\n",
    "    header=[\"feature_importance\"],\n",
    "    index=True,\n",
    ")"
   ],
   "outputs": [],
   "execution_count": null
  },
  {
   "cell_type": "markdown",
   "metadata": {
    "jukit_cell_id": "y1FxRpI4AX"
   },
   "source": [
    "## Save the Feature Weights"
   ]
  },
  {
   "cell_type": "code",
   "metadata": {
    "jukit_cell_id": "5OYcka4f7C"
   },
   "source": [
    "featdf.to_csv(data_path / \"feature_weights.tsv\", sep=\"\\t\", index=False)"
   ],
   "outputs": [],
   "execution_count": null
  },
  {
   "cell_type": "markdown",
   "metadata": {
    "jukit_cell_id": "nIxrcMzR8U"
   },
   "source": [
    "## Save the Averaged Feature Importances"
   ]
  },
  {
   "cell_type": "code",
   "metadata": {
    "jukit_cell_id": "0Fd80yruid"
   },
   "source": [
    "avgfeatimpdf.to_csv(\n",
    "    data_path / \"avg_norm_feature_importances.tsv\", sep=\"\\t\", index=False\n",
    ")"
   ],
   "outputs": [],
   "execution_count": null
  },
  {
   "cell_type": "markdown",
   "metadata": {
    "jukit_cell_id": "VlGGdSCk5I"
   },
   "source": [
    "## Save the correct cell data"
   ]
  },
  {
   "cell_type": "code",
   "metadata": {
    "jukit_cell_id": "kZ2LHUSiu6"
   },
   "source": [
    "correctdf.to_csv(data_path / \"correctly_predicted_cells.tsv\", sep=\"\\t\", index=False)"
   ],
   "outputs": [],
   "execution_count": null
  }
 ],
 "metadata": {
  "anaconda-cloud": {},
  "kernelspec": {
   "display_name": "python",
   "language": "python",
   "name": "python3"
  }
 },
 "nbformat": 4,
 "nbformat_minor": 4
}