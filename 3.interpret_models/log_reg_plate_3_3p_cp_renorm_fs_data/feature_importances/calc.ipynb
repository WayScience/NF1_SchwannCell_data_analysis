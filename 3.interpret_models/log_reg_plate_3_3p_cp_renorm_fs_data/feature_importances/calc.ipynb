{
 "cells": [
  {
   "cell_type": "markdown",
   "metadata": {
    "jukit_cell_id": "AAuDgo76ka"
   },
   "source": [
    "# Determine the best features using a Logistic Regression Model"
   ]
  },
  {
   "cell_type": "markdown",
   "metadata": {
    "jukit_cell_id": "SyZ3qa8iz3"
   },
   "source": [
    "## Imports"
   ]
  },
  {
   "cell_type": "code",
   "execution_count": 1,
   "metadata": {
    "execution": {
     "iopub.execute_input": "2023-06-16T00:10:57.125797Z",
     "iopub.status.busy": "2023-06-16T00:10:57.125645Z",
     "iopub.status.idle": "2023-06-16T00:10:57.330511Z",
     "shell.execute_reply": "2023-06-16T00:10:57.330101Z"
    },
    "jukit_cell_id": "FKd1dIo45E"
   },
   "outputs": [],
   "source": [
    "import sys\n",
    "import pandas as pd\n",
    "import numpy as np\n",
    "from pathlib import Path\n",
    "from joblib import load"
   ]
  },
  {
   "cell_type": "markdown",
   "metadata": {
    "jukit_cell_id": "ItCxTfECNg"
   },
   "source": [
    "## Find the git root Directory"
   ]
  },
  {
   "cell_type": "code",
   "execution_count": 2,
   "metadata": {
    "execution": {
     "iopub.execute_input": "2023-06-16T00:10:57.332456Z",
     "iopub.status.busy": "2023-06-16T00:10:57.332102Z",
     "iopub.status.idle": "2023-06-16T00:10:57.334833Z",
     "shell.execute_reply": "2023-06-16T00:10:57.334486Z"
    },
    "jukit_cell_id": "zjh0SKYFgl"
   },
   "outputs": [],
   "source": [
    "# Get the current working directory\n",
    "cwd = Path.cwd()\n",
    "\n",
    "if (cwd / \".git\").is_dir():\n",
    "    root_dir = cwd\n",
    "\n",
    "else:\n",
    "    root_dir = None\n",
    "    for parent in cwd.parents:\n",
    "        if (parent / \".git\").is_dir():\n",
    "            root_dir = parent\n",
    "            break\n",
    "\n",
    "# Check if a Git root directory was found\n",
    "if root_dir is None:\n",
    "    raise FileNotFoundError(\"No Git root directory found.\")"
   ]
  },
  {
   "cell_type": "markdown",
   "metadata": {
    "jukit_cell_id": "3eCCDTvwiA"
   },
   "source": [
    "## Import Utilities"
   ]
  },
  {
   "cell_type": "code",
   "execution_count": 3,
   "metadata": {
    "execution": {
     "iopub.execute_input": "2023-06-16T00:10:57.336196Z",
     "iopub.status.busy": "2023-06-16T00:10:57.335960Z",
     "iopub.status.idle": "2023-06-16T00:10:57.337929Z",
     "shell.execute_reply": "2023-06-16T00:10:57.337588Z"
    },
    "jukit_cell_id": "iw6Y70wdPs"
   },
   "outputs": [],
   "source": [
    "sys.path.append(f\"{root_dir}/utils\")"
   ]
  },
  {
   "cell_type": "markdown",
   "metadata": {
    "jukit_cell_id": "OQe1PK1lIs"
   },
   "source": [
    "# Seed and Generator for Reproducibility"
   ]
  },
  {
   "cell_type": "code",
   "execution_count": 4,
   "metadata": {
    "execution": {
     "iopub.execute_input": "2023-06-16T00:10:57.339164Z",
     "iopub.status.busy": "2023-06-16T00:10:57.338895Z",
     "iopub.status.idle": "2023-06-16T00:10:57.340946Z",
     "shell.execute_reply": "2023-06-16T00:10:57.340610Z"
    },
    "jukit_cell_id": "EBc3nCzByb"
   },
   "outputs": [],
   "source": [
    "rnd_val = 0  # Random value for all seeds\n",
    "rng = np.random.default_rng(seed=rnd_val)  # random number generator"
   ]
  },
  {
   "cell_type": "code",
   "execution_count": 5,
   "metadata": {
    "execution": {
     "iopub.execute_input": "2023-06-16T00:10:57.342270Z",
     "iopub.status.busy": "2023-06-16T00:10:57.342011Z",
     "iopub.status.idle": "2023-06-16T00:10:57.344131Z",
     "shell.execute_reply": "2023-06-16T00:10:57.343787Z"
    },
    "jukit_cell_id": "SrlRn60Pna"
   },
   "outputs": [],
   "source": [
    "data_path = Path(\"data\")\n",
    "filename = \"feature_importances.tsv\"\n",
    "\n",
    "if not data_path.exists():\n",
    "    data_path.mkdir()\n",
    "\n",
    "data_path = data_path / filename"
   ]
  },
  {
   "cell_type": "markdown",
   "metadata": {
    "jukit_cell_id": "9fnwy4E8u7"
   },
   "source": [
    "## Load Model"
   ]
  },
  {
   "cell_type": "code",
   "execution_count": 6,
   "metadata": {
    "execution": {
     "iopub.execute_input": "2023-06-16T00:10:57.345379Z",
     "iopub.status.busy": "2023-06-16T00:10:57.345122Z",
     "iopub.status.idle": "2023-06-16T00:10:57.523838Z",
     "shell.execute_reply": "2023-06-16T00:10:57.523455Z"
    },
    "jukit_cell_id": "xGf9mf7lUA"
   },
   "outputs": [],
   "source": [
    "models_path = Path(\n",
    "    f\"{root_dir}/1.train_models/log_reg_plate_3_3p_cp_renorm_fs_data/data\"\n",
    ")\n",
    "lr = load(models_path / \"lr_model.joblib\")"
   ]
  },
  {
   "cell_type": "markdown",
   "metadata": {
    "jukit_cell_id": "zrPcdDGOjB"
   },
   "source": [
    "## Save Data"
   ]
  },
  {
   "cell_type": "code",
   "execution_count": 7,
   "metadata": {
    "execution": {
     "iopub.execute_input": "2023-06-16T00:10:57.525478Z",
     "iopub.status.busy": "2023-06-16T00:10:57.525254Z",
     "iopub.status.idle": "2023-06-16T00:10:57.552577Z",
     "shell.execute_reply": "2023-06-16T00:10:57.552197Z"
    },
    "jukit_cell_id": "sgPsexjO8l"
   },
   "outputs": [],
   "source": [
    "testdf = load(models_path / \"testdf.joblib\")\n",
    "le = load(models_path / \"label_encoder.joblib\")"
   ]
  },
  {
   "cell_type": "markdown",
   "metadata": {
    "jukit_cell_id": "28pF0enKeV"
   },
   "source": [
    "## Create Dataframe with coefficients for each Genotype"
   ]
  },
  {
   "cell_type": "code",
   "execution_count": 8,
   "metadata": {
    "execution": {
     "iopub.execute_input": "2023-06-16T00:10:57.554142Z",
     "iopub.status.busy": "2023-06-16T00:10:57.553867Z",
     "iopub.status.idle": "2023-06-16T00:10:57.568229Z",
     "shell.execute_reply": "2023-06-16T00:10:57.567871Z"
    },
    "jukit_cell_id": "y1Yv8pXD6x"
   },
   "outputs": [],
   "source": [
    "featdf = pd.DataFrame(lr.coef_.T, columns=le.classes_.tolist())\n",
    "featdf[\"feature\"] = testdf.drop([\"label\"], axis=1).columns"
   ]
  },
  {
   "cell_type": "markdown",
   "metadata": {
    "jukit_cell_id": "kQ7Z5NLkQ5"
   },
   "source": [
    "## Save the feature importance data"
   ]
  },
  {
   "cell_type": "code",
   "execution_count": 9,
   "metadata": {
    "execution": {
     "iopub.execute_input": "2023-06-16T00:10:57.569636Z",
     "iopub.status.busy": "2023-06-16T00:10:57.569425Z",
     "iopub.status.idle": "2023-06-16T00:10:57.573556Z",
     "shell.execute_reply": "2023-06-16T00:10:57.573237Z"
    },
    "jukit_cell_id": "JA6YJltsLL"
   },
   "outputs": [],
   "source": [
    "featdf.to_csv(data_path, sep=\"\\t\", index=False)"
   ]
  }
 ],
 "metadata": {
  "anaconda-cloud": {},
  "kernelspec": {
   "display_name": "python",
   "language": "python",
   "name": "python3"
  },
  "language_info": {
   "codemirror_mode": {
    "name": "ipython",
    "version": 3
   },
   "file_extension": ".py",
   "mimetype": "text/x-python",
   "name": "python",
   "nbconvert_exporter": "python",
   "pygments_lexer": "ipython3",
   "version": "3.9.16"
  }
 },
 "nbformat": 4,
 "nbformat_minor": 4
}
