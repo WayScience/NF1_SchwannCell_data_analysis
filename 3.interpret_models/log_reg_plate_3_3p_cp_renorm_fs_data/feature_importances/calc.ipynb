{
 "cells": [
  {
   "cell_type": "markdown",
   "metadata": {
    "jukit_cell_id": "AAuDgo76ka"
   },
   "source": [
    "# Determine the best features using a Logistic Regression Model"
   ]
  },
  {
   "cell_type": "markdown",
   "metadata": {
    "jukit_cell_id": "SyZ3qa8iz3"
   },
   "source": [
    "## Imports"
   ]
  },
  {
   "cell_type": "code",
   "execution_count": 1,
   "metadata": {
    "execution": {
     "iopub.execute_input": "2023-06-16T21:05:34.842919Z",
     "iopub.status.busy": "2023-06-16T21:05:34.842570Z",
     "iopub.status.idle": "2023-06-16T21:05:35.047587Z",
     "shell.execute_reply": "2023-06-16T21:05:35.047169Z"
    },
    "jukit_cell_id": "FKd1dIo45E"
   },
   "outputs": [],
   "source": [
    "import sys\n",
    "import pandas as pd\n",
    "import numpy as np\n",
    "from pathlib import Path\n",
    "from joblib import load"
   ]
  },
  {
   "cell_type": "markdown",
   "metadata": {
    "jukit_cell_id": "ItCxTfECNg"
   },
   "source": [
    "## Find the git root Directory"
   ]
  },
  {
   "cell_type": "code",
   "execution_count": 2,
   "metadata": {
    "execution": {
     "iopub.execute_input": "2023-06-16T21:05:35.049154Z",
     "iopub.status.busy": "2023-06-16T21:05:35.048870Z",
     "iopub.status.idle": "2023-06-16T21:05:35.051508Z",
     "shell.execute_reply": "2023-06-16T21:05:35.051178Z"
    },
    "jukit_cell_id": "zjh0SKYFgl"
   },
   "outputs": [],
   "source": [
    "# Get the current working directory\n",
    "cwd = Path.cwd()\n",
    "\n",
    "if (cwd / \".git\").is_dir():\n",
    "    root_dir = cwd\n",
    "\n",
    "else:\n",
    "    root_dir = None\n",
    "    for parent in cwd.parents:\n",
    "        if (parent / \".git\").is_dir():\n",
    "            root_dir = parent\n",
    "            break\n",
    "\n",
    "# Check if a Git root directory was found\n",
    "if root_dir is None:\n",
    "    raise FileNotFoundError(\"No Git root directory found.\")"
   ]
  },
  {
   "cell_type": "markdown",
   "metadata": {
    "jukit_cell_id": "3eCCDTvwiA"
   },
   "source": [
    "## Import Utilities"
   ]
  },
  {
   "cell_type": "code",
   "execution_count": 3,
   "metadata": {
    "execution": {
     "iopub.execute_input": "2023-06-16T21:05:35.052678Z",
     "iopub.status.busy": "2023-06-16T21:05:35.052468Z",
     "iopub.status.idle": "2023-06-16T21:05:35.054281Z",
     "shell.execute_reply": "2023-06-16T21:05:35.053983Z"
    },
    "jukit_cell_id": "iw6Y70wdPs"
   },
   "outputs": [],
   "source": [
    "sys.path.append(f\"{root_dir}/utils\")"
   ]
  },
  {
   "cell_type": "markdown",
   "metadata": {
    "jukit_cell_id": "OQe1PK1lIs"
   },
   "source": [
    "# Seed and Generator for Reproducibility"
   ]
  },
  {
   "cell_type": "code",
   "execution_count": 4,
   "metadata": {
    "execution": {
     "iopub.execute_input": "2023-06-16T21:05:35.055435Z",
     "iopub.status.busy": "2023-06-16T21:05:35.055234Z",
     "iopub.status.idle": "2023-06-16T21:05:35.057185Z",
     "shell.execute_reply": "2023-06-16T21:05:35.056893Z"
    },
    "jukit_cell_id": "EBc3nCzByb"
   },
   "outputs": [],
   "source": [
    "rnd_val = 0  # Random value for all seeds\n",
    "rng = np.random.default_rng(seed=rnd_val)  # random number generator"
   ]
  },
  {
   "cell_type": "markdown",
   "metadata": {
    "jukit_cell_id": "p29oQJPh2r"
   },
   "source": [
    "## Specify paths"
   ]
  },
  {
   "cell_type": "code",
   "execution_count": 5,
   "metadata": {
    "execution": {
     "iopub.execute_input": "2023-06-16T21:05:35.058352Z",
     "iopub.status.busy": "2023-06-16T21:05:35.058153Z",
     "iopub.status.idle": "2023-06-16T21:05:35.060515Z",
     "shell.execute_reply": "2023-06-16T21:05:35.060195Z"
    },
    "jukit_cell_id": "SrlRn60Pna"
   },
   "outputs": [],
   "source": [
    "data_path = Path(\"data\")\n",
    "filename = \"feature_importances.tsv\"\n",
    "\n",
    "if not data_path.exists():\n",
    "    data_path.mkdir()\n",
    "\n",
    "data_path = data_path / filename\n",
    "\n",
    "\n",
    "models_path = Path(\n",
    "    f\"{root_dir}/1.train_models/log_reg_plate_3_3p_cp_renorm_fs_data/data\"\n",
    ")\n",
    "\n",
    "lr_output_path = models_path / \"lr_model.joblib\"\n",
    "testdf_output_path = models_path / \"testdf.joblib\"\n",
    "le_output_path = models_path / \"label_encoder.joblib\""
   ]
  },
  {
   "cell_type": "markdown",
   "metadata": {
    "jukit_cell_id": "9fnwy4E8u7"
   },
   "source": [
    "## Load Model"
   ]
  },
  {
   "cell_type": "code",
   "execution_count": 6,
   "metadata": {
    "execution": {
     "iopub.execute_input": "2023-06-16T21:05:35.061742Z",
     "iopub.status.busy": "2023-06-16T21:05:35.061542Z",
     "iopub.status.idle": "2023-06-16T21:05:35.238923Z",
     "shell.execute_reply": "2023-06-16T21:05:35.238530Z"
    },
    "jukit_cell_id": "9tHrPDLV5e"
   },
   "outputs": [],
   "source": [
    "lr = load(lr_output_path)"
   ]
  },
  {
   "cell_type": "markdown",
   "metadata": {
    "jukit_cell_id": "dRdqF7jwDe"
   },
   "source": [
    "## Load data"
   ]
  },
  {
   "cell_type": "code",
   "execution_count": 7,
   "metadata": {
    "execution": {
     "iopub.execute_input": "2023-06-16T21:05:35.240309Z",
     "iopub.status.busy": "2023-06-16T21:05:35.240075Z",
     "iopub.status.idle": "2023-06-16T21:05:35.267734Z",
     "shell.execute_reply": "2023-06-16T21:05:35.267360Z"
    },
    "jukit_cell_id": "yETQRW2Cmj"
   },
   "outputs": [],
   "source": [
    "testdf = load(testdf_output_path)\n",
    "le = load(le_output_path)"
   ]
  },
  {
   "cell_type": "markdown",
   "metadata": {
    "jukit_cell_id": "28pF0enKeV"
   },
   "source": [
    "## Create Dataframe with coefficients for each Genotype"
   ]
  },
  {
   "cell_type": "code",
   "execution_count": 8,
   "metadata": {
    "execution": {
     "iopub.execute_input": "2023-06-16T21:05:35.269070Z",
     "iopub.status.busy": "2023-06-16T21:05:35.268858Z",
     "iopub.status.idle": "2023-06-16T21:05:35.283334Z",
     "shell.execute_reply": "2023-06-16T21:05:35.282987Z"
    },
    "jukit_cell_id": "y1Yv8pXD6x"
   },
   "outputs": [],
   "source": [
    "featdf = pd.DataFrame(lr.coef_.T, columns=le.classes_.tolist())\n",
    "featdf[\"feature\"] = testdf.drop([\"label\"], axis=1).columns"
   ]
  },
  {
   "cell_type": "markdown",
   "metadata": {
    "jukit_cell_id": "kQ7Z5NLkQ5"
   },
   "source": [
    "## Save the feature importance data"
   ]
  },
  {
   "cell_type": "code",
   "execution_count": 9,
   "metadata": {
    "execution": {
     "iopub.execute_input": "2023-06-16T21:05:35.284648Z",
     "iopub.status.busy": "2023-06-16T21:05:35.284431Z",
     "iopub.status.idle": "2023-06-16T21:05:35.288606Z",
     "shell.execute_reply": "2023-06-16T21:05:35.288267Z"
    },
    "jukit_cell_id": "JA6YJltsLL"
   },
   "outputs": [],
   "source": [
    "featdf.to_csv(data_path, sep=\"\\t\", index=False)"
   ]
  }
 ],
 "metadata": {
  "anaconda-cloud": {},
  "kernelspec": {
   "display_name": "python",
   "language": "python",
   "name": "python3"
  },
  "language_info": {
   "codemirror_mode": {
    "name": "ipython",
    "version": 3
   },
   "file_extension": ".py",
   "mimetype": "text/x-python",
   "name": "python",
   "nbconvert_exporter": "python",
   "pygments_lexer": "ipython3",
   "version": "3.9.16"
  }
 },
 "nbformat": 4,
 "nbformat_minor": 4
}
