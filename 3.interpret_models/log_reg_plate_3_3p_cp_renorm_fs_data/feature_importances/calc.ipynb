{
  "cells": [
    {
      "cell_type": "markdown",
      "metadata": {
        "jukit_cell_id": "AAuDgo76ka"
      },
      "source": [
        "# Determine the best features using a Logistic Regression Model"
      ]
    },
    {
      "cell_type": "markdown",
      "metadata": {
        "jukit_cell_id": "SyZ3qa8iz3"
      },
      "source": [
        "## Imports"
      ]
    },
    {
      "cell_type": "code",
      "metadata": {
        "jukit_cell_id": "FKd1dIo45E"
      },
      "source": [
        "import sys\n",
        "import pandas as pd\n",
        "import numpy as np\n",
        "from pathlib import Path\n",
        "from joblib import load"
      ],
      "outputs": [],
      "execution_count": null
    },
    {
      "cell_type": "markdown",
      "metadata": {
        "jukit_cell_id": "ItCxTfECNg"
      },
      "source": [
        "## Find the git root Directory"
      ]
    },
    {
      "cell_type": "code",
      "metadata": {
        "jukit_cell_id": "zjh0SKYFgl"
      },
      "source": [
        "# Get the current working directory\n",
        "cwd = Path.cwd()\n",
        "\n",
        "if (cwd / \".git\").is_dir():\n",
        "    root_dir = cwd\n",
        "\n",
        "else:\n",
        "    root_dir = None\n",
        "    for parent in cwd.parents:\n",
        "        if (parent / \".git\").is_dir():\n",
        "            root_dir = parent\n",
        "            break\n",
        "\n",
        "# Check if a Git root directory was found\n",
        "if root_dir is None:\n",
        "    raise FileNotFoundError(\"No Git root directory found.\")"
      ],
      "outputs": [],
      "execution_count": null
    },
    {
      "cell_type": "markdown",
      "metadata": {
        "jukit_cell_id": "3eCCDTvwiA"
      },
      "source": [
        "## Import Utilities"
      ]
    },
    {
      "cell_type": "code",
      "metadata": {
        "jukit_cell_id": "iw6Y70wdPs"
      },
      "source": [
        "sys.path.append(f\"{root_dir}/utils\")"
      ],
      "outputs": [],
      "execution_count": null
    },
    {
      "cell_type": "markdown",
      "metadata": {
        "jukit_cell_id": "OQe1PK1lIs"
      },
      "source": [
        "# Seed and Generator for Reproducibility"
      ]
    },
    {
      "cell_type": "code",
      "metadata": {
        "jukit_cell_id": "EBc3nCzByb"
      },
      "source": [
        "rnd_val = 0  # Random value for all seeds\n",
        "rng = np.random.default_rng(seed=rnd_val)  # random number generator"
      ],
      "outputs": [],
      "execution_count": null
    },
    {
      "cell_type": "code",
      "metadata": {
        "jukit_cell_id": "SrlRn60Pna"
      },
      "source": [
        "data_path = Path(\"data\")\n",
        "filename = \"feature_importances.tsv\"\n",
        "\n",
        "if not data_path.exists():\n",
        "    data_path.mkdir()\n",
        "\n",
        "data_path = data_path / filename"
      ],
      "outputs": [],
      "execution_count": null
    },
    {
      "cell_type": "markdown",
      "metadata": {
        "jukit_cell_id": "9fnwy4E8u7"
      },
      "source": [
        "## Load Model"
      ]
    },
    {
      "cell_type": "code",
      "metadata": {
        "jukit_cell_id": "xGf9mf7lUA"
      },
      "source": [
        "models_path = Path(\n",
        "    f\"{root_dir}/1.train_models/log_reg_plate_3_3p_cp_renorm_fs_data/data\"\n",
        ")\n",
        "lr = load(models_path / \"lr_model.joblib\")"
      ],
      "outputs": [],
      "execution_count": null
    },
    {
      "cell_type": "markdown",
      "metadata": {
        "jukit_cell_id": "zrPcdDGOjB"
      },
      "source": [
        "## Save Data"
      ]
    },
    {
      "cell_type": "code",
      "metadata": {
        "jukit_cell_id": "sgPsexjO8l"
      },
      "source": [
        "testdf = load(models_path / \"testdf.joblib\")\n",
        "le = load(models_path / \"label_encoder.joblib\")"
      ],
      "outputs": [],
      "execution_count": null
    },
    {
      "cell_type": "markdown",
      "metadata": {
        "jukit_cell_id": "28pF0enKeV"
      },
      "source": [
        "## Create Dataframe with coefficients for each Genotype"
      ]
    },
    {
      "cell_type": "code",
      "metadata": {
        "jukit_cell_id": "y1Yv8pXD6x"
      },
      "source": [
        "featdf = pd.DataFrame(lr.coef_.T, columns=le.classes_.tolist())\n",
        "featdf[\"feature\"] = testdf.drop([\"label\"], axis=1).columns"
      ],
      "outputs": [],
      "execution_count": null
    },
    {
      "cell_type": "markdown",
      "metadata": {
        "jukit_cell_id": "kQ7Z5NLkQ5"
      },
      "source": [
        "## Save the feature importance data"
      ]
    },
    {
      "cell_type": "code",
      "metadata": {
        "jukit_cell_id": "JA6YJltsLL"
      },
      "source": [
        "featdf.to_csv(data_path, sep=\"\\t\", index=False)"
      ],
      "outputs": [],
      "execution_count": null
    }
  ],
  "metadata": {
    "anaconda-cloud": {},
    "kernelspec": {
      "display_name": "python",
      "language": "python",
      "name": "python3"
    }
  },
  "nbformat": 4,
  "nbformat_minor": 4
}
