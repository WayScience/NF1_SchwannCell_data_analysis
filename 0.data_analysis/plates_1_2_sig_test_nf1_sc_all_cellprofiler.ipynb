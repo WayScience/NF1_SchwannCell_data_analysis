{
 "cells": [
  {
   "cell_type": "markdown",
   "id": "9674ee00-3f77-4b07-90cf-0e4dc9b3d77c",
   "metadata": {},
   "source": [
    "# Obnibus and post hoc testing with Anova and scheffe's test"
   ]
  },
  {
   "cell_type": "markdown",
   "id": "65c78536-b04a-4c75-b393-42272b5d894b",
   "metadata": {
    "tags": []
   },
   "source": [
    "Obnibius Testing: https://www.statology.org/omnibus-test/\n",
    "\n",
    "Post hoc Testins: https://www.statology.org/anova-post-hoc-tests/"
   ]
  },
  {
   "cell_type": "markdown",
   "id": "32d3539f-2814-4db0-afe6-98c4685d86d6",
   "metadata": {},
   "source": [
    "## Imports"
   ]
  },
  {
   "cell_type": "code",
   "execution_count": 1,
   "id": "d44a0a53-3b27-43b4-9de2-09491289d606",
   "metadata": {
    "tags": []
   },
   "outputs": [
    {
     "name": "stderr",
     "output_type": "stream",
     "text": [
      "/home/camo/anaconda3/envs/nf1_analysis/lib/python3.9/site-packages/tqdm/auto.py:21: TqdmWarning: IProgress not found. Please update jupyter and ipywidgets. See https://ipywidgets.readthedocs.io/en/stable/user_install.html\n",
      "  from .autonotebook import tqdm as notebook_tqdm\n"
     ]
    }
   ],
   "source": [
    "import sys\n",
    "from collections import defaultdict\n",
    "from pathlib import Path\n",
    "\n",
    "import numpy as np\n",
    "import pandas as pd\n",
    "import scikit_posthocs as sp\n",
    "from sklearn.ensemble import IsolationForest\n",
    "\n",
    "sys.path.append(\"../utils\")\n",
    "import analysis_utils as au\n",
    "import preprocess_utils as ppu"
   ]
  },
  {
   "cell_type": "code",
   "execution_count": 2,
   "id": "3b183180-318d-4801-8d7c-e6553236c5b8",
   "metadata": {
    "tags": []
   },
   "outputs": [],
   "source": [
    "rnd_val = 0  # Random value for all seeds\n",
    "rng = np.random.default_rng(seed=rnd_val)  # random number generator"
   ]
  },
  {
   "cell_type": "markdown",
   "id": "7820f4b0-0557-4aa2-ab83-f867365f7d19",
   "metadata": {},
   "source": [
    "# Preprocess data using preprocess utils"
   ]
  },
  {
   "cell_type": "markdown",
   "id": "3cad6f25-2298-4d3e-b4a5-acdba56ee6dc",
   "metadata": {},
   "source": [
    "## Remove Outliers"
   ]
  },
  {
   "cell_type": "code",
   "execution_count": 3,
   "id": "c00fd174-2abc-4feb-999f-15a9b094296d",
   "metadata": {},
   "outputs": [],
   "source": [
    "plates = {}\n",
    "\n",
    "plates[\"1\"] = {\n",
    "    \"path\": \"../nf1_painting_repo/3.processing_features/data/feature_selected_data/Plate_1_sc_norm_fs.parquet\"\n",
    "}\n",
    "plates[\"2\"] = {\n",
    "    \"path\": \"../nf1_painting_repo/3.processing_features/data/feature_selected_data/Plate_2_sc_norm_fs.parquet\"\n",
    "}\n",
    "\n",
    "for plate, vals in plates.items():\n",
    "    # Initializes the preprocessing class\n",
    "    po = ppu.Preprocess_data(path=vals[\"path\"])\n",
    "\n",
    "    # Gets the dataframe after removing metadata columns,\n",
    "    # except for the 'Metadata_genotype' column specified above\n",
    "    platedf = po.remove_meta(po.df, kept_meta_columns=[\"Metadata_genotype\"])\n",
    "\n",
    "    # Use isolation forest to select inliers:\n",
    "    isof = IsolationForest(random_state=rnd_val)\n",
    "    out_preds = isof.fit_predict(platedf.drop(columns=[\"Metadata_genotype\"]))\n",
    "    ind = np.nonzero(out_preds == 1)[0]  # Select inliers\n",
    "\n",
    "    # Select inlier samples:\n",
    "    plates[plate][\"df\"] = platedf.iloc[ind]\n",
    "\n",
    "platesdf = [plates[key][\"df\"] for key in plates]"
   ]
  },
  {
   "cell_type": "code",
   "execution_count": 4,
   "id": "fa2a0e76-1a05-4049-bb83-9b0818dedeb0",
   "metadata": {},
   "outputs": [],
   "source": [
    "### Use only the common columns between both plates:\n",
    "common_columns = list(platesdf[0].columns.intersection(platesdf[1].columns))\n",
    "platesdf[0] = platesdf[0].loc[:, common_columns]\n",
    "platesdf[1] = platesdf[1].loc[:, common_columns]"
   ]
  },
  {
   "cell_type": "markdown",
   "id": "dade4a7d-b5ac-40e5-8073-e7bff6228287",
   "metadata": {},
   "source": [
    "# Conduct testing with scheffe's test"
   ]
  },
  {
   "cell_type": "code",
   "execution_count": 5,
   "id": "663b881e-7543-4974-8aba-ca3c0d5d28ec",
   "metadata": {
    "tags": []
   },
   "outputs": [],
   "source": [
    "test = sp.posthoc_scheffe\n",
    "# Pass the plates dataframes in order, so that genotypes are suffixed corretly (eg. WT1WT2)\n",
    "# Plates are 1 indexed\n",
    "st = au.Sig_testing(platesdf)\n",
    "anova_feats, sig_anova_pvals = st.anova_test()\n",
    "res_test = st.posthoc_test(anova_feats, sig_anova_pvals, test)"
   ]
  },
  {
   "cell_type": "code",
   "execution_count": 6,
   "id": "0aedf56e-950b-4bfd-8909-6d4740d1e024",
   "metadata": {
    "tags": []
   },
   "outputs": [],
   "source": [
    "# Returns a dictionary of genotype pairs containing the significant column names\n",
    "# being analyzed\n",
    "sig_groups = st.get_columns(res_test[\"sig_feat_phoc\"])"
   ]
  },
  {
   "cell_type": "code",
   "execution_count": 7,
   "id": "5c9c6eb1-50f1-457b-bbc9-a257e4b98777",
   "metadata": {
    "tags": []
   },
   "outputs": [],
   "source": [
    "tot_columns = len(platesdf[0].columns)\n",
    "sig_groupsdf = pd.DataFrame(\n",
    "    list({grp: len(tot) for grp, tot in sig_groups.items()}.items()),\n",
    "    columns=[\"genotype\", \"number_of_significant_columns\"],\n",
    ")\n",
    "sig_groupsdf[\"proportion_of_significant_columns\"] = (\n",
    "    sig_groupsdf[\"number_of_significant_columns\"] / tot_columns\n",
    ")\n",
    "sig_groupsdf = sig_groupsdf.round({\"proportion_of_significant_columns\": 2})"
   ]
  },
  {
   "cell_type": "code",
   "execution_count": 8,
   "id": "c64f46b6-36a6-4028-bed5-b588f4c7d705",
   "metadata": {
    "tags": []
   },
   "outputs": [],
   "source": [
    "out_file = Path(\"data/plate_1_2_genotype_signifance.tsv\")\n",
    "\n",
    "if not out_file.parent.is_dir():\n",
    "    out_file.parent.mkdir(parents=True, exist_ok=True)\n",
    "\n",
    "sig_groupsdf.to_csv(out_file, sep=\"\\t\", index=False)"
   ]
  }
 ],
 "metadata": {
  "kernelspec": {
   "display_name": "Python 3 (ipykernel)",
   "language": "python",
   "name": "python3"
  },
  "language_info": {
   "codemirror_mode": {
    "name": "ipython",
    "version": 3
   },
   "file_extension": ".py",
   "mimetype": "text/x-python",
   "name": "python",
   "nbconvert_exporter": "python",
   "pygments_lexer": "ipython3",
   "version": "3.9.16"
  }
 },
 "nbformat": 4,
 "nbformat_minor": 5
}
