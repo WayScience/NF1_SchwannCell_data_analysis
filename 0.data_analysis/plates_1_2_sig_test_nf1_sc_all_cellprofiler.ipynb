{
 "cells": [
  {
   "cell_type": "markdown",
   "id": "9674ee00-3f77-4b07-90cf-0e4dc9b3d77c",
   "metadata": {},
   "source": [
    "# Obnibus and post hoc testing"
   ]
  },
  {
   "cell_type": "markdown",
   "id": "32d3539f-2814-4db0-afe6-98c4685d86d6",
   "metadata": {},
   "source": [
    "## Imports"
   ]
  },
  {
   "cell_type": "code",
   "execution_count": 1,
   "id": "d44a0a53-3b27-43b4-9de2-09491289d606",
   "metadata": {
    "tags": []
   },
   "outputs": [
    {
     "name": "stderr",
     "output_type": "stream",
     "text": [
      "/home/camo/anaconda3/envs/nf1_analysis/lib/python3.9/site-packages/tqdm/auto.py:21: TqdmWarning: IProgress not found. Please update jupyter and ipywidgets. See https://ipywidgets.readthedocs.io/en/stable/user_install.html\n",
      "  from .autonotebook import tqdm as notebook_tqdm\n"
     ]
    }
   ],
   "source": [
    "import sys\n",
    "from sklearn.ensemble import IsolationForest\n",
    "import scikit_posthocs as sp\n",
    "import pathlib\n",
    "import numpy as np\n",
    "import pandas as pd\n",
    "\n",
    "rel_root = pathlib.Path(\"..\")\n",
    "sys.path.append(f'{rel_root}/utils')\n",
    "import analysis_utils as au\n",
    "import preprocess_utils as ppu"
   ]
  },
  {
   "cell_type": "markdown",
   "id": "7820f4b0-0557-4aa2-ab83-f867365f7d19",
   "metadata": {},
   "source": [
    "# Preprocess data using preprocess utils"
   ]
  },
  {
   "cell_type": "code",
   "execution_count": 2,
   "id": "bcf3b51e-305d-4972-a5bd-06d4daf7a8df",
   "metadata": {
    "tags": []
   },
   "outputs": [],
   "source": [
    "filename = 'nf1_sc_all_cellprofiler.csv.gz'\n",
    "po1 = ppu.preprocess_data(1, filename, rel_root, ['Metadata_genotype'])\n",
    "po2 = ppu.preprocess_data(2, filename, rel_root, ['Metadata_genotype'])"
   ]
  },
  {
   "cell_type": "code",
   "execution_count": 3,
   "id": "3b183180-318d-4801-8d7c-e6553236c5b8",
   "metadata": {
    "tags": []
   },
   "outputs": [],
   "source": [
    "rnd_val = po1.rnd_val # Random value for all seeds\n",
    "rng = np.random.default_rng(seed=rnd_val) # random number generator"
   ]
  },
  {
   "cell_type": "code",
   "execution_count": 4,
   "id": "8d023f45-7082-4580-8b66-553e702b23cd",
   "metadata": {
    "tags": []
   },
   "outputs": [],
   "source": [
    "plate1df = po1.get_ml_df()\n",
    "plate2df = po2.get_ml_df()"
   ]
  },
  {
   "cell_type": "code",
   "execution_count": 5,
   "id": "083e127d-e3ad-450f-bb43-e15b621ebf0b",
   "metadata": {
    "tags": []
   },
   "outputs": [],
   "source": [
    "plate1df.drop(['Cytoplasm_Number_Object_Number'], axis=1, inplace=True)\n",
    "plate2df.drop(['Cytoplasm_Number_Object_Number'], axis=1, inplace=True)"
   ]
  },
  {
   "cell_type": "markdown",
   "id": "e645ede3-4a0e-4850-8ce1-0475e5217e61",
   "metadata": {},
   "source": [
    "## Remove outliers"
   ]
  },
  {
   "cell_type": "code",
   "execution_count": 6,
   "id": "486e0adc-d66a-4f81-a46a-3b1f32fde175",
   "metadata": {
    "tags": []
   },
   "outputs": [],
   "source": [
    "isof1 = IsolationForest(random_state = rnd_val)\n",
    "out_preds1 = isof1.fit_predict(plate1df.drop(columns=['Metadata_genotype']))\n",
    "ind1 = np.nonzero(out_preds1 == 1)[0]"
   ]
  },
  {
   "cell_type": "code",
   "execution_count": 7,
   "id": "99b32b43-8026-4f5a-8027-9b90e83a326d",
   "metadata": {
    "tags": []
   },
   "outputs": [],
   "source": [
    "isof2 = IsolationForest(random_state = rnd_val)\n",
    "out_preds2 = isof2.fit_predict(plate2df.drop(columns=['Metadata_genotype']))\n",
    "ind2 = np.nonzero(out_preds2 == 1)[0]"
   ]
  },
  {
   "cell_type": "code",
   "execution_count": 8,
   "id": "6d44c9d6-e10b-4c79-a31f-fb2a68993d9f",
   "metadata": {
    "tags": []
   },
   "outputs": [],
   "source": [
    "plate1df = plate1df.iloc[ind1]\n",
    "plate2df = plate2df.iloc[ind2]"
   ]
  },
  {
   "cell_type": "markdown",
   "id": "dade4a7d-b5ac-40e5-8073-e7bff6228287",
   "metadata": {},
   "source": [
    "# Conduct testing with scheffe's test"
   ]
  },
  {
   "cell_type": "code",
   "execution_count": 9,
   "id": "663b881e-7543-4974-8aba-ca3c0d5d28ec",
   "metadata": {
    "tags": []
   },
   "outputs": [
    {
     "name": "stderr",
     "output_type": "stream",
     "text": [
      "/home/camo/anaconda3/envs/nf1_analysis/lib/python3.9/site-packages/scipy/stats/_stats_py.py:3895: ConstantInputWarning: Each of the input arrays is constant;the F statistic is not defined or infinite\n",
      "  warnings.warn(stats.ConstantInputWarning(msg))\n"
     ]
    }
   ],
   "source": [
    "test = sp.posthoc_scheffe\n",
    "# Pass the plates dataframes in order, so that genotypes are suffixed corretly (eg. WT1WT2)\n",
    "# Plates are 1 indexed\n",
    "res_test = au.sig_test(test, [plate1df, plate2df])"
   ]
  },
  {
   "cell_type": "code",
   "execution_count": 10,
   "id": "0aedf56e-950b-4bfd-8909-6d4740d1e024",
   "metadata": {
    "tags": []
   },
   "outputs": [],
   "source": [
    "sig_groups = au.get_columns(res_test['sig_feat_phoc'])"
   ]
  },
  {
   "cell_type": "code",
   "execution_count": 11,
   "id": "5c9c6eb1-50f1-457b-bbc9-a257e4b98777",
   "metadata": {
    "tags": []
   },
   "outputs": [
    {
     "name": "stdout",
     "output_type": "stream",
     "text": [
      "In group WT1Null1: 33.92% of columns are significant\n",
      "In group WT1WT2: 52.23% of columns are significant\n",
      "In group WT1Null2: 55.92% of columns are significant\n",
      "In group Null1WT2: 62.97% of columns are significant\n",
      "In group Null1Null2: 67.51% of columns are significant\n",
      "In group WT2Null2: 66.67% of columns are significant\n"
     ]
    }
   ],
   "source": [
    "tot_columns = len(plate1df.columns)\n",
    "for group, cols in sig_groups.items():\n",
    "    print(f'In group {group}: {(len(cols) / tot_columns)*100:.2f}% of columns are significant')"
   ]
  }
 ],
 "metadata": {
  "kernelspec": {
   "display_name": "Python 3 (ipykernel)",
   "language": "python",
   "name": "python3"
  },
  "language_info": {
   "codemirror_mode": {
    "name": "ipython",
    "version": 3
   },
   "file_extension": ".py",
   "mimetype": "text/x-python",
   "name": "python",
   "nbconvert_exporter": "python",
   "pygments_lexer": "ipython3",
   "version": "3.9.16"
  }
 },
 "nbformat": 4,
 "nbformat_minor": 5
}
