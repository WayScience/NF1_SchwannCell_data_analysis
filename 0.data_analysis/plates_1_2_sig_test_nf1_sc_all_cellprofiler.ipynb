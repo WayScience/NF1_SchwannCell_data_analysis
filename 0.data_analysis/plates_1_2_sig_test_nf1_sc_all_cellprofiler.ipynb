{
 "cells": [
  {
   "cell_type": "markdown",
   "id": "9674ee00-3f77-4b07-90cf-0e4dc9b3d77c",
   "metadata": {},
   "source": [
    "# Obnibus and post hoc testing"
   ]
  },
  {
   "cell_type": "markdown",
   "id": "32d3539f-2814-4db0-afe6-98c4685d86d6",
   "metadata": {},
   "source": [
    "## Imports"
   ]
  },
  {
   "cell_type": "code",
   "execution_count": 1,
   "id": "d44a0a53-3b27-43b4-9de2-09491289d606",
   "metadata": {
    "tags": []
   },
   "outputs": [
    {
     "name": "stderr",
     "output_type": "stream",
     "text": [
      "/home/camo/anaconda3/envs/nf1_analysis/lib/python3.9/site-packages/tqdm/auto.py:21: TqdmWarning: IProgress not found. Please update jupyter and ipywidgets. See https://ipywidgets.readthedocs.io/en/stable/user_install.html\n",
      "  from .autonotebook import tqdm as notebook_tqdm\n"
     ]
    }
   ],
   "source": [
    "import sys\n",
    "from sklearn.ensemble import IsolationForest\n",
    "import scikit_posthocs as sp\n",
    "import pathlib\n",
    "import numpy as np\n",
    "import pandas as pd\n",
    "from collections import defaultdict\n",
    "\n",
    "rel_root = pathlib.Path(\"..\")\n",
    "sys.path.append(f'{rel_root}/utils')\n",
    "import analysis_utils as au\n",
    "import preprocess_utils as ppu"
   ]
  },
  {
   "cell_type": "markdown",
   "id": "7820f4b0-0557-4aa2-ab83-f867365f7d19",
   "metadata": {},
   "source": [
    "# Preprocess data using preprocess utils"
   ]
  },
  {
   "cell_type": "code",
   "execution_count": 2,
   "id": "3b183180-318d-4801-8d7c-e6553236c5b8",
   "metadata": {
    "tags": []
   },
   "outputs": [],
   "source": [
    "rnd_val = 0 # Random value for all seeds\n",
    "rng = np.random.default_rng(seed=rnd_val) # random number generator"
   ]
  },
  {
   "cell_type": "code",
   "execution_count": 3,
   "id": "c00fd174-2abc-4feb-999f-15a9b094296d",
   "metadata": {},
   "outputs": [],
   "source": [
    "filename = 'nf1_sc_all_cellprofiler.csv.gz'\n",
    "plates = [1,2]\n",
    "platesdf = [] # Will hold plate dataframes\n",
    "\n",
    "for plate in plates:\n",
    "    # Initializes the preprocessing class\n",
    "    po = ppu.Preprocess_data(plate=plate, filename=filename, rel_root=rel_root,\n",
    "                          kept_meta_columns=['Metadata_genotype'])\n",
    "    \n",
    "    # Gets the dataframe after removing metadata columns, \n",
    "    # except for the 'Metadata_genotype' column specified above\n",
    "    platedf = po.get_ml_df()\n",
    "    platedf.drop(['Cytoplasm_Number_Object_Number'], axis=1, inplace=True)\n",
    "    \n",
    "    # Use isolation forest to select inliers:\n",
    "    isof = IsolationForest(random_state = rnd_val) \n",
    "    out_preds = isof.fit_predict(platedf.drop(columns=['Metadata_genotype']))\n",
    "    ind = np.nonzero(out_preds == 1)[0] # Select inliers\n",
    "    \n",
    "    # Select inlier samples:\n",
    "    platesdf.append(platedf.iloc[ind])\n",
    "    "
   ]
  },
  {
   "cell_type": "markdown",
   "id": "dade4a7d-b5ac-40e5-8073-e7bff6228287",
   "metadata": {},
   "source": [
    "# Conduct testing with scheffe's test"
   ]
  },
  {
   "cell_type": "code",
   "execution_count": 4,
   "id": "663b881e-7543-4974-8aba-ca3c0d5d28ec",
   "metadata": {
    "tags": []
   },
   "outputs": [
    {
     "name": "stderr",
     "output_type": "stream",
     "text": [
      "/home/camo/anaconda3/envs/nf1_analysis/lib/python3.9/site-packages/scipy/stats/_stats_py.py:3895: ConstantInputWarning: Each of the input arrays is constant;the F statistic is not defined or infinite\n",
      "  warnings.warn(stats.ConstantInputWarning(msg))\n",
      "/home/camo/projects/NF1_SchwannCell_data_analysis/0.data_analysis/../utils/analysis_utils.py:161: SettingWithCopyWarning: \n",
      "A value is trying to be set on a copy of a slice from a DataFrame.\n",
      "Try using .loc[row_indexer,col_indexer] = value instead\n",
      "\n",
      "See the caveats in the documentation: https://pandas.pydata.org/pandas-docs/stable/user_guide/indexing.html#returning-a-view-versus-a-copy\n",
      "  df['plate'] = [str(i+1)]*len(df)\n",
      "/home/camo/projects/NF1_SchwannCell_data_analysis/0.data_analysis/../utils/analysis_utils.py:162: SettingWithCopyWarning: \n",
      "A value is trying to be set on a copy of a slice from a DataFrame.\n",
      "Try using .loc[row_indexer,col_indexer] = value instead\n",
      "\n",
      "See the caveats in the documentation: https://pandas.pydata.org/pandas-docs/stable/user_guide/indexing.html#returning-a-view-versus-a-copy\n",
      "  df['group'] = df['Metadata_genotype'] + df['plate']\n",
      "/home/camo/projects/NF1_SchwannCell_data_analysis/0.data_analysis/../utils/analysis_utils.py:163: SettingWithCopyWarning: \n",
      "A value is trying to be set on a copy of a slice from a DataFrame\n",
      "\n",
      "See the caveats in the documentation: https://pandas.pydata.org/pandas-docs/stable/user_guide/indexing.html#returning-a-view-versus-a-copy\n",
      "  df.drop(columns=['Metadata_genotype','plate'], inplace=True) # Remove unnecessary columns for testing\n"
     ]
    }
   ],
   "source": [
    "#gtypes = ['Null','WT'] # The 2 types of genotypes\n",
    "test = sp.posthoc_scheffe\n",
    "# Pass the plates dataframes in order, so that genotypes are suffixed corretly (eg. WT1WT2)\n",
    "# Plates are 1 indexed\n",
    "# res_test = au.sig_test(test, platesdf)\n",
    "st = au.Sig_testing(platesdf)\n",
    "anova_feats, sig_anova_pvals = st.anova_test()\n",
    "res_test = st.posthoc_test(anova_feats, sig_anova_pvals, test)"
   ]
  },
  {
   "cell_type": "code",
   "execution_count": 5,
   "id": "0aedf56e-950b-4bfd-8909-6d4740d1e024",
   "metadata": {
    "tags": []
   },
   "outputs": [],
   "source": [
    "# Returns a dictionary of genotype pairs containing the significant column names\n",
    "# being analyzed\n",
    "sig_groups = st.get_columns(res_test['sig_feat_phoc'])"
   ]
  },
  {
   "cell_type": "code",
   "execution_count": 6,
   "id": "5c9c6eb1-50f1-457b-bbc9-a257e4b98777",
   "metadata": {
    "tags": []
   },
   "outputs": [],
   "source": [
    "tot_columns = len(platesdf[0].columns)\n",
    "sig_groupsdf = pd.DataFrame(list({grp: len(tot) for grp, tot in sig_groups.items()}.items()),\n",
    "                            columns=['genotype', 'number_of_significant_columns'])\n",
    "sig_groupsdf['proportion_of_significant_columns'] = sig_groupsdf['number_of_significant_columns'] / tot_columns\n",
    "sig_groupsdf = sig_groupsdf.round({'proportion_of_significant_columns': 2})"
   ]
  },
  {
   "cell_type": "code",
   "execution_count": 7,
   "id": "c64f46b6-36a6-4028-bed5-b588f4c7d705",
   "metadata": {
    "tags": []
   },
   "outputs": [],
   "source": [
    "out_file = pathlib.Path('data/plate_1_2_genotype_signifance.tsv')\n",
    "sig_groupsdf.to_csv(out_file, sep='\\t', index=False)"
   ]
  },
  {
   "cell_type": "code",
   "execution_count": 8,
   "id": "06172140-577a-4ab3-8ff9-d82e929919d2",
   "metadata": {
    "tags": []
   },
   "outputs": [
    {
     "data": {
      "text/html": [
       "<div>\n",
       "<style scoped>\n",
       "    .dataframe tbody tr th:only-of-type {\n",
       "        vertical-align: middle;\n",
       "    }\n",
       "\n",
       "    .dataframe tbody tr th {\n",
       "        vertical-align: top;\n",
       "    }\n",
       "\n",
       "    .dataframe thead th {\n",
       "        text-align: right;\n",
       "    }\n",
       "</style>\n",
       "<table border=\"1\" class=\"dataframe\">\n",
       "  <thead>\n",
       "    <tr style=\"text-align: right;\">\n",
       "      <th></th>\n",
       "      <th>genotype</th>\n",
       "      <th>number_of_significant_columns</th>\n",
       "      <th>proportion_of_significant_columns</th>\n",
       "    </tr>\n",
       "  </thead>\n",
       "  <tbody>\n",
       "    <tr>\n",
       "      <th>0</th>\n",
       "      <td>WT1Null1</td>\n",
       "      <td>404</td>\n",
       "      <td>0.34</td>\n",
       "    </tr>\n",
       "    <tr>\n",
       "      <th>1</th>\n",
       "      <td>WT1WT2</td>\n",
       "      <td>622</td>\n",
       "      <td>0.52</td>\n",
       "    </tr>\n",
       "    <tr>\n",
       "      <th>2</th>\n",
       "      <td>WT1Null2</td>\n",
       "      <td>666</td>\n",
       "      <td>0.56</td>\n",
       "    </tr>\n",
       "    <tr>\n",
       "      <th>3</th>\n",
       "      <td>Null1WT2</td>\n",
       "      <td>750</td>\n",
       "      <td>0.63</td>\n",
       "    </tr>\n",
       "    <tr>\n",
       "      <th>4</th>\n",
       "      <td>Null1Null2</td>\n",
       "      <td>804</td>\n",
       "      <td>0.68</td>\n",
       "    </tr>\n",
       "    <tr>\n",
       "      <th>5</th>\n",
       "      <td>WT2Null2</td>\n",
       "      <td>794</td>\n",
       "      <td>0.67</td>\n",
       "    </tr>\n",
       "  </tbody>\n",
       "</table>\n",
       "</div>"
      ],
      "text/plain": [
       "     genotype  number_of_significant_columns   \n",
       "0    WT1Null1                            404  \\\n",
       "1      WT1WT2                            622   \n",
       "2    WT1Null2                            666   \n",
       "3    Null1WT2                            750   \n",
       "4  Null1Null2                            804   \n",
       "5    WT2Null2                            794   \n",
       "\n",
       "   proportion_of_significant_columns  \n",
       "0                               0.34  \n",
       "1                               0.52  \n",
       "2                               0.56  \n",
       "3                               0.63  \n",
       "4                               0.68  \n",
       "5                               0.67  "
      ]
     },
     "execution_count": 8,
     "metadata": {},
     "output_type": "execute_result"
    }
   ],
   "source": [
    "sig_groupsdf"
   ]
  }
 ],
 "metadata": {
  "kernelspec": {
   "display_name": "Python 3 (ipykernel)",
   "language": "python",
   "name": "python3"
  },
  "language_info": {
   "codemirror_mode": {
    "name": "ipython",
    "version": 3
   },
   "file_extension": ".py",
   "mimetype": "text/x-python",
   "name": "python",
   "nbconvert_exporter": "python",
   "pygments_lexer": "ipython3",
   "version": "3.9.16"
  }
 },
 "nbformat": 4,
 "nbformat_minor": 5
}
