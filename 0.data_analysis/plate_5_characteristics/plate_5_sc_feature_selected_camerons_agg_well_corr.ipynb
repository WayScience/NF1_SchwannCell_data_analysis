{
 "cells": [
  {
   "cell_type": "markdown",
   "metadata": {
    "jukit_cell_id": "G2uIwtDbAz"
   },
   "source": [
    "# Correlate Cell Profiler Aggregated Wells in Plate 5"
   ]
  },
  {
   "cell_type": "code",
   "execution_count": 1,
   "metadata": {
    "execution": {
     "iopub.execute_input": "2024-03-18T21:04:18.983835Z",
     "iopub.status.busy": "2024-03-18T21:04:18.983736Z",
     "iopub.status.idle": "2024-03-18T21:04:19.183293Z",
     "shell.execute_reply": "2024-03-18T21:04:19.182989Z"
    },
    "jukit_cell_id": "YJJxwXk4KC"
   },
   "outputs": [],
   "source": [
    "import pathlib\n",
    "import sys\n",
    "\n",
    "import pandas as pd"
   ]
  },
  {
   "cell_type": "markdown",
   "metadata": {
    "jukit_cell_id": "tdSJIClZGb"
   },
   "source": [
    "## Find the root of the git repo on the host system"
   ]
  },
  {
   "cell_type": "code",
   "execution_count": 2,
   "metadata": {
    "execution": {
     "iopub.execute_input": "2024-03-18T21:04:19.185189Z",
     "iopub.status.busy": "2024-03-18T21:04:19.185043Z",
     "iopub.status.idle": "2024-03-18T21:04:19.187923Z",
     "shell.execute_reply": "2024-03-18T21:04:19.187671Z"
    },
    "jukit_cell_id": "QmTyYX7yVG"
   },
   "outputs": [],
   "source": [
    "# Get the current working directory\n",
    "cwd = pathlib.Path.cwd()\n",
    "\n",
    "if (cwd / \".git\").is_dir():\n",
    "    root_dir = cwd\n",
    "\n",
    "else:\n",
    "    root_dir = None\n",
    "    for parent in cwd.parents:\n",
    "        if (parent / \".git\").is_dir():\n",
    "            root_dir = parent\n",
    "            break\n",
    "\n",
    "# Check if a Git root directory was found\n",
    "if root_dir is None:\n",
    "    raise FileNotFoundError(\"No Git root directory found.\")"
   ]
  },
  {
   "cell_type": "markdown",
   "metadata": {
    "jukit_cell_id": "eSQXraMRCI"
   },
   "source": [
    "## Define paths"
   ]
  },
  {
   "cell_type": "markdown",
   "metadata": {
    "jukit_cell_id": "cZx8xNCyZq"
   },
   "source": [
    "### Input paths"
   ]
  },
  {
   "cell_type": "code",
   "execution_count": 3,
   "metadata": {
    "execution": {
     "iopub.execute_input": "2024-03-18T21:04:19.189553Z",
     "iopub.status.busy": "2024-03-18T21:04:19.189437Z",
     "iopub.status.idle": "2024-03-18T21:04:19.307383Z",
     "shell.execute_reply": "2024-03-18T21:04:19.307020Z"
    },
    "jukit_cell_id": "xdgUvt0md2"
   },
   "outputs": [],
   "source": [
    "# Path to correlation class\n",
    "sys.path.append(\n",
    "    f\"{root_dir}/0.data_analysis/utils\"\n",
    ")\n",
    "\n",
    "# Class for calculating correlations\n",
    "from CorrelateData import CorrelateData\n",
    "\n",
    "platedf_path = pathlib.Path(root_dir / \"nf1_painting_repo/3.processing_features/data/single_cell_profiles/Plate_5_sc_feature_selected.parquet\").resolve(strict=True)\n",
    "platedf = pd.read_parquet(platedf_path)"
   ]
  },
  {
   "cell_type": "markdown",
   "metadata": {
    "jukit_cell_id": "lfpMNf0oYw"
   },
   "source": [
    "### Output paths"
   ]
  },
  {
   "cell_type": "code",
   "execution_count": 4,
   "metadata": {
    "execution": {
     "iopub.execute_input": "2024-03-18T21:04:19.309481Z",
     "iopub.status.busy": "2024-03-18T21:04:19.309361Z",
     "iopub.status.idle": "2024-03-18T21:04:19.311511Z",
     "shell.execute_reply": "2024-03-18T21:04:19.311268Z"
    },
    "jukit_cell_id": "z3syxsoQ8C"
   },
   "outputs": [],
   "source": [
    "data_path = pathlib.Path(\"plate_5_sc_feature_selected_camerons_agg_well_corr_data\")\n",
    "data_path.mkdir(parents=True, exist_ok=True)"
   ]
  },
  {
   "cell_type": "markdown",
   "metadata": {
    "jukit_cell_id": "nqr8B1EJEa"
   },
   "source": [
    "## Drop missing columns"
   ]
  },
  {
   "cell_type": "code",
   "execution_count": 5,
   "metadata": {
    "execution": {
     "iopub.execute_input": "2024-03-18T21:04:19.312860Z",
     "iopub.status.busy": "2024-03-18T21:04:19.312622Z",
     "iopub.status.idle": "2024-03-18T21:04:19.349989Z",
     "shell.execute_reply": "2024-03-18T21:04:19.349667Z"
    },
    "jukit_cell_id": "xhrzmqufGA"
   },
   "outputs": [],
   "source": [
    "platedf.dropna(inplace=True)"
   ]
  },
  {
   "cell_type": "markdown",
   "metadata": {
    "jukit_cell_id": "ORLxzNz38j"
   },
   "source": [
    "## Aggregate cells with cameron's method"
   ]
  },
  {
   "cell_type": "code",
   "execution_count": 6,
   "metadata": {
    "execution": {
     "iopub.execute_input": "2024-03-18T21:04:19.351805Z",
     "iopub.status.busy": "2024-03-18T21:04:19.351527Z",
     "iopub.status.idle": "2024-03-18T21:04:19.598157Z",
     "shell.execute_reply": "2024-03-18T21:04:19.597752Z"
    },
    "jukit_cell_id": "rB32cuv8gh"
   },
   "outputs": [],
   "source": [
    "meta_cols = platedf.filter(like=\"Metadata\").columns\n",
    "feat_cols = platedf.drop(columns=meta_cols).columns\n",
    "\n",
    "median_cols = {col_name: \"median\" for col_name in platedf.columns if col_name not in meta_cols}\n",
    "\n",
    "# Set metadata columns to lambda functions set to the first row\n",
    "meta_cols = {\n",
    "    col_name: lambda x: x.iloc[0]\n",
    "    for col_name in meta_cols\n",
    "}\n",
    "\n",
    "# Combine the dictionaries\n",
    "median_cols.update(meta_cols)\n",
    "\n",
    "# Aggregate the plate data\n",
    "welldf = platedf.groupby(\"Metadata_Well\").agg(median_cols)"
   ]
  },
  {
   "cell_type": "markdown",
   "metadata": {
    "jukit_cell_id": "CDbIQ6BTAP"
   },
   "source": [
    "## Compute Correlations"
   ]
  },
  {
   "cell_type": "code",
   "execution_count": 7,
   "metadata": {
    "execution": {
     "iopub.execute_input": "2024-03-18T21:04:19.600569Z",
     "iopub.status.busy": "2024-03-18T21:04:19.600428Z",
     "iopub.status.idle": "2024-03-18T21:04:20.059123Z",
     "shell.execute_reply": "2024-03-18T21:04:20.058542Z"
    },
    "jukit_cell_id": "jkgkgRzXxY"
   },
   "outputs": [],
   "source": [
    "cd = CorrelateData()\n",
    "\n",
    "# Correlates aggregated wells both between and across groups\n",
    "correlationsdf = cd.inter_correlations(\n",
    "    welldf.reset_index(drop=True),\n",
    "    [\"Metadata_Well\"],\n",
    "    feat_cols,\n",
    "    [\"Metadata_genotype\"]\n",
    ")"
   ]
  },
  {
   "cell_type": "markdown",
   "metadata": {
    "jukit_cell_id": "9cRnSR2wTC"
   },
   "source": [
    "## Store Correlation Data"
   ]
  },
  {
   "cell_type": "code",
   "execution_count": 8,
   "metadata": {
    "execution": {
     "iopub.execute_input": "2024-03-18T21:04:20.061359Z",
     "iopub.status.busy": "2024-03-18T21:04:20.061206Z",
     "iopub.status.idle": "2024-03-18T21:04:20.065765Z",
     "shell.execute_reply": "2024-03-18T21:04:20.065503Z"
    },
    "jukit_cell_id": "HD42qd1jUX"
   },
   "outputs": [],
   "source": [
    "correlationsdf.to_parquet(f\"{data_path}/plate_5_sc_feature_selected_camerons_agg_well_corr.parquet\")"
   ]
  },
  {
   "cell_type": "code",
   "execution_count": 9,
   "metadata": {
    "execution": {
     "iopub.execute_input": "2024-03-18T21:04:20.067280Z",
     "iopub.status.busy": "2024-03-18T21:04:20.067178Z",
     "iopub.status.idle": "2024-03-18T21:04:20.073352Z",
     "shell.execute_reply": "2024-03-18T21:04:20.073118Z"
    },
    "jukit_cell_id": "ZWUk9bCL8r"
   },
   "outputs": [
    {
     "data": {
      "text/html": [
       "<div>\n",
       "<style scoped>\n",
       "    .dataframe tbody tr th:only-of-type {\n",
       "        vertical-align: middle;\n",
       "    }\n",
       "\n",
       "    .dataframe tbody tr th {\n",
       "        vertical-align: top;\n",
       "    }\n",
       "\n",
       "    .dataframe thead th {\n",
       "        text-align: right;\n",
       "    }\n",
       "</style>\n",
       "<table border=\"1\" class=\"dataframe\">\n",
       "  <thead>\n",
       "    <tr style=\"text-align: right;\">\n",
       "      <th></th>\n",
       "      <th>correlation</th>\n",
       "      <th>Metadata_genotype__group0</th>\n",
       "      <th>Metadata_genotype__group1</th>\n",
       "      <th>Metadata_Well__group0</th>\n",
       "      <th>Metadata_Well__group1</th>\n",
       "    </tr>\n",
       "  </thead>\n",
       "  <tbody>\n",
       "    <tr>\n",
       "      <th>0</th>\n",
       "      <td>0.643891</td>\n",
       "      <td>HET</td>\n",
       "      <td>HET</td>\n",
       "      <td>B5</td>\n",
       "      <td>B5</td>\n",
       "    </tr>\n",
       "    <tr>\n",
       "      <th>1</th>\n",
       "      <td>0.636822</td>\n",
       "      <td>HET</td>\n",
       "      <td>HET</td>\n",
       "      <td>B5</td>\n",
       "      <td>B5</td>\n",
       "    </tr>\n",
       "    <tr>\n",
       "      <th>2</th>\n",
       "      <td>0.456990</td>\n",
       "      <td>HET</td>\n",
       "      <td>HET</td>\n",
       "      <td>B5</td>\n",
       "      <td>B5</td>\n",
       "    </tr>\n",
       "    <tr>\n",
       "      <th>3</th>\n",
       "      <td>0.584771</td>\n",
       "      <td>HET</td>\n",
       "      <td>HET</td>\n",
       "      <td>B5</td>\n",
       "      <td>B5</td>\n",
       "    </tr>\n",
       "    <tr>\n",
       "      <th>4</th>\n",
       "      <td>0.576349</td>\n",
       "      <td>HET</td>\n",
       "      <td>HET</td>\n",
       "      <td>B5</td>\n",
       "      <td>B5</td>\n",
       "    </tr>\n",
       "  </tbody>\n",
       "</table>\n",
       "</div>"
      ],
      "text/plain": [
       "   correlation Metadata_genotype__group0 Metadata_genotype__group1  \\\n",
       "0     0.643891                       HET                       HET   \n",
       "1     0.636822                       HET                       HET   \n",
       "2     0.456990                       HET                       HET   \n",
       "3     0.584771                       HET                       HET   \n",
       "4     0.576349                       HET                       HET   \n",
       "\n",
       "  Metadata_Well__group0 Metadata_Well__group1  \n",
       "0                    B5                    B5  \n",
       "1                    B5                    B5  \n",
       "2                    B5                    B5  \n",
       "3                    B5                    B5  \n",
       "4                    B5                    B5  "
      ]
     },
     "execution_count": 9,
     "metadata": {},
     "output_type": "execute_result"
    }
   ],
   "source": [
    "correlationsdf.head()"
   ]
  }
 ],
 "metadata": {
  "anaconda-cloud": {},
  "kernelspec": {
   "display_name": "python",
   "language": "python",
   "name": "python3"
  },
  "language_info": {
   "codemirror_mode": {
    "name": "ipython",
    "version": 3
   },
   "file_extension": ".py",
   "mimetype": "text/x-python",
   "name": "python",
   "nbconvert_exporter": "python",
   "pygments_lexer": "ipython3",
   "version": "3.9.18"
  }
 },
 "nbformat": 4,
 "nbformat_minor": 4
}
