{
 "cells": [
  {
   "cell_type": "markdown",
   "metadata": {
    "jukit_cell_id": "G2uIwtDbAz"
   },
   "source": [
    "# Correlate Cell Profiler Aggregated Wells in Plate 5"
   ]
  },
  {
   "cell_type": "code",
   "execution_count": 1,
   "metadata": {
    "execution": {
     "iopub.execute_input": "2024-03-20T18:27:14.251565Z",
     "iopub.status.busy": "2024-03-20T18:27:14.251377Z",
     "iopub.status.idle": "2024-03-20T18:27:14.454555Z",
     "shell.execute_reply": "2024-03-20T18:27:14.454205Z"
    },
    "jukit_cell_id": "YJJxwXk4KC"
   },
   "outputs": [],
   "source": [
    "import pathlib\n",
    "import sys\n",
    "\n",
    "import pandas as pd"
   ]
  },
  {
   "cell_type": "markdown",
   "metadata": {
    "jukit_cell_id": "tdSJIClZGb"
   },
   "source": [
    "## Find the root of the git repo on the host system"
   ]
  },
  {
   "cell_type": "code",
   "execution_count": 2,
   "metadata": {
    "execution": {
     "iopub.execute_input": "2024-03-20T18:27:14.456782Z",
     "iopub.status.busy": "2024-03-20T18:27:14.456424Z",
     "iopub.status.idle": "2024-03-20T18:27:14.459730Z",
     "shell.execute_reply": "2024-03-20T18:27:14.459406Z"
    },
    "jukit_cell_id": "QmTyYX7yVG"
   },
   "outputs": [],
   "source": [
    "# Get the current working directory\n",
    "cwd = pathlib.Path.cwd()\n",
    "\n",
    "if (cwd / \".git\").is_dir():\n",
    "    root_dir = cwd\n",
    "\n",
    "else:\n",
    "    root_dir = None\n",
    "    for parent in cwd.parents:\n",
    "        if (parent / \".git\").is_dir():\n",
    "            root_dir = parent\n",
    "            break\n",
    "\n",
    "# Check if a Git root directory was found\n",
    "if root_dir is None:\n",
    "    raise FileNotFoundError(\"No Git root directory found.\")"
   ]
  },
  {
   "cell_type": "markdown",
   "metadata": {
    "jukit_cell_id": "eSQXraMRCI"
   },
   "source": [
    "## Define paths"
   ]
  },
  {
   "cell_type": "markdown",
   "metadata": {
    "jukit_cell_id": "cZx8xNCyZq"
   },
   "source": [
    "### Input paths"
   ]
  },
  {
   "cell_type": "code",
   "execution_count": 3,
   "metadata": {
    "execution": {
     "iopub.execute_input": "2024-03-20T18:27:14.461236Z",
     "iopub.status.busy": "2024-03-20T18:27:14.461132Z",
     "iopub.status.idle": "2024-03-20T18:27:14.576095Z",
     "shell.execute_reply": "2024-03-20T18:27:14.575655Z"
    },
    "jukit_cell_id": "xdgUvt0md2"
   },
   "outputs": [],
   "source": [
    "# Path to correlation class\n",
    "sys.path.append(\n",
    "    f\"{root_dir}/0.data_analysis/utils\"\n",
    ")\n",
    "\n",
    "# Class for calculating correlations\n",
    "from CorrelateData import CorrelateData\n",
    "\n",
    "platedf_path = pathlib.Path(root_dir / \"nf1_painting_repo/3.processing_features/data/single_cell_profiles/Plate_5_bulk_camerons_method.parquet\").resolve(strict=True)\n",
    "platedf = pd.read_parquet(platedf_path)"
   ]
  },
  {
   "cell_type": "markdown",
   "metadata": {
    "jukit_cell_id": "lfpMNf0oYw"
   },
   "source": [
    "### Output paths"
   ]
  },
  {
   "cell_type": "code",
   "execution_count": 4,
   "metadata": {
    "execution": {
     "iopub.execute_input": "2024-03-20T18:27:14.578115Z",
     "iopub.status.busy": "2024-03-20T18:27:14.577902Z",
     "iopub.status.idle": "2024-03-20T18:27:14.580229Z",
     "shell.execute_reply": "2024-03-20T18:27:14.579894Z"
    },
    "jukit_cell_id": "z3syxsoQ8C"
   },
   "outputs": [],
   "source": [
    "data_path = pathlib.Path(\"plate_5_sc_feature_selected_camerons_agg_well_corr_data\")\n",
    "data_path.mkdir(parents=True, exist_ok=True)"
   ]
  },
  {
   "cell_type": "markdown",
   "metadata": {
    "jukit_cell_id": "nqr8B1EJEa"
   },
   "source": [
    "## Drop missing columns"
   ]
  },
  {
   "cell_type": "code",
   "execution_count": 5,
   "metadata": {
    "execution": {
     "iopub.execute_input": "2024-03-20T18:27:14.581633Z",
     "iopub.status.busy": "2024-03-20T18:27:14.581445Z",
     "iopub.status.idle": "2024-03-20T18:27:14.602145Z",
     "shell.execute_reply": "2024-03-20T18:27:14.601717Z"
    },
    "jukit_cell_id": "xhrzmqufGA"
   },
   "outputs": [],
   "source": [
    "platedf.dropna(inplace=True)"
   ]
  },
  {
   "cell_type": "code",
   "execution_count": 6,
   "metadata": {
    "execution": {
     "iopub.execute_input": "2024-03-20T18:27:14.603620Z",
     "iopub.status.busy": "2024-03-20T18:27:14.603404Z",
     "iopub.status.idle": "2024-03-20T18:27:14.615731Z",
     "shell.execute_reply": "2024-03-20T18:27:14.615158Z"
    },
    "jukit_cell_id": "rB32cuv8gh"
   },
   "outputs": [],
   "source": [
    "meta_cols = platedf.filter(like=\"Metadata\").columns\n",
    "feat_cols = platedf.drop(columns=meta_cols).columns"
   ]
  },
  {
   "cell_type": "markdown",
   "metadata": {
    "jukit_cell_id": "CDbIQ6BTAP"
   },
   "source": [
    "## Compute Correlations"
   ]
  },
  {
   "cell_type": "code",
   "execution_count": 7,
   "metadata": {
    "execution": {
     "iopub.execute_input": "2024-03-20T18:27:14.617801Z",
     "iopub.status.busy": "2024-03-20T18:27:14.617533Z",
     "iopub.status.idle": "2024-03-20T18:27:15.484385Z",
     "shell.execute_reply": "2024-03-20T18:27:15.483824Z"
    },
    "jukit_cell_id": "jkgkgRzXxY"
   },
   "outputs": [],
   "source": [
    "cd = CorrelateData()\n",
    "correlationsdf = []\n",
    "\n",
    "correlation_params = {\n",
    "    \"_df\": platedf.reset_index(drop=True),\n",
    "    \"_antehoc_group_cols\": [\"Metadata_genotype\"],\n",
    "    \"_feat_cols\": feat_cols,\n",
    "    \"_posthoc_group_cols\": [\"Metadata_Well\"]\n",
    "}\n",
    "\n",
    "# Correlates aggregated wells across genotype\n",
    "correlationsdf.append(cd.inter_correlations(**correlation_params))"
   ]
  },
  {
   "cell_type": "code",
   "execution_count": 8,
   "metadata": {
    "execution": {
     "iopub.execute_input": "2024-03-20T18:27:15.486393Z",
     "iopub.status.busy": "2024-03-20T18:27:15.486263Z",
     "iopub.status.idle": "2024-03-20T18:27:15.853358Z",
     "shell.execute_reply": "2024-03-20T18:27:15.852837Z"
    },
    "jukit_cell_id": "2W0HhVoQ8N"
   },
   "outputs": [],
   "source": [
    "# Correlates aggregated wells within genotype\n",
    "correlationsdf.append(cd.intra_correlations(**correlation_params))"
   ]
  },
  {
   "cell_type": "markdown",
   "metadata": {
    "jukit_cell_id": "9cRnSR2wTC"
   },
   "source": [
    "## Store Correlation Data"
   ]
  },
  {
   "cell_type": "code",
   "execution_count": 9,
   "metadata": {
    "execution": {
     "iopub.execute_input": "2024-03-20T18:27:15.855099Z",
     "iopub.status.busy": "2024-03-20T18:27:15.854965Z",
     "iopub.status.idle": "2024-03-20T18:27:15.866867Z",
     "shell.execute_reply": "2024-03-20T18:27:15.866515Z"
    },
    "jukit_cell_id": "HD42qd1jUX"
   },
   "outputs": [],
   "source": [
    "correlationsdf = pd.concat(correlationsdf, axis=0)\n",
    "correlationsdf.to_parquet(f\"{data_path}/plate_5_sc_feature_selected_camerons_agg_well_corr.parquet\")"
   ]
  },
  {
   "cell_type": "code",
   "execution_count": 10,
   "metadata": {
    "execution": {
     "iopub.execute_input": "2024-03-20T18:27:15.868507Z",
     "iopub.status.busy": "2024-03-20T18:27:15.868258Z",
     "iopub.status.idle": "2024-03-20T18:27:15.875939Z",
     "shell.execute_reply": "2024-03-20T18:27:15.875445Z"
    },
    "jukit_cell_id": "ZWUk9bCL8r"
   },
   "outputs": [
    {
     "data": {
      "text/html": [
       "<div>\n",
       "<style scoped>\n",
       "    .dataframe tbody tr th:only-of-type {\n",
       "        vertical-align: middle;\n",
       "    }\n",
       "\n",
       "    .dataframe tbody tr th {\n",
       "        vertical-align: top;\n",
       "    }\n",
       "\n",
       "    .dataframe thead th {\n",
       "        text-align: right;\n",
       "    }\n",
       "</style>\n",
       "<table border=\"1\" class=\"dataframe\">\n",
       "  <thead>\n",
       "    <tr style=\"text-align: right;\">\n",
       "      <th></th>\n",
       "      <th>correlation</th>\n",
       "      <th>Metadata_genotype__group0</th>\n",
       "      <th>Metadata_genotype__group1</th>\n",
       "      <th>Metadata_Well__group0</th>\n",
       "      <th>Metadata_Well__group1</th>\n",
       "    </tr>\n",
       "  </thead>\n",
       "  <tbody>\n",
       "    <tr>\n",
       "      <th>0</th>\n",
       "      <td>0.243265</td>\n",
       "      <td>HET</td>\n",
       "      <td>HET</td>\n",
       "      <td>B5</td>\n",
       "      <td>B5</td>\n",
       "    </tr>\n",
       "    <tr>\n",
       "      <th>1</th>\n",
       "      <td>0.188601</td>\n",
       "      <td>HET</td>\n",
       "      <td>HET</td>\n",
       "      <td>B5</td>\n",
       "      <td>B5</td>\n",
       "    </tr>\n",
       "    <tr>\n",
       "      <th>2</th>\n",
       "      <td>0.056885</td>\n",
       "      <td>HET</td>\n",
       "      <td>HET</td>\n",
       "      <td>B5</td>\n",
       "      <td>B5</td>\n",
       "    </tr>\n",
       "    <tr>\n",
       "      <th>3</th>\n",
       "      <td>0.128558</td>\n",
       "      <td>HET</td>\n",
       "      <td>HET</td>\n",
       "      <td>B5</td>\n",
       "      <td>B5</td>\n",
       "    </tr>\n",
       "    <tr>\n",
       "      <th>4</th>\n",
       "      <td>0.255567</td>\n",
       "      <td>HET</td>\n",
       "      <td>HET</td>\n",
       "      <td>B5</td>\n",
       "      <td>B5</td>\n",
       "    </tr>\n",
       "  </tbody>\n",
       "</table>\n",
       "</div>"
      ],
      "text/plain": [
       "   correlation Metadata_genotype__group0 Metadata_genotype__group1  \\\n",
       "0     0.243265                       HET                       HET   \n",
       "1     0.188601                       HET                       HET   \n",
       "2     0.056885                       HET                       HET   \n",
       "3     0.128558                       HET                       HET   \n",
       "4     0.255567                       HET                       HET   \n",
       "\n",
       "  Metadata_Well__group0 Metadata_Well__group1  \n",
       "0                    B5                    B5  \n",
       "1                    B5                    B5  \n",
       "2                    B5                    B5  \n",
       "3                    B5                    B5  \n",
       "4                    B5                    B5  "
      ]
     },
     "execution_count": 10,
     "metadata": {},
     "output_type": "execute_result"
    }
   ],
   "source": [
    "correlationsdf.head()"
   ]
  }
 ],
 "metadata": {
  "anaconda-cloud": {},
  "kernelspec": {
   "display_name": "python",
   "language": "python",
   "name": "python3"
  },
  "language_info": {
   "codemirror_mode": {
    "name": "ipython",
    "version": 3
   },
   "file_extension": ".py",
   "mimetype": "text/x-python",
   "name": "python",
   "nbconvert_exporter": "python",
   "pygments_lexer": "ipython3",
   "version": "3.9.18"
  }
 },
 "nbformat": 4,
 "nbformat_minor": 4
}
