{
 "cells": [
  {
   "cell_type": "code",
   "execution_count": 1,
   "metadata": {
    "execution": {
     "iopub.execute_input": "2024-01-26T17:54:21.537809Z",
     "iopub.status.busy": "2024-01-26T17:54:21.537712Z",
     "iopub.status.idle": "2024-01-26T17:54:21.732643Z",
     "shell.execute_reply": "2024-01-26T17:54:21.732335Z"
    },
    "jukit_cell_id": "YJJxwXk4KC"
   },
   "outputs": [],
   "source": [
    "import pathlib\n",
    "import sys\n",
    "\n",
    "import pandas as pd"
   ]
  },
  {
   "cell_type": "markdown",
   "metadata": {
    "jukit_cell_id": "tdSJIClZGb"
   },
   "source": [
    "## Find the root of the git repo on the host system"
   ]
  },
  {
   "cell_type": "code",
   "execution_count": 2,
   "metadata": {
    "execution": {
     "iopub.execute_input": "2024-01-26T17:54:21.734448Z",
     "iopub.status.busy": "2024-01-26T17:54:21.734280Z",
     "iopub.status.idle": "2024-01-26T17:54:21.737296Z",
     "shell.execute_reply": "2024-01-26T17:54:21.737017Z"
    },
    "jukit_cell_id": "QmTyYX7yVG"
   },
   "outputs": [],
   "source": [
    "# Get the current working directory\n",
    "cwd = pathlib.Path.cwd()\n",
    "\n",
    "if (cwd / \".git\").is_dir():\n",
    "    root_dir = cwd\n",
    "\n",
    "else:\n",
    "    root_dir = None\n",
    "    for parent in cwd.parents:\n",
    "        if (parent / \".git\").is_dir():\n",
    "            root_dir = parent\n",
    "            break\n",
    "\n",
    "# Check if a Git root directory was found\n",
    "if root_dir is None:\n",
    "    raise FileNotFoundError(\"No Git root directory found.\")"
   ]
  },
  {
   "cell_type": "markdown",
   "metadata": {
    "jukit_cell_id": "eSQXraMRCI"
   },
   "source": [
    "## Define paths"
   ]
  },
  {
   "cell_type": "markdown",
   "metadata": {
    "jukit_cell_id": "cZx8xNCyZq"
   },
   "source": [
    "### Input paths"
   ]
  },
  {
   "cell_type": "code",
   "execution_count": 3,
   "metadata": {
    "execution": {
     "iopub.execute_input": "2024-01-26T17:54:21.738517Z",
     "iopub.status.busy": "2024-01-26T17:54:21.738412Z",
     "iopub.status.idle": "2024-01-26T17:54:21.850988Z",
     "shell.execute_reply": "2024-01-26T17:54:21.850608Z"
    },
    "jukit_cell_id": "xdgUvt0md2"
   },
   "outputs": [],
   "source": [
    "# Path to correlation class\n",
    "sys.path.append(\n",
    "    f\"{root_dir}/0.data_analysis/plate_5_characteristics/utils\"\n",
    ")\n",
    "\n",
    "# Class for calculating correlations\n",
    "from CorrelatePlate import CorrelatePlate\n",
    "\n",
    "platedf_path = pathlib.Path(root_dir / \"nf1_painting_repo/3.processing_features/data/single_cell_profiles/Plate_5_sc_feature_selected.parquet\").resolve(strict=True)\n",
    "platedf = pd.read_parquet(platedf_path)"
   ]
  },
  {
   "cell_type": "markdown",
   "metadata": {
    "jukit_cell_id": "lfpMNf0oYw"
   },
   "source": [
    "### Output paths"
   ]
  },
  {
   "cell_type": "code",
   "execution_count": 4,
   "metadata": {
    "execution": {
     "iopub.execute_input": "2024-01-26T17:54:21.852948Z",
     "iopub.status.busy": "2024-01-26T17:54:21.852814Z",
     "iopub.status.idle": "2024-01-26T17:54:21.855118Z",
     "shell.execute_reply": "2024-01-26T17:54:21.854832Z"
    },
    "jukit_cell_id": "z3syxsoQ8C"
   },
   "outputs": [],
   "source": [
    "fig_path = pathlib.Path(\"plate_5_sc_feature_selected_figures\")\n",
    "fig_path.mkdir(parents=True, exist_ok=True)"
   ]
  },
  {
   "cell_type": "markdown",
   "metadata": {
    "jukit_cell_id": "nqr8B1EJEa"
   },
   "source": [
    "## Drop missing columns"
   ]
  },
  {
   "cell_type": "code",
   "execution_count": 5,
   "metadata": {
    "execution": {
     "iopub.execute_input": "2024-01-26T17:54:21.856432Z",
     "iopub.status.busy": "2024-01-26T17:54:21.856328Z",
     "iopub.status.idle": "2024-01-26T17:54:21.879754Z",
     "shell.execute_reply": "2024-01-26T17:54:21.879392Z"
    },
    "jukit_cell_id": "xhrzmqufGA"
   },
   "outputs": [],
   "source": [
    "platedf.dropna(inplace=True)"
   ]
  },
  {
   "cell_type": "markdown",
   "metadata": {
    "jukit_cell_id": "ORLxzNz38j"
   },
   "source": [
    "## Aggregate cells with cameron's method"
   ]
  },
  {
   "cell_type": "code",
   "execution_count": 6,
   "metadata": {
    "execution": {
     "iopub.execute_input": "2024-01-26T17:54:21.881739Z",
     "iopub.status.busy": "2024-01-26T17:54:21.881425Z",
     "iopub.status.idle": "2024-01-26T17:54:22.132930Z",
     "shell.execute_reply": "2024-01-26T17:54:22.132501Z"
    },
    "jukit_cell_id": "rB32cuv8gh"
   },
   "outputs": [],
   "source": [
    "meta_cols = platedf.filter(like=\"Metadata\").columns\n",
    "feat_cols = platedf.drop(columns=meta_cols).columns\n",
    "\n",
    "median_cols = {col_name: \"median\" for col_name in platedf.columns if col_name not in meta_cols}\n",
    "\n",
    "# Set metadata columns to lambda functions set to the first row\n",
    "meta_cols = {\n",
    "    col_name: lambda x: x.iloc[0]\n",
    "    for col_name in meta_cols\n",
    "}\n",
    "\n",
    "# Combine the dictionaries\n",
    "median_cols.update(meta_cols)\n",
    "\n",
    "# Aggregate the plate data\n",
    "welldf = platedf.groupby(\"Metadata_Well\").agg(median_cols)"
   ]
  },
  {
   "cell_type": "markdown",
   "metadata": {
    "jukit_cell_id": "CDbIQ6BTAP"
   },
   "source": [
    "## Compute Correlations"
   ]
  },
  {
   "cell_type": "code",
   "execution_count": 7,
   "metadata": {
    "execution": {
     "iopub.execute_input": "2024-01-26T17:54:22.134881Z",
     "iopub.status.busy": "2024-01-26T17:54:22.134751Z",
     "iopub.status.idle": "2024-01-26T17:54:22.422424Z",
     "shell.execute_reply": "2024-01-26T17:54:22.422033Z"
    },
    "jukit_cell_id": "jkgkgRzXxY"
   },
   "outputs": [],
   "source": [
    "cp = CorrelatePlate()\n",
    "\n",
    "# Correlates aggregated wells both between and across groups\n",
    "correlationsdf = cp.correlate_agg_wells(welldf, \"Metadata_Well\", feat_cols, \"Metadata_genotype\")"
   ]
  },
  {
   "cell_type": "code",
   "execution_count": 8,
   "metadata": {
    "execution": {
     "iopub.execute_input": "2024-01-26T17:54:22.424115Z",
     "iopub.status.busy": "2024-01-26T17:54:22.424006Z",
     "iopub.status.idle": "2024-01-26T17:54:22.430379Z",
     "shell.execute_reply": "2024-01-26T17:54:22.430109Z"
    },
    "jukit_cell_id": "ZWUk9bCL8r"
   },
   "outputs": [
    {
     "data": {
      "text/html": [
       "<div>\n",
       "<style scoped>\n",
       "    .dataframe tbody tr th:only-of-type {\n",
       "        vertical-align: middle;\n",
       "    }\n",
       "\n",
       "    .dataframe tbody tr th {\n",
       "        vertical-align: top;\n",
       "    }\n",
       "\n",
       "    .dataframe thead th {\n",
       "        text-align: right;\n",
       "    }\n",
       "</style>\n",
       "<table border=\"1\" class=\"dataframe\">\n",
       "  <thead>\n",
       "    <tr style=\"text-align: right;\">\n",
       "      <th></th>\n",
       "      <th>group0</th>\n",
       "      <th>group1</th>\n",
       "      <th>well0</th>\n",
       "      <th>well1</th>\n",
       "      <th>correlation</th>\n",
       "    </tr>\n",
       "  </thead>\n",
       "  <tbody>\n",
       "    <tr>\n",
       "      <th>0</th>\n",
       "      <td>HET</td>\n",
       "      <td>Null</td>\n",
       "      <td>B5</td>\n",
       "      <td>B10</td>\n",
       "      <td>0.645932</td>\n",
       "    </tr>\n",
       "    <tr>\n",
       "      <th>1</th>\n",
       "      <td>HET</td>\n",
       "      <td>Null</td>\n",
       "      <td>B5</td>\n",
       "      <td>B11</td>\n",
       "      <td>0.643180</td>\n",
       "    </tr>\n",
       "    <tr>\n",
       "      <th>2</th>\n",
       "      <td>HET</td>\n",
       "      <td>Null</td>\n",
       "      <td>B5</td>\n",
       "      <td>B12</td>\n",
       "      <td>0.487610</td>\n",
       "    </tr>\n",
       "    <tr>\n",
       "      <th>3</th>\n",
       "      <td>HET</td>\n",
       "      <td>Null</td>\n",
       "      <td>B5</td>\n",
       "      <td>B9</td>\n",
       "      <td>0.587875</td>\n",
       "    </tr>\n",
       "    <tr>\n",
       "      <th>4</th>\n",
       "      <td>HET</td>\n",
       "      <td>Null</td>\n",
       "      <td>B5</td>\n",
       "      <td>C10</td>\n",
       "      <td>0.578919</td>\n",
       "    </tr>\n",
       "  </tbody>\n",
       "</table>\n",
       "</div>"
      ],
      "text/plain": [
       "  group0 group1 well0 well1  correlation\n",
       "0    HET   Null    B5   B10     0.645932\n",
       "1    HET   Null    B5   B11     0.643180\n",
       "2    HET   Null    B5   B12     0.487610\n",
       "3    HET   Null    B5    B9     0.587875\n",
       "4    HET   Null    B5   C10     0.578919"
      ]
     },
     "execution_count": 8,
     "metadata": {},
     "output_type": "execute_result"
    }
   ],
   "source": [
    "correlationsdf.head()"
   ]
  }
 ],
 "metadata": {
  "anaconda-cloud": {},
  "kernelspec": {
   "display_name": "python",
   "language": "python",
   "name": "python3"
  },
  "language_info": {
   "codemirror_mode": {
    "name": "ipython",
    "version": 3
   },
   "file_extension": ".py",
   "mimetype": "text/x-python",
   "name": "python",
   "nbconvert_exporter": "python",
   "pygments_lexer": "ipython3",
   "version": "3.9.18"
  }
 },
 "nbformat": 4,
 "nbformat_minor": 4
}
