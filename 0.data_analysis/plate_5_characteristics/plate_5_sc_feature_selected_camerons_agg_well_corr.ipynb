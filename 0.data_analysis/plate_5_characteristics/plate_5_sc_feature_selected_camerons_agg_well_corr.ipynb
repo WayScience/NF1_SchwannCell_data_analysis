{
 "cells": [
  {
   "cell_type": "code",
   "execution_count": 1,
   "metadata": {
    "execution": {
     "iopub.execute_input": "2024-01-26T01:41:54.200482Z",
     "iopub.status.busy": "2024-01-26T01:41:54.200379Z",
     "iopub.status.idle": "2024-01-26T01:41:54.395256Z",
     "shell.execute_reply": "2024-01-26T01:41:54.394927Z"
    },
    "jukit_cell_id": "YJJxwXk4KC"
   },
   "outputs": [],
   "source": [
    "import pathlib\n",
    "import sys\n",
    "\n",
    "import pandas as pd"
   ]
  },
  {
   "cell_type": "markdown",
   "metadata": {
    "jukit_cell_id": "tdSJIClZGb"
   },
   "source": [
    "## Find the root of the git repo on the host system"
   ]
  },
  {
   "cell_type": "code",
   "execution_count": 2,
   "metadata": {
    "execution": {
     "iopub.execute_input": "2024-01-26T01:41:54.397143Z",
     "iopub.status.busy": "2024-01-26T01:41:54.396997Z",
     "iopub.status.idle": "2024-01-26T01:41:54.399893Z",
     "shell.execute_reply": "2024-01-26T01:41:54.399627Z"
    },
    "jukit_cell_id": "QmTyYX7yVG"
   },
   "outputs": [],
   "source": [
    "# Get the current working directory\n",
    "cwd = pathlib.Path.cwd()\n",
    "\n",
    "if (cwd / \".git\").is_dir():\n",
    "    root_dir = cwd\n",
    "\n",
    "else:\n",
    "    root_dir = None\n",
    "    for parent in cwd.parents:\n",
    "        if (parent / \".git\").is_dir():\n",
    "            root_dir = parent\n",
    "            break\n",
    "\n",
    "# Check if a Git root directory was found\n",
    "if root_dir is None:\n",
    "    raise FileNotFoundError(\"No Git root directory found.\")"
   ]
  },
  {
   "cell_type": "markdown",
   "metadata": {
    "jukit_cell_id": "eSQXraMRCI"
   },
   "source": [
    "## Define paths"
   ]
  },
  {
   "cell_type": "markdown",
   "metadata": {
    "jukit_cell_id": "cZx8xNCyZq"
   },
   "source": [
    "### Input paths"
   ]
  },
  {
   "cell_type": "code",
   "execution_count": 3,
   "metadata": {
    "execution": {
     "iopub.execute_input": "2024-01-26T01:41:54.401138Z",
     "iopub.status.busy": "2024-01-26T01:41:54.401035Z",
     "iopub.status.idle": "2024-01-26T01:41:54.517562Z",
     "shell.execute_reply": "2024-01-26T01:41:54.517119Z"
    },
    "jukit_cell_id": "xdgUvt0md2"
   },
   "outputs": [],
   "source": [
    "# Path to correlation class\n",
    "sys.path.append(\n",
    "    f\"{root_dir}/0.data_analysis/plate_5_characteristics/utils\"\n",
    ")\n",
    "\n",
    "platedf_path = pathlib.Path(root_dir / \"nf1_painting_repo/3.processing_features/data/single_cell_profiles/Plate_5_sc_feature_selected.parquet\").resolve(strict=True)\n",
    "platedf = pd.read_parquet(platedf_path)\n",
    "\n",
    "# Class for calculating correlations\n",
    "from CorrelatePlate import CorrelatePlate"
   ]
  },
  {
   "cell_type": "markdown",
   "metadata": {
    "jukit_cell_id": "lfpMNf0oYw"
   },
   "source": [
    "### Output paths"
   ]
  },
  {
   "cell_type": "code",
   "execution_count": 4,
   "metadata": {
    "execution": {
     "iopub.execute_input": "2024-01-26T01:41:54.519937Z",
     "iopub.status.busy": "2024-01-26T01:41:54.519609Z",
     "iopub.status.idle": "2024-01-26T01:41:54.521974Z",
     "shell.execute_reply": "2024-01-26T01:41:54.521648Z"
    },
    "jukit_cell_id": "z3syxsoQ8C"
   },
   "outputs": [],
   "source": [
    "fig_path = pathlib.Path(\"plate_5_sc_feature_selected_figures\")\n",
    "fig_path.mkdir(parents=True, exist_ok=True)"
   ]
  },
  {
   "cell_type": "markdown",
   "metadata": {
    "jukit_cell_id": "nqr8B1EJEa"
   },
   "source": [
    "## Drop missing columns"
   ]
  },
  {
   "cell_type": "code",
   "execution_count": 5,
   "metadata": {
    "execution": {
     "iopub.execute_input": "2024-01-26T01:41:54.523307Z",
     "iopub.status.busy": "2024-01-26T01:41:54.523121Z",
     "iopub.status.idle": "2024-01-26T01:41:54.546524Z",
     "shell.execute_reply": "2024-01-26T01:41:54.546093Z"
    },
    "jukit_cell_id": "xhrzmqufGA"
   },
   "outputs": [],
   "source": [
    "platedf.dropna(inplace=True)"
   ]
  },
  {
   "cell_type": "markdown",
   "metadata": {
    "jukit_cell_id": "ORLxzNz38j"
   },
   "source": [
    "## Aggregate cells with cameron's method"
   ]
  },
  {
   "cell_type": "code",
   "execution_count": 6,
   "metadata": {
    "execution": {
     "iopub.execute_input": "2024-01-26T01:41:54.548175Z",
     "iopub.status.busy": "2024-01-26T01:41:54.547968Z",
     "iopub.status.idle": "2024-01-26T01:41:54.805354Z",
     "shell.execute_reply": "2024-01-26T01:41:54.804809Z"
    },
    "jukit_cell_id": "rB32cuv8gh"
   },
   "outputs": [],
   "source": [
    "meta_cols = platedf.filter(like=\"Metadata\").columns\n",
    "feat_cols = platedf.drop(columns=meta_cols).columns\n",
    "\n",
    "median_cols = {col_name: \"median\" for col_name in platedf.columns if col_name not in meta_cols}\n",
    "\n",
    "# Set metadata columns to lambda functions set to the first row\n",
    "meta_cols = {\n",
    "    col_name: lambda x: x.iloc[0]\n",
    "    for col_name in meta_cols\n",
    "}\n",
    "\n",
    "# Combine the dictionaries\n",
    "median_cols.update(meta_cols)\n",
    "\n",
    "# Aggregate the plate data\n",
    "welldf = platedf.groupby(\"Metadata_Well\").agg(median_cols)"
   ]
  },
  {
   "cell_type": "markdown",
   "metadata": {
    "jukit_cell_id": "CDbIQ6BTAP"
   },
   "source": [
    "## Compute Correlations"
   ]
  },
  {
   "cell_type": "code",
   "execution_count": 7,
   "metadata": {
    "execution": {
     "iopub.execute_input": "2024-01-26T01:41:54.807429Z",
     "iopub.status.busy": "2024-01-26T01:41:54.807263Z",
     "iopub.status.idle": "2024-01-26T01:41:55.097785Z",
     "shell.execute_reply": "2024-01-26T01:41:55.097310Z"
    },
    "jukit_cell_id": "jkgkgRzXxY"
   },
   "outputs": [],
   "source": [
    "cp = CorrelatePlate()\n",
    "correlationsdf = cp.correlate_agg_wells(welldf, \"Metadata_Well\", feat_cols, \"Metadata_genotype\")"
   ]
  },
  {
   "cell_type": "code",
   "execution_count": 8,
   "metadata": {
    "execution": {
     "iopub.execute_input": "2024-01-26T01:41:55.099625Z",
     "iopub.status.busy": "2024-01-26T01:41:55.099510Z",
     "iopub.status.idle": "2024-01-26T01:41:55.113425Z",
     "shell.execute_reply": "2024-01-26T01:41:55.113046Z"
    },
    "jukit_cell_id": "ZWUk9bCL8r"
   },
   "outputs": [
    {
     "data": {
      "text/html": [
       "<div>\n",
       "<style scoped>\n",
       "    .dataframe tbody tr th:only-of-type {\n",
       "        vertical-align: middle;\n",
       "    }\n",
       "\n",
       "    .dataframe tbody tr th {\n",
       "        vertical-align: top;\n",
       "    }\n",
       "\n",
       "    .dataframe thead th {\n",
       "        text-align: right;\n",
       "    }\n",
       "</style>\n",
       "<table border=\"1\" class=\"dataframe\">\n",
       "  <thead>\n",
       "    <tr style=\"text-align: right;\">\n",
       "      <th></th>\n",
       "      <th>group0</th>\n",
       "      <th>group1</th>\n",
       "      <th>well0</th>\n",
       "      <th>well1</th>\n",
       "      <th>correlation</th>\n",
       "    </tr>\n",
       "  </thead>\n",
       "  <tbody>\n",
       "    <tr>\n",
       "      <th>0</th>\n",
       "      <td>HET</td>\n",
       "      <td>Null</td>\n",
       "      <td>B5</td>\n",
       "      <td>B10</td>\n",
       "      <td>0.645932</td>\n",
       "    </tr>\n",
       "    <tr>\n",
       "      <th>1</th>\n",
       "      <td>HET</td>\n",
       "      <td>Null</td>\n",
       "      <td>B5</td>\n",
       "      <td>B11</td>\n",
       "      <td>0.643180</td>\n",
       "    </tr>\n",
       "    <tr>\n",
       "      <th>2</th>\n",
       "      <td>HET</td>\n",
       "      <td>Null</td>\n",
       "      <td>B5</td>\n",
       "      <td>B12</td>\n",
       "      <td>0.487610</td>\n",
       "    </tr>\n",
       "    <tr>\n",
       "      <th>3</th>\n",
       "      <td>HET</td>\n",
       "      <td>Null</td>\n",
       "      <td>B5</td>\n",
       "      <td>B9</td>\n",
       "      <td>0.587875</td>\n",
       "    </tr>\n",
       "    <tr>\n",
       "      <th>4</th>\n",
       "      <td>HET</td>\n",
       "      <td>Null</td>\n",
       "      <td>B5</td>\n",
       "      <td>C10</td>\n",
       "      <td>0.578919</td>\n",
       "    </tr>\n",
       "    <tr>\n",
       "      <th>...</th>\n",
       "      <td>...</td>\n",
       "      <td>...</td>\n",
       "      <td>...</td>\n",
       "      <td>...</td>\n",
       "      <td>...</td>\n",
       "    </tr>\n",
       "    <tr>\n",
       "      <th>823</th>\n",
       "      <td>WT</td>\n",
       "      <td>WT</td>\n",
       "      <td>G1</td>\n",
       "      <td>G3</td>\n",
       "      <td>0.544597</td>\n",
       "    </tr>\n",
       "    <tr>\n",
       "      <th>824</th>\n",
       "      <td>WT</td>\n",
       "      <td>WT</td>\n",
       "      <td>G1</td>\n",
       "      <td>G4</td>\n",
       "      <td>0.083299</td>\n",
       "    </tr>\n",
       "    <tr>\n",
       "      <th>825</th>\n",
       "      <td>WT</td>\n",
       "      <td>WT</td>\n",
       "      <td>G2</td>\n",
       "      <td>G3</td>\n",
       "      <td>0.694062</td>\n",
       "    </tr>\n",
       "    <tr>\n",
       "      <th>826</th>\n",
       "      <td>WT</td>\n",
       "      <td>WT</td>\n",
       "      <td>G2</td>\n",
       "      <td>G4</td>\n",
       "      <td>0.325719</td>\n",
       "    </tr>\n",
       "    <tr>\n",
       "      <th>827</th>\n",
       "      <td>WT</td>\n",
       "      <td>WT</td>\n",
       "      <td>G3</td>\n",
       "      <td>G4</td>\n",
       "      <td>0.551952</td>\n",
       "    </tr>\n",
       "  </tbody>\n",
       "</table>\n",
       "<p>2556 rows × 5 columns</p>\n",
       "</div>"
      ],
      "text/plain": [
       "    group0 group1 well0 well1  correlation\n",
       "0      HET   Null    B5   B10     0.645932\n",
       "1      HET   Null    B5   B11     0.643180\n",
       "2      HET   Null    B5   B12     0.487610\n",
       "3      HET   Null    B5    B9     0.587875\n",
       "4      HET   Null    B5   C10     0.578919\n",
       "..     ...    ...   ...   ...          ...\n",
       "823     WT     WT    G1    G3     0.544597\n",
       "824     WT     WT    G1    G4     0.083299\n",
       "825     WT     WT    G2    G3     0.694062\n",
       "826     WT     WT    G2    G4     0.325719\n",
       "827     WT     WT    G3    G4     0.551952\n",
       "\n",
       "[2556 rows x 5 columns]"
      ]
     },
     "execution_count": 8,
     "metadata": {},
     "output_type": "execute_result"
    }
   ],
   "source": [
    "correlationsdf"
   ]
  }
 ],
 "metadata": {
  "anaconda-cloud": {},
  "kernelspec": {
   "display_name": "python",
   "language": "python",
   "name": "python3"
  },
  "language_info": {
   "codemirror_mode": {
    "name": "ipython",
    "version": 3
   },
   "file_extension": ".py",
   "mimetype": "text/x-python",
   "name": "python",
   "nbconvert_exporter": "python",
   "pygments_lexer": "ipython3",
   "version": "3.9.18"
  }
 },
 "nbformat": 4,
 "nbformat_minor": 4
}
