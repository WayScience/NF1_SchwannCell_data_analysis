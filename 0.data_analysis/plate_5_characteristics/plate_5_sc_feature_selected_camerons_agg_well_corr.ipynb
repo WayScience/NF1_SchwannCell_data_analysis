{
 "cells": [
  {
   "cell_type": "markdown",
   "metadata": {
    "jukit_cell_id": "G2uIwtDbAz"
   },
   "source": [
    "# Correlate Cell Profiler Aggregated Wells in Plate 5"
   ]
  },
  {
   "cell_type": "code",
   "execution_count": 1,
   "metadata": {
    "execution": {
     "iopub.execute_input": "2024-05-24T21:37:34.161370Z",
     "iopub.status.busy": "2024-05-24T21:37:34.161262Z",
     "iopub.status.idle": "2024-05-24T21:37:34.373251Z",
     "shell.execute_reply": "2024-05-24T21:37:34.372926Z"
    },
    "jukit_cell_id": "YJJxwXk4KC"
   },
   "outputs": [],
   "source": [
    "import pathlib\n",
    "import sys\n",
    "\n",
    "import pandas as pd"
   ]
  },
  {
   "cell_type": "markdown",
   "metadata": {
    "jukit_cell_id": "tdSJIClZGb"
   },
   "source": [
    "## Find the root of the git repo on the host system"
   ]
  },
  {
   "cell_type": "code",
   "execution_count": 2,
   "metadata": {
    "execution": {
     "iopub.execute_input": "2024-05-24T21:37:34.375442Z",
     "iopub.status.busy": "2024-05-24T21:37:34.375103Z",
     "iopub.status.idle": "2024-05-24T21:37:34.377835Z",
     "shell.execute_reply": "2024-05-24T21:37:34.377581Z"
    },
    "jukit_cell_id": "QmTyYX7yVG"
   },
   "outputs": [],
   "source": [
    "# Get the current working directory\n",
    "cwd = pathlib.Path.cwd()\n",
    "\n",
    "if (cwd / \".git\").is_dir():\n",
    "    root_dir = cwd\n",
    "\n",
    "else:\n",
    "    root_dir = None\n",
    "    for parent in cwd.parents:\n",
    "        if (parent / \".git\").is_dir():\n",
    "            root_dir = parent\n",
    "            break\n",
    "\n",
    "# Check if a Git root directory was found\n",
    "if root_dir is None:\n",
    "    raise FileNotFoundError(\"No Git root directory found.\")"
   ]
  },
  {
   "cell_type": "markdown",
   "metadata": {
    "jukit_cell_id": "eSQXraMRCI"
   },
   "source": [
    "## Define paths"
   ]
  },
  {
   "cell_type": "markdown",
   "metadata": {
    "jukit_cell_id": "cZx8xNCyZq"
   },
   "source": [
    "### Input paths"
   ]
  },
  {
   "cell_type": "code",
   "execution_count": 3,
   "metadata": {
    "execution": {
     "iopub.execute_input": "2024-05-24T21:37:34.379455Z",
     "iopub.status.busy": "2024-05-24T21:37:34.379349Z",
     "iopub.status.idle": "2024-05-24T21:37:34.487409Z",
     "shell.execute_reply": "2024-05-24T21:37:34.487041Z"
    },
    "jukit_cell_id": "xdgUvt0md2"
   },
   "outputs": [],
   "source": [
    "# Path to correlation class\n",
    "sys.path.append(\n",
    "    f\"{root_dir}/0.data_analysis/utils\"\n",
    ")\n",
    "\n",
    "# Class for calculating correlations\n",
    "from CorrelateData import CorrelateData\n",
    "\n",
    "platedf_path = pathlib.Path(root_dir / \"nf1_painting_repo/3.processing_features/data/single_cell_profiles/Plate_5_bulk_camerons_method.parquet\").resolve(strict=True)\n",
    "platedf = pd.read_parquet(platedf_path)"
   ]
  },
  {
   "cell_type": "markdown",
   "metadata": {
    "jukit_cell_id": "lfpMNf0oYw"
   },
   "source": [
    "### Output paths"
   ]
  },
  {
   "cell_type": "code",
   "execution_count": 4,
   "metadata": {
    "execution": {
     "iopub.execute_input": "2024-05-24T21:37:34.489491Z",
     "iopub.status.busy": "2024-05-24T21:37:34.489356Z",
     "iopub.status.idle": "2024-05-24T21:37:34.491661Z",
     "shell.execute_reply": "2024-05-24T21:37:34.491370Z"
    },
    "jukit_cell_id": "z3syxsoQ8C"
   },
   "outputs": [],
   "source": [
    "data_path = pathlib.Path(\"plate_5_sc_feature_selected_camerons_agg_well_corr_data\")\n",
    "data_path.mkdir(parents=True, exist_ok=True)"
   ]
  },
  {
   "cell_type": "markdown",
   "metadata": {
    "jukit_cell_id": "nqr8B1EJEa"
   },
   "source": [
    "## Drop missing columns"
   ]
  },
  {
   "cell_type": "code",
   "execution_count": 5,
   "metadata": {
    "execution": {
     "iopub.execute_input": "2024-05-24T21:37:34.493069Z",
     "iopub.status.busy": "2024-05-24T21:37:34.492782Z",
     "iopub.status.idle": "2024-05-24T21:37:34.510028Z",
     "shell.execute_reply": "2024-05-24T21:37:34.509713Z"
    },
    "jukit_cell_id": "xhrzmqufGA"
   },
   "outputs": [],
   "source": [
    "platedf.dropna(inplace=True)"
   ]
  },
  {
   "cell_type": "code",
   "execution_count": 6,
   "metadata": {
    "execution": {
     "iopub.execute_input": "2024-05-24T21:37:34.511408Z",
     "iopub.status.busy": "2024-05-24T21:37:34.511295Z",
     "iopub.status.idle": "2024-05-24T21:37:34.522431Z",
     "shell.execute_reply": "2024-05-24T21:37:34.522047Z"
    },
    "jukit_cell_id": "rB32cuv8gh"
   },
   "outputs": [],
   "source": [
    "meta_cols = platedf.filter(like=\"Metadata\").columns\n",
    "feat_cols = platedf.drop(columns=meta_cols).columns"
   ]
  },
  {
   "cell_type": "markdown",
   "metadata": {
    "jukit_cell_id": "CDbIQ6BTAP"
   },
   "source": [
    "## Compute Correlations"
   ]
  },
  {
   "cell_type": "code",
   "execution_count": 7,
   "metadata": {
    "execution": {
     "iopub.execute_input": "2024-05-24T21:37:34.524147Z",
     "iopub.status.busy": "2024-05-24T21:37:34.524003Z",
     "iopub.status.idle": "2024-05-24T21:37:34.833774Z",
     "shell.execute_reply": "2024-05-24T21:37:34.833376Z"
    },
    "jukit_cell_id": "jkgkgRzXxY"
   },
   "outputs": [],
   "source": [
    "cd = CorrelateData()\n",
    "correlationsdf = []\n",
    "\n",
    "correlation_params = {\n",
    "    \"_df\": platedf.reset_index(drop=True),\n",
    "    \"_antehoc_group_cols\": [\"Metadata_genotype\"],\n",
    "    \"_feat_cols\": feat_cols,\n",
    "    \"_posthoc_group_cols\": [\"Metadata_Well\"]\n",
    "}\n",
    "\n",
    "# Correlates aggregated wells across genotype\n",
    "correlationsdf.append(cd.inter_correlations(**correlation_params))"
   ]
  },
  {
   "cell_type": "code",
   "execution_count": 8,
   "metadata": {
    "execution": {
     "iopub.execute_input": "2024-05-24T21:37:34.835834Z",
     "iopub.status.busy": "2024-05-24T21:37:34.835684Z",
     "iopub.status.idle": "2024-05-24T21:37:35.101402Z",
     "shell.execute_reply": "2024-05-24T21:37:35.100916Z"
    },
    "jukit_cell_id": "2W0HhVoQ8N"
   },
   "outputs": [],
   "source": [
    "# Correlates aggregated wells within genotype\n",
    "correlationsdf.append(cd.intra_correlations(**correlation_params))"
   ]
  },
  {
   "cell_type": "markdown",
   "metadata": {
    "jukit_cell_id": "9cRnSR2wTC"
   },
   "source": [
    "## Store Correlation Data"
   ]
  },
  {
   "cell_type": "code",
   "execution_count": 9,
   "metadata": {
    "execution": {
     "iopub.execute_input": "2024-05-24T21:37:35.103640Z",
     "iopub.status.busy": "2024-05-24T21:37:35.103501Z",
     "iopub.status.idle": "2024-05-24T21:37:35.109236Z",
     "shell.execute_reply": "2024-05-24T21:37:35.108932Z"
    },
    "jukit_cell_id": "HD42qd1jUX"
   },
   "outputs": [],
   "source": [
    "correlationsdf = pd.concat(correlationsdf, axis=0)\n",
    "correlationsdf.to_parquet(f\"{data_path}/plate_5_sc_feature_selected_camerons_agg_well_corr.parquet\")"
   ]
  },
  {
   "cell_type": "code",
   "execution_count": 10,
   "metadata": {
    "execution": {
     "iopub.execute_input": "2024-05-24T21:37:35.110705Z",
     "iopub.status.busy": "2024-05-24T21:37:35.110594Z",
     "iopub.status.idle": "2024-05-24T21:37:35.117738Z",
     "shell.execute_reply": "2024-05-24T21:37:35.117471Z"
    },
    "jukit_cell_id": "ZWUk9bCL8r"
   },
   "outputs": [
    {
     "data": {
      "text/html": [
       "<div>\n",
       "<style scoped>\n",
       "    .dataframe tbody tr th:only-of-type {\n",
       "        vertical-align: middle;\n",
       "    }\n",
       "\n",
       "    .dataframe tbody tr th {\n",
       "        vertical-align: top;\n",
       "    }\n",
       "\n",
       "    .dataframe thead th {\n",
       "        text-align: right;\n",
       "    }\n",
       "</style>\n",
       "<table border=\"1\" class=\"dataframe\">\n",
       "  <thead>\n",
       "    <tr style=\"text-align: right;\">\n",
       "      <th></th>\n",
       "      <th>correlation</th>\n",
       "      <th>Metadata_genotype__group0</th>\n",
       "      <th>Metadata_genotype__group1</th>\n",
       "      <th>Metadata_Well__group0</th>\n",
       "      <th>Metadata_Well__group1</th>\n",
       "    </tr>\n",
       "  </thead>\n",
       "  <tbody>\n",
       "    <tr>\n",
       "      <th>0</th>\n",
       "      <td>0.107003</td>\n",
       "      <td>Null</td>\n",
       "      <td>WT</td>\n",
       "      <td>B10</td>\n",
       "      <td>B1</td>\n",
       "    </tr>\n",
       "    <tr>\n",
       "      <th>1</th>\n",
       "      <td>-0.204965</td>\n",
       "      <td>Null</td>\n",
       "      <td>WT</td>\n",
       "      <td>B10</td>\n",
       "      <td>B2</td>\n",
       "    </tr>\n",
       "    <tr>\n",
       "      <th>2</th>\n",
       "      <td>0.132424</td>\n",
       "      <td>Null</td>\n",
       "      <td>WT</td>\n",
       "      <td>B10</td>\n",
       "      <td>B3</td>\n",
       "    </tr>\n",
       "    <tr>\n",
       "      <th>3</th>\n",
       "      <td>0.168049</td>\n",
       "      <td>Null</td>\n",
       "      <td>WT</td>\n",
       "      <td>B10</td>\n",
       "      <td>B4</td>\n",
       "    </tr>\n",
       "    <tr>\n",
       "      <th>4</th>\n",
       "      <td>0.056973</td>\n",
       "      <td>Null</td>\n",
       "      <td>WT</td>\n",
       "      <td>B10</td>\n",
       "      <td>C1</td>\n",
       "    </tr>\n",
       "  </tbody>\n",
       "</table>\n",
       "</div>"
      ],
      "text/plain": [
       "   correlation Metadata_genotype__group0 Metadata_genotype__group1  \\\n",
       "0     0.107003                      Null                        WT   \n",
       "1    -0.204965                      Null                        WT   \n",
       "2     0.132424                      Null                        WT   \n",
       "3     0.168049                      Null                        WT   \n",
       "4     0.056973                      Null                        WT   \n",
       "\n",
       "  Metadata_Well__group0 Metadata_Well__group1  \n",
       "0                   B10                    B1  \n",
       "1                   B10                    B2  \n",
       "2                   B10                    B3  \n",
       "3                   B10                    B4  \n",
       "4                   B10                    C1  "
      ]
     },
     "execution_count": 10,
     "metadata": {},
     "output_type": "execute_result"
    }
   ],
   "source": [
    "correlationsdf.head()"
   ]
  }
 ],
 "metadata": {
  "anaconda-cloud": {},
  "kernelspec": {
   "display_name": "python",
   "language": "python",
   "name": "python3"
  },
  "language_info": {
   "codemirror_mode": {
    "name": "ipython",
    "version": 3
   },
   "file_extension": ".py",
   "mimetype": "text/x-python",
   "name": "python",
   "nbconvert_exporter": "python",
   "pygments_lexer": "ipython3",
   "version": "3.9.19"
  }
 },
 "nbformat": 4,
 "nbformat_minor": 4
}
