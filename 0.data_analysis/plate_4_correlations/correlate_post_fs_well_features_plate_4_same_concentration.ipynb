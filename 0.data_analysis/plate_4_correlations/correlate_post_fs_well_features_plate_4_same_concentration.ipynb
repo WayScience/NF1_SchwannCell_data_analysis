{
 "cells": [
  {
   "cell_type": "markdown",
   "metadata": {
    "jukit_cell_id": "4C20coDtNB"
   },
   "source": [
    "# Determine expression relationships between constructs\n",
    "Correlate post feature selection well-aggregated morphology features across the same concentrations."
   ]
  },
  {
   "cell_type": "markdown",
   "metadata": {
    "jukit_cell_id": "Eg9pPBZcbM"
   },
   "source": [
    "## Imports"
   ]
  },
  {
   "cell_type": "code",
   "execution_count": 1,
   "metadata": {
    "execution": {
     "iopub.execute_input": "2024-07-18T19:03:15.246572Z",
     "iopub.status.busy": "2024-07-18T19:03:15.246079Z",
     "iopub.status.idle": "2024-07-18T19:03:15.456984Z",
     "shell.execute_reply": "2024-07-18T19:03:15.456664Z"
    },
    "jukit_cell_id": "5dKOCfosTM"
   },
   "outputs": [],
   "source": [
    "import pathlib\n",
    "import sys\n",
    "\n",
    "import pandas as pd"
   ]
  },
  {
   "cell_type": "markdown",
   "metadata": {
    "jukit_cell_id": "2OsaGp4f3S"
   },
   "source": [
    "## Find the root of the git repo on the host system"
   ]
  },
  {
   "cell_type": "code",
   "execution_count": 2,
   "metadata": {
    "execution": {
     "iopub.execute_input": "2024-07-18T19:03:15.458892Z",
     "iopub.status.busy": "2024-07-18T19:03:15.458723Z",
     "iopub.status.idle": "2024-07-18T19:03:15.461555Z",
     "shell.execute_reply": "2024-07-18T19:03:15.461268Z"
    },
    "jukit_cell_id": "DUsPsvZlzR"
   },
   "outputs": [],
   "source": [
    "# Get the current working directory\n",
    "cwd = pathlib.Path.cwd()\n",
    "\n",
    "if (cwd / \".git\").is_dir():\n",
    "    root_dir = cwd\n",
    "\n",
    "else:\n",
    "    root_dir = None\n",
    "    for parent in cwd.parents:\n",
    "        if (parent / \".git\").is_dir():\n",
    "            root_dir = parent\n",
    "            break\n",
    "\n",
    "# Check if a Git root directory was found\n",
    "if root_dir is None:\n",
    "    raise FileNotFoundError(\"No Git root directory found.\")"
   ]
  },
  {
   "cell_type": "markdown",
   "metadata": {
    "jukit_cell_id": "eSQXraMRCI"
   },
   "source": [
    "## Define paths"
   ]
  },
  {
   "cell_type": "markdown",
   "metadata": {
    "jukit_cell_id": "cZx8xNCyZq"
   },
   "source": [
    "### Input paths"
   ]
  },
  {
   "cell_type": "code",
   "execution_count": 3,
   "metadata": {
    "execution": {
     "iopub.execute_input": "2024-07-18T19:03:15.462785Z",
     "iopub.status.busy": "2024-07-18T19:03:15.462680Z",
     "iopub.status.idle": "2024-07-18T19:03:15.525765Z",
     "shell.execute_reply": "2024-07-18T19:03:15.525430Z"
    },
    "jukit_cell_id": "xdgUvt0md2"
   },
   "outputs": [],
   "source": [
    "# Path to correlation class\n",
    "sys.path.append(\n",
    "    f\"{root_dir}/0.data_analysis/utils\"\n",
    ")\n",
    "\n",
    "# Class for calculating correlations\n",
    "from CorrelateData import CorrelateData\n",
    "\n",
    "platedf_path = pathlib.Path(root_dir / \"nf1_painting_repo/3.processing_features/data/single_cell_profiles/Plate_4_bulk_camerons_method.parquet\").resolve(strict=True)\n",
    "platedf = pd.read_parquet(platedf_path)"
   ]
  },
  {
   "cell_type": "markdown",
   "metadata": {
    "jukit_cell_id": "lfpMNf0oYw"
   },
   "source": [
    "### Output paths"
   ]
  },
  {
   "cell_type": "code",
   "execution_count": 4,
   "metadata": {
    "execution": {
     "iopub.execute_input": "2024-07-18T19:03:15.527578Z",
     "iopub.status.busy": "2024-07-18T19:03:15.527462Z",
     "iopub.status.idle": "2024-07-18T19:03:15.529543Z",
     "shell.execute_reply": "2024-07-18T19:03:15.529271Z"
    },
    "jukit_cell_id": "z3syxsoQ8C"
   },
   "outputs": [],
   "source": [
    "data_path = pathlib.Path(\"construct_correlation_data\")\n",
    "data_path.mkdir(parents=True, exist_ok=True)"
   ]
  },
  {
   "cell_type": "markdown",
   "metadata": {
    "jukit_cell_id": "1KIVewAtgq"
   },
   "source": [
    "## Label untreated cells"
   ]
  },
  {
   "cell_type": "code",
   "execution_count": 5,
   "metadata": {
    "execution": {
     "iopub.execute_input": "2024-07-18T19:03:15.530757Z",
     "iopub.status.busy": "2024-07-18T19:03:15.530653Z",
     "iopub.status.idle": "2024-07-18T19:03:15.533263Z",
     "shell.execute_reply": "2024-07-18T19:03:15.533011Z"
    },
    "jukit_cell_id": "7WAqbP1I3I"
   },
   "outputs": [],
   "source": [
    "platedf[\"Metadata_siRNA\"].fillna(\"No Construct\", inplace=True)\n",
    "platedf.dropna(inplace=True)"
   ]
  },
  {
   "cell_type": "code",
   "execution_count": 6,
   "metadata": {
    "execution": {
     "iopub.execute_input": "2024-07-18T19:03:15.534427Z",
     "iopub.status.busy": "2024-07-18T19:03:15.534316Z",
     "iopub.status.idle": "2024-07-18T19:03:15.536916Z",
     "shell.execute_reply": "2024-07-18T19:03:15.536664Z"
    },
    "jukit_cell_id": "rB32cuv8gh"
   },
   "outputs": [],
   "source": [
    "meta_cols = platedf.filter(like=\"Metadata\").columns\n",
    "feat_cols = platedf.drop(columns=meta_cols).columns"
   ]
  },
  {
   "cell_type": "markdown",
   "metadata": {
    "jukit_cell_id": "CDbIQ6BTAP"
   },
   "source": [
    "## Compute Correlations"
   ]
  },
  {
   "cell_type": "code",
   "execution_count": 7,
   "metadata": {
    "execution": {
     "iopub.execute_input": "2024-07-18T19:03:15.538087Z",
     "iopub.status.busy": "2024-07-18T19:03:15.537981Z",
     "iopub.status.idle": "2024-07-18T19:03:15.787209Z",
     "shell.execute_reply": "2024-07-18T19:03:15.786918Z"
    },
    "jukit_cell_id": "QCAMpGgBpH"
   },
   "outputs": [],
   "source": [
    "# Store correlations\n",
    "corrdfs = []\n",
    "\n",
    "cp = CorrelateData()\n",
    "\n",
    "# Include cells with no construct treatment\n",
    "platedfz = platedf.loc[(platedf[\"Metadata_Concentration\"] == 0.0) & (platedf[\"Metadata_genotype\"] == \"WT\")].copy()\n",
    "\n",
    "# Compute correlations for each concentration\n",
    "for conc, concdf in platedf.groupby(\"Metadata_Concentration\"):\n",
    "\n",
    "    # Correlates all wells between the same siRNA-genotype combinations\n",
    "    corrdfs.append(cp.intra_correlations(\n",
    "        _df = concdf.reset_index(drop=True).copy(),\n",
    "        _antehoc_group_cols = [\"Metadata_siRNA\", \"Metadata_genotype\"],\n",
    "        _feat_cols = feat_cols,\n",
    "        _posthoc_group_cols = [\"Metadata_Well\"],\n",
    "    )\n",
    "    )\n",
    "\n",
    "    # Save the concentration and type of comparison\n",
    "    corrdfs[-1][\"Metadata_Concentration__group0\"] = conc\n",
    "    corrdfs[-1][\"Metadata_Concentration__group1\"] = conc\n",
    "\n",
    "    # Don't compute correlations for cells not treated with a construct\n",
    "    # The cells in this group are already compared to the constructs at every other concentration\n",
    "    if conc == 0.0:\n",
    "        continue\n",
    "\n",
    "    # Include the cells not treated with a construct in the correlation comparisons\n",
    "    concdf = pd.concat([\n",
    "        concdf,\n",
    "        platedfz.copy()\n",
    "    ], axis=0)\n",
    "\n",
    "    # Correlates all wells between different siRNA-well combinations\n",
    "    corrdfs.append(cp.inter_correlations(\n",
    "        _df = concdf.reset_index(drop=True).copy(),\n",
    "        _antehoc_group_cols = [\"Metadata_siRNA\", \"Metadata_Concentration\"],\n",
    "        _feat_cols = feat_cols,\n",
    "        _posthoc_group_cols = [\"Metadata_Well\"],\n",
    "    )\n",
    "    )"
   ]
  },
  {
   "cell_type": "markdown",
   "metadata": {
    "jukit_cell_id": "9cRnSR2wTC"
   },
   "source": [
    "## Store Correlation Data"
   ]
  },
  {
   "cell_type": "code",
   "execution_count": 8,
   "metadata": {
    "execution": {
     "iopub.execute_input": "2024-07-18T19:03:15.788873Z",
     "iopub.status.busy": "2024-07-18T19:03:15.788763Z",
     "iopub.status.idle": "2024-07-18T19:03:15.794041Z",
     "shell.execute_reply": "2024-07-18T19:03:15.793749Z"
    },
    "jukit_cell_id": "HD42qd1jUX"
   },
   "outputs": [],
   "source": [
    "corrdfs = pd.concat(corrdfs, axis=0)\n",
    "corrdfs.to_parquet(f\"{data_path}/plate_4_sc_post_fs_agg_well_correlations.parquet\")"
   ]
  },
  {
   "cell_type": "code",
   "execution_count": 9,
   "metadata": {
    "execution": {
     "iopub.execute_input": "2024-07-18T19:03:15.795849Z",
     "iopub.status.busy": "2024-07-18T19:03:15.795734Z",
     "iopub.status.idle": "2024-07-18T19:03:15.803331Z",
     "shell.execute_reply": "2024-07-18T19:03:15.803060Z"
    },
    "jukit_cell_id": "ZWUk9bCL8r"
   },
   "outputs": [
    {
     "data": {
      "text/html": [
       "<div>\n",
       "<style scoped>\n",
       "    .dataframe tbody tr th:only-of-type {\n",
       "        vertical-align: middle;\n",
       "    }\n",
       "\n",
       "    .dataframe tbody tr th {\n",
       "        vertical-align: top;\n",
       "    }\n",
       "\n",
       "    .dataframe thead th {\n",
       "        text-align: right;\n",
       "    }\n",
       "</style>\n",
       "<table border=\"1\" class=\"dataframe\">\n",
       "  <thead>\n",
       "    <tr style=\"text-align: right;\">\n",
       "      <th></th>\n",
       "      <th>correlation</th>\n",
       "      <th>Metadata_Well__group0</th>\n",
       "      <th>Metadata_Well__group1</th>\n",
       "      <th>Metadata_siRNA__group0</th>\n",
       "      <th>Metadata_siRNA__group1</th>\n",
       "      <th>Metadata_genotype__group0</th>\n",
       "      <th>Metadata_genotype__group1</th>\n",
       "      <th>Metadata_Concentration__group0</th>\n",
       "      <th>Metadata_Concentration__group1</th>\n",
       "    </tr>\n",
       "  </thead>\n",
       "  <tbody>\n",
       "    <tr>\n",
       "      <th>0</th>\n",
       "      <td>0.288538</td>\n",
       "      <td>C2</td>\n",
       "      <td>C5</td>\n",
       "      <td>No Construct</td>\n",
       "      <td>No Construct</td>\n",
       "      <td>Null</td>\n",
       "      <td>Null</td>\n",
       "      <td>0.0</td>\n",
       "      <td>0.0</td>\n",
       "    </tr>\n",
       "    <tr>\n",
       "      <th>1</th>\n",
       "      <td>0.508665</td>\n",
       "      <td>C2</td>\n",
       "      <td>C8</td>\n",
       "      <td>No Construct</td>\n",
       "      <td>No Construct</td>\n",
       "      <td>Null</td>\n",
       "      <td>Null</td>\n",
       "      <td>0.0</td>\n",
       "      <td>0.0</td>\n",
       "    </tr>\n",
       "    <tr>\n",
       "      <th>2</th>\n",
       "      <td>0.372519</td>\n",
       "      <td>C2</td>\n",
       "      <td>D2</td>\n",
       "      <td>No Construct</td>\n",
       "      <td>No Construct</td>\n",
       "      <td>Null</td>\n",
       "      <td>Null</td>\n",
       "      <td>0.0</td>\n",
       "      <td>0.0</td>\n",
       "    </tr>\n",
       "    <tr>\n",
       "      <th>3</th>\n",
       "      <td>0.476100</td>\n",
       "      <td>C2</td>\n",
       "      <td>D5</td>\n",
       "      <td>No Construct</td>\n",
       "      <td>No Construct</td>\n",
       "      <td>Null</td>\n",
       "      <td>Null</td>\n",
       "      <td>0.0</td>\n",
       "      <td>0.0</td>\n",
       "    </tr>\n",
       "    <tr>\n",
       "      <th>4</th>\n",
       "      <td>0.457510</td>\n",
       "      <td>C2</td>\n",
       "      <td>D8</td>\n",
       "      <td>No Construct</td>\n",
       "      <td>No Construct</td>\n",
       "      <td>Null</td>\n",
       "      <td>Null</td>\n",
       "      <td>0.0</td>\n",
       "      <td>0.0</td>\n",
       "    </tr>\n",
       "  </tbody>\n",
       "</table>\n",
       "</div>"
      ],
      "text/plain": [
       "   correlation Metadata_Well__group0 Metadata_Well__group1  \\\n",
       "0     0.288538                    C2                    C5   \n",
       "1     0.508665                    C2                    C8   \n",
       "2     0.372519                    C2                    D2   \n",
       "3     0.476100                    C2                    D5   \n",
       "4     0.457510                    C2                    D8   \n",
       "\n",
       "  Metadata_siRNA__group0 Metadata_siRNA__group1 Metadata_genotype__group0  \\\n",
       "0           No Construct           No Construct                      Null   \n",
       "1           No Construct           No Construct                      Null   \n",
       "2           No Construct           No Construct                      Null   \n",
       "3           No Construct           No Construct                      Null   \n",
       "4           No Construct           No Construct                      Null   \n",
       "\n",
       "  Metadata_genotype__group1  Metadata_Concentration__group0  \\\n",
       "0                      Null                             0.0   \n",
       "1                      Null                             0.0   \n",
       "2                      Null                             0.0   \n",
       "3                      Null                             0.0   \n",
       "4                      Null                             0.0   \n",
       "\n",
       "   Metadata_Concentration__group1  \n",
       "0                             0.0  \n",
       "1                             0.0  \n",
       "2                             0.0  \n",
       "3                             0.0  \n",
       "4                             0.0  "
      ]
     },
     "execution_count": 9,
     "metadata": {},
     "output_type": "execute_result"
    }
   ],
   "source": [
    "corrdfs.head()"
   ]
  }
 ],
 "metadata": {
  "anaconda-cloud": {},
  "kernelspec": {
   "display_name": "python",
   "language": "python",
   "name": "python3"
  },
  "language_info": {
   "codemirror_mode": {
    "name": "ipython",
    "version": 3
   },
   "file_extension": ".py",
   "mimetype": "text/x-python",
   "name": "python",
   "nbconvert_exporter": "python",
   "pygments_lexer": "ipython3",
   "version": "3.9.19"
  }
 },
 "nbformat": 4,
 "nbformat_minor": 4
}
