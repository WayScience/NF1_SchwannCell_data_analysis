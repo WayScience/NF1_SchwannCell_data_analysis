{
 "cells": [
  {
   "cell_type": "markdown",
   "id": "423412db-18fd-4d2d-a752-b9110c247738",
   "metadata": {},
   "source": [
    "# Feature Analysis and Genotype Classification"
   ]
  },
  {
   "cell_type": "markdown",
   "id": "e529ea4f-508a-446a-ae18-d660cbc186f9",
   "metadata": {},
   "source": [
    "### Note\n",
    "This notebook did not stratify samples. Accuracies may not be reflective of class distributions"
   ]
  },
  {
   "cell_type": "markdown",
   "id": "e948c896-effc-4451-8297-d3cb0213bb24",
   "metadata": {},
   "source": [
    "## Imports"
   ]
  },
  {
   "cell_type": "code",
   "execution_count": 1,
   "id": "b979f58c-0389-4e76-be7f-79366e5189ba",
   "metadata": {},
   "outputs": [
    {
     "name": "stderr",
     "output_type": "stream",
     "text": [
      "/home/camo/anaconda3/envs/nf1_analysis/lib/python3.9/site-packages/tqdm/auto.py:21: TqdmWarning: IProgress not found. Please update jupyter and ipywidgets. See https://ipywidgets.readthedocs.io/en/stable/user_install.html\n",
      "  from .autonotebook import tqdm as notebook_tqdm\n"
     ]
    }
   ],
   "source": [
    "import pathlib\n",
    "import sys\n",
    "\n",
    "import matplotlib.pyplot as plt\n",
    "import numpy as np\n",
    "import pandas as pd\n",
    "import umap\n",
    "from pandas.plotting import scatter_matrix\n",
    "from sklearn.decomposition import PCA\n",
    "from sklearn.ensemble import AdaBoostClassifier\n",
    "from sklearn.linear_model import LogisticRegression\n",
    "from sklearn.metrics import ConfusionMatrixDisplay, accuracy_score, confusion_matrix\n",
    "from sklearn.model_selection import KFold, train_test_split\n",
    "from sklearn.preprocessing import LabelBinarizer, StandardScaler\n",
    "\n",
    "sys.path.append(\"../utils\")\n",
    "import preprocess_utils as ppu"
   ]
  },
  {
   "cell_type": "markdown",
   "id": "6aee54a5-d4d8-4918-accc-001019f71d56",
   "metadata": {},
   "source": [
    "# Seed and Generator for Reproducibility"
   ]
  },
  {
   "cell_type": "code",
   "execution_count": 2,
   "id": "2998ff21-0000-420e-a4e9-c1b9a45f6cd9",
   "metadata": {},
   "outputs": [],
   "source": [
    "rnd_val = 0  # Random value for all seeds\n",
    "rng = np.random.default_rng(seed=rnd_val)  # random number generator"
   ]
  },
  {
   "cell_type": "markdown",
   "id": "8c9eb100-1e6f-40d6-87f7-ab7e3bcccf5f",
   "metadata": {},
   "source": [
    "# K Cross Validation"
   ]
  },
  {
   "cell_type": "code",
   "execution_count": 3,
   "id": "544f6632-619b-4fd1-8595-592eab7b503e",
   "metadata": {},
   "outputs": [],
   "source": [
    "num_splits = 5  # Default number of splits\n",
    "\n",
    "\n",
    "def kcross_val(model, feat, splits=num_splits):\n",
    "    \"\"\"\n",
    "    Parameters\n",
    "    ----------\n",
    "    model: sklearn model\n",
    "        The model to be trained and evaluated.\n",
    "    feat : Pandas Dataframe\n",
    "        The preprocessed dataframe with features and labels.\n",
    "    splits: int\n",
    "        The number of splits for k cross validation\n",
    "\n",
    "    Returns\n",
    "    -------\n",
    "    dict\n",
    "        A dictionary containing: {Best validation accuracy, Best model, Prediction of best model, Validation set labels}.\n",
    "        \"Best\" corresponds to the greatest validation accuracy.\n",
    "    \"\"\"\n",
    "\n",
    "    cv = KFold(n_splits=splits, random_state=rnd_val, shuffle=True)\n",
    "    max_acc = 0  # Keep track of the maximum accuracy\n",
    "\n",
    "    for train_idx, val_idx in cv.split(X=feat):  # iterates through index splits\n",
    "        yval = feat[val_idx, -1].astype(np.int64)  # Validation labels converted to ints\n",
    "        ytrain = feat[train_idx, -1].astype(\n",
    "            np.int64\n",
    "        )  # Training labels converted to ints\n",
    "        Xval = feat[val_idx, 0:-1]  # Validation features\n",
    "        Xtrain = feat[train_idx, 0:-1]  # Training features\n",
    "\n",
    "        model.fit(Xtrain, ytrain)  # Fitting the model\n",
    "        acc = model.score(Xval, yval)  # Scoring the model on the validation set\n",
    "\n",
    "        if max_acc < acc:  # Find the model with the best validation accuracy\n",
    "            max_acc, best_model, best_preds, val_labels = (\n",
    "                acc,\n",
    "                model,\n",
    "                model.predict(Xval),\n",
    "                yval,\n",
    "            )\n",
    "\n",
    "    res = {\n",
    "        \"acc\": max_acc,\n",
    "        \"model\": best_model,\n",
    "        \"preds\": best_preds,\n",
    "        \"labels\": val_labels,\n",
    "    }  # Store as a dictionary\n",
    "\n",
    "    return res"
   ]
  },
  {
   "cell_type": "code",
   "execution_count": 4,
   "id": "c725bcd0-7283-4a37-b091-529c5baac417",
   "metadata": {},
   "outputs": [],
   "source": [
    "# Naive Model:\n",
    "class naive_model:\n",
    "    \"\"\"\n",
    "    A naive model, which chosses a random class to generate predictions.\n",
    "    \"\"\"\n",
    "\n",
    "    def __init__(self):\n",
    "        pass\n",
    "\n",
    "    def score(self, labels):\n",
    "        \"\"\"\n",
    "        Parameters\n",
    "        ----------\n",
    "        labels\n",
    "            The genotype labels.\n",
    "\n",
    "        Returns\n",
    "        -------\n",
    "        float\n",
    "            A naive accuracy (baseline accuracy) for the given labels without considering any features.\n",
    "        \"\"\"\n",
    "        naive_pred = rng.integers(low=0, high=2, size=labels.shape[0])\n",
    "        naive_acc = accuracy_score(naive_pred, labels)\n",
    "        return naive_acc"
   ]
  },
  {
   "cell_type": "markdown",
   "id": "c3d2f1af-5aa7-4fcf-b2b1-7ba09572a00a",
   "metadata": {},
   "source": [
    "## Confusion Matrix"
   ]
  },
  {
   "cell_type": "code",
   "execution_count": 5,
   "id": "221744e2-a564-41fe-a1c3-4d5691f3c963",
   "metadata": {},
   "outputs": [],
   "source": [
    "# Display Confusion matrix\n",
    "def conf_mat(model_res, mat_title=\"Confusion Matrix\"):\n",
    "    \"\"\"\n",
    "    Parameters\n",
    "    ----------\n",
    "    model_res : dict\n",
    "        A dictionary containing: Best validation accuracy, Best model, Prediction of best model, Validation set labels.\n",
    "        \"Best\" corresponds to the greatest validation accuracy.\n",
    "\n",
    "    mat_title: str\n",
    "        The title of the confusion matrix.\n",
    "    \"\"\"\n",
    "    cm = confusion_matrix(model_res[\"labels\"], model_res[\"preds\"])\n",
    "    fig, ax = plt.subplots(figsize=(5, 5), dpi=100)\n",
    "    display = ConfusionMatrixDisplay(cm, display_labels=np.unique(model_res[\"labels\"]))\n",
    "    ax.set(title=mat_title)\n",
    "    display.plot(ax=ax)"
   ]
  },
  {
   "cell_type": "markdown",
   "id": "51825eb6-5e55-4042-ba3a-e382ad474c09",
   "metadata": {},
   "source": [
    "# Converting csv to pandas dataframe"
   ]
  },
  {
   "cell_type": "code",
   "execution_count": 6,
   "id": "b6321b1d-5e6c-4c3f-8ecb-39fe3c166dd7",
   "metadata": {},
   "outputs": [],
   "source": [
    "data_dir = pathlib.Path(\n",
    "    \"../nf1_painting_repo/3.processing_features/data/feature_selected_data/Plate_1_sc_norm_fs.parquet\"\n",
    ")"
   ]
  },
  {
   "cell_type": "code",
   "execution_count": 7,
   "id": "5dfeeb20-809c-43d0-9ff0-0e506bfee4b3",
   "metadata": {},
   "outputs": [],
   "source": [
    "# If the file isn't found in the path above then raise an error.\n",
    "if not data_dir.is_file():\n",
    "    raise FileNotFoundError(f\"File '{data_dir}' does not exist\")\n",
    "\n",
    "po = ppu.Preprocess_data(data_dir)\n",
    "morph_feat = po.df"
   ]
  },
  {
   "cell_type": "markdown",
   "id": "378b95b3-442c-4154-9f8e-ddf78ffc94d3",
   "metadata": {},
   "source": [
    "# Creating binary labels for the genotype"
   ]
  },
  {
   "cell_type": "code",
   "execution_count": 8,
   "id": "94fba14e-0f9e-4d60-811e-784f5a2342dc",
   "metadata": {},
   "outputs": [],
   "source": [
    "lb = LabelBinarizer()\n",
    "morph_feat[\"genotype_label\"] = lb.fit_transform(morph_feat[\"Metadata_genotype\"])\n",
    "featdf = morph_feat  # Create a copy for modification"
   ]
  },
  {
   "cell_type": "markdown",
   "id": "ca0d745b-d2c0-447f-a15b-96d5d9bafbce",
   "metadata": {},
   "source": [
    "# Sampling"
   ]
  },
  {
   "cell_type": "code",
   "execution_count": 9,
   "id": "3b039128-21d3-49ea-a9e8-1d50f90dde90",
   "metadata": {},
   "outputs": [],
   "source": [
    "def down_sample(df, samp_size):\n",
    "    \"\"\"\n",
    "    Samples the dataframe according to the sample size.\n",
    "\n",
    "    Parameters\n",
    "    ----------\n",
    "    df: Pandas Dataframe\n",
    "        The dataframe to be sampled.\n",
    "    samp_size\n",
    "        The sample size to be sampled from each class.\n",
    "\n",
    "    Returns\n",
    "    -------\n",
    "    Pandas Dataframe\n",
    "        The sampled dataframe.\n",
    "\n",
    "    \"\"\"\n",
    "    return df.sample(n=samp_size, random_state=rnd_val)"
   ]
  },
  {
   "cell_type": "markdown",
   "id": "4c904f49-d53b-4e36-8a15-e0b4574f1414",
   "metadata": {},
   "source": [
    "# Selecting Features"
   ]
  },
  {
   "cell_type": "code",
   "execution_count": 10,
   "id": "e9635f20-4c9c-435d-97fb-df95eb95fad4",
   "metadata": {
    "tags": []
   },
   "outputs": [],
   "source": [
    "feat_col = [\n",
    "    col for col in featdf.columns if \"Metadata\" not in col\n",
    "]  # Select all columns that don't contain the Metadata in their name\n",
    "\n",
    "featdf = featdf[feat_col]\n",
    "featdf = featdf.loc[:, featdf.columns != \"Unnamed: 0\"]  # Remove the unnamed column"
   ]
  },
  {
   "cell_type": "code",
   "execution_count": 11,
   "id": "8eeb0e63-1e79-4c65-8d84-b74c16249656",
   "metadata": {},
   "outputs": [],
   "source": [
    "min_class_samps_size = min(\n",
    "    featdf[\"genotype_label\"].value_counts().values\n",
    ")  # Sample size for the minority class\n",
    "dsamp_featdf = featdf.groupby(\"genotype_label\", group_keys=False).apply(\n",
    "    down_sample, min_class_samps_size\n",
    ")  # Down-sample features according to minority class\n",
    "traindf, testdf = train_test_split(\n",
    "    dsamp_featdf, random_state=rnd_val, shuffle=True, train_size=0.9\n",
    ")  # Train and Test Dataframes"
   ]
  },
  {
   "cell_type": "code",
   "execution_count": 12,
   "id": "40f89180-8345-46f7-b453-1b346001f8bb",
   "metadata": {},
   "outputs": [],
   "source": [
    "train_feat = traindf.to_numpy()\n",
    "test_feat = testdf.to_numpy()"
   ]
  },
  {
   "cell_type": "markdown",
   "id": "30280687-d80a-4cc0-ad16-c013c33eb4ec",
   "metadata": {},
   "source": [
    "# Principle Component Analysis (PCA) Visualization"
   ]
  },
  {
   "cell_type": "code",
   "execution_count": 13,
   "id": "fdae46a5-eee6-4ed7-99e3-a1c49eb63c12",
   "metadata": {
    "tags": []
   },
   "outputs": [],
   "source": [
    "null_idx = np.nonzero(train_feat[:, -1] == 0)[0]\n",
    "wt_idx = np.nonzero(train_feat[:, -1] != 0)[0]"
   ]
  },
  {
   "cell_type": "code",
   "execution_count": 14,
   "id": "d7827c06-e014-46df-bc8d-102f6c1f92ec",
   "metadata": {},
   "outputs": [
    {
     "name": "stdout",
     "output_type": "stream",
     "text": [
      "Explained variance in PC1 and PC2 = 0.22793538301948318\n"
     ]
    },
    {
     "data": {
      "image/png": "[encoded data removed]",
      "text/plain": [
       "<Figure size 640x480 with 1 Axes>"
      ]
     },
     "metadata": {},
     "output_type": "display_data"
    }
   ],
   "source": [
    "pca = PCA(n_components=2)\n",
    "pca_features = pca.fit_transform(train_feat[:, 0:-1])\n",
    "print(f\"Explained variance in PC1 and PC2 = {np.sum(pca.explained_variance_ratio_)}\")\n",
    "null = plt.scatter(\n",
    "    pca_features[null_idx, 0], pca_features[null_idx, 1], marker=\"x\", color=\"r\"\n",
    ")\n",
    "wt = plt.scatter(\n",
    "    pca_features[wt_idx, 0], pca_features[wt_idx, 1], marker=\".\", color=\"b\"\n",
    ")\n",
    "plt.xlabel(\"PC1\")\n",
    "plt.ylabel(\"PC2\")\n",
    "plt.legend((null, wt), (\"null\", \"wt\"))\n",
    "plt.show()"
   ]
  },
  {
   "cell_type": "code",
   "execution_count": 15,
   "id": "7c473493-890a-447e-88ae-f5043fa8e15c",
   "metadata": {
    "tags": []
   },
   "outputs": [
    {
     "data": {
      "text/plain": [
       "UMAP(random_state=0, tqdm_kwds={'bar_format': '{desc}: {percentage:3.0f}%| {bar} {n_fmt}/{total_fmt} [{elapsed}]', 'desc': 'Epochs completed', 'disable': True})"
      ]
     },
     "execution_count": 15,
     "metadata": {},
     "output_type": "execute_result"
    }
   ],
   "source": [
    "reducer = umap.UMAP(random_state=rnd_val)\n",
    "reducer.fit(train_feat[:, 0:-1])"
   ]
  },
  {
   "cell_type": "code",
   "execution_count": 16,
   "id": "ddd71b16-085b-4aa5-91dd-aefc299d2639",
   "metadata": {
    "tags": []
   },
   "outputs": [
    {
     "data": {
      "image/png": "[encoded data removed]",
      "text/plain": [
       "<Figure size 640x480 with 1 Axes>"
      ]
     },
     "metadata": {},
     "output_type": "display_data"
    }
   ],
   "source": [
    "null = plt.scatter(\n",
    "    reducer.embedding_[null_idx, 0],\n",
    "    reducer.embedding_[null_idx, 1],\n",
    "    marker=\"x\",\n",
    "    color=\"r\",\n",
    ")\n",
    "wt = plt.scatter(\n",
    "    reducer.embedding_[wt_idx, 0], reducer.embedding_[wt_idx, 1], marker=\".\", color=\"b\"\n",
    ")\n",
    "plt.title(\"Embedding of the training set by UMAP\", fontsize=24)\n",
    "plt.legend((null, wt), (\"null\", \"wt\"), loc=\"lower right\")\n",
    "plt.show()"
   ]
  },
  {
   "cell_type": "markdown",
   "id": "4875490a-27ed-49ad-a64b-77c0e2442f40",
   "metadata": {},
   "source": [
    "# LRC Model"
   ]
  },
  {
   "cell_type": "code",
   "execution_count": 17,
   "id": "4ac2178a-b0bc-4792-80cb-a6555fc0e078",
   "metadata": {},
   "outputs": [],
   "source": [
    "lrc = LogisticRegression(random_state=rnd_val)\n",
    "\n",
    "lrc_results = kcross_val(lrc, train_feat)"
   ]
  },
  {
   "cell_type": "code",
   "execution_count": 18,
   "id": "e4a5b103-b71a-4f7a-91dd-6ab68ae3fb52",
   "metadata": {},
   "outputs": [],
   "source": [
    "naive_lrc = naive_model()  # Naive results for the logistic regression validation data\n",
    "naive_acc = naive_lrc.score(lrc_results[\"labels\"])  # Naive accuracy"
   ]
  },
  {
   "cell_type": "code",
   "execution_count": 19,
   "id": "70c8a6fa-cb82-4496-a993-53f7622a4481",
   "metadata": {},
   "outputs": [
    {
     "name": "stdout",
     "output_type": "stream",
     "text": [
      "Validation model accuracy = 0.9285714285714286\n",
      "Naive accuracy = 0.6071428571428571\n"
     ]
    }
   ],
   "source": [
    "print(f\"Validation model accuracy = {lrc_results['acc']}\")\n",
    "print(f\"Naive accuracy = {naive_acc}\")"
   ]
  },
  {
   "cell_type": "code",
   "execution_count": 20,
   "id": "ca805c30-b8bf-4044-b8a1-694b8d5855ec",
   "metadata": {},
   "outputs": [
    {
     "data": {
      "image/png": "[encoded data removed]",
      "text/plain": [
       "<Figure size 500x500 with 2 Axes>"
      ]
     },
     "metadata": {},
     "output_type": "display_data"
    }
   ],
   "source": [
    "conf_mat(lrc_results, \"Confusion Matrix for Logistic Regression\")"
   ]
  },
  {
   "cell_type": "code",
   "execution_count": 21,
   "id": "794f1387-c2ea-4fc9-9ea5-406f7a35be39",
   "metadata": {},
   "outputs": [
    {
     "name": "stdout",
     "output_type": "stream",
     "text": [
      "Logistic Regression Test Accuracy: 0.94\n"
     ]
    }
   ],
   "source": [
    "lrc_test_acc = lrc.score(test_feat[:, 0:-1], test_feat[:, -1].astype(np.int64))\n",
    "print(f\"Logistic Regression Test Accuracy: {lrc_test_acc:.2f}\")"
   ]
  },
  {
   "cell_type": "markdown",
   "id": "badffab2-a335-4a00-a61b-dfa87a384628",
   "metadata": {},
   "source": [
    "# Adaboost"
   ]
  },
  {
   "cell_type": "code",
   "execution_count": 22,
   "id": "2d3ce47d-b1e5-4ba5-8e18-ce2193d9ccb6",
   "metadata": {},
   "outputs": [],
   "source": [
    "adab = AdaBoostClassifier(n_estimators=100, random_state=rnd_val)\n",
    "\n",
    "adab_results = kcross_val(adab, train_feat)"
   ]
  },
  {
   "cell_type": "code",
   "execution_count": 23,
   "id": "88bbf205-f196-4ccd-923a-29d53f366672",
   "metadata": {},
   "outputs": [],
   "source": [
    "naive_adab = naive_model()  # Naive model for the Adaboost validation data\n",
    "naive_acc = naive_adab.score(adab_results[\"labels\"])  # Naive accuracy"
   ]
  },
  {
   "cell_type": "code",
   "execution_count": 24,
   "id": "0f7557fc-3bcc-4641-a6c5-9617318fd92c",
   "metadata": {},
   "outputs": [
    {
     "name": "stdout",
     "output_type": "stream",
     "text": [
      "Model Validation accuracy = 0.9259259259259259\n",
      "Naive accuracy = 0.4074074074074074\n"
     ]
    }
   ],
   "source": [
    "print(f\"Model Validation accuracy = {adab_results['acc']}\")\n",
    "print(f\"Naive accuracy = {naive_acc}\")"
   ]
  },
  {
   "cell_type": "code",
   "execution_count": 25,
   "id": "8bfd2df3-fc1d-4c73-b00e-71edec4e653d",
   "metadata": {},
   "outputs": [
    {
     "data": {
      "image/png": "[encoded data removed]",
      "text/plain": [
       "<Figure size 500x500 with 2 Axes>"
      ]
     },
     "metadata": {},
     "output_type": "display_data"
    }
   ],
   "source": [
    "conf_mat(adab_results, \"Confusion Matrix for Adaboost Regression\")"
   ]
  },
  {
   "cell_type": "code",
   "execution_count": 26,
   "id": "8a3029c5-30b7-40a7-9862-86c926a3e092",
   "metadata": {},
   "outputs": [
    {
     "name": "stdout",
     "output_type": "stream",
     "text": [
      "Adaboost Test Accuracy: 0.9375\n"
     ]
    }
   ],
   "source": [
    "adab_test_acc = adab.score(test_feat[:, 0:-1], test_feat[:, -1].astype(np.int64))\n",
    "\n",
    "print(f\"Adaboost Test Accuracy: {adab_test_acc}\")"
   ]
  }
 ],
 "metadata": {
  "kernelspec": {
   "display_name": "Python 3 (ipykernel)",
   "language": "python",
   "name": "python3"
  },
  "language_info": {
   "codemirror_mode": {
    "name": "ipython",
    "version": 3
   },
   "file_extension": ".py",
   "mimetype": "text/x-python",
   "name": "python",
   "nbconvert_exporter": "python",
   "pygments_lexer": "ipython3",
   "version": "3.9.16"
  }
 },
 "nbformat": 4,
 "nbformat_minor": 5
}
