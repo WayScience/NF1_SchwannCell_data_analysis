{
  "cells": [
    {
      "cell_type": "markdown",
      "metadata": {
        "jukit_cell_id": "4C20coDtNB"
      },
      "source": [
        "# Determine expression relationships between constructs\n",
        "Correlate post feature selection well-aggregated morphology features across the same concentrations."
      ]
    },
    {
      "cell_type": "markdown",
      "metadata": {
        "jukit_cell_id": "Eg9pPBZcbM"
      },
      "source": [
        "## Imports"
      ]
    },
    {
      "cell_type": "code",
      "metadata": {
        "jukit_cell_id": "5dKOCfosTM"
      },
      "source": [
        "import pathlib\n",
        "import sys\n",
        "\n",
        "import pandas as pd"
      ],
      "outputs": [],
      "execution_count": null
    },
    {
      "cell_type": "markdown",
      "metadata": {
        "jukit_cell_id": "2OsaGp4f3S"
      },
      "source": [
        "## Find the root of the git repo on the host system"
      ]
    },
    {
      "cell_type": "code",
      "metadata": {
        "jukit_cell_id": "DUsPsvZlzR"
      },
      "source": [
        "# Get the current working directory\n",
        "cwd = pathlib.Path.cwd()\n",
        "\n",
        "if (cwd / \".git\").is_dir():\n",
        "    root_dir = cwd\n",
        "\n",
        "else:\n",
        "    root_dir = None\n",
        "    for parent in cwd.parents:\n",
        "        if (parent / \".git\").is_dir():\n",
        "            root_dir = parent\n",
        "            break\n",
        "\n",
        "# Check if a Git root directory was found\n",
        "if root_dir is None:\n",
        "    raise FileNotFoundError(\"No Git root directory found.\")"
      ],
      "outputs": [],
      "execution_count": null
    },
    {
      "cell_type": "markdown",
      "metadata": {
        "jukit_cell_id": "eSQXraMRCI"
      },
      "source": [
        "## Define paths"
      ]
    },
    {
      "cell_type": "markdown",
      "metadata": {
        "jukit_cell_id": "cZx8xNCyZq"
      },
      "source": [
        "### Input paths"
      ]
    },
    {
      "cell_type": "code",
      "metadata": {
        "jukit_cell_id": "xdgUvt0md2"
      },
      "source": [
        "# Path to correlation class\n",
        "sys.path.append(\n",
        "    f\"{root_dir}/0.data_analysis/utils\"\n",
        ")\n",
        "\n",
        "# Class for calculating correlations\n",
        "from CorrelateData import CorrelateData\n",
        "\n",
        "platedf_path = pathlib.Path(root_dir / \"nf1_painting_repo/3.processing_features/data/single_cell_profiles/Plate_4_bulk_camerons_method.parquet\").resolve(strict=True)\n",
        "platedf = pd.read_parquet(platedf_path)"
      ],
      "outputs": [],
      "execution_count": null
    },
    {
      "cell_type": "markdown",
      "metadata": {
        "jukit_cell_id": "lfpMNf0oYw"
      },
      "source": [
        "### Output paths"
      ]
    },
    {
      "cell_type": "code",
      "metadata": {
        "jukit_cell_id": "z3syxsoQ8C"
      },
      "source": [
        "data_path = pathlib.Path(\"construct_correlation_data\")\n",
        "data_path.mkdir(parents=True, exist_ok=True)"
      ],
      "outputs": [],
      "execution_count": null
    },
    {
      "cell_type": "markdown",
      "metadata": {
        "jukit_cell_id": "1KIVewAtgq"
      },
      "source": [
        "## Label untreated cells"
      ]
    },
    {
      "cell_type": "code",
      "metadata": {
        "jukit_cell_id": "7WAqbP1I3I"
      },
      "source": [
        "platedf[\"Metadata_siRNA\"].fillna(\"No Construct\", inplace=True)\n",
        "platedf.dropna(inplace=True)"
      ],
      "outputs": [],
      "execution_count": null
    },
    {
      "cell_type": "code",
      "metadata": {
        "jukit_cell_id": "rB32cuv8gh"
      },
      "source": [
        "meta_cols = platedf.filter(like=\"Metadata\").columns\n",
        "feat_cols = platedf.drop(columns=meta_cols).columns"
      ],
      "outputs": [],
      "execution_count": null
    },
    {
      "cell_type": "markdown",
      "metadata": {
        "jukit_cell_id": "CDbIQ6BTAP"
      },
      "source": [
        "## Compute Correlations"
      ]
    },
    {
      "cell_type": "code",
      "metadata": {
        "jukit_cell_id": "QCAMpGgBpH"
      },
      "source": [
        "# Store correlations\n",
        "corrdfs = []\n",
        "\n",
        "cp = CorrelateData()\n",
        "\n",
        "# Include cells with no construct treatment\n",
        "platedfz = platedf.loc[platedf[\"Metadata_Concentration\"] == 0.0].copy()\n",
        "\n",
        "# Compute correlations for each concentration\n",
        "for conc, concdf in platedf.groupby(\"Metadata_Concentration\"):\n",
        "\n",
        "    # Include the cells not treated with a construct in the correlation comparisons\n",
        "    concdf = pd.concat([\n",
        "        concdf,\n",
        "        platedfz.copy()\n",
        "    ], axis=0)\n",
        "\n",
        "    corrdfs.append(cp.intra_correlations(\n",
        "        _df = concdf.reset_index(drop=True).copy(),\n",
        "        _antehoc_group_cols = [\"Metadata_siRNA\", \"Metadata_genotype\"],\n",
        "        _feat_cols = feat_cols,\n",
        "        _posthoc_group_cols = [\"Metadata_Well\"],\n",
        "    )\n",
        "    )\n",
        "\n",
        "    # Save the concentration and type of comparison\n",
        "    corrdfs[-1][\"Metadata_Concentration\"] = conc\n",
        "    corrdfs[-1][\"cell_comparison\"] = \"intra_well\"\n",
        "\n",
        "    # Don't compute correlations for cells not treated with a construct\n",
        "    # The cells in this group is already compared to the constructs at every other concentration\n",
        "    if conc == 0.0:\n",
        "        continue\n",
        "\n",
        "    # Correlates all cells except those occupying the same well\n",
        "    corrdfs.append(cp.inter_correlations(\n",
        "        _df = platedf.reset_index(drop=True).copy(),\n",
        "        _antehoc_group_cols = [\"Metadata_siRNA\"],\n",
        "        _feat_cols = feat_cols,\n",
        "        _posthoc_group_cols = [\"Metadata_Well\", \"Metadata_genotype\"],\n",
        "    )\n",
        "    )\n",
        "\n",
        "    # Save the concentration and type of comparison\n",
        "    corrdfs[-1][\"Metadata_Concentration\"] = conc\n",
        "    corrdfs[-1][\"cell_comparison\"] = \"inter_well\""
      ],
      "outputs": [],
      "execution_count": null
    },
    {
      "cell_type": "markdown",
      "metadata": {
        "jukit_cell_id": "9cRnSR2wTC"
      },
      "source": [
        "## Store Correlation Data"
      ]
    },
    {
      "cell_type": "code",
      "metadata": {
        "jukit_cell_id": "HD42qd1jUX"
      },
      "source": [
        "corrdfs = pd.concat(corrdfs, axis=0)\n",
        "corrdfs.to_parquet(f\"{data_path}/plate_4_sc_feature_selected_camerons_agg_well_correlations.parquet\")"
      ],
      "outputs": [],
      "execution_count": null
    },
    {
      "cell_type": "code",
      "metadata": {
        "jukit_cell_id": "ZWUk9bCL8r"
      },
      "source": [
        "corrdfs.head()"
      ],
      "outputs": [],
      "execution_count": null
    }
  ],
  "metadata": {
    "anaconda-cloud": {},
    "kernelspec": {
      "display_name": "python",
      "language": "python",
      "name": "python3"
    }
  },
  "nbformat": 4,
  "nbformat_minor": 4
}