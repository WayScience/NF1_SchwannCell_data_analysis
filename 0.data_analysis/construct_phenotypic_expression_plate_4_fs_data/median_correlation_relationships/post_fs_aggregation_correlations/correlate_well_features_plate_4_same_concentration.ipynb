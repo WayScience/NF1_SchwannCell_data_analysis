{
 "cells": [
  {
   "cell_type": "markdown",
   "metadata": {
    "jukit_cell_id": "4C20coDtNB"
   },
   "source": [
    "# Determine expression relationships between constructs\n",
    "Correlate post feature selection well-aggregated morphology features across the same concentrations."
   ]
  },
  {
   "cell_type": "markdown",
   "metadata": {
    "jukit_cell_id": "Eg9pPBZcbM"
   },
   "source": [
    "## Imports"
   ]
  },
  {
   "cell_type": "code",
   "execution_count": 1,
   "metadata": {
    "execution": {
     "iopub.execute_input": "2024-05-24T23:58:54.909008Z",
     "iopub.status.busy": "2024-05-24T23:58:54.908905Z",
     "iopub.status.idle": "2024-05-24T23:58:55.116632Z",
     "shell.execute_reply": "2024-05-24T23:58:55.116294Z"
    },
    "jukit_cell_id": "5dKOCfosTM"
   },
   "outputs": [],
   "source": [
    "import pathlib\n",
    "import sys\n",
    "\n",
    "import pandas as pd"
   ]
  },
  {
   "cell_type": "markdown",
   "metadata": {
    "jukit_cell_id": "2OsaGp4f3S"
   },
   "source": [
    "## Find the root of the git repo on the host system"
   ]
  },
  {
   "cell_type": "code",
   "execution_count": 2,
   "metadata": {
    "execution": {
     "iopub.execute_input": "2024-05-24T23:58:55.118559Z",
     "iopub.status.busy": "2024-05-24T23:58:55.118394Z",
     "iopub.status.idle": "2024-05-24T23:58:55.121099Z",
     "shell.execute_reply": "2024-05-24T23:58:55.120838Z"
    },
    "jukit_cell_id": "DUsPsvZlzR"
   },
   "outputs": [],
   "source": [
    "# Get the current working directory\n",
    "cwd = pathlib.Path.cwd()\n",
    "\n",
    "if (cwd / \".git\").is_dir():\n",
    "    root_dir = cwd\n",
    "\n",
    "else:\n",
    "    root_dir = None\n",
    "    for parent in cwd.parents:\n",
    "        if (parent / \".git\").is_dir():\n",
    "            root_dir = parent\n",
    "            break\n",
    "\n",
    "# Check if a Git root directory was found\n",
    "if root_dir is None:\n",
    "    raise FileNotFoundError(\"No Git root directory found.\")"
   ]
  },
  {
   "cell_type": "markdown",
   "metadata": {
    "jukit_cell_id": "eSQXraMRCI"
   },
   "source": [
    "## Define paths"
   ]
  },
  {
   "cell_type": "markdown",
   "metadata": {
    "jukit_cell_id": "cZx8xNCyZq"
   },
   "source": [
    "### Input paths"
   ]
  },
  {
   "cell_type": "code",
   "execution_count": 3,
   "metadata": {
    "execution": {
     "iopub.execute_input": "2024-05-24T23:58:55.122302Z",
     "iopub.status.busy": "2024-05-24T23:58:55.122193Z",
     "iopub.status.idle": "2024-05-24T23:58:55.241755Z",
     "shell.execute_reply": "2024-05-24T23:58:55.241298Z"
    },
    "jukit_cell_id": "xdgUvt0md2"
   },
   "outputs": [
    {
     "name": "stdout",
     "output_type": "stream",
     "text": [
      "(60, 1153)\n"
     ]
    },
    {
     "data": {
      "text/html": [
       "<div>\n",
       "<style scoped>\n",
       "    .dataframe tbody tr th:only-of-type {\n",
       "        vertical-align: middle;\n",
       "    }\n",
       "\n",
       "    .dataframe tbody tr th {\n",
       "        vertical-align: top;\n",
       "    }\n",
       "\n",
       "    .dataframe thead th {\n",
       "        text-align: right;\n",
       "    }\n",
       "</style>\n",
       "<table border=\"1\" class=\"dataframe\">\n",
       "  <thead>\n",
       "    <tr style=\"text-align: right;\">\n",
       "      <th></th>\n",
       "      <th>Metadata_WellRow</th>\n",
       "      <th>Metadata_WellCol</th>\n",
       "      <th>Metadata_Well</th>\n",
       "      <th>Metadata_number_of_singlecells</th>\n",
       "      <th>Metadata_gene_name</th>\n",
       "      <th>Metadata_genotype</th>\n",
       "      <th>Metadata_seed_density</th>\n",
       "      <th>Metadata_siRNA</th>\n",
       "      <th>Metadata_RNAiMax</th>\n",
       "      <th>Metadata_Concentration</th>\n",
       "      <th>...</th>\n",
       "      <th>Nuclei_Texture_InverseDifferenceMoment_RFP_3_00_256</th>\n",
       "      <th>Nuclei_Texture_InverseDifferenceMoment_RFP_3_01_256</th>\n",
       "      <th>Nuclei_Texture_InverseDifferenceMoment_RFP_3_02_256</th>\n",
       "      <th>Nuclei_Texture_InverseDifferenceMoment_RFP_3_03_256</th>\n",
       "      <th>Nuclei_Texture_SumEntropy_DAPI_3_03_256</th>\n",
       "      <th>Nuclei_Texture_SumEntropy_RFP_3_00_256</th>\n",
       "      <th>Nuclei_Texture_SumVariance_CY5_3_01_256</th>\n",
       "      <th>Nuclei_Texture_SumVariance_DAPI_3_01_256</th>\n",
       "      <th>Nuclei_Texture_SumVariance_GFP_3_03_256</th>\n",
       "      <th>Nuclei_Texture_SumVariance_RFP_3_01_256</th>\n",
       "    </tr>\n",
       "  </thead>\n",
       "  <tbody>\n",
       "    <tr>\n",
       "      <th>0</th>\n",
       "      <td>B</td>\n",
       "      <td>2</td>\n",
       "      <td>B2</td>\n",
       "      <td>111</td>\n",
       "      <td>NF1</td>\n",
       "      <td>WT</td>\n",
       "      <td>1000</td>\n",
       "      <td>None</td>\n",
       "      <td>0</td>\n",
       "      <td>0.000</td>\n",
       "      <td>...</td>\n",
       "      <td>-0.495849</td>\n",
       "      <td>-0.497374</td>\n",
       "      <td>-0.519248</td>\n",
       "      <td>-0.494432</td>\n",
       "      <td>0.195967</td>\n",
       "      <td>0.539823</td>\n",
       "      <td>-0.425107</td>\n",
       "      <td>0.020265</td>\n",
       "      <td>-0.314718</td>\n",
       "      <td>-0.037639</td>\n",
       "    </tr>\n",
       "    <tr>\n",
       "      <th>1</th>\n",
       "      <td>B</td>\n",
       "      <td>3</td>\n",
       "      <td>B3</td>\n",
       "      <td>133</td>\n",
       "      <td>NF1</td>\n",
       "      <td>WT</td>\n",
       "      <td>1000</td>\n",
       "      <td>Scramble</td>\n",
       "      <td>1</td>\n",
       "      <td>0.050</td>\n",
       "      <td>...</td>\n",
       "      <td>-0.172777</td>\n",
       "      <td>-0.316575</td>\n",
       "      <td>-0.320163</td>\n",
       "      <td>-0.238080</td>\n",
       "      <td>0.345292</td>\n",
       "      <td>0.215819</td>\n",
       "      <td>-0.260976</td>\n",
       "      <td>0.079127</td>\n",
       "      <td>-0.298335</td>\n",
       "      <td>-0.161293</td>\n",
       "    </tr>\n",
       "    <tr>\n",
       "      <th>2</th>\n",
       "      <td>B</td>\n",
       "      <td>4</td>\n",
       "      <td>B4</td>\n",
       "      <td>97</td>\n",
       "      <td>NF1</td>\n",
       "      <td>WT</td>\n",
       "      <td>1000</td>\n",
       "      <td>Scramble</td>\n",
       "      <td>1</td>\n",
       "      <td>0.005</td>\n",
       "      <td>...</td>\n",
       "      <td>-0.178477</td>\n",
       "      <td>-0.366320</td>\n",
       "      <td>-0.351161</td>\n",
       "      <td>-0.237826</td>\n",
       "      <td>0.176531</td>\n",
       "      <td>0.211642</td>\n",
       "      <td>-0.366440</td>\n",
       "      <td>0.046231</td>\n",
       "      <td>-0.220766</td>\n",
       "      <td>-0.184100</td>\n",
       "    </tr>\n",
       "    <tr>\n",
       "      <th>3</th>\n",
       "      <td>B</td>\n",
       "      <td>5</td>\n",
       "      <td>B5</td>\n",
       "      <td>124</td>\n",
       "      <td>NF1</td>\n",
       "      <td>WT</td>\n",
       "      <td>1000</td>\n",
       "      <td>None</td>\n",
       "      <td>0</td>\n",
       "      <td>0.000</td>\n",
       "      <td>...</td>\n",
       "      <td>-0.172880</td>\n",
       "      <td>-0.233792</td>\n",
       "      <td>-0.229009</td>\n",
       "      <td>-0.233701</td>\n",
       "      <td>0.203310</td>\n",
       "      <td>0.026878</td>\n",
       "      <td>-0.265577</td>\n",
       "      <td>-0.019935</td>\n",
       "      <td>-0.373997</td>\n",
       "      <td>-0.267422</td>\n",
       "    </tr>\n",
       "    <tr>\n",
       "      <th>4</th>\n",
       "      <td>B</td>\n",
       "      <td>6</td>\n",
       "      <td>B6</td>\n",
       "      <td>102</td>\n",
       "      <td>NF1</td>\n",
       "      <td>WT</td>\n",
       "      <td>1000</td>\n",
       "      <td>Scramble</td>\n",
       "      <td>1</td>\n",
       "      <td>0.005</td>\n",
       "      <td>...</td>\n",
       "      <td>-0.156743</td>\n",
       "      <td>-0.240875</td>\n",
       "      <td>-0.439017</td>\n",
       "      <td>-0.329501</td>\n",
       "      <td>0.282654</td>\n",
       "      <td>0.331662</td>\n",
       "      <td>0.260922</td>\n",
       "      <td>0.392112</td>\n",
       "      <td>-0.301106</td>\n",
       "      <td>-0.209467</td>\n",
       "    </tr>\n",
       "  </tbody>\n",
       "</table>\n",
       "<p>5 rows × 1153 columns</p>\n",
       "</div>"
      ],
      "text/plain": [
       "  Metadata_WellRow  Metadata_WellCol Metadata_Well  \\\n",
       "0                B                 2            B2   \n",
       "1                B                 3            B3   \n",
       "2                B                 4            B4   \n",
       "3                B                 5            B5   \n",
       "4                B                 6            B6   \n",
       "\n",
       "   Metadata_number_of_singlecells Metadata_gene_name Metadata_genotype  \\\n",
       "0                             111                NF1                WT   \n",
       "1                             133                NF1                WT   \n",
       "2                              97                NF1                WT   \n",
       "3                             124                NF1                WT   \n",
       "4                             102                NF1                WT   \n",
       "\n",
       "   Metadata_seed_density Metadata_siRNA  Metadata_RNAiMax  \\\n",
       "0                   1000           None                 0   \n",
       "1                   1000       Scramble                 1   \n",
       "2                   1000       Scramble                 1   \n",
       "3                   1000           None                 0   \n",
       "4                   1000       Scramble                 1   \n",
       "\n",
       "   Metadata_Concentration  ...  \\\n",
       "0                   0.000  ...   \n",
       "1                   0.050  ...   \n",
       "2                   0.005  ...   \n",
       "3                   0.000  ...   \n",
       "4                   0.005  ...   \n",
       "\n",
       "  Nuclei_Texture_InverseDifferenceMoment_RFP_3_00_256  \\\n",
       "0                                          -0.495849    \n",
       "1                                          -0.172777    \n",
       "2                                          -0.178477    \n",
       "3                                          -0.172880    \n",
       "4                                          -0.156743    \n",
       "\n",
       "   Nuclei_Texture_InverseDifferenceMoment_RFP_3_01_256  \\\n",
       "0                                          -0.497374     \n",
       "1                                          -0.316575     \n",
       "2                                          -0.366320     \n",
       "3                                          -0.233792     \n",
       "4                                          -0.240875     \n",
       "\n",
       "   Nuclei_Texture_InverseDifferenceMoment_RFP_3_02_256  \\\n",
       "0                                          -0.519248     \n",
       "1                                          -0.320163     \n",
       "2                                          -0.351161     \n",
       "3                                          -0.229009     \n",
       "4                                          -0.439017     \n",
       "\n",
       "   Nuclei_Texture_InverseDifferenceMoment_RFP_3_03_256  \\\n",
       "0                                          -0.494432     \n",
       "1                                          -0.238080     \n",
       "2                                          -0.237826     \n",
       "3                                          -0.233701     \n",
       "4                                          -0.329501     \n",
       "\n",
       "   Nuclei_Texture_SumEntropy_DAPI_3_03_256  \\\n",
       "0                                 0.195967   \n",
       "1                                 0.345292   \n",
       "2                                 0.176531   \n",
       "3                                 0.203310   \n",
       "4                                 0.282654   \n",
       "\n",
       "   Nuclei_Texture_SumEntropy_RFP_3_00_256  \\\n",
       "0                                0.539823   \n",
       "1                                0.215819   \n",
       "2                                0.211642   \n",
       "3                                0.026878   \n",
       "4                                0.331662   \n",
       "\n",
       "   Nuclei_Texture_SumVariance_CY5_3_01_256  \\\n",
       "0                                -0.425107   \n",
       "1                                -0.260976   \n",
       "2                                -0.366440   \n",
       "3                                -0.265577   \n",
       "4                                 0.260922   \n",
       "\n",
       "   Nuclei_Texture_SumVariance_DAPI_3_01_256  \\\n",
       "0                                  0.020265   \n",
       "1                                  0.079127   \n",
       "2                                  0.046231   \n",
       "3                                 -0.019935   \n",
       "4                                  0.392112   \n",
       "\n",
       "   Nuclei_Texture_SumVariance_GFP_3_03_256  \\\n",
       "0                                -0.314718   \n",
       "1                                -0.298335   \n",
       "2                                -0.220766   \n",
       "3                                -0.373997   \n",
       "4                                -0.301106   \n",
       "\n",
       "   Nuclei_Texture_SumVariance_RFP_3_01_256  \n",
       "0                                -0.037639  \n",
       "1                                -0.161293  \n",
       "2                                -0.184100  \n",
       "3                                -0.267422  \n",
       "4                                -0.209467  \n",
       "\n",
       "[5 rows x 1153 columns]"
      ]
     },
     "execution_count": 3,
     "metadata": {},
     "output_type": "execute_result"
    }
   ],
   "source": [
    "# Path to correlation class\n",
    "sys.path.append(\n",
    "    f\"{root_dir}/0.data_analysis/utils\"\n",
    ")\n",
    "\n",
    "# Class for calculating correlations\n",
    "from CorrelateData import CorrelateData\n",
    "\n",
    "platedf_path = pathlib.Path(root_dir / \"../nf1_cellpainting_data/3.processing_features/data/single_cell_profiles/Plate_4_bulk_camerons_method.parquet\").resolve(strict=True)\n",
    "platedf = pd.read_parquet(platedf_path)\n",
    "\n",
    "print(platedf.shape)\n",
    "platedf.head()"
   ]
  },
  {
   "cell_type": "markdown",
   "metadata": {
    "jukit_cell_id": "lfpMNf0oYw"
   },
   "source": [
    "### Output paths"
   ]
  },
  {
   "cell_type": "code",
   "execution_count": 4,
   "metadata": {
    "execution": {
     "iopub.execute_input": "2024-05-24T23:58:55.243993Z",
     "iopub.status.busy": "2024-05-24T23:58:55.243618Z",
     "iopub.status.idle": "2024-05-24T23:58:55.245952Z",
     "shell.execute_reply": "2024-05-24T23:58:55.245645Z"
    },
    "jukit_cell_id": "z3syxsoQ8C"
   },
   "outputs": [],
   "source": [
    "data_path = pathlib.Path(\"construct_correlation_data\")\n",
    "data_path.mkdir(parents=True, exist_ok=True)"
   ]
  },
  {
   "cell_type": "markdown",
   "metadata": {
    "jukit_cell_id": "1KIVewAtgq"
   },
   "source": [
    "## Label untreated cells"
   ]
  },
  {
   "cell_type": "code",
   "execution_count": 5,
   "metadata": {
    "execution": {
     "iopub.execute_input": "2024-05-24T23:58:55.247284Z",
     "iopub.status.busy": "2024-05-24T23:58:55.247016Z",
     "iopub.status.idle": "2024-05-24T23:58:55.268775Z",
     "shell.execute_reply": "2024-05-24T23:58:55.268311Z"
    },
    "jukit_cell_id": "7WAqbP1I3I"
   },
   "outputs": [],
   "source": [
    "platedf[\"Metadata_siRNA\"].fillna(\"No Construct\", inplace=True)\n",
    "platedf.dropna(inplace=True)"
   ]
  },
  {
   "cell_type": "code",
   "execution_count": 6,
   "metadata": {
    "execution": {
     "iopub.execute_input": "2024-05-24T23:58:55.270314Z",
     "iopub.status.busy": "2024-05-24T23:58:55.270073Z",
     "iopub.status.idle": "2024-05-24T23:58:55.281936Z",
     "shell.execute_reply": "2024-05-24T23:58:55.281505Z"
    },
    "jukit_cell_id": "rB32cuv8gh"
   },
   "outputs": [],
   "source": [
    "meta_cols = platedf.filter(like=\"Metadata\").columns\n",
    "feat_cols = platedf.drop(columns=meta_cols).columns"
   ]
  },
  {
   "cell_type": "markdown",
   "metadata": {
    "jukit_cell_id": "CDbIQ6BTAP"
   },
   "source": [
    "## Compute Correlations"
   ]
  },
  {
   "cell_type": "code",
   "execution_count": 7,
   "metadata": {
    "execution": {
     "iopub.execute_input": "2024-05-24T23:58:55.283400Z",
     "iopub.status.busy": "2024-05-24T23:58:55.283253Z",
     "iopub.status.idle": "2024-05-24T23:58:59.539132Z",
     "shell.execute_reply": "2024-05-24T23:58:59.538732Z"
    },
    "jukit_cell_id": "QCAMpGgBpH"
   },
   "outputs": [],
   "source": [
    "# Store correlations\n",
    "corrdfs = []\n",
    "\n",
    "cp = CorrelateData()\n",
    "\n",
    "# Include cells with no construct treatment\n",
    "platedfz = platedf.loc[platedf[\"Metadata_Concentration\"] == 0.0].copy()\n",
    "\n",
    "# Compute correlations for each concentration\n",
    "for conc, concdf in platedf.groupby(\"Metadata_Concentration\"):\n",
    "\n",
    "    # Include the cells not treated with a construct in the correlation comparisons\n",
    "    concdf = pd.concat([\n",
    "        concdf,\n",
    "        platedfz.copy()\n",
    "    ], axis=0)\n",
    "\n",
    "    # Correlates all wells between the same siRNA-genotype combinations\n",
    "    corrdfs.append(cp.intra_correlations(\n",
    "        _df = concdf.reset_index(drop=True).copy(),\n",
    "        _antehoc_group_cols = [\"Metadata_siRNA\", \"Metadata_genotype\"],\n",
    "        _feat_cols = feat_cols,\n",
    "        _posthoc_group_cols = [\"Metadata_Well\"],\n",
    "    )\n",
    "    )\n",
    "\n",
    "    # Save the concentration and type of comparison\n",
    "    corrdfs[-1][\"Metadata_Concentration\"] = conc\n",
    "\n",
    "    # Don't compute correlations for cells not treated with a construct\n",
    "    # The cells in this group is already compared to the constructs at every other concentration\n",
    "    if conc == 0.0:\n",
    "        continue\n",
    "\n",
    "    # Correlates all wells between different siRNA-well combinations\n",
    "    corrdfs.append(cp.inter_correlations(\n",
    "        _df = platedf.reset_index(drop=True).copy(),\n",
    "        _antehoc_group_cols = [\"Metadata_siRNA\", \"Metadata_genotype\"],\n",
    "        _feat_cols = feat_cols,\n",
    "        _posthoc_group_cols = [\"Metadata_Well\"],\n",
    "    )\n",
    "    )\n",
    "\n",
    "    # Save the concentration\n",
    "    corrdfs[-1][\"Metadata_Concentration\"] = conc"
   ]
  },
  {
   "cell_type": "markdown",
   "metadata": {
    "jukit_cell_id": "9cRnSR2wTC"
   },
   "source": [
    "## Store Correlation Data"
   ]
  },
  {
   "cell_type": "code",
   "execution_count": 8,
   "metadata": {
    "execution": {
     "iopub.execute_input": "2024-05-24T23:58:59.541593Z",
     "iopub.status.busy": "2024-05-24T23:58:59.541451Z",
     "iopub.status.idle": "2024-05-24T23:58:59.550666Z",
     "shell.execute_reply": "2024-05-24T23:58:59.550377Z"
    },
    "jukit_cell_id": "HD42qd1jUX"
   },
   "outputs": [],
   "source": [
    "corrdfs = pd.concat(corrdfs, axis=0)\n",
    "corrdfs.to_parquet(f\"{data_path}/plate_4_sc_feature_selected_camerons_agg_well_correlations.parquet\", index=False)"
   ]
  },
  {
   "cell_type": "code",
   "execution_count": 10,
   "metadata": {
    "execution": {
     "iopub.execute_input": "2024-05-24T23:58:59.552415Z",
     "iopub.status.busy": "2024-05-24T23:58:59.552308Z",
     "iopub.status.idle": "2024-05-24T23:58:59.559599Z",
     "shell.execute_reply": "2024-05-24T23:58:59.559326Z"
    },
    "jukit_cell_id": "ZWUk9bCL8r"
   },
   "outputs": [
    {
     "name": "stdout",
     "output_type": "stream",
     "text": [
      "(7369, 8)\n"
     ]
    },
    {
     "data": {
      "text/html": [
       "<div>\n",
       "<style scoped>\n",
       "    .dataframe tbody tr th:only-of-type {\n",
       "        vertical-align: middle;\n",
       "    }\n",
       "\n",
       "    .dataframe tbody tr th {\n",
       "        vertical-align: top;\n",
       "    }\n",
       "\n",
       "    .dataframe thead th {\n",
       "        text-align: right;\n",
       "    }\n",
       "</style>\n",
       "<table border=\"1\" class=\"dataframe\">\n",
       "  <thead>\n",
       "    <tr style=\"text-align: right;\">\n",
       "      <th></th>\n",
       "      <th>correlation</th>\n",
       "      <th>Metadata_Well__group0</th>\n",
       "      <th>Metadata_Well__group1</th>\n",
       "      <th>Metadata_siRNA__group0</th>\n",
       "      <th>Metadata_siRNA__group1</th>\n",
       "      <th>Metadata_genotype__group0</th>\n",
       "      <th>Metadata_genotype__group1</th>\n",
       "      <th>Metadata_Concentration</th>\n",
       "    </tr>\n",
       "  </thead>\n",
       "  <tbody>\n",
       "    <tr>\n",
       "      <th>0</th>\n",
       "      <td>0.288538</td>\n",
       "      <td>C2</td>\n",
       "      <td>C5</td>\n",
       "      <td>No Construct</td>\n",
       "      <td>No Construct</td>\n",
       "      <td>Null</td>\n",
       "      <td>Null</td>\n",
       "      <td>0.0</td>\n",
       "    </tr>\n",
       "    <tr>\n",
       "      <th>1</th>\n",
       "      <td>0.508665</td>\n",
       "      <td>C2</td>\n",
       "      <td>C8</td>\n",
       "      <td>No Construct</td>\n",
       "      <td>No Construct</td>\n",
       "      <td>Null</td>\n",
       "      <td>Null</td>\n",
       "      <td>0.0</td>\n",
       "    </tr>\n",
       "    <tr>\n",
       "      <th>2</th>\n",
       "      <td>0.372519</td>\n",
       "      <td>C2</td>\n",
       "      <td>D2</td>\n",
       "      <td>No Construct</td>\n",
       "      <td>No Construct</td>\n",
       "      <td>Null</td>\n",
       "      <td>Null</td>\n",
       "      <td>0.0</td>\n",
       "    </tr>\n",
       "    <tr>\n",
       "      <th>3</th>\n",
       "      <td>0.476100</td>\n",
       "      <td>C2</td>\n",
       "      <td>D5</td>\n",
       "      <td>No Construct</td>\n",
       "      <td>No Construct</td>\n",
       "      <td>Null</td>\n",
       "      <td>Null</td>\n",
       "      <td>0.0</td>\n",
       "    </tr>\n",
       "    <tr>\n",
       "      <th>4</th>\n",
       "      <td>0.457510</td>\n",
       "      <td>C2</td>\n",
       "      <td>D8</td>\n",
       "      <td>No Construct</td>\n",
       "      <td>No Construct</td>\n",
       "      <td>Null</td>\n",
       "      <td>Null</td>\n",
       "      <td>0.0</td>\n",
       "    </tr>\n",
       "  </tbody>\n",
       "</table>\n",
       "</div>"
      ],
      "text/plain": [
       "   correlation Metadata_Well__group0 Metadata_Well__group1  \\\n",
       "0     0.288538                    C2                    C5   \n",
       "1     0.508665                    C2                    C8   \n",
       "2     0.372519                    C2                    D2   \n",
       "3     0.476100                    C2                    D5   \n",
       "4     0.457510                    C2                    D8   \n",
       "\n",
       "  Metadata_siRNA__group0 Metadata_siRNA__group1 Metadata_genotype__group0  \\\n",
       "0           No Construct           No Construct                      Null   \n",
       "1           No Construct           No Construct                      Null   \n",
       "2           No Construct           No Construct                      Null   \n",
       "3           No Construct           No Construct                      Null   \n",
       "4           No Construct           No Construct                      Null   \n",
       "\n",
       "  Metadata_genotype__group1  Metadata_Concentration  \n",
       "0                      Null                     0.0  \n",
       "1                      Null                     0.0  \n",
       "2                      Null                     0.0  \n",
       "3                      Null                     0.0  \n",
       "4                      Null                     0.0  "
      ]
     },
     "execution_count": 10,
     "metadata": {},
     "output_type": "execute_result"
    }
   ],
   "source": [
    "print(corrdfs.shape)\n",
    "corrdfs.head()"
   ]
  }
 ],
 "metadata": {
  "anaconda-cloud": {},
  "kernelspec": {
   "display_name": "python",
   "language": "python",
   "name": "python3"
  },
  "language_info": {
   "codemirror_mode": {
    "name": "ipython",
    "version": 3
   },
   "file_extension": ".py",
   "mimetype": "text/x-python",
   "name": "python",
   "nbconvert_exporter": "python",
   "pygments_lexer": "ipython3",
   "version": "3.9.18"
  }
 },
 "nbformat": 4,
 "nbformat_minor": 4
}
