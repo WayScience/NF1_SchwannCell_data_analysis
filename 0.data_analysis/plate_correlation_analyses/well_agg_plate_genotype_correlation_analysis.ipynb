{
 "cells": [
  {
   "cell_type": "markdown",
   "metadata": {
    "jukit_cell_id": "KGGUnjMQyM"
   },
   "source": [
    "# Well-Aggregated Plate and Genotype Correlation Analysis\n",
    "Correlations between groups defined by genotype and plate are determined to understand the similarities between group morphologies.\n",
    "There are two genotypes {WT, Null}, and three plates {Plate 3, Plate 3 prime, Plate 5} explored in this correlation analysis.\n",
    "These correlations are computed between cell morphologies aggregated to the well level after feature selection."
   ]
  },
  {
   "cell_type": "code",
   "execution_count": 1,
   "metadata": {
    "execution": {
     "iopub.execute_input": "2024-08-01T05:22:09.843359Z",
     "iopub.status.busy": "2024-08-01T05:22:09.842984Z",
     "iopub.status.idle": "2024-08-01T05:22:10.054062Z",
     "shell.execute_reply": "2024-08-01T05:22:10.053703Z"
    },
    "jukit_cell_id": "CGb0BVUMWf"
   },
   "outputs": [],
   "source": [
    "import pathlib\n",
    "import sys\n",
    "\n",
    "import pandas as pd\n",
    "\n",
    "# Path to correlation class\n",
    "sys.path.append(\n",
    "    \"../utils\"\n",
    ")\n",
    "\n",
    "# Class for calculating correlations\n",
    "from CorrelateData import CorrelateData"
   ]
  },
  {
   "cell_type": "markdown",
   "metadata": {
    "jukit_cell_id": "kcR7QgN82F"
   },
   "source": [
    "## Find the root of the git repo on the host system"
   ]
  },
  {
   "cell_type": "code",
   "execution_count": 2,
   "metadata": {
    "execution": {
     "iopub.execute_input": "2024-08-01T05:22:10.055753Z",
     "iopub.status.busy": "2024-08-01T05:22:10.055595Z",
     "iopub.status.idle": "2024-08-01T05:22:10.058275Z",
     "shell.execute_reply": "2024-08-01T05:22:10.057973Z"
    },
    "jukit_cell_id": "T1ixkk0ex3"
   },
   "outputs": [],
   "source": [
    "# Get the current working directory\n",
    "cwd = pathlib.Path.cwd()\n",
    "\n",
    "if (cwd / \".git\").is_dir():\n",
    "    root_dir = cwd\n",
    "\n",
    "else:\n",
    "    root_dir = None\n",
    "    for parent in cwd.parents:\n",
    "        if (parent / \".git\").is_dir():\n",
    "            root_dir = parent\n",
    "            break\n",
    "\n",
    "# Check if a Git root directory was found\n",
    "if root_dir is None:\n",
    "    raise FileNotFoundError(\"No Git root directory found.\")"
   ]
  },
  {
   "cell_type": "markdown",
   "metadata": {
    "jukit_cell_id": "jS6asi9T8F"
   },
   "source": [
    "# Inputs"
   ]
  },
  {
   "cell_type": "code",
   "execution_count": 3,
   "metadata": {
    "execution": {
     "iopub.execute_input": "2024-08-01T05:22:10.059491Z",
     "iopub.status.busy": "2024-08-01T05:22:10.059383Z",
     "iopub.status.idle": "2024-08-01T05:22:10.213926Z",
     "shell.execute_reply": "2024-08-01T05:22:10.213561Z"
    },
    "jukit_cell_id": "fv2xmp9AeZ"
   },
   "outputs": [],
   "source": [
    "data_path = pathlib.Path(root_dir / \"nf1_painting_repo/3.processing_features/data/single_cell_profiles\").resolve(strict=True)\n",
    "\n",
    "plate3df_path = pathlib.Path(root_dir / data_path / \"Plate_3_bulk_camerons_method.parquet\").resolve(strict=True)\n",
    "plate3pdf_path = pathlib.Path(root_dir / data_path / \"Plate_3_prime_bulk_camerons_method.parquet\").resolve(strict=True)\n",
    "plate5df_path = pathlib.Path(root_dir / data_path / \"Plate_5_bulk_camerons_method.parquet\").resolve(strict=True)\n",
    "\n",
    "plate3df = pd.read_parquet(plate3df_path)\n",
    "plate3pdf = pd.read_parquet(plate3pdf_path)\n",
    "plate5df = pd.read_parquet(plate5df_path)"
   ]
  },
  {
   "cell_type": "markdown",
   "metadata": {
    "jukit_cell_id": "0xXYIze28O"
   },
   "source": [
    "# Outputs"
   ]
  },
  {
   "cell_type": "code",
   "execution_count": 4,
   "metadata": {
    "execution": {
     "iopub.execute_input": "2024-08-01T05:22:10.216315Z",
     "iopub.status.busy": "2024-08-01T05:22:10.216157Z",
     "iopub.status.idle": "2024-08-01T05:22:10.218644Z",
     "shell.execute_reply": "2024-08-01T05:22:10.218321Z"
    },
    "jukit_cell_id": "pZMK12ZIUc"
   },
   "outputs": [],
   "source": [
    "plate_correlation_path = pathlib.Path(\"construct_correlation_data\")\n",
    "plate_correlation_path.mkdir(parents=True, exist_ok=True)"
   ]
  },
  {
   "cell_type": "markdown",
   "metadata": {
    "jukit_cell_id": "6y63uIAumE"
   },
   "source": [
    "# Process Bulk Plate Data"
   ]
  },
  {
   "cell_type": "markdown",
   "metadata": {
    "jukit_cell_id": "6LdIFMuOwi"
   },
   "source": [
    "## Combine data\n",
    "Concat plate data and retain common columns."
   ]
  },
  {
   "cell_type": "code",
   "execution_count": 5,
   "metadata": {
    "execution": {
     "iopub.execute_input": "2024-08-01T05:22:10.219836Z",
     "iopub.status.busy": "2024-08-01T05:22:10.219728Z",
     "iopub.status.idle": "2024-08-01T05:22:10.268039Z",
     "shell.execute_reply": "2024-08-01T05:22:10.267751Z"
    },
    "jukit_cell_id": "F3pA4Cv4nE"
   },
   "outputs": [],
   "source": [
    "plates_cols = plate3df.columns.intersection(plate3pdf.columns).intersection(plate5df.columns)\n",
    "platesdf = pd.concat([plate3df, plate3pdf, plate5df], axis=0)\n",
    "platesdf = platesdf[plates_cols]"
   ]
  },
  {
   "cell_type": "code",
   "execution_count": 6,
   "metadata": {
    "execution": {
     "iopub.execute_input": "2024-08-01T05:22:10.269504Z",
     "iopub.status.busy": "2024-08-01T05:22:10.269392Z",
     "iopub.status.idle": "2024-08-01T05:22:10.281054Z",
     "shell.execute_reply": "2024-08-01T05:22:10.280777Z"
    },
    "jukit_cell_id": "4QrpeWhH5e"
   },
   "outputs": [
    {
     "data": {
      "text/html": [
       "<div>\n",
       "<style scoped>\n",
       "    .dataframe tbody tr th:only-of-type {\n",
       "        vertical-align: middle;\n",
       "    }\n",
       "\n",
       "    .dataframe tbody tr th {\n",
       "        vertical-align: top;\n",
       "    }\n",
       "\n",
       "    .dataframe thead th {\n",
       "        text-align: right;\n",
       "    }\n",
       "</style>\n",
       "<table border=\"1\" class=\"dataframe\">\n",
       "  <thead>\n",
       "    <tr style=\"text-align: right;\">\n",
       "      <th></th>\n",
       "      <th>Metadata_WellRow</th>\n",
       "      <th>Metadata_WellCol</th>\n",
       "      <th>Metadata_Well</th>\n",
       "      <th>Metadata_number_of_singlecells</th>\n",
       "      <th>Metadata_gene_name</th>\n",
       "      <th>Metadata_genotype</th>\n",
       "      <th>Metadata_Plate</th>\n",
       "      <th>Cytoplasm_AreaShape_Eccentricity</th>\n",
       "      <th>Cytoplasm_AreaShape_FormFactor</th>\n",
       "      <th>Cytoplasm_AreaShape_MajorAxisLength</th>\n",
       "      <th>...</th>\n",
       "      <th>Nuclei_Texture_InfoMeas2_RFP_3_00_256</th>\n",
       "      <th>Nuclei_Texture_InfoMeas2_RFP_3_01_256</th>\n",
       "      <th>Nuclei_Texture_InfoMeas2_RFP_3_02_256</th>\n",
       "      <th>Nuclei_Texture_InfoMeas2_RFP_3_03_256</th>\n",
       "      <th>Nuclei_Texture_InverseDifferenceMoment_GFP_3_01_256</th>\n",
       "      <th>Nuclei_Texture_InverseDifferenceMoment_RFP_3_00_256</th>\n",
       "      <th>Nuclei_Texture_InverseDifferenceMoment_RFP_3_01_256</th>\n",
       "      <th>Nuclei_Texture_InverseDifferenceMoment_RFP_3_02_256</th>\n",
       "      <th>Nuclei_Texture_InverseDifferenceMoment_RFP_3_03_256</th>\n",
       "      <th>Nuclei_Texture_SumVariance_DAPI_3_03_256</th>\n",
       "    </tr>\n",
       "  </thead>\n",
       "  <tbody>\n",
       "    <tr>\n",
       "      <th>0</th>\n",
       "      <td>B</td>\n",
       "      <td>1</td>\n",
       "      <td>B1</td>\n",
       "      <td>45</td>\n",
       "      <td>NF1</td>\n",
       "      <td>WT</td>\n",
       "      <td>Plate_3</td>\n",
       "      <td>0.767925</td>\n",
       "      <td>0.150510</td>\n",
       "      <td>0.533360</td>\n",
       "      <td>...</td>\n",
       "      <td>0.959132</td>\n",
       "      <td>1.040629</td>\n",
       "      <td>0.990250</td>\n",
       "      <td>1.022979</td>\n",
       "      <td>-1.190657</td>\n",
       "      <td>-0.854267</td>\n",
       "      <td>-0.880062</td>\n",
       "      <td>-0.599407</td>\n",
       "      <td>-0.757853</td>\n",
       "      <td>0.147649</td>\n",
       "    </tr>\n",
       "    <tr>\n",
       "      <th>1</th>\n",
       "      <td>B</td>\n",
       "      <td>2</td>\n",
       "      <td>B2</td>\n",
       "      <td>139</td>\n",
       "      <td>NF1</td>\n",
       "      <td>WT</td>\n",
       "      <td>Plate_3</td>\n",
       "      <td>0.398968</td>\n",
       "      <td>0.094713</td>\n",
       "      <td>0.556944</td>\n",
       "      <td>...</td>\n",
       "      <td>0.068585</td>\n",
       "      <td>0.088951</td>\n",
       "      <td>0.048348</td>\n",
       "      <td>-0.055821</td>\n",
       "      <td>0.269382</td>\n",
       "      <td>-0.152886</td>\n",
       "      <td>-0.178630</td>\n",
       "      <td>-0.072712</td>\n",
       "      <td>-0.025244</td>\n",
       "      <td>-0.300286</td>\n",
       "    </tr>\n",
       "    <tr>\n",
       "      <th>2</th>\n",
       "      <td>B</td>\n",
       "      <td>3</td>\n",
       "      <td>B3</td>\n",
       "      <td>297</td>\n",
       "      <td>NF1</td>\n",
       "      <td>WT</td>\n",
       "      <td>Plate_3</td>\n",
       "      <td>0.344648</td>\n",
       "      <td>-0.057618</td>\n",
       "      <td>0.207649</td>\n",
       "      <td>...</td>\n",
       "      <td>0.019349</td>\n",
       "      <td>-0.082521</td>\n",
       "      <td>-0.012171</td>\n",
       "      <td>-0.018876</td>\n",
       "      <td>0.665645</td>\n",
       "      <td>-0.040054</td>\n",
       "      <td>-0.027139</td>\n",
       "      <td>0.036813</td>\n",
       "      <td>0.169018</td>\n",
       "      <td>-0.777099</td>\n",
       "    </tr>\n",
       "    <tr>\n",
       "      <th>3</th>\n",
       "      <td>B</td>\n",
       "      <td>4</td>\n",
       "      <td>B4</td>\n",
       "      <td>559</td>\n",
       "      <td>NF1</td>\n",
       "      <td>WT</td>\n",
       "      <td>Plate_3</td>\n",
       "      <td>0.114339</td>\n",
       "      <td>-0.558137</td>\n",
       "      <td>-0.233815</td>\n",
       "      <td>...</td>\n",
       "      <td>-0.132589</td>\n",
       "      <td>-0.113166</td>\n",
       "      <td>0.002563</td>\n",
       "      <td>0.006693</td>\n",
       "      <td>0.391801</td>\n",
       "      <td>-0.414899</td>\n",
       "      <td>-0.346908</td>\n",
       "      <td>-0.310155</td>\n",
       "      <td>-0.211360</td>\n",
       "      <td>-0.147805</td>\n",
       "    </tr>\n",
       "    <tr>\n",
       "      <th>4</th>\n",
       "      <td>B</td>\n",
       "      <td>9</td>\n",
       "      <td>B9</td>\n",
       "      <td>71</td>\n",
       "      <td>NF1</td>\n",
       "      <td>Null</td>\n",
       "      <td>Plate_3</td>\n",
       "      <td>0.410983</td>\n",
       "      <td>0.819365</td>\n",
       "      <td>0.228507</td>\n",
       "      <td>...</td>\n",
       "      <td>0.896223</td>\n",
       "      <td>0.887652</td>\n",
       "      <td>0.857612</td>\n",
       "      <td>0.940805</td>\n",
       "      <td>-1.179173</td>\n",
       "      <td>-0.455060</td>\n",
       "      <td>-0.400958</td>\n",
       "      <td>-0.474513</td>\n",
       "      <td>-0.415342</td>\n",
       "      <td>0.225277</td>\n",
       "    </tr>\n",
       "  </tbody>\n",
       "</table>\n",
       "<p>5 rows × 914 columns</p>\n",
       "</div>"
      ],
      "text/plain": [
       "  Metadata_WellRow  Metadata_WellCol Metadata_Well  \\\n",
       "0                B                 1            B1   \n",
       "1                B                 2            B2   \n",
       "2                B                 3            B3   \n",
       "3                B                 4            B4   \n",
       "4                B                 9            B9   \n",
       "\n",
       "   Metadata_number_of_singlecells Metadata_gene_name Metadata_genotype  \\\n",
       "0                              45                NF1                WT   \n",
       "1                             139                NF1                WT   \n",
       "2                             297                NF1                WT   \n",
       "3                             559                NF1                WT   \n",
       "4                              71                NF1              Null   \n",
       "\n",
       "  Metadata_Plate  Cytoplasm_AreaShape_Eccentricity  \\\n",
       "0        Plate_3                          0.767925   \n",
       "1        Plate_3                          0.398968   \n",
       "2        Plate_3                          0.344648   \n",
       "3        Plate_3                          0.114339   \n",
       "4        Plate_3                          0.410983   \n",
       "\n",
       "   Cytoplasm_AreaShape_FormFactor  Cytoplasm_AreaShape_MajorAxisLength  ...  \\\n",
       "0                        0.150510                             0.533360  ...   \n",
       "1                        0.094713                             0.556944  ...   \n",
       "2                       -0.057618                             0.207649  ...   \n",
       "3                       -0.558137                            -0.233815  ...   \n",
       "4                        0.819365                             0.228507  ...   \n",
       "\n",
       "   Nuclei_Texture_InfoMeas2_RFP_3_00_256  \\\n",
       "0                               0.959132   \n",
       "1                               0.068585   \n",
       "2                               0.019349   \n",
       "3                              -0.132589   \n",
       "4                               0.896223   \n",
       "\n",
       "   Nuclei_Texture_InfoMeas2_RFP_3_01_256  \\\n",
       "0                               1.040629   \n",
       "1                               0.088951   \n",
       "2                              -0.082521   \n",
       "3                              -0.113166   \n",
       "4                               0.887652   \n",
       "\n",
       "   Nuclei_Texture_InfoMeas2_RFP_3_02_256  \\\n",
       "0                               0.990250   \n",
       "1                               0.048348   \n",
       "2                              -0.012171   \n",
       "3                               0.002563   \n",
       "4                               0.857612   \n",
       "\n",
       "   Nuclei_Texture_InfoMeas2_RFP_3_03_256  \\\n",
       "0                               1.022979   \n",
       "1                              -0.055821   \n",
       "2                              -0.018876   \n",
       "3                               0.006693   \n",
       "4                               0.940805   \n",
       "\n",
       "   Nuclei_Texture_InverseDifferenceMoment_GFP_3_01_256  \\\n",
       "0                                          -1.190657     \n",
       "1                                           0.269382     \n",
       "2                                           0.665645     \n",
       "3                                           0.391801     \n",
       "4                                          -1.179173     \n",
       "\n",
       "   Nuclei_Texture_InverseDifferenceMoment_RFP_3_00_256  \\\n",
       "0                                          -0.854267     \n",
       "1                                          -0.152886     \n",
       "2                                          -0.040054     \n",
       "3                                          -0.414899     \n",
       "4                                          -0.455060     \n",
       "\n",
       "   Nuclei_Texture_InverseDifferenceMoment_RFP_3_01_256  \\\n",
       "0                                          -0.880062     \n",
       "1                                          -0.178630     \n",
       "2                                          -0.027139     \n",
       "3                                          -0.346908     \n",
       "4                                          -0.400958     \n",
       "\n",
       "   Nuclei_Texture_InverseDifferenceMoment_RFP_3_02_256  \\\n",
       "0                                          -0.599407     \n",
       "1                                          -0.072712     \n",
       "2                                           0.036813     \n",
       "3                                          -0.310155     \n",
       "4                                          -0.474513     \n",
       "\n",
       "   Nuclei_Texture_InverseDifferenceMoment_RFP_3_03_256  \\\n",
       "0                                          -0.757853     \n",
       "1                                          -0.025244     \n",
       "2                                           0.169018     \n",
       "3                                          -0.211360     \n",
       "4                                          -0.415342     \n",
       "\n",
       "   Nuclei_Texture_SumVariance_DAPI_3_03_256  \n",
       "0                                  0.147649  \n",
       "1                                 -0.300286  \n",
       "2                                 -0.777099  \n",
       "3                                 -0.147805  \n",
       "4                                  0.225277  \n",
       "\n",
       "[5 rows x 914 columns]"
      ]
     },
     "execution_count": 6,
     "metadata": {},
     "output_type": "execute_result"
    }
   ],
   "source": [
    "platesdf.head()"
   ]
  },
  {
   "cell_type": "code",
   "execution_count": 7,
   "metadata": {
    "execution": {
     "iopub.execute_input": "2024-08-01T05:22:10.301780Z",
     "iopub.status.busy": "2024-08-01T05:22:10.301496Z",
     "iopub.status.idle": "2024-08-01T05:22:10.304026Z",
     "shell.execute_reply": "2024-08-01T05:22:10.303741Z"
    },
    "jukit_cell_id": "7F2REC8Dbk"
   },
   "outputs": [],
   "source": [
    "# Morphology and metadata columns\n",
    "morph_cols = [col for col in platesdf.columns if \"Metadata\" not in col]\n",
    "meta_cols = platesdf.columns.difference(morph_cols)"
   ]
  },
  {
   "cell_type": "markdown",
   "metadata": {
    "jukit_cell_id": "YFdbO4KkoA"
   },
   "source": [
    "# Correlate wells\n",
    "Wells are correlated between plate and genotype."
   ]
  },
  {
   "cell_type": "code",
   "execution_count": 8,
   "metadata": {
    "execution": {
     "iopub.execute_input": "2024-08-01T05:22:10.305270Z",
     "iopub.status.busy": "2024-08-01T05:22:10.305162Z",
     "iopub.status.idle": "2024-08-01T05:22:10.306904Z",
     "shell.execute_reply": "2024-08-01T05:22:10.306636Z"
    },
    "jukit_cell_id": "YPxjtndLAN"
   },
   "outputs": [],
   "source": [
    "cd = CorrelateData()\n",
    "correlationsdf = []"
   ]
  },
  {
   "cell_type": "markdown",
   "metadata": {
    "jukit_cell_id": "ddISX0Yw8M"
   },
   "source": [
    "## Well Correlations (same genotypes and different plates)"
   ]
  },
  {
   "cell_type": "code",
   "execution_count": 9,
   "metadata": {
    "execution": {
     "iopub.execute_input": "2024-08-01T05:22:10.308205Z",
     "iopub.status.busy": "2024-08-01T05:22:10.308100Z",
     "iopub.status.idle": "2024-08-01T05:22:11.233412Z",
     "shell.execute_reply": "2024-08-01T05:22:11.233071Z"
    },
    "jukit_cell_id": "Du6jPm5xP5"
   },
   "outputs": [],
   "source": [
    "for genotype in platesdf[\"Metadata_genotype\"].unique():\n",
    "\n",
    "    correlation_params = {\n",
    "    }\n",
    "\n",
    "    correlationsdf.append(\n",
    "        cd.inter_correlations(\n",
    "            _df=platesdf.loc[platesdf[\"Metadata_genotype\"] == genotype].copy(),\n",
    "            _antehoc_group_cols=[\"Metadata_Plate\"],\n",
    "            _feat_cols=morph_cols,\n",
    "            _posthoc_group_cols=[\"Metadata_Well\", \"Metadata_genotype\"],\n",
    "            _drop_cols=[\"Metadata_Well\"]\n",
    "        )\n",
    "    )"
   ]
  },
  {
   "cell_type": "markdown",
   "metadata": {
    "jukit_cell_id": "jkWJ9qYkUw"
   },
   "source": [
    "## Well Correlations (different genotypes and all possible plates)\n",
    "Well correlations between different genotypes are computed, regardless of the plate"
   ]
  },
  {
   "cell_type": "code",
   "execution_count": 10,
   "metadata": {
    "execution": {
     "iopub.execute_input": "2024-08-01T05:22:11.235409Z",
     "iopub.status.busy": "2024-08-01T05:22:11.235259Z",
     "iopub.status.idle": "2024-08-01T05:22:12.587081Z",
     "shell.execute_reply": "2024-08-01T05:22:12.586695Z"
    },
    "jukit_cell_id": "bfMQ1sVcMz"
   },
   "outputs": [],
   "source": [
    "correlationsdf.append(\n",
    "    cd.inter_correlations(\n",
    "        _df=platesdf.copy(),\n",
    "        _antehoc_group_cols=[\"Metadata_genotype\"],\n",
    "        _feat_cols=morph_cols,\n",
    "        _posthoc_group_cols=[\"Metadata_Plate\", \"Metadata_Well\"],\n",
    "        _drop_cols=[\"Metadata_Well\"]\n",
    "    )\n",
    ")"
   ]
  },
  {
   "cell_type": "markdown",
   "metadata": {
    "jukit_cell_id": "UfHLEfoctO"
   },
   "source": [
    "## Well Correlations (same genotype and same plate)"
   ]
  },
  {
   "cell_type": "code",
   "execution_count": 11,
   "metadata": {
    "execution": {
     "iopub.execute_input": "2024-08-01T05:22:12.588821Z",
     "iopub.status.busy": "2024-08-01T05:22:12.588712Z",
     "iopub.status.idle": "2024-08-01T05:22:12.972104Z",
     "shell.execute_reply": "2024-08-01T05:22:12.971763Z"
    },
    "jukit_cell_id": "EDzbNe3PgY"
   },
   "outputs": [],
   "source": [
    "correlationsdf.append(\n",
    "    cd.intra_correlations(\n",
    "        _df=platesdf.copy(),\n",
    "        _antehoc_group_cols=[\"Metadata_Plate\", \"Metadata_genotype\"],\n",
    "        _feat_cols=morph_cols,\n",
    "        _posthoc_group_cols=[\"Metadata_Well\"],\n",
    "        _drop_cols=[\"Metadata_Well\"]\n",
    "    )\n",
    ")"
   ]
  },
  {
   "cell_type": "markdown",
   "metadata": {
    "jukit_cell_id": "Gp5LlIa6Il"
   },
   "source": [
    "# Save Plate Correlations"
   ]
  },
  {
   "cell_type": "code",
   "execution_count": 12,
   "metadata": {
    "execution": {
     "iopub.execute_input": "2024-08-01T05:22:12.973950Z",
     "iopub.status.busy": "2024-08-01T05:22:12.973840Z",
     "iopub.status.idle": "2024-08-01T05:22:12.982233Z",
     "shell.execute_reply": "2024-08-01T05:22:12.981934Z"
    },
    "jukit_cell_id": "Kz1w4ViFmv"
   },
   "outputs": [],
   "source": [
    "correlationsdf = pd.concat(correlationsdf, axis=0)\n",
    "correlationsdf.to_parquet(plate_correlation_path / \"well_agg_plate_genotype_correlations.parquet\")"
   ]
  },
  {
   "cell_type": "code",
   "execution_count": 13,
   "metadata": {
    "execution": {
     "iopub.execute_input": "2024-08-01T05:22:12.983627Z",
     "iopub.status.busy": "2024-08-01T05:22:12.983519Z",
     "iopub.status.idle": "2024-08-01T05:22:12.987936Z",
     "shell.execute_reply": "2024-08-01T05:22:12.987664Z"
    },
    "jukit_cell_id": "A0fjXCKcdj"
   },
   "outputs": [
    {
     "data": {
      "text/html": [
       "<div>\n",
       "<style scoped>\n",
       "    .dataframe tbody tr th:only-of-type {\n",
       "        vertical-align: middle;\n",
       "    }\n",
       "\n",
       "    .dataframe tbody tr th {\n",
       "        vertical-align: top;\n",
       "    }\n",
       "\n",
       "    .dataframe thead th {\n",
       "        text-align: right;\n",
       "    }\n",
       "</style>\n",
       "<table border=\"1\" class=\"dataframe\">\n",
       "  <thead>\n",
       "    <tr style=\"text-align: right;\">\n",
       "      <th></th>\n",
       "      <th>correlation</th>\n",
       "      <th>Metadata_Plate__group0</th>\n",
       "      <th>Metadata_Plate__group1</th>\n",
       "      <th>Metadata_genotype__group0</th>\n",
       "      <th>Metadata_genotype__group1</th>\n",
       "    </tr>\n",
       "  </thead>\n",
       "  <tbody>\n",
       "    <tr>\n",
       "      <th>0</th>\n",
       "      <td>0.041393</td>\n",
       "      <td>Plate_3</td>\n",
       "      <td>Plate_3_prime</td>\n",
       "      <td>WT</td>\n",
       "      <td>WT</td>\n",
       "    </tr>\n",
       "    <tr>\n",
       "      <th>1</th>\n",
       "      <td>0.161703</td>\n",
       "      <td>Plate_3</td>\n",
       "      <td>Plate_3_prime</td>\n",
       "      <td>WT</td>\n",
       "      <td>WT</td>\n",
       "    </tr>\n",
       "    <tr>\n",
       "      <th>2</th>\n",
       "      <td>0.305890</td>\n",
       "      <td>Plate_3</td>\n",
       "      <td>Plate_3_prime</td>\n",
       "      <td>WT</td>\n",
       "      <td>WT</td>\n",
       "    </tr>\n",
       "    <tr>\n",
       "      <th>3</th>\n",
       "      <td>-0.204942</td>\n",
       "      <td>Plate_3</td>\n",
       "      <td>Plate_3_prime</td>\n",
       "      <td>WT</td>\n",
       "      <td>WT</td>\n",
       "    </tr>\n",
       "    <tr>\n",
       "      <th>4</th>\n",
       "      <td>0.307921</td>\n",
       "      <td>Plate_3</td>\n",
       "      <td>Plate_3_prime</td>\n",
       "      <td>WT</td>\n",
       "      <td>WT</td>\n",
       "    </tr>\n",
       "  </tbody>\n",
       "</table>\n",
       "</div>"
      ],
      "text/plain": [
       "   correlation Metadata_Plate__group0 Metadata_Plate__group1  \\\n",
       "0     0.041393                Plate_3          Plate_3_prime   \n",
       "1     0.161703                Plate_3          Plate_3_prime   \n",
       "2     0.305890                Plate_3          Plate_3_prime   \n",
       "3    -0.204942                Plate_3          Plate_3_prime   \n",
       "4     0.307921                Plate_3          Plate_3_prime   \n",
       "\n",
       "  Metadata_genotype__group0 Metadata_genotype__group1  \n",
       "0                        WT                        WT  \n",
       "1                        WT                        WT  \n",
       "2                        WT                        WT  \n",
       "3                        WT                        WT  \n",
       "4                        WT                        WT  "
      ]
     },
     "execution_count": 13,
     "metadata": {},
     "output_type": "execute_result"
    }
   ],
   "source": [
    "correlationsdf.head()"
   ]
  }
 ],
 "metadata": {
  "anaconda-cloud": {},
  "kernelspec": {
   "display_name": "python",
   "language": "python",
   "name": "python3"
  },
  "language_info": {
   "codemirror_mode": {
    "name": "ipython",
    "version": 3
   },
   "file_extension": ".py",
   "mimetype": "text/x-python",
   "name": "python",
   "nbconvert_exporter": "python",
   "pygments_lexer": "ipython3",
   "version": "3.9.19"
  }
 },
 "nbformat": 4,
 "nbformat_minor": 4
}
